{
 "cells": [
  {
   "cell_type": "markdown",
   "id": "a5392356-2c14-4190-88be-f7306222c01f",
   "metadata": {},
   "source": [
    "# Living Coasts Information and Training <img align=\"right\" src=\"../Supplementary_data/dea_logo.jpg\">\n",
    "\n",
    "* [**Sign up to the DEA Sandbox**](https://docs.dea.ga.gov.au/setup/sandbox.html) to run this notebook interactively from a browser\n",
    "* **Compatibility:** Notebook currently compatible with the `DEA Sandbox` environment\n",
    "* **Products used:** \n",
    "[ga_ls_landcover_class_cyear_2](https://explorer.sandbox.dea.ga.gov.au/ga_ls_landcover_class_cyear_2)\n"
   ]
  },
  {
   "cell_type": "markdown",
   "id": "9fa173f5-0e54-4e7a-97e9-7c8e1d09794d",
   "metadata": {},
   "source": [
    "## Extracting an area based on a shapefile"
   ]
  },
  {
   "cell_type": "markdown",
   "id": "fdd2bba9-42a4-4928-ac42-4be5f03a9c17",
   "metadata": {},
   "source": [
    "Through Geoscience Australia's (GA) Digital Earth Australia (DEA) Land Cover, land cover maps have been generated for 34 years (1988 to 2020) from environmental descriptors retrieved or classified entirely from Landsat sensor data and according to the Food and Agriculture Organisation (FAO) Land Cover Classification System (Version 2).  The spatial resolution of the mapping is 25 m \n",
    "(see DEA Land Cover) at https://cmi.ga.gov.au/data-products/dea/607/dea-land-cover-landsat)\n",
    "\n",
    "This notebooks allows you to import a shapefile to extract a specific area of the land cover and other environmental descriptors.  "
   ]
  },
  {
   "cell_type": "markdown",
   "id": "a8a06120-aa18-4758-ab95-48ca7c32e886",
   "metadata": {
    "tags": []
   },
   "source": [
    "## Description \n",
    "\n",
    "This notebook will demonstrate how to load up an area of the Digital Earth Australia (DEA) land cover map and environmental descriptors by uploading a shapefile for an area of interest.  The shapefiles needed to be loaded into the uploads directory.  \n",
    "\n",
    "The notebooks take you through the process of:\n",
    "\n",
    "1. Reading the shapefile and extracting the geometry.\n",
    "2. Extracting the DEA land cover map and associated environmental descriptors.\n",
    "3. View the time-series of land cover maps for all years.\n",
    "4. Select a specific year for viewing.\n",
    "5. Export the data to a geotiff for viewing in QGIS (style-files are available in /uploads/style/).\n",
    "\n",
    "If you are new to DEA Land Cover, it is recommended you look at the introductory [DEA Land Cover notebook](../DEA_datasets/DEA_Land_Cover.ipynb) first. \n",
    "\n",
    "***"
   ]
  },
  {
   "cell_type": "markdown",
   "id": "fed1bdca-3907-43cb-a46b-af2e6f502b92",
   "metadata": {},
   "source": [
    "## Section 1:  Setup"
   ]
  },
  {
   "cell_type": "code",
   "execution_count": 1,
   "id": "1faf60f3-3674-4193-96e8-8439339b9dec",
   "metadata": {
    "tags": []
   },
   "outputs": [
    {
     "name": "stdout",
     "output_type": "stream",
     "text": [
      "Requirement already satisfied: openpyxl in /env/lib/python3.10/site-packages (3.1.5)\n",
      "Requirement already satisfied: et-xmlfile in /env/lib/python3.10/site-packages (from openpyxl) (1.1.0)\n"
     ]
    }
   ],
   "source": [
    "# Initial imports and setup\n",
    "import sys\n",
    "import os, re\n",
    "import datacube\n",
    "import datetime as dt\n",
    "import geopandas as gpd\n",
    "import numpy as np\n",
    "import matplotlib.pyplot as plt\n",
    "import matplotlib.colors as colors\n",
    "import matplotlib.colors\n",
    "import matplotlib as mpl\n",
    "import cmocean # for intertidal products\n",
    "import odc.geo.xr # RML\n",
    "import pandas as pd\n",
    "import rioxarray\n",
    "import warnings\n",
    "import xarray as xr\n",
    "\n",
    "#from dea_tools.landcover import lc_colourmap, make_colorbar, plot_land_cover\n",
    "from dea_tools.plotting import display_map, rgb, xr_animation # Added xr_animation RML\n",
    "\n",
    "from datacube.testutils.io import rio_slurp_xarray\n",
    "from datacube.utils.cog import write_cog\n",
    "from datacube.utils.masking import mask_invalid_data\n",
    "from datacube.utils.geometry import Geometry\n",
    "from datetime import datetime, timedelta\n",
    "from ipyleaflet import DrawControl, FullScreenControl, LayersControl, Map, Rectangle, WidgetControl, basemaps # Added rectangle RML\n",
    "from ipywidgets import Button, Dropdown, FloatText, GridspecLayout, Layout, HBox, VBox, Output, Tab, interact, widgets\n",
    "from IPython.display import HTML, display\n",
    "from IPython.core.display import Video\n",
    "from pyproj import Proj, transform\n",
    "from shapely.geometry import Polygon\n",
    "from shapely.geometry.polygon import LinearRing\n",
    "from time import time\n",
    "warnings.filterwarnings(\"ignore\")\n",
    "\n",
    "# Setup paths and Datacube instance\n",
    "#import sys\n",
    "#sys.path.insert(1, \"/home/Tools\")\n",
    "\n",
    "dc = datacube.Datacube()\n",
    "time_range = None\n",
    "\n",
    "sys.path.append(\"../Working\")\n",
    "import display_tools\n",
    "from display_tools import display_da\n",
    "from landcover import lc_colourmap, make_colorbar, plot_land_cover\n",
    "\n",
    "# Ensure openpyxl is installed\n",
    "!pip install openpyxl\n"
   ]
  },
  {
   "cell_type": "code",
   "execution_count": 2,
   "id": "9bc01df2-58be-4161-9044-0e710daf8bae",
   "metadata": {
    "tags": []
   },
   "outputs": [],
   "source": [
    "# Additional libraries etc.\n",
    "\n",
    "from datacube.utils.geometry import Geometry, CRS\n",
    "from ipyleaflet import GeoData\n",
    "from display_tools import map_geom, rgb\n",
    "\n",
    "sys.path.append(\"../Tools/wdc_tools\")\n",
    "from wdc_datahandling import geopolygon_masking"
   ]
  },
  {
   "cell_type": "markdown",
   "id": "914dbb03-e443-454b-9a7d-0d019386f5a1",
   "metadata": {
    "tags": []
   },
   "source": [
    "## Section 2: Loading up a polygon for your area of interest\n",
    "You can either select your own shapefile or select from the list below.  Shapefiles are provided for the main Living Coasts test areas:\n",
    "\n",
    "a) Starcke, north of Cooktown, Queensland.\\\n",
    "b) Mungalla Wetlands, north of Townsville, Queensland.\\\n",
    "c) Fitzroy River lower catchment near Rockhampton, Queensland.\\\n",
    "d) Moreton Bay near Brisbane, Queensland.\\\n"
   ]
  },
  {
   "cell_type": "markdown",
   "id": "16de1d2e-ebdf-431f-bb11-06b8f3a24952",
   "metadata": {},
   "source": [
    "### Select area of interest\n",
    "Uncomment the area relating to your area of interest."
   ]
  },
  {
   "cell_type": "code",
   "execution_count": null,
   "id": "31daad3b-effd-4f33-8197-22cbf24bb640",
   "metadata": {
    "tags": []
   },
   "outputs": [],
   "source": [
    "# add in vector data for area of interest\n",
    "\n",
    "AOI = 'uploads/AOIs/Fitzroy-riverbend.geojson'\n",
    "AOI = gpd.read_file(AOI)\n",
    "\n",
    "# annual years of change for identifying impact\n",
    "pre_impact_year = '2010'\n",
    "post_impact_year = '2011'"
   ]
  },
  {
   "cell_type": "code",
   "execution_count": null,
   "id": "415fb587-be1d-461c-98f8-fbcd8dbcf79f",
   "metadata": {},
   "outputs": [],
   "source": [
    "display_map(x=(AOI.total_bounds[0], AOI.total_bounds[2]), y=(AOI.total_bounds[1], AOI.total_bounds[3]))"
   ]
  },
  {
   "cell_type": "code",
   "execution_count": null,
   "id": "b126d79f-73cb-4869-a073-4cc990b131c4",
   "metadata": {
    "tags": []
   },
   "outputs": [],
   "source": [
    "#Area_path = 'uploads/Starcke-Boundary.shp' # Starcke\n",
    "#Area_path = 'uploads/Mungalla-Boundary.shp' # Mungalla\n",
    "Area_path = 'uploads/Fitzroy-Boundary.shp' # Fitzroy\n",
    "#Area_path = 'uploads/MoretonBay-Boundary.shp' # Moreton"
   ]
  },
  {
   "cell_type": "code",
   "execution_count": null,
   "id": "a19a8335-d1bc-406d-b454-f01b13269985",
   "metadata": {},
   "outputs": [],
   "source": []
  },
  {
   "cell_type": "code",
   "execution_count": null,
   "id": "8cd332aa-0212-4df5-a62b-19f2f4bf1364",
   "metadata": {},
   "outputs": [],
   "source": [
    "Area = gpd.read_file(Area_path)"
   ]
  },
  {
   "cell_type": "code",
   "execution_count": null,
   "id": "0212e49c-137e-4638-a0ee-5cbc09648e41",
   "metadata": {
    "tags": []
   },
   "outputs": [],
   "source": [
    "Area.head(3)"
   ]
  },
  {
   "cell_type": "code",
   "execution_count": null,
   "id": "3963d9c2-2243-491d-9a2d-315fefbb2185",
   "metadata": {
    "tags": []
   },
   "outputs": [],
   "source": [
    "# Transform shapefile boundaries into geographic data (and affect a style) \n",
    "geo_data = GeoData(geo_dataframe = Area.to_crs(epsg=4326),\n",
    "                   style={'color': 'black', 'fillColor': '#3366cc', 'opacity':0.05, \n",
    "                          'weight':1.9, 'dashArray':'2', 'fillOpacity':0.6},\n",
    "                   hover_style={'fillColor': 'red' , 'fillOpacity': 0.2},\n",
    "                   name = 'Boundary')\n",
    "\n",
    "# map the geographic data on dynamic map\n",
    "m = map_geom(geo_data)\n",
    "m"
   ]
  },
  {
   "cell_type": "code",
   "execution_count": null,
   "id": "262d4612-9ddc-4f64-93ef-1ee403fd5120",
   "metadata": {
    "tags": []
   },
   "outputs": [],
   "source": [
    "geom = Geometry(geom=Area.iloc[0].geometry, \n",
    "                         crs=CRS(\"epsg:32755\"))\n",
    "geom"
   ]
  },
  {
   "cell_type": "markdown",
   "id": "38736004-f872-4d1a-b8ff-0e0b8118b5e0",
   "metadata": {},
   "source": [
    "# Generate land cover summaries"
   ]
  },
  {
   "cell_type": "code",
   "execution_count": null,
   "id": "1560c2ba-c136-45a1-9859-6b04aad4b78c",
   "metadata": {
    "tags": []
   },
   "outputs": [],
   "source": [
    "query = {'geopolygon': geom\n",
    "        }"
   ]
  },
  {
   "cell_type": "code",
   "execution_count": null,
   "id": "16ab90ed-41da-49ee-aa61-f3a8011fd9dd",
   "metadata": {
    "tags": []
   },
   "outputs": [],
   "source": [
    "# Load land cover data for our polygon and time period\n",
    "#lc_dataset = dc.load(product='lw_landcover_lw', **query)\n",
    "#lc_dataset_masked = geopolygon_masking(lc_dataset, geopolygon=geom)\n",
    "\n",
    "# Step 3: Load DEA Land Cover data from the datacube\n",
    "try:\n",
    "    lc = dc.load(\n",
    "        product=\"ga_ls_landcover_class_cyear_2\",\n",
    "        output_crs=\"EPSG:32755\",\n",
    "        measurements=[\n",
    "            \"level3\",\n",
    "            \"lifeform\",\n",
    "            \"vegetation_cover\",\n",
    "            \"water_seasonality\",\n",
    "            \"water_state\",\n",
    "            \"intertidal\",\n",
    "            \"water_persistence\",\n",
    "            \"bare_gradation\",\n",
    "            \"full_classification\",\n",
    "        ],\n",
    "        resolution=(-25, 25),\n",
    "        **query\n",
    "    )\n",
    "    print(\"Data loaded successfully.\")\n",
    "except Exception as e:\n",
    "    raise RuntimeError(f\"Error loading data from the datacube: {e}\")\n",
    "    \n",
    "lc_dataset_masked = geopolygon_masking(lc, geopolygon=geom)"
   ]
  },
  {
   "cell_type": "code",
   "execution_count": null,
   "id": "8c99637a-6f21-4eab-b024-8820208923b0",
   "metadata": {
    "tags": []
   },
   "outputs": [],
   "source": [
    "# Load land cover data for our polygon and time period\n",
    "#lc_dataset = dc.load(product='lc', **query)\n",
    "lc_masked = geopolygon_masking(lc, geopolygon=geom)"
   ]
  },
  {
   "cell_type": "code",
   "execution_count": null,
   "id": "cd9921ad-a530-4eed-bf5b-755767619f7a",
   "metadata": {
    "tags": []
   },
   "outputs": [],
   "source": [
    "# Section 6: Checkbox widgets for selecting datasets\n",
    "level3_checkbox = widgets.Checkbox(description='Level 3', value=False)\n",
    "lifeform_checkbox = widgets.Checkbox(description='Lifeform', value=False)\n",
    "vegetation_cover_checkbox = widgets.Checkbox(description='Vegetation Cover', value=False)\n",
    "water_state_checkbox = widgets.Checkbox(description='Water State', value=False)\n",
    "water_persistence_checkbox = widgets.Checkbox(description='Water Persistence', value=False)\n",
    "full_classification_checkbox = widgets.Checkbox(description='Full Classification', value=False)\n",
    "item_checkbox = widgets.Checkbox(description='Intertidal Elevation', value=False)\n",
    "\n",
    "output = widgets.Output()\n",
    "\n",
    "def plot_selected_datasets():\n",
    "    with output:\n",
    "        output.clear_output()\n",
    "        selected_datasets = []\n",
    "        if level3_checkbox.value:\n",
    "            selected_datasets.append('level3')\n",
    "        if lifeform_checkbox.value:\n",
    "            selected_datasets.append('lifeform')\n",
    "        if vegetation_cover_checkbox.value:\n",
    "            selected_datasets.append('vegetation_cover')\n",
    "        if water_state_checkbox.value:\n",
    "            selected_datasets.append('water_state')\n",
    "        if water_persistence_checkbox.value:\n",
    "            selected_datasets.append('water_persistence')            \n",
    "        if full_classification_checkbox.value:\n",
    "            selected_datasets.append('full_classification')\n",
    "        if item_checkbox.value:\n",
    "            selected_datasets.append('item')\n",
    "\n",
    "        for dataset in selected_datasets:\n",
    "            plt.figure()\n",
    "            if dataset == 'level3':\n",
    "                plot_land_cover(lc_masked.level3)\n",
    "            elif dataset == 'lifeform':\n",
    "                plot_land_cover(lc_masked.lifeform)\n",
    "            elif dataset == 'vegetation_cover':\n",
    "                plot_land_cover(lc_masked.vegetation_cover)\n",
    "            elif dataset == 'water_state':\n",
    "                plot_land_cover(lc_masked.water_state)\n",
    "            elif dataset == 'water_persistence':\n",
    "                plot_land_cover(lc_masked.water_persistence)\n",
    "            elif dataset == 'full_classification':\n",
    "                plot_land_cover(lc_masked.full_classification)\n",
    "            elif dataset == 'item':\n",
    "                plot_land_cover(item.elevation[0])\n",
    "            plt.show()\n",
    "\n",
    "plot_datasets_button = widgets.Button(description='Plot Selected Data')\n",
    "plot_datasets_button.on_click(lambda b: plot_selected_datasets())\n",
    "\n",
    "checkboxes_box = widgets.HBox([\n",
    "    level3_checkbox, \n",
    "    lifeform_checkbox, \n",
    "    vegetation_cover_checkbox, \n",
    "    water_state_checkbox, \n",
    "    water_persistence_checkbox, \n",
    "    full_classification_checkbox,\n",
    "    item_checkbox\n",
    "])\n",
    "display(checkboxes_box)\n",
    "display(plot_datasets_button)\n",
    "display(output)"
   ]
  },
  {
   "cell_type": "code",
   "execution_count": null,
   "id": "5b8d38dd-0cfa-4044-b0e0-81e7d9718a79",
   "metadata": {
    "tags": []
   },
   "outputs": [],
   "source": [
    "lc_masked.full_classification"
   ]
  },
  {
   "cell_type": "code",
   "execution_count": null,
   "id": "a8cfa273-b8ea-45ba-8ad6-106c0a09aaec",
   "metadata": {
    "tags": []
   },
   "outputs": [],
   "source": [
    "plot_land_cover(lc_masked.full_classification.sel(time='1988'))"
   ]
  },
  {
   "cell_type": "markdown",
   "id": "55eb750a-ee25-42ac-aa07-b1ab30a60d19",
   "metadata": {},
   "source": [
    "#### Export to a Geotiff"
   ]
  },
  {
   "cell_type": "code",
   "execution_count": null,
   "id": "6c5701ec-89db-42aa-b92a-c6c75bf4f8dd",
   "metadata": {
    "tags": []
   },
   "outputs": [],
   "source": [
    "#This method uses the datacube.utils.cog function write_cog (where COG stands for Cloud Optimised GeoTIFF) \n",
    "#to export a simple single-band, single time-slice GeoTIFF file. A few important caveats should be noted when using this function:\n",
    "#It requires an xarray.DataArray; supplying an xarray.Dataset will return an error. \n",
    "\n",
    "# Write GeoTIFF to a location\n",
    "write_cog(geo_im=lc_masked.full_classification.sel(time='2020'),\n",
    "fname='./outputs/Starcke-fullclassification_2020.tif',overwrite=True)"
   ]
  },
  {
   "cell_type": "code",
   "execution_count": null,
   "id": "15a6267e-eebe-4a33-b7af-0d45217581a2",
   "metadata": {},
   "outputs": [],
   "source": [
    "## Tags\n",
    "Browse all available tags on the DEA User Guide's [Tags Index](https://docs.dea.ga.gov.au/genindex.html)"
   ]
  },
  {
   "cell_type": "markdown",
   "id": "91b4908e-2629-4ed2-95fb-afab84b8aac7",
   "metadata": {},
   "source": [
    "**Tags**: :index:`sandbox compatible`, :index:`landsat 5`, :index:`landsat 7`, :index:`landsat 8`, \n",
    ":index:`DEA Land Cover`, :index:`time series`, :index: `LCCS`, :index:`colour maps`, :index:`data visualisation`"
   ]
  }
 ],
 "metadata": {
  "kernelspec": {
   "display_name": "Python 3 (ipykernel)",
   "language": "python",
   "name": "python3"
  },
  "language_info": {
   "codemirror_mode": {
    "name": "ipython",
    "version": 3
   },
   "file_extension": ".py",
   "mimetype": "text/x-python",
   "name": "python",
   "nbconvert_exporter": "python",
   "pygments_lexer": "ipython3",
   "version": "3.10.13"
  }
 },
 "nbformat": 4,
 "nbformat_minor": 5
}
