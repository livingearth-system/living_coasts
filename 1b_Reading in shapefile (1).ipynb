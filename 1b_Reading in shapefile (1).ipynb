{
 "cells": [
  {
   "cell_type": "markdown",
   "id": "654122aa-cc1d-47d2-ab94-d6f562ff69b3",
   "metadata": {},
   "source": [
    "# 30x30"
   ]
  },
  {
   "cell_type": "markdown",
   "id": "a73fb4f8-0179-4657-8aeb-556ce85166b7",
   "metadata": {},
   "source": [
    "## Mapping of habitats in protected areas"
   ]
  },
  {
   "cell_type": "markdown",
   "id": "b0e09493-f51d-49a2-8c2b-9223bcf85d0f",
   "metadata": {},
   "source": [
    "*Living Land Management* is a Monmouthshire-based project that is using data acquired by spaceborne and airborne sensors to assess how we use the land currently and consider options for future use that enhances business but concurrently supports local food production, restoration of environment (e.g., carbon stocks, biodiversity) and increases resilience to climate change.  "
   ]
  },
  {
   "cell_type": "markdown",
   "id": "820fa1b3-98b9-47b4-9e03-4ca0c9e5c642",
   "metadata": {},
   "source": [
    "The project is a novel and unique collaboration between Monmouthshire County, Aberystwyth University, Dwr Cymru Welsh Water and Natural Resources Wales that links to *Living Wales*, a national initiative that is giving free and open access to remotely sendsed data and products to support wise use of the Welsh landcdape and a better collective outlook for current and future generatiouns."
   ]
  },
  {
   "cell_type": "markdown",
   "id": "e812bb9f-d4dc-4c86-9905-b6b3ea3a03d4",
   "metadata": {},
   "source": [
    "## Information about your land holding."
   ]
  },
  {
   "cell_type": "markdown",
   "id": "faf8acf2-b57b-481a-9ee8-51495dfec6f7",
   "metadata": {},
   "source": [
    "This brochure extracts information on your landholding for different years from the newly developed Welsh Data Cube (WDC), which houses all satellite data acquired over Wales since 2018 and derived products with these including land cover, broad habitats and water/moisture persistence.  "
   ]
  },
  {
   "cell_type": "markdown",
   "id": "e02a6836-1f0e-4b9f-9263-31e80553e313",
   "metadata": {},
   "source": [
    "**Land Cover** is the physical and biological cover of the land surface and includes vegetation (managed or semi-natural), water and bare surfaces.  The land cover maps generated through Living Land Management use the legends of the United Nation's Food and Agriculture Organisation (FAO) Land Cover Classification System (LCCS).\n",
    "\n",
    "**Habitats** represent the natural environments in which individual or groups of plant or animal species lives.  The habitat maps are generated from satellite data and are based on Wales' Phase 1 Habitat Taxonomy.\n",
    "\n",
    "The **water/moisture persistence** is obtained from time-series of radar data that are acquired almost every day over Wales and indicate relative frequency of wet conditions across the landscape.  "
   ]
  },
  {
   "cell_type": "code",
   "execution_count": 1,
   "id": "1a654bab",
   "metadata": {
    "tags": []
   },
   "outputs": [],
   "source": [
    "import datacube\n",
    "import geopandas as gpd\n",
    "import xarray as xr\n",
    "import numpy as np\n",
    "import os\n",
    "import sys\n",
    "#sys.path.append(\"../notebooks/wales_utils/data_cube_utilities\")\n",
    "#from display_tools import map_geom, rgb\n",
    "sys.path.append(\"../Tools/wdc_tools\")\n",
    "from display_tools import map_geom, rgb\n",
    "from wdc_datahandling import geopolygon_masking\n",
    "\n",
    "from datacube.utils.geometry import Geometry, CRS\n",
    "from ipyleaflet import GeoData\n",
    "\n",
    "from matplotlib.colors import ListedColormap\n",
    "import matplotlib.colors as colors\n",
    "import matplotlib.pyplot as plt\n",
    "from matplotlib.patches import Patch"
   ]
  },
  {
   "cell_type": "code",
   "execution_count": 2,
   "id": "2d065e0d",
   "metadata": {
    "tags": []
   },
   "outputs": [],
   "source": [
    "def stat_summary(xarr, scheme):\n",
    "    # Search habitat types in farm \n",
    "    farm_types = np.unique(xarr, return_counts=True)\n",
    "    \n",
    "    # Create dictionary of habitats with respective area in hectares\n",
    "    habitat_stat_dict = {}\n",
    "    for color, label in scheme.items():\n",
    "        if((label[0] in farm_types[0]) & (label[0]!=0)):\n",
    "            habitat_stat_dict[label[1]] = farm_types[1][list(farm_types[0]).index(label[0])]*100/10000 \n",
    "\n",
    "    # Add total area\n",
    "    habitat_stat_total_dict = {\"TOTAL\": round(sum(habitat_stat_dict.values()),2)}\n",
    "\n",
    "    # Calculate percentage of each habitat\n",
    "    for label, value in habitat_stat_dict.items():\n",
    "        percentage = round(value/habitat_stat_total_dict[\"TOTAL\"], 2)\n",
    "        habitat_stat_dict[label] = [value, percentage]\n",
    "\n",
    "    ## Python program to print the habitat details into table \n",
    "    print (\"{:<54} {:<10} {:<20}\".format(\"\\033[1m\" +'CATEGORY','HECTARE', \"PERCENT\"+\"\\033[0m\"))\n",
    "    for k, v in habitat_stat_dict.items():\n",
    "        hect, perc = v\n",
    "        print (\"{:<50} {:<10} {:<20}\".format(k, hect, perc))\n",
    "    ## Python program to print TOTAL into table\n",
    "    for k, v in habitat_stat_total_dict.items():\n",
    "        print (\"{:<50} {:<10}\".format(k, v))\n"
   ]
  },
  {
   "cell_type": "code",
   "execution_count": 3,
   "id": "0c31efd1",
   "metadata": {
    "tags": []
   },
   "outputs": [],
   "source": [
    "dc = datacube.Datacube(app='Area estimates')"
   ]
  },
  {
   "cell_type": "code",
   "execution_count": 5,
   "id": "7045f5f0-887b-4fcc-aacc-548b0882f1b1",
   "metadata": {
    "tags": []
   },
   "outputs": [
    {
     "ename": "KeyError",
     "evalue": "'lc'",
     "output_type": "error",
     "traceback": [
      "\u001b[0;31m---------------------------------------------------------------------------\u001b[0m",
      "\u001b[0;31mKeyError\u001b[0m                                  Traceback (most recent call last)",
      "File \u001b[0;32m/env/lib/python3.10/site-packages/pandas/core/indexes/base.py:3805\u001b[0m, in \u001b[0;36mIndex.get_loc\u001b[0;34m(self, key)\u001b[0m\n\u001b[1;32m   3804\u001b[0m \u001b[38;5;28;01mtry\u001b[39;00m:\n\u001b[0;32m-> 3805\u001b[0m     \u001b[38;5;28;01mreturn\u001b[39;00m \u001b[38;5;28;43mself\u001b[39;49m\u001b[38;5;241;43m.\u001b[39;49m\u001b[43m_engine\u001b[49m\u001b[38;5;241;43m.\u001b[39;49m\u001b[43mget_loc\u001b[49m\u001b[43m(\u001b[49m\u001b[43mcasted_key\u001b[49m\u001b[43m)\u001b[49m\n\u001b[1;32m   3806\u001b[0m \u001b[38;5;28;01mexcept\u001b[39;00m \u001b[38;5;167;01mKeyError\u001b[39;00m \u001b[38;5;28;01mas\u001b[39;00m err:\n",
      "File \u001b[0;32mindex.pyx:167\u001b[0m, in \u001b[0;36mpandas._libs.index.IndexEngine.get_loc\u001b[0;34m()\u001b[0m\n",
      "File \u001b[0;32mindex.pyx:196\u001b[0m, in \u001b[0;36mpandas._libs.index.IndexEngine.get_loc\u001b[0;34m()\u001b[0m\n",
      "File \u001b[0;32mpandas/_libs/hashtable_class_helper.pxi:7081\u001b[0m, in \u001b[0;36mpandas._libs.hashtable.PyObjectHashTable.get_item\u001b[0;34m()\u001b[0m\n",
      "File \u001b[0;32mpandas/_libs/hashtable_class_helper.pxi:7089\u001b[0m, in \u001b[0;36mpandas._libs.hashtable.PyObjectHashTable.get_item\u001b[0;34m()\u001b[0m\n",
      "\u001b[0;31mKeyError\u001b[0m: 'lc'",
      "\nThe above exception was the direct cause of the following exception:\n",
      "\u001b[0;31mKeyError\u001b[0m                                  Traceback (most recent call last)",
      "Cell \u001b[0;32mIn[5], line 4\u001b[0m\n\u001b[1;32m      1\u001b[0m product \u001b[38;5;241m=\u001b[39m \u001b[38;5;124m\"\u001b[39m\u001b[38;5;124mlc\u001b[39m\u001b[38;5;124m\"\u001b[39m\n\u001b[1;32m      3\u001b[0m measurements \u001b[38;5;241m=\u001b[39m dc\u001b[38;5;241m.\u001b[39mlist_measurements()\n\u001b[0;32m----> 4\u001b[0m \u001b[43mmeasurements\u001b[49m\u001b[38;5;241;43m.\u001b[39;49m\u001b[43mloc\u001b[49m\u001b[43m[\u001b[49m\u001b[43mproduct\u001b[49m\u001b[43m]\u001b[49m\n",
      "File \u001b[0;32m/env/lib/python3.10/site-packages/pandas/core/indexing.py:1191\u001b[0m, in \u001b[0;36m_LocationIndexer.__getitem__\u001b[0;34m(self, key)\u001b[0m\n\u001b[1;32m   1189\u001b[0m maybe_callable \u001b[38;5;241m=\u001b[39m com\u001b[38;5;241m.\u001b[39mapply_if_callable(key, \u001b[38;5;28mself\u001b[39m\u001b[38;5;241m.\u001b[39mobj)\n\u001b[1;32m   1190\u001b[0m maybe_callable \u001b[38;5;241m=\u001b[39m \u001b[38;5;28mself\u001b[39m\u001b[38;5;241m.\u001b[39m_check_deprecated_callable_usage(key, maybe_callable)\n\u001b[0;32m-> 1191\u001b[0m \u001b[38;5;28;01mreturn\u001b[39;00m \u001b[38;5;28;43mself\u001b[39;49m\u001b[38;5;241;43m.\u001b[39;49m\u001b[43m_getitem_axis\u001b[49m\u001b[43m(\u001b[49m\u001b[43mmaybe_callable\u001b[49m\u001b[43m,\u001b[49m\u001b[43m \u001b[49m\u001b[43maxis\u001b[49m\u001b[38;5;241;43m=\u001b[39;49m\u001b[43maxis\u001b[49m\u001b[43m)\u001b[49m\n",
      "File \u001b[0;32m/env/lib/python3.10/site-packages/pandas/core/indexing.py:1431\u001b[0m, in \u001b[0;36m_LocIndexer._getitem_axis\u001b[0;34m(self, key, axis)\u001b[0m\n\u001b[1;32m   1429\u001b[0m \u001b[38;5;66;03m# fall thru to straight lookup\u001b[39;00m\n\u001b[1;32m   1430\u001b[0m \u001b[38;5;28mself\u001b[39m\u001b[38;5;241m.\u001b[39m_validate_key(key, axis)\n\u001b[0;32m-> 1431\u001b[0m \u001b[38;5;28;01mreturn\u001b[39;00m \u001b[38;5;28;43mself\u001b[39;49m\u001b[38;5;241;43m.\u001b[39;49m\u001b[43m_get_label\u001b[49m\u001b[43m(\u001b[49m\u001b[43mkey\u001b[49m\u001b[43m,\u001b[49m\u001b[43m \u001b[49m\u001b[43maxis\u001b[49m\u001b[38;5;241;43m=\u001b[39;49m\u001b[43maxis\u001b[49m\u001b[43m)\u001b[49m\n",
      "File \u001b[0;32m/env/lib/python3.10/site-packages/pandas/core/indexing.py:1381\u001b[0m, in \u001b[0;36m_LocIndexer._get_label\u001b[0;34m(self, label, axis)\u001b[0m\n\u001b[1;32m   1379\u001b[0m \u001b[38;5;28;01mdef\u001b[39;00m \u001b[38;5;21m_get_label\u001b[39m(\u001b[38;5;28mself\u001b[39m, label, axis: AxisInt):\n\u001b[1;32m   1380\u001b[0m     \u001b[38;5;66;03m# GH#5567 this will fail if the label is not present in the axis.\u001b[39;00m\n\u001b[0;32m-> 1381\u001b[0m     \u001b[38;5;28;01mreturn\u001b[39;00m \u001b[38;5;28;43mself\u001b[39;49m\u001b[38;5;241;43m.\u001b[39;49m\u001b[43mobj\u001b[49m\u001b[38;5;241;43m.\u001b[39;49m\u001b[43mxs\u001b[49m\u001b[43m(\u001b[49m\u001b[43mlabel\u001b[49m\u001b[43m,\u001b[49m\u001b[43m \u001b[49m\u001b[43maxis\u001b[49m\u001b[38;5;241;43m=\u001b[39;49m\u001b[43maxis\u001b[49m\u001b[43m)\u001b[49m\n",
      "File \u001b[0;32m/env/lib/python3.10/site-packages/pandas/core/generic.py:4293\u001b[0m, in \u001b[0;36mNDFrame.xs\u001b[0;34m(self, key, axis, level, drop_level)\u001b[0m\n\u001b[1;32m   4290\u001b[0m     index \u001b[38;5;241m=\u001b[39m \u001b[38;5;28mself\u001b[39m\u001b[38;5;241m.\u001b[39mindex\n\u001b[1;32m   4292\u001b[0m \u001b[38;5;28;01mif\u001b[39;00m \u001b[38;5;28misinstance\u001b[39m(index, MultiIndex):\n\u001b[0;32m-> 4293\u001b[0m     loc, new_index \u001b[38;5;241m=\u001b[39m \u001b[43mindex\u001b[49m\u001b[38;5;241;43m.\u001b[39;49m\u001b[43m_get_loc_level\u001b[49m\u001b[43m(\u001b[49m\u001b[43mkey\u001b[49m\u001b[43m,\u001b[49m\u001b[43m \u001b[49m\u001b[43mlevel\u001b[49m\u001b[38;5;241;43m=\u001b[39;49m\u001b[38;5;241;43m0\u001b[39;49m\u001b[43m)\u001b[49m\n\u001b[1;32m   4294\u001b[0m     \u001b[38;5;28;01mif\u001b[39;00m \u001b[38;5;129;01mnot\u001b[39;00m drop_level:\n\u001b[1;32m   4295\u001b[0m         \u001b[38;5;28;01mif\u001b[39;00m lib\u001b[38;5;241m.\u001b[39mis_integer(loc):\n\u001b[1;32m   4296\u001b[0m             \u001b[38;5;66;03m# Slice index must be an integer or None\u001b[39;00m\n",
      "File \u001b[0;32m/env/lib/python3.10/site-packages/pandas/core/indexes/multi.py:3290\u001b[0m, in \u001b[0;36mMultiIndex._get_loc_level\u001b[0;34m(self, key, level)\u001b[0m\n\u001b[1;32m   3288\u001b[0m         \u001b[38;5;28;01mreturn\u001b[39;00m indexer, maybe_mi_droplevels(indexer, ilevels)\n\u001b[1;32m   3289\u001b[0m \u001b[38;5;28;01melse\u001b[39;00m:\n\u001b[0;32m-> 3290\u001b[0m     indexer \u001b[38;5;241m=\u001b[39m \u001b[38;5;28;43mself\u001b[39;49m\u001b[38;5;241;43m.\u001b[39;49m\u001b[43m_get_level_indexer\u001b[49m\u001b[43m(\u001b[49m\u001b[43mkey\u001b[49m\u001b[43m,\u001b[49m\u001b[43m \u001b[49m\u001b[43mlevel\u001b[49m\u001b[38;5;241;43m=\u001b[39;49m\u001b[43mlevel\u001b[49m\u001b[43m)\u001b[49m\n\u001b[1;32m   3291\u001b[0m     \u001b[38;5;28;01mif\u001b[39;00m (\n\u001b[1;32m   3292\u001b[0m         \u001b[38;5;28misinstance\u001b[39m(key, \u001b[38;5;28mstr\u001b[39m)\n\u001b[1;32m   3293\u001b[0m         \u001b[38;5;129;01mand\u001b[39;00m \u001b[38;5;28mself\u001b[39m\u001b[38;5;241m.\u001b[39mlevels[level]\u001b[38;5;241m.\u001b[39m_supports_partial_string_indexing\n\u001b[1;32m   3294\u001b[0m     ):\n\u001b[1;32m   3295\u001b[0m         \u001b[38;5;66;03m# check to see if we did an exact lookup vs sliced\u001b[39;00m\n\u001b[1;32m   3296\u001b[0m         check \u001b[38;5;241m=\u001b[39m \u001b[38;5;28mself\u001b[39m\u001b[38;5;241m.\u001b[39mlevels[level]\u001b[38;5;241m.\u001b[39mget_loc(key)\n",
      "File \u001b[0;32m/env/lib/python3.10/site-packages/pandas/core/indexes/multi.py:3391\u001b[0m, in \u001b[0;36mMultiIndex._get_level_indexer\u001b[0;34m(self, key, level, indexer)\u001b[0m\n\u001b[1;32m   3388\u001b[0m         \u001b[38;5;28;01mreturn\u001b[39;00m \u001b[38;5;28mslice\u001b[39m(i, j, step)\n\u001b[1;32m   3390\u001b[0m \u001b[38;5;28;01melse\u001b[39;00m:\n\u001b[0;32m-> 3391\u001b[0m     idx \u001b[38;5;241m=\u001b[39m \u001b[38;5;28;43mself\u001b[39;49m\u001b[38;5;241;43m.\u001b[39;49m\u001b[43m_get_loc_single_level_index\u001b[49m\u001b[43m(\u001b[49m\u001b[43mlevel_index\u001b[49m\u001b[43m,\u001b[49m\u001b[43m \u001b[49m\u001b[43mkey\u001b[49m\u001b[43m)\u001b[49m\n\u001b[1;32m   3393\u001b[0m     \u001b[38;5;28;01mif\u001b[39;00m level \u001b[38;5;241m>\u001b[39m \u001b[38;5;241m0\u001b[39m \u001b[38;5;129;01mor\u001b[39;00m \u001b[38;5;28mself\u001b[39m\u001b[38;5;241m.\u001b[39m_lexsort_depth \u001b[38;5;241m==\u001b[39m \u001b[38;5;241m0\u001b[39m:\n\u001b[1;32m   3394\u001b[0m         \u001b[38;5;66;03m# Desired level is not sorted\u001b[39;00m\n\u001b[1;32m   3395\u001b[0m         \u001b[38;5;28;01mif\u001b[39;00m \u001b[38;5;28misinstance\u001b[39m(idx, \u001b[38;5;28mslice\u001b[39m):\n\u001b[1;32m   3396\u001b[0m             \u001b[38;5;66;03m# test_get_loc_partial_timestamp_multiindex\u001b[39;00m\n",
      "File \u001b[0;32m/env/lib/python3.10/site-packages/pandas/core/indexes/multi.py:2980\u001b[0m, in \u001b[0;36mMultiIndex._get_loc_single_level_index\u001b[0;34m(self, level_index, key)\u001b[0m\n\u001b[1;32m   2978\u001b[0m     \u001b[38;5;28;01mreturn\u001b[39;00m \u001b[38;5;241m-\u001b[39m\u001b[38;5;241m1\u001b[39m\n\u001b[1;32m   2979\u001b[0m \u001b[38;5;28;01melse\u001b[39;00m:\n\u001b[0;32m-> 2980\u001b[0m     \u001b[38;5;28;01mreturn\u001b[39;00m \u001b[43mlevel_index\u001b[49m\u001b[38;5;241;43m.\u001b[39;49m\u001b[43mget_loc\u001b[49m\u001b[43m(\u001b[49m\u001b[43mkey\u001b[49m\u001b[43m)\u001b[49m\n",
      "File \u001b[0;32m/env/lib/python3.10/site-packages/pandas/core/indexes/base.py:3812\u001b[0m, in \u001b[0;36mIndex.get_loc\u001b[0;34m(self, key)\u001b[0m\n\u001b[1;32m   3807\u001b[0m     \u001b[38;5;28;01mif\u001b[39;00m \u001b[38;5;28misinstance\u001b[39m(casted_key, \u001b[38;5;28mslice\u001b[39m) \u001b[38;5;129;01mor\u001b[39;00m (\n\u001b[1;32m   3808\u001b[0m         \u001b[38;5;28misinstance\u001b[39m(casted_key, abc\u001b[38;5;241m.\u001b[39mIterable)\n\u001b[1;32m   3809\u001b[0m         \u001b[38;5;129;01mand\u001b[39;00m \u001b[38;5;28many\u001b[39m(\u001b[38;5;28misinstance\u001b[39m(x, \u001b[38;5;28mslice\u001b[39m) \u001b[38;5;28;01mfor\u001b[39;00m x \u001b[38;5;129;01min\u001b[39;00m casted_key)\n\u001b[1;32m   3810\u001b[0m     ):\n\u001b[1;32m   3811\u001b[0m         \u001b[38;5;28;01mraise\u001b[39;00m InvalidIndexError(key)\n\u001b[0;32m-> 3812\u001b[0m     \u001b[38;5;28;01mraise\u001b[39;00m \u001b[38;5;167;01mKeyError\u001b[39;00m(key) \u001b[38;5;28;01mfrom\u001b[39;00m \u001b[38;5;21;01merr\u001b[39;00m\n\u001b[1;32m   3813\u001b[0m \u001b[38;5;28;01mexcept\u001b[39;00m \u001b[38;5;167;01mTypeError\u001b[39;00m:\n\u001b[1;32m   3814\u001b[0m     \u001b[38;5;66;03m# If we have a listlike key, _check_indexing_error will raise\u001b[39;00m\n\u001b[1;32m   3815\u001b[0m     \u001b[38;5;66;03m#  InvalidIndexError. Otherwise we fall through and re-raise\u001b[39;00m\n\u001b[1;32m   3816\u001b[0m     \u001b[38;5;66;03m#  the TypeError.\u001b[39;00m\n\u001b[1;32m   3817\u001b[0m     \u001b[38;5;28mself\u001b[39m\u001b[38;5;241m.\u001b[39m_check_indexing_error(key)\n",
      "\u001b[0;31mKeyError\u001b[0m: 'lc'"
     ]
    }
   ],
   "source": [
    "product = \"lc\"\n",
    "\n",
    "measurements = dc.list_measurements()\n",
    "measurements.loc[product]"
   ]
  },
  {
   "cell_type": "code",
   "execution_count": 7,
   "id": "945816f6-8d90-4508-8480-bf6ecb49b5f4",
   "metadata": {
    "tags": []
   },
   "outputs": [
    {
     "ename": "NameError",
     "evalue": "name 'lat_range' is not defined",
     "output_type": "error",
     "traceback": [
      "\u001b[0;31m---------------------------------------------------------------------------\u001b[0m",
      "\u001b[0;31mNameError\u001b[0m                                 Traceback (most recent call last)",
      "Cell \u001b[0;32mIn[7], line 2\u001b[0m\n\u001b[1;32m      1\u001b[0m \u001b[38;5;66;03m# Step 1: Check if required variables are defined\u001b[39;00m\n\u001b[0;32m----> 2\u001b[0m \u001b[38;5;28;01mif\u001b[39;00m \u001b[43mlat_range\u001b[49m \u001b[38;5;129;01mis\u001b[39;00m \u001b[38;5;28;01mNone\u001b[39;00m \u001b[38;5;129;01mor\u001b[39;00m lon_range \u001b[38;5;129;01mis\u001b[39;00m \u001b[38;5;28;01mNone\u001b[39;00m \u001b[38;5;129;01mor\u001b[39;00m start_date_input\u001b[38;5;241m.\u001b[39mvalue \u001b[38;5;129;01mis\u001b[39;00m \u001b[38;5;28;01mNone\u001b[39;00m \u001b[38;5;129;01mor\u001b[39;00m end_date_input\u001b[38;5;241m.\u001b[39mvalue \u001b[38;5;129;01mis\u001b[39;00m \u001b[38;5;28;01mNone\u001b[39;00m:\n\u001b[1;32m      3\u001b[0m     \u001b[38;5;28;01mraise\u001b[39;00m \u001b[38;5;167;01mValueError\u001b[39;00m(\u001b[38;5;124m\"\u001b[39m\u001b[38;5;124mLatitude, Longitude, or Time range is not defined\u001b[39m\u001b[38;5;124m\"\u001b[39m)\n\u001b[1;32m      5\u001b[0m \u001b[38;5;28mprint\u001b[39m(\u001b[38;5;124m\"\u001b[39m\u001b[38;5;124mLat Range:\u001b[39m\u001b[38;5;124m\"\u001b[39m, lat_range)\n",
      "\u001b[0;31mNameError\u001b[0m: name 'lat_range' is not defined"
     ]
    }
   ],
   "source": [
    "# Step 1: Check if required variables are defined\n",
    "if lat_range is None or lon_range is None or start_date_input.value is None or end_date_input.value is None:\n",
    "    raise ValueError(\"Latitude, Longitude, or Time range is not defined\")\n",
    "\n",
    "print(\"Lat Range:\", lat_range)\n",
    "print(\"Lon Range:\", lon_range)\n",
    "print(\"Start Date:\", start_date_input.value)\n",
    "print(\"End Date:\", end_date_input.value)\n",
    "\n",
    "# Step 2: Construct the query\n",
    "query = {\n",
    "    \"y\": lat_range,\n",
    "    \"x\": lon_range,\n",
    "    \"time\": (start_date_input.value, end_date_input.value),\n",
    "}\n",
    "\n",
    "print(\"Query Parameters:\", query)\n",
    "\n",
    "# Step 3: Load DEA Land Cover data from the datacube\n",
    "try:\n",
    "    lc = dc.load(\n",
    "        product=\"ga_ls_landcover_class_cyear_2\",\n",
    "        output_crs=\"EPSG:3577\",\n",
    "        measurements=[\n",
    "            \"level3\",\n",
    "            \"lifeform\",\n",
    "            \"vegetation_cover\",\n",
    "            \"water_seasonality\",\n",
    "            \"water_state\",\n",
    "            \"intertidal\",\n",
    "            \"water_persistence\",\n",
    "            \"bare_gradation\",\n",
    "            \"full_classification\",\n",
    "        ],\n",
    "        resolution=(-25, 25),\n",
    "        **query\n",
    "    )\n",
    "    print(\"Data loaded successfully.\")\n",
    "except Exception as e:\n",
    "    raise RuntimeError(f\"Error loading data from the datacube: {e}\")\n",
    "\n",
    "# Step 4: Check if the dataset is loaded correctly\n",
    "if lc is None or lc.geobox is None:\n",
    "    raise ValueError(\"Failed to load the dataset. Please check the query parameters and ensure data is available for the specified region and time range.\")   \n",
    "    \n",
    "# Step 5: Print geobox information\n",
    "geobox = lc.geobox\n",
    "\n",
    "geobox_info = f\"\"\"\n",
    "Geobox Information:\n",
    "-------------------\n",
    "CRS: {geobox.crs}\n",
    "Dimensions: {geobox.dimensions}\n",
    "Resolution: {geobox.resolution}\n",
    "Shape: {geobox.shape}\n",
    "Extent: {geobox.extent}\n",
    "\"\"\"\n",
    "\n",
    "print(geobox_info)\n",
    "\n",
    "# Step 6: Check loaded data dimensions and variables\n",
    "print(\"Loaded data dimensions:\", lc.dims)\n",
    "print(\"Loaded data variables:\", lc.data_vars)"
   ]
  },
  {
   "cell_type": "code",
   "execution_count": null,
   "id": "0dac73f9-2e12-4191-903a-f38a129f4358",
   "metadata": {
    "tags": []
   },
   "outputs": [],
   "source": [
    "product = \"lw_habitats_lw\"\n",
    "\n",
    "measurements = dc.list_measurements()\n",
    "measurements.loc[product]"
   ]
  },
  {
   "cell_type": "markdown",
   "id": "e3c57a8a",
   "metadata": {},
   "source": [
    "Select an area:\n",
    "- Wye_Valley_Wales\n",
    "- Angelsey"
   ]
  },
  {
   "cell_type": "code",
   "execution_count": null,
   "id": "0c0ebc80",
   "metadata": {
    "tags": []
   },
   "outputs": [],
   "source": [
    "area_name = \"Anglesey\"\n",
    "year = \"2022\""
   ]
  },
  {
   "cell_type": "code",
   "execution_count": null,
   "id": "f063e164",
   "metadata": {
    "tags": []
   },
   "outputs": [],
   "source": [
    "# Open and read the shapefiles\n",
    "fields_path = '../uploads/Wales/Areas/Counties/'+area_name+'_Fields.shp'\n",
    "fields_exists = os.path.isfile(fields_path)\n",
    "\n",
    "boundary_path = '../uploads/Wales/Areas/Counties/'+area_name+'_Boundary.shp'\n",
    "boundary_exists = os.path.isfile(boundary_path)\n",
    "\n",
    "if fields_exists:\n",
    "    Fields = gpd.read_file(fields_path)\n",
    "if boundary_exists:\n",
    "    Boundary = gpd.read_file(boundary_path)"
   ]
  },
  {
   "cell_type": "code",
   "execution_count": null,
   "id": "debbbfec",
   "metadata": {
    "tags": []
   },
   "outputs": [],
   "source": [
    "Boundary.head(3)"
   ]
  },
  {
   "cell_type": "code",
   "execution_count": null,
   "id": "3a090bf6",
   "metadata": {
    "tags": []
   },
   "outputs": [],
   "source": [
    "# Transform shapefile boundaries into geographic data (and affect a style) \n",
    "geo_data = GeoData(geo_dataframe = Boundary.to_crs(epsg=4326),\n",
    "                   style={'color': 'black', 'fillColor': '#3366cc', 'opacity':0.05, \n",
    "                          'weight':1.9, 'dashArray':'2', 'fillOpacity':0.6},\n",
    "                   hover_style={'fillColor': 'red' , 'fillOpacity': 0.2},\n",
    "                   name = 'Boundary')\n",
    "\n",
    "# map the geographic data on dynamic map\n",
    "m = map_geom(geo_data)\n",
    "m"
   ]
  },
  {
   "cell_type": "code",
   "execution_count": null,
   "id": "9eff38e5",
   "metadata": {
    "tags": []
   },
   "outputs": [],
   "source": [
    "geom = Geometry(geom=Boundary.iloc[0].geometry, \n",
    "                         crs=CRS(\"epsg:27700\"))\n",
    "geom"
   ]
  },
  {
   "cell_type": "code",
   "execution_count": null,
   "id": "25e30a0a",
   "metadata": {
    "tags": []
   },
   "outputs": [],
   "source": [
    "query = {'geopolygon': geom,\n",
    "         'time': (year+\"-01-01\", year+\"-12-31\"),\n",
    "         'output_crs': 'EPSG:27700',\n",
    "         'resolution': (-10, 10)\n",
    "        }"
   ]
  },
  {
   "cell_type": "code",
   "execution_count": null,
   "id": "ca7b27ed",
   "metadata": {
    "tags": []
   },
   "outputs": [],
   "source": [
    "# Load land cover data for our polygon and time period\n",
    "lc_dataset = dc.load(product='lw_landcover_lw', **query)\n",
    "lc_dataset_masked = geopolygon_masking(lc_dataset, geopolygon=geom)"
   ]
  },
  {
   "cell_type": "code",
   "execution_count": null,
   "id": "7dfc21f0",
   "metadata": {
    "tags": []
   },
   "outputs": [],
   "source": [
    "level3plus = ((lc_dataset_masked.level3.where(lc_dataset_masked.level3 == 112) + lc_dataset_masked.lifeform).fillna(0) + (\n",
    "    lc_dataset_masked.level3.where(lc_dataset_masked.level3 != 112)).fillna(0))\n",
    "lc_dataset[\"level3plus\"] = level3plus"
   ]
  },
  {
   "cell_type": "code",
   "execution_count": null,
   "id": "bb570101",
   "metadata": {
    "tags": []
   },
   "outputs": [],
   "source": [
    "# Level3plus colour scheme\n",
    "level3plus_scheme = {\"#FFFFFF\": [0., \"Not classified\"],\n",
    "                     \"#D1E133\": [111., \"Cultivated or managed terrestrial vegetation\"], \n",
    "                     \"#007A02\": [113., \"Semi-natural terrestrial woody vegetation\"], \n",
    "                     \"#95c748\": [114., \"Semi-natural terrestrial herbaceous vegetation\"],\n",
    "                     \"#4EEEE8\": [123., \"Cultivated or managed aquatic vegetation\"],\n",
    "                     \"#02C077\": [124., \"Semi-natural aquatic vegetation\"],\n",
    "                     \"#DA5C69\": [215., \"Artificial surface\"],\n",
    "                     \"#F3AB69\": [216., \"Bare surface\"],\n",
    "                     \"#4D9FDC\": [220., \"Water\"]}\n",
    "\n",
    "# Colour map\n",
    "level3plus_cmap = ListedColormap(list(level3plus_scheme.keys()))\n",
    "# Level3plus classes\n",
    "# Define a normalization from values -> colors\n",
    "level3plus_norm = colors.BoundaryNorm([value[0] for value in level3plus_scheme.values()], 9)\n"
   ]
  },
  {
   "cell_type": "code",
   "execution_count": null,
   "id": "1326ec51",
   "metadata": {
    "tags": []
   },
   "outputs": [],
   "source": [
    "# Plotting\n",
    "lc_fig, ax = plt.subplots(figsize=(20, 10))\n",
    "\n",
    "lc_plot = ax.imshow(lc_dataset.level3plus.isel(time=0),\n",
    "                     cmap=level3plus_cmap,\n",
    "                     norm=level3plus_norm,\n",
    "                     extent=[lc_dataset.x.min().data, lc_dataset.x.max().data,\n",
    "                             lc_dataset.y.min().data, lc_dataset.y.max().data])\n",
    "\n",
    "if boundary_exists:\n",
    "    Boundary.boundary.plot(ax=ax, ec='#e72323', linewidth=3)\n",
    "\n",
    "if fields_exists:\n",
    "    Fields.boundary.plot(ax=ax, ec='#220f46', linewidth=0.5)\n",
    "\n",
    "patches = [Patch(color=color, label=label[1])\n",
    "           for color, label in level3plus_scheme.items()]\n",
    "\n",
    "ax.legend(handles=patches,\n",
    "          bbox_to_anchor=(1.7, 0.7),\n",
    "          facecolor=\"white\")\n",
    "\n",
    "#ax.set_axis_off()\n",
    "plt.show()"
   ]
  },
  {
   "cell_type": "code",
   "execution_count": null,
   "id": "e241478e",
   "metadata": {
    "tags": []
   },
   "outputs": [],
   "source": [
    "lc_fig.savefig('outputs/Land_cover_'+area_name+'_'+year+'.png')"
   ]
  },
  {
   "cell_type": "code",
   "execution_count": null,
   "id": "a3f1e533-a956-4a9f-bd74-25671e46ff74",
   "metadata": {
    "tags": []
   },
   "outputs": [],
   "source": [
    "print('Level3 min', np.nanmax(lc_dataset[\"level3plus\"]))"
   ]
  },
  {
   "cell_type": "code",
   "execution_count": null,
   "id": "be4d8f5e-5b67-4d5e-8feb-22947a10d0ec",
   "metadata": {
    "tags": []
   },
   "outputs": [],
   "source": [
    "f, ax = plt.subplots()\n",
    "lc_dataset.level3plus.plot.hist(color=\"green\")\n",
    "ax.set(title=\"Distribution of Raster Cell Values in land cover\",\n",
    "       xlabel=\"Height (m)\",\n",
    "       ylabel=\"Number of Pixels\")\n",
    "plt.show()"
   ]
  },
  {
   "cell_type": "code",
   "execution_count": null,
   "id": "5f66b9d3-3631-4b55-83fd-2ad50142e63a",
   "metadata": {
    "tags": []
   },
   "outputs": [],
   "source": [
    "class_bins = [111,112,124,215,216,220]"
   ]
  },
  {
   "cell_type": "code",
   "execution_count": null,
   "id": "79303df7-85cf-420c-9d65-e51ff503ecd8",
   "metadata": {
    "tags": []
   },
   "outputs": [],
   "source": [
    "class_bins"
   ]
  },
  {
   "cell_type": "code",
   "execution_count": null,
   "id": "4c9846ff-36f7-4086-aa0e-481ca4b80e34",
   "metadata": {
    "tags": []
   },
   "outputs": [],
   "source": [
    "reclass = xr.apply_ufunc(np.digitize, lc_dataset.level3plus, class_bins)"
   ]
  },
  {
   "cell_type": "code",
   "execution_count": null,
   "id": "afce90e6-7156-44b5-bdc6-765008285f59",
   "metadata": {
    "tags": []
   },
   "outputs": [],
   "source": [
    "lc_dataset.assign(new=lc_dataset[\"level3plus\"]*10)"
   ]
  },
  {
   "cell_type": "markdown",
   "id": "dc4c33e3-54f6-42bb-8b98-8c929c90a2f4",
   "metadata": {},
   "source": [
    "#### Classify the area of each land cover in your farm"
   ]
  },
  {
   "cell_type": "code",
   "execution_count": null,
   "id": "da3194e6",
   "metadata": {
    "tags": []
   },
   "outputs": [],
   "source": [
    "stat_summary(lc_dataset.level3plus, level3plus_scheme)"
   ]
  },
  {
   "cell_type": "code",
   "execution_count": null,
   "id": "8e1e451c",
   "metadata": {
    "tags": []
   },
   "outputs": [],
   "source": [
    "# Load habitat data for our polygon and time period\n",
    "habitat_dataset = dc.load(product='lw_habitats_lw', **query)\n",
    "habitat_dataset_masked = geopolygon_masking(habitat_dataset, geopolygon=geom)"
   ]
  },
  {
   "cell_type": "code",
   "execution_count": null,
   "id": "b5beb9f3",
   "metadata": {
    "tags": []
   },
   "outputs": [],
   "source": [
    "# Level3plus colour scheme\n",
    "broadhabitat_scheme = {\"#FFFFFF\": [0., \"Not classified\"],\n",
    "                       \"#00C502\": [1., \"Broadleaved woodland\"], \n",
    "                       \"#006902\": [2., \"Needle-leaved woodland\"],\n",
    "                       \"#CEF191\": [3., \"Semi-natural grassland\"],\n",
    "                       \"#C91FCC\": [4., \"Heathland and Scrub\"],\n",
    "                       \"#F2A008\": [5., \"Bracken\"],\n",
    "                       \"#F8F8C9\": [6., \"Bog\"],\n",
    "                       \"#177E88\": [7., \"Fen/Marsh/Swamp\"],\n",
    "                       \"#FFFF00\": [8., \"Cultivated or managed vegetation\"],\n",
    "                       \"#00DDA4\": [9., \"Coastal habitat\"],\n",
    "                       \"#0E00ED\": [10., \"Open Water\"],\n",
    "                       \"#908E8D\": [11., \"Natural Bare Surfaces\"],\n",
    "                       \"#000000\": [12., \"Artificial Bare Surfaces\"],\n",
    "                       \"#DAC654\": [13., \"Young trees/Felled/Coppice\"],\n",
    "                       \"#5d994e\": [14., \"Woodland and scrub\"]\n",
    "                      }\n",
    "\n",
    "# Habitat colour scheme\n",
    "broadhabitat_cmap = ListedColormap(list(broadhabitat_scheme.keys()))\n",
    "# Habitat classes\n",
    "broadhabitat_norm = colors.BoundaryNorm([value[0] for value in broadhabitat_scheme.values()], 15)\n"
   ]
  },
  {
   "cell_type": "code",
   "execution_count": null,
   "id": "84627bd0",
   "metadata": {
    "tags": []
   },
   "outputs": [],
   "source": [
    "# Plotting\n",
    "habitat_fig, ax = plt.subplots(figsize=(20, 10))\n",
    "\n",
    "habitat_plot = ax.imshow(habitat_dataset_masked.broad.isel(time=0),\n",
    "                     cmap=broadhabitat_cmap,\n",
    "                     norm=broadhabitat_norm,\n",
    "                     extent=[habitat_dataset.x.min().data, habitat_dataset.x.max().data,\n",
    "                             habitat_dataset.y.min().data, habitat_dataset.y.max().data])\n",
    "\n",
    "if boundary_exists:\n",
    "    Boundary.boundary.plot(ax=ax, ec='#e72323', linewidth=3)\n",
    "    \n",
    "if fields_exists:\n",
    "    Fields.boundary.plot(ax=ax, ec='#220f46', linewidth=0.5)\n",
    "\n",
    "\n",
    "patches = [Patch(color=color, label=label[1])\n",
    "           for color, label in broadhabitat_scheme.items()]\n",
    "\n",
    "ax.legend(handles=patches,\n",
    "          bbox_to_anchor=(1.6, 1.0),\n",
    "          facecolor=\"white\")\n",
    "\n",
    "# ax.set_axis_off()\n",
    "plt.show()"
   ]
  },
  {
   "cell_type": "code",
   "execution_count": null,
   "id": "90cca7d1",
   "metadata": {
    "tags": []
   },
   "outputs": [],
   "source": [
    "habitat_fig.savefig('outputs/Broad_habitats_'+area_name+'_'+year+'.png')"
   ]
  },
  {
   "cell_type": "markdown",
   "id": "d88e461a-2325-48dc-b2b2-41275bdb805f",
   "metadata": {},
   "source": [
    "#### Classify the area of each habitat in your farm"
   ]
  },
  {
   "cell_type": "code",
   "execution_count": null,
   "id": "bc3c6e4e-62e5-4cef-8942-c8e3ff258dd4",
   "metadata": {
    "tags": []
   },
   "outputs": [],
   "source": [
    "stat_summary(habitat_dataset_masked.broad, broadhabitat_scheme)"
   ]
  },
  {
   "cell_type": "code",
   "execution_count": null,
   "id": "e80f5dc8-5303-44ee-a6b1-f5ac1581ee90",
   "metadata": {
    "tags": []
   },
   "outputs": [],
   "source": [
    "# Detailed habitat colour scheme\n",
    "det_habitat_scheme = {\"#FFFFFF\": [0., \"Not classified\"],\n",
    "                       \"#45fb82\": [3., \"Semi-natural grassland (unclassified)\"], \n",
    "                       \"#577117\": [4., \"Juncus rushes\"],\n",
    "                       \"#cef191\":[5., \"Molinia grassland\"],\n",
    "                       \"#f8f096\": [9., \"Young plantations/felled/coppice\"],\n",
    "                       \"#399c4f\": [10., \"Woodland and scrub (unclassified)\"],\n",
    "                       \"#0ac72d\": [12., \"Broadleaved woodland\"],\n",
    "                       \"#286b35\": [16., \"Needleleaved woodland\"],\n",
    "                       \"#6d5742\": [23., \"Ulex dominated scrub\"],\n",
    "                       \"#d7d236\": [35., \"Acid grassland\"],\n",
    "                       \"#c5d833\": [38., \"Neutral grassland\"],\n",
    "                       \"#c3c000\": [41., \"Calcareous grassland\"],\n",
    "                       \"#fced13\": [44., \"Improved grassland\"],\n",
    "                       \"#518388\": [45., \"Marsh/marshy grassland\"],\n",
    "                       \"#f37e1c\": [50., \"Bracken\"],\n",
    "                       \"#9c0f85\": [58., \"Dry dwarf shrub heath\"],\n",
    "                       \"#e2a7ed\": [61., \"Wet dwarf shrub heath\"],\n",
    "                       \"#df0f4a\": [70., \"Blanket sphagnum bog\"],\n",
    "                       \"#f74428\": [71., \"Raised sphagnum bog\"],\n",
    "                       \"#f7eeb6\": [72., \"Modified bog\"],\n",
    "                       \"#6bdac2\": [78., \"Fen\"],\n",
    "                       \"#493717\": [85., \"Peat - bare\"],\n",
    "                       \"#4eb0e0\": [86., \"Swamp\"],\n",
    "                       \"#013ff6\": [90., \"Open water\"],\n",
    "                       \"#a5e1dc\": [106., \"Intertidal vegetation generic\"],\n",
    "                       \"#3b4b61\": [107., \"Intertidal bare generic\"],\n",
    "                       \"#4de5fc\": [119., \"Saltmarsh\"],\n",
    "                       \"#ecb641\": [128., \"Sand dune\"],\n",
    "                       \"#30aa87\": [130., \"Dune grassland\"],\n",
    "                       \"#6e1ae3\": [131., \"Dune heath\"],\n",
    "                       \"#7c3843\": [132., \"Dune scrub\"],\n",
    "                       \"#7286bb\": [134., \"Maritime cliff and slope (unvegetated)\"],\n",
    "                       \"#5a5860\": [135., \"Maritime cliff and slope (vegetated)\"],\n",
    "                       \"#020b09\": [142., \"Natural rock exposure and waste\"],\n",
    "                       \"#c6c3d3\": [143., \"Inland cliff\"],\n",
    "                       \"#e7ebeb\": [155., \"Quarry\"],\n",
    "                       \"#fb9a71\": [159., \"Arable crops\"],\n",
    "                       \"#ddf0f1\": [200., \"Artificial bare surfaces\"],\n",
    "                       \"#a0ada9\": [201., \"Natural bare surfaces\"],\n",
    "                       \"#8cbd77\": [202., \"Semi-natural herbaceous vegetation (unclassified)\"]\n",
    "                      }\n",
    "\n",
    "# Habitat colour scheme\n",
    "det_habitat_cmap = ListedColormap(list(det_habitat_scheme.keys()))\n",
    "# Habitat classes\n",
    "det_habitat_norm = colors.BoundaryNorm([value[0] for value in det_habitat_scheme.values()], 40)"
   ]
  },
  {
   "cell_type": "code",
   "execution_count": null,
   "id": "5f2b741d-23c4-4489-84cb-86a03805b6fb",
   "metadata": {
    "tags": []
   },
   "outputs": [],
   "source": [
    "# Plotting\n",
    "habitat_fig, ax = plt.subplots(figsize=(20, 10))\n",
    "\n",
    "habitat_plot = ax.imshow(habitat_dataset_masked.detailed.isel(time=0),\n",
    "                     cmap=det_habitat_cmap,\n",
    "                     norm=det_habitat_norm,\n",
    "                     extent=[habitat_dataset.x.min().data, habitat_dataset.x.max().data,\n",
    "                             habitat_dataset.y.min().data, habitat_dataset.y.max().data])\n",
    "\n",
    "if boundary_exists:\n",
    "    Boundary.boundary.plot(ax=ax, ec='#e72323', linewidth=3)\n",
    "    \n",
    "if fields_exists:\n",
    "    Fields.boundary.plot(ax=ax, ec='#220f46', linewidth=0.5)\n",
    "\n",
    "\n",
    "patches = [Patch(color=color, label=label[1])\n",
    "           for color, label in det_habitat_scheme.items()]\n",
    "\n",
    "ax.legend(handles=patches,\n",
    "          bbox_to_anchor=(1.7, 1.0),\n",
    "          facecolor=\"white\")\n",
    "\n",
    "# ax.set_axis_off()\n",
    "plt.show()\n"
   ]
  },
  {
   "cell_type": "code",
   "execution_count": null,
   "id": "d20bc1dc-d25a-499a-800f-01f5076a767b",
   "metadata": {
    "tags": []
   },
   "outputs": [],
   "source": [
    "habitat_fig.savefig('outputs/Detailed_habitats_'+area_name+'_'+year+'.png')"
   ]
  },
  {
   "cell_type": "code",
   "execution_count": null,
   "id": "805f6a3e-b6d9-48a2-8c68-0f89d66c0ce8",
   "metadata": {
    "tags": []
   },
   "outputs": [],
   "source": [
    "stat_summary(habitat_dataset_masked.detailed, det_habitat_scheme)"
   ]
  },
  {
   "cell_type": "code",
   "execution_count": null,
   "id": "80e239de",
   "metadata": {
    "tags": []
   },
   "outputs": [],
   "source": [
    "# Level3plus colour scheme\n",
    "waterper_scheme = {\"#FFFFFF\": [0., \"Not affected\"],\n",
    "                   \"#0a549e\": [1., \"9+ months\"], \n",
    "                   \"#2172b6\": [2., \"8 months\"],\n",
    "                   \"#3e8ec4\": [3., \"7 months\"],\n",
    "                   \"#60a6d2\": [4., \"6 months\"],\n",
    "                   \"#89bfdd\": [5., \"5 months\"],\n",
    "                   \"#b0d2e8\": [6., \"4 months\"],\n",
    "                   \"#cde0f2\": [7., \"3 months\"],\n",
    "                   \"#cde0f2\": [8., \"2 months\"],\n",
    "                   \"#e8f2fb\": [9., \"1 month\"],}\n",
    "\n",
    "# Water/wetness persistence colour scheme\n",
    "waterper_cmap = ListedColormap(list(waterper_scheme.keys()))\n",
    "# Habitat classes\n",
    "waterper_norm = colors.BoundaryNorm([value[0] for value in waterper_scheme.values()], 11)"
   ]
  },
  {
   "cell_type": "code",
   "execution_count": null,
   "id": "819ca260",
   "metadata": {
    "tags": []
   },
   "outputs": [],
   "source": [
    "# Plotting\n",
    "waterper_fig, ax = plt.subplots(figsize=(20, 10))\n",
    "\n",
    "waterper_plot = ax.imshow(lc_dataset_masked.waterpersist.isel(time=0),\n",
    "                     cmap=waterper_cmap,\n",
    "                     norm=waterper_norm,\n",
    "                     extent=[lc_dataset.x.min().data, lc_dataset.x.max().data,\n",
    "                             lc_dataset.y.min().data, lc_dataset.y.max().data])\n",
    "\n",
    "if fields_exists:\n",
    "    Fields.boundary.plot(ax=ax, ec='#220f46', linewidth=1)\n",
    "if boundary_exists:\n",
    "    Boundary.boundary.plot(ax=ax, ec='#e72323', linewidth=3)\n",
    "\n",
    "patches = [Patch(color=color, label=label[1])\n",
    "           for color, label in waterper_scheme.items()]\n",
    "\n",
    "ax.legend(handles=patches,\n",
    "          bbox_to_anchor=(1.35, 1),\n",
    "          facecolor=\"white\")\n",
    "ax.set_axis_off()\n",
    "plt.show()"
   ]
  },
  {
   "cell_type": "code",
   "execution_count": null,
   "id": "5bc94dd6",
   "metadata": {
    "tags": []
   },
   "outputs": [],
   "source": [
    "waterper_fig.savefig('outputs/Soil_moisture_persistence_'+area_name+'_'+year+'.png')"
   ]
  },
  {
   "cell_type": "markdown",
   "id": "3ccb15a1-f177-4eb4-81f8-179e8b9e3abe",
   "metadata": {},
   "source": [
    "#### Estimate how wet your land is during the year"
   ]
  },
  {
   "cell_type": "code",
   "execution_count": null,
   "id": "abf2fc7f-0ba1-4838-b366-21e6e6da3ef6",
   "metadata": {
    "tags": []
   },
   "outputs": [],
   "source": [
    "stat_summary(lc_dataset_masked.waterpersist, waterper_scheme)"
   ]
  },
  {
   "cell_type": "code",
   "execution_count": null,
   "id": "3e26e970",
   "metadata": {},
   "outputs": [],
   "source": []
  },
  {
   "cell_type": "code",
   "execution_count": null,
   "id": "4e4edf66-14dc-40b7-a883-8f74470e6878",
   "metadata": {},
   "outputs": [],
   "source": []
  }
 ],
 "metadata": {
  "kernelspec": {
   "display_name": "Python 3 (ipykernel)",
   "language": "python",
   "name": "python3"
  },
  "language_info": {
   "codemirror_mode": {
    "name": "ipython",
    "version": 3
   },
   "file_extension": ".py",
   "mimetype": "text/x-python",
   "name": "python",
   "nbconvert_exporter": "python",
   "pygments_lexer": "ipython3",
   "version": "3.10.13"
  }
 },
 "nbformat": 4,
 "nbformat_minor": 5
}
