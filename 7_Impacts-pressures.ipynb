{
 "cells": [
  {
   "cell_type": "markdown",
   "id": "e559eb05-7a10-47c5-8061-97e2eff29bc5",
   "metadata": {},
   "source": [
    "# ***Living Coasts*** Information and Training <img align=\"right\" src=\"../Supplementary_data/dea_logo.jpg\">\n",
    "\n",
    "* [**Sign up to the DEA Sandbox**](https://docs.dea.ga.gov.au/setup/sandbox.html) to run this notebook interactively from a browser\n",
    "* **Compatibility:** Notebook currently compatible with the `DEA Sandbox` environment\n",
    "* **Products used:** \n",
    "[ga_ls_landcover_class_cyear_2](https://explorer.sandbox.dea.ga.gov.au/ga_ls_landcover_class_cyear_2)"
   ]
  },
  {
   "cell_type": "markdown",
   "id": "77694d6c-4742-4855-be46-f7f1787ebb17",
   "metadata": {},
   "source": [
    "## The Global Change Taxonomy and Evidence-Based Change Framework"
   ]
  },
  {
   "cell_type": "markdown",
   "id": "ae370f7b-1149-4563-be32-c83100c1945d",
   "metadata": {},
   "source": [
    "This notebooks introduces a globally relevant and standardized taxonomy and framework for consistently describing land cover change based on evidence, which makes use of structured land cover taxonomies and is underpinned by the Driver-Pressure-State-Impact-Response (DPSIR) framework (Lucas ***et al.***, 2022; https://onlinelibrary.wiley.com/doi/full/10.1111/gcb.16346).  \n",
    "\n",
    "The Global Change Taxonomy currently lists 246 classes based on the notation ‘impact (pressure)’, with this encompassing the consequence of observed change and associated reason(s), and uses scale-independent terms that factor in time. \n",
    "\n",
    "Evidence for different impacts is gathered through temporal comparison (e.g., days, decades apart) of land cover classes constructed and described from Environmental Descriptors (EDs; state indicators) with pre-defined measurement units (e.g., m, %) or categories (e.g., species type).  \n",
    "\n",
    "Evidence for pressures, whether abiotic, biotic or human-influenced, is similarly accumulated, but EDs often differ from those used to determine impacts.  Each impact and pressure term is defined separately, allowing flexible combination into ‘impact (pressure)’ categories, and all are listed in an openly accessible glossary to ensure consistent use and common understanding.   \n",
    "\n",
    "The taxonomy and framework are globally relevant and can reference EDs quantified on the ground, retrieved/classified remotely (from ground-based, airborne or spaceborne sensors) or predicted through modelling. By providing capacity to more consistently describe change processes – including land degradation, desertification and ecosystem restoration - the overall framework addresses a wide and diverse range of local to international needs including those relevant to policy, socioeconomics and land management.  Actions in response to impacts and pressures and monitoring towards targets are also supported to assist future planning, including impact mitigation actions. "
   ]
  },
  {
   "cell_type": "markdown",
   "id": "6cc7f0b6-e078-476c-a867-47408a42ac5a",
   "metadata": {},
   "source": [
    "### Evidence for impacts"
   ]
  },
  {
   "cell_type": "markdown",
   "id": "fed1bdca-3907-43cb-a46b-af2e6f502b92",
   "metadata": {},
   "source": [
    "###  Setting up"
   ]
  },
  {
   "cell_type": "code",
   "execution_count": 1,
   "id": "e1910a96-e72a-42b3-9f9a-1886689f0f74",
   "metadata": {
    "tags": []
   },
   "outputs": [
    {
     "name": "stdout",
     "output_type": "stream",
     "text": [
      "Requirement already satisfied: openpyxl in /env/lib/python3.10/site-packages (3.1.5)\n",
      "Requirement already satisfied: et-xmlfile in /env/lib/python3.10/site-packages (from openpyxl) (1.1.0)\n",
      "/home/jovyan/Living_Coasts_training/Tools does not exist.\n",
      "/home/jovyan/Living_Coasts_training/Working does not exist.\n",
      "/home/jovyan/Living_Coasts_training/Working does not exist.\n",
      "Files in /home/jovyan/Living_Coasts_training/Tools:\n",
      "/home/jovyan/Living_Coasts_training/Tools does not exist.\n",
      "Files in /home/jovyan/Living_Coasts_training/Working:\n",
      "/home/jovyan/Living_Coasts_training/Working does not exist.\n"
     ]
    }
   ],
   "source": [
    "import datetime as dt\n",
    "import sys\n",
    "import warnings\n",
    "from datetime import datetime, timedelta\n",
    "from time import time\n",
    "\n",
    "import datacube\n",
    "import geopandas as gpd\n",
    "import matplotlib.pyplot as plt\n",
    "import numpy as np\n",
    "import pandas as pd\n",
    "import xarray as xr\n",
    "import rioxarray\n",
    "from datacube.testutils.io import rio_slurp_xarray\n",
    "from datacube.utils.cog import write_cog\n",
    "from datacube.utils.geometry import Geometry\n",
    "from datacube.utils.masking import mask_invalid_data\n",
    "from dea_tools.landcover import lc_colourmap, make_colorbar, plot_land_cover\n",
    "from dea_tools.plotting import display_map, rgb\n",
    "from ipyleaflet import DrawControl, LayersControl, Map, WidgetControl, basemaps\n",
    "from IPython.display import HTML, display\n",
    "from ipywidgets import Dropdown, HBox, Output, VBox, interact, Button, FloatText, widgets\n",
    "from pyproj import Proj, transform\n",
    "from shapely.geometry import Polygon\n",
    "from shapely.geometry.polygon import LinearRing\n",
    "import os\n",
    "\n",
    "warnings.filterwarnings(\"ignore\")\n",
    "\n",
    "# Setup paths and Datacube instance\n",
    "current_dir = os.getcwd()\n",
    "tools_path = os.path.join(current_dir, \"Tools\")\n",
    "working_path = os.path.join(current_dir, \"Working\")\n",
    "\n",
    "sys.path.insert(1, tools_path)\n",
    "sys.path.insert(1, working_path)\n",
    "dc = datacube.Datacube()\n",
    "\n",
    "# Ensure openpyxl is installed\n",
    "!pip install openpyxl\n",
    "\n",
    "time_range = None\n",
    "\n",
    "# Check if display_tools.py exists in Tools\n",
    "if os.path.exists(tools_path):\n",
    "    if \"display_tools.py\" in os.listdir(tools_path):\n",
    "        try:\n",
    "            from display_tools import display_da\n",
    "            print(\"display_tools module imported successfully from Tools.\")\n",
    "        except ImportError as e:\n",
    "            print(f\"Error importing display_tools from Tools: {e}\")\n",
    "else:\n",
    "    print(f\"{tools_path} does not exist.\")\n",
    "\n",
    "# Check if display_tools.py exists in Working\n",
    "if os.path.exists(working_path):\n",
    "    if \"display_tools.py\" in os.listdir(working_path):\n",
    "        try:\n",
    "            from display_tools import display_da\n",
    "            print(\"display_tools module imported successfully from Working.\")\n",
    "        except ImportError as e:\n",
    "            print(f\"Error importing display_tools from Working: {e}\")\n",
    "else:\n",
    "    print(f\"{working_path} does not exist.\")\n",
    "\n",
    "# Check if landcover.py exists in Working\n",
    "if os.path.exists(working_path):\n",
    "    if \"landcover.py\" in os.listdir(working_path):\n",
    "        try:\n",
    "            from landcover import lc_colourmap, make_colorbar, plot_land_cover\n",
    "            print(\"landcover module imported successfully from Working.\")\n",
    "        except ImportError as e:\n",
    "            print(f\"Error importing landcover from Working: {e}\")\n",
    "else:\n",
    "    print(f\"{working_path} does not exist.\")\n",
    "\n",
    "# List files in Tools and Working\n",
    "print(f\"Files in {tools_path}:\")\n",
    "print(os.listdir(tools_path) if os.path.exists(tools_path) else f\"{tools_path} does not exist.\")\n",
    "print(f\"Files in {working_path}:\")\n",
    "print(os.listdir(working_path) if os.path.exists(working_path) else f\"{working_path} does not exist.\")\n"
   ]
  },
  {
   "cell_type": "markdown",
   "id": "914dbb03-e443-454b-9a7d-0d019386f5a1",
   "metadata": {},
   "source": [
    "### Selecting area"
   ]
  },
  {
   "cell_type": "code",
   "execution_count": 2,
   "id": "c163a537-89f4-4de9-b2a4-a25ad4f2a86c",
   "metadata": {
    "tags": []
   },
   "outputs": [
    {
     "data": {
      "application/vnd.jupyter.widget-view+json": {
       "model_id": "07ebe593605548c9926cdcf322d343e5",
       "version_major": 2,
       "version_minor": 0
      },
      "text/plain": [
       "Map(center=[0, 0], controls=(ZoomControl(options=['position', 'zoom_in_text', 'zoom_in_title', 'zoom_out_text'…"
      ]
     },
     "metadata": {},
     "output_type": "display_data"
    }
   ],
   "source": [
    "from ipyleaflet import Map, DrawControl, WidgetControl, basemaps, LayersControl, FullScreenControl, Rectangle\n",
    "from ipywidgets import Output, Button, VBox, Tab, FloatText, Layout\n",
    "from shapely.geometry import Polygon\n",
    "\n",
    "# Initialize global variables to store the selected polygon\n",
    "selected_polygon = None\n",
    "manual_polygon_layer = None\n",
    "\n",
    "# Define lat_range and lon_range to avoid NameError in Section 5\n",
    "lat_range = None\n",
    "lon_range = None\n",
    "\n",
    "# Create the map\n",
    "m = Map(center=[0, 0], zoom=2, basemap=basemaps.Esri.WorldImagery, scroll_wheel_zoom=True, layout=Layout(height='600px'))\n",
    "m.add_control(LayersControl(position='topright'))\n",
    "m.add_control(FullScreenControl())\n",
    "\n",
    "# Output widget to display coordinates\n",
    "output = Output(layout={'border': '1px solid black', 'padding': '5px'})\n",
    "\n",
    "# Setup the draw control with both polygon and rectangle options\n",
    "draw_control = DrawControl(\n",
    "    rectangle={\"shapeOptions\": {\"color\": \"#0000FF\"}},\n",
    "    polygon={\"shapeOptions\": {\"color\": \"#00FF00\"}},\n",
    "    circlemarker={},\n",
    "    polyline={},\n",
    "    circle={}\n",
    ")\n",
    "m.add_control(draw_control)\n",
    "\n",
    "# Event handler for drawing shapes\n",
    "def handle_draw(target, action, geo_json):\n",
    "    global selected_polygon, lat_range, lon_range\n",
    "    output.clear_output()\n",
    "    coords = geo_json['geometry']['coordinates'][0]\n",
    "    selected_polygon = Polygon(coords)\n",
    "    # Ensure consistent ordering of coordinates (assuming lon-lat order)\n",
    "    lats, lons = zip(*[(coord[1], coord[0]) for coord in coords])\n",
    "    lat_range = (min(lats), max(lats))\n",
    "    lon_range = (min(lons), max(lons))\n",
    "    with output:\n",
    "        output.append_stdout(\"Coordinates:\\n\")\n",
    "        output.append_stdout(f\"{'Latitude':<20}{'Longitude'}\\n\")\n",
    "        for lat, lon in zip(lats, lons):\n",
    "            output.append_stdout(f\"{lat:.6f}\\t\\t{lon:.6f}\\n\")\n",
    "\n",
    "draw_control.on_draw(handle_draw)\n",
    "\n",
    "# Button to clear drawings and output\n",
    "clear_button_draw = Button(description='Clear All')\n",
    "clear_button_manual = Button(description='Clear All')\n",
    "\n",
    "# Event handler for the clear button\n",
    "def clear_all(b):\n",
    "    global selected_polygon, manual_polygon_layer, lat_range, lon_range\n",
    "    draw_control.clear()\n",
    "    output.clear_output()\n",
    "    if manual_polygon_layer:\n",
    "        m.remove_layer(manual_polygon_layer)\n",
    "    selected_polygon = None\n",
    "    manual_polygon_layer = None\n",
    "    lat_range = None\n",
    "    lon_range = None\n",
    "\n",
    "clear_button_draw.on_click(clear_all)\n",
    "clear_button_manual.on_click(clear_all)\n",
    "\n",
    "# Create input widgets for manual coordinate entry\n",
    "latitude = FloatText(description='Latitude:', layout=Layout(width='100%'))\n",
    "longitude = FloatText(description='Longitude:', layout=Layout(width='100%'))\n",
    "buffer = FloatText(description='Buffer (deg):', value=0.1, layout=Layout(width='100%'))\n",
    "update_button = Button(description='Update Map')\n",
    "\n",
    "# Function to update the map based on manual input values\n",
    "def update_map_manual(b):\n",
    "    global manual_polygon_layer, selected_polygon, lat_range, lon_range\n",
    "    output.clear_output()\n",
    "    lat = latitude.value\n",
    "    lon = longitude.value\n",
    "    buf = buffer.value\n",
    "    \n",
    "    if lat is not None and lon is not None and buf is not None:\n",
    "        bounds = [[lat - buf, lon - buf], [lat + buf, lon + buf]]\n",
    "        if manual_polygon_layer:\n",
    "            m.remove_layer(manual_polygon_layer)\n",
    "        manual_polygon_layer = Rectangle(bounds=bounds, color=\"blue\", fill_opacity=0.2, weight=2)\n",
    "        m.add_layer(manual_polygon_layer)\n",
    "        m.fit_bounds(bounds)\n",
    "        \n",
    "        selected_polygon = Polygon([(lon - buf, lat - buf), (lon + buf, lat - buf), (lon + buf, lat + buf), (lon - buf, lat + buf), (lon - buf, lat - buf)])\n",
    "        lat_range = (lat - buf, lat + buf)\n",
    "        lon_range = (lon - buf, lon + buf)\n",
    "        \n",
    "        with output:\n",
    "            output.append_stdout(\"Manual Coordinates:\\n\")\n",
    "            output.append_stdout(f\"{'Latitude':<20}{'Longitude'}\\n\")\n",
    "            output.append_stdout(f\"{lat - buf:.6f}\\t\\t{lon - buf:.6f}\\n\")\n",
    "            output.append_stdout(f\"{lat - buf:.6f}\\t\\t{lon + buf:.6f}\\n\")\n",
    "            output.append_stdout(f\"{lat + buf:.6f}\\t\\t{lon + buf:.6f}\\n\")\n",
    "            output.append_stdout(f\"{lat + buf:.6f}\\t\\t{lon - buf:.6f}\\n\")\n",
    "    else:\n",
    "        with output:\n",
    "            output.append_stdout(\"Please fill in all coordinate values.\\n\")\n",
    "\n",
    "# Connect the manual update button\n",
    "update_button.on_click(update_map_manual)\n",
    "\n",
    "# Tab widget for drawing and manual input\n",
    "draw_tab = VBox([clear_button_draw, output])\n",
    "manual_tab = VBox([latitude, longitude, buffer, update_button, clear_button_manual, output])\n",
    "\n",
    "tab = Tab()\n",
    "tab.children = [draw_tab, manual_tab]\n",
    "tab.set_title(0, 'Draw')\n",
    "tab.set_title(1, 'Manual Input')\n",
    "\n",
    "# Add the tab control to the map\n",
    "tab_control = WidgetControl(widget=tab, position='topright')\n",
    "m.add_control(tab_control)\n",
    "\n",
    "# Display the map\n",
    "display(m)\n",
    "\n"
   ]
  },
  {
   "cell_type": "markdown",
   "id": "a903ac95-332d-4535-b3d9-0d77a2b09144",
   "metadata": {},
   "source": [
    "### Selecting the time period"
   ]
  },
  {
   "cell_type": "code",
   "execution_count": 3,
   "id": "7392050f-7226-4019-aa03-8b6ac652a2bf",
   "metadata": {
    "tags": []
   },
   "outputs": [
    {
     "data": {
      "application/vnd.jupyter.widget-view+json": {
       "model_id": "2980d227fd2a404f9d48de4a481f32d6",
       "version_major": 2,
       "version_minor": 0
      },
      "text/plain": [
       "DatePicker(value=datetime.datetime(2010, 1, 1, 0, 0), description='Start Date', step=1)"
      ]
     },
     "metadata": {},
     "output_type": "display_data"
    },
    {
     "data": {
      "application/vnd.jupyter.widget-view+json": {
       "model_id": "93245535f1724fd7b3736e4e0a359767",
       "version_major": 2,
       "version_minor": 0
      },
      "text/plain": [
       "DatePicker(value=datetime.datetime(2020, 12, 31, 0, 0), description='End Date', step=1)"
      ]
     },
     "metadata": {},
     "output_type": "display_data"
    },
    {
     "name": "stdout",
     "output_type": "stream",
     "text": [
      "Selected time range: ('2010-01-01', '2020-12-31')\n"
     ]
    }
   ],
   "source": [
    "from datetime import datetime\n",
    "from IPython.display import display\n",
    "from ipywidgets import widgets\n",
    "\n",
    "# Input widgets for specifying the year range\n",
    "start_date_input = widgets.DatePicker(\n",
    "    description=\"Start Date\", value=datetime(2010, 1, 1)  # Default value (example)\n",
    ")\n",
    "\n",
    "end_date_input = widgets.DatePicker(\n",
    "    description=\"End Date\", value=datetime(2020, 12, 31)  # Default value (example)\n",
    ")\n",
    "\n",
    "# Display date pickers\n",
    "display(start_date_input, end_date_input)\n",
    "\n",
    "# Update the global variables with the selected time range\n",
    "def update_time_range(change):\n",
    "    global time_range\n",
    "    start_date = start_date_input.value\n",
    "    end_date = end_date_input.value\n",
    "    time_range = (start_date.strftime('%Y-%m-%d'), end_date.strftime('%Y-%m-%d'))\n",
    "    print(f\"Selected time range: {time_range}\")\n",
    "\n",
    "# Attach the update function to the date pickers\n",
    "start_date_input.observe(update_time_range, names='value')\n",
    "end_date_input.observe(update_time_range, names='value')\n",
    "\n",
    "# Initial call to set the time range\n",
    "update_time_range(None)\n"
   ]
  },
  {
   "cell_type": "markdown",
   "id": "20cb5f68-11fa-4605-9ecd-c01bc7e29f99",
   "metadata": {},
   "source": [
    "## Load DEA land cover data"
   ]
  },
  {
   "cell_type": "code",
   "execution_count": 6,
   "id": "ca71298c-ecc7-4c80-a4b7-e7bc8485465b",
   "metadata": {
    "tags": []
   },
   "outputs": [
    {
     "name": "stdout",
     "output_type": "stream",
     "text": [
      "Lat Range: (-23.627914, -23.567508)\n",
      "Lon Range: (150.687715, 150.757753)\n",
      "Start Date: 2010-01-01 00:00:00\n",
      "End Date: 2020-12-31 00:00:00\n",
      "Query Parameters: {'y': (-23.627914, -23.567508), 'x': (150.687715, 150.757753), 'time': (datetime.datetime(2010, 1, 1, 0, 0), datetime.datetime(2020, 12, 31, 0, 0))}\n",
      "\n",
      "Geobox Information:\n",
      "-------------------\n",
      "CRS: PROJCS[\"GDA94 / Australian Albers\",GEOGCS[\"GDA94\",DATUM[\"Geocentric_Datum_of_Australia_1994\",SPHEROID[\"GRS 1980\",6378137,298.257222101,AUTHORITY[\"EPSG\",\"7019\"]],AUTHORITY[\"EPSG\",\"6283\"]],PRIMEM[\"Greenwich\",0,AUTHORITY[\"EPSG\",\"8901\"]],UNIT[\"degree\",0.0174532925199433,AUTHORITY[\"EPSG\",\"9122\"]],AUTHORITY[\"EPSG\",\"4283\"]],PROJECTION[\"Albers_Conic_Equal_Area\"],PARAMETER[\"latitude_of_center\",0],PARAMETER[\"longitude_of_center\",132],PARAMETER[\"standard_parallel_1\",-18],PARAMETER[\"standard_parallel_2\",-36],PARAMETER[\"false_easting\",0],PARAMETER[\"false_northing\",0],UNIT[\"metre\",1,AUTHORITY[\"EPSG\",\"9001\"]],AXIS[\"Easting\",EAST],AXIS[\"Northing\",NORTH],AUTHORITY[\"EPSG\",\"3577\"]]\n",
      "Dimensions: ('y', 'x')\n",
      "Resolution: (-25.0, 25.0)\n",
      "Shape: (310, 321)\n",
      "Extent: Geometry({'type': 'Polygon', 'coordinates': (((1880700.0, -2680025.0), (1880700.0, -2687775.0), (1888725.0, -2687775.0), (1888725.0, -2680025.0), (1880700.0, -2680025.0)),)}, CRS('PROJCS[\"GDA94 / Australian Albers\",GEOGCS[\"GDA94\",DATUM[\"Geocentric_Datum_of_Australia_1994\",SPHEROID[\"GRS 1980\",6378137,298.257222101,AUTHORITY[\"EPSG\",\"7019\"]],AUTHORITY[\"EPSG\",\"6283\"]],PRIMEM[\"Greenwich\",0,AUTHORITY[\"EPSG\",\"8901\"]],UNIT[\"degree\",0.0174532925199433,AUTHORITY[\"EPSG\",\"9122\"]],AUTHORITY[\"EPSG\",\"4283\"]],PROJECTION[\"Albers_Conic_Equal_Area\"],PARAMETER[\"latitude_of_center\",0],PARAMETER[\"longitude_of_center\",132],PARAMETER[\"standard_parallel_1\",-18],PARAMETER[\"standard_parallel_2\",-36],PARAMETER[\"false_easting\",0],PARAMETER[\"false_northing\",0],UNIT[\"metre\",1,AUTHORITY[\"EPSG\",\"9001\"]],AXIS[\"Easting\",EAST],AXIS[\"Northing\",NORTH],AUTHORITY[\"EPSG\",\"3577\"]]'))\n",
      "\n",
      "Loaded data dimensions: FrozenMappingWarningOnValuesAccess({'time': 11, 'y': 310, 'x': 321})\n",
      "Loaded data variables: Data variables:\n",
      "    level3               (time, y, x) uint8 1MB 112 112 112 112 ... 216 216 112\n",
      "    lifeform             (time, y, x) uint8 1MB 1 1 2 2 1 1 1 ... 0 0 0 0 0 0 2\n",
      "    vegetation_cover     (time, y, x) uint8 1MB 15 15 15 15 15 15 ... 0 0 0 0 15\n",
      "    water_seasonality    (time, y, x) uint8 1MB 0 0 0 0 0 0 0 ... 0 0 0 0 0 0 0\n",
      "    water_state          (time, y, x) uint8 1MB 0 0 0 0 0 0 0 ... 0 0 0 0 0 0 0\n",
      "    intertidal           (time, y, x) uint8 1MB 0 0 0 0 0 0 0 ... 0 0 0 0 0 0 0\n",
      "    water_persistence    (time, y, x) uint8 1MB 0 0 0 0 0 0 0 ... 0 0 0 0 0 0 0\n",
      "    bare_gradation       (time, y, x) uint8 1MB 0 0 0 0 0 0 0 ... 0 0 0 0 0 0 0\n",
      "    full_classification  (time, y, x) uint8 1MB 30 30 35 35 30 ... 94 94 94 35\n"
     ]
    }
   ],
   "source": [
    "# Load Data from Datacube\n",
    "\n",
    "# Ensure the required variables are defined\n",
    "if lat_range is None or lon_range is None or start_date_input.value is None or end_date_input.value is None:\n",
    "    raise ValueError(\"Latitude, Longitude, or Time range is not defined\")\n",
    "\n",
    "print(\"Lat Range:\", lat_range)\n",
    "print(\"Lon Range:\", lon_range)\n",
    "print(\"Start Date:\", start_date_input.value)\n",
    "print(\"End Date:\", end_date_input.value)\n",
    "\n",
    "# Construct the query\n",
    "query = {\n",
    "    \"y\": lat_range,\n",
    "    \"x\": lon_range,\n",
    "    \"time\": (start_date_input.value, end_date_input.value),\n",
    "}\n",
    "\n",
    "print(\"Query Parameters:\", query)\n",
    "\n",
    "# Load DEA Land Cover data from the datacube\n",
    "try:\n",
    "    lc = dc.load(\n",
    "        product=\"ga_ls_landcover_class_cyear_2\",\n",
    "        output_crs=\"EPSG:3577\",\n",
    "        measurements=[\n",
    "            \"level3\",\n",
    "            \"lifeform\",\n",
    "            \"vegetation_cover\",\n",
    "            \"water_seasonality\",\n",
    "            \"water_state\",\n",
    "            \"intertidal\",\n",
    "            \"water_persistence\",\n",
    "            \"bare_gradation\",\n",
    "            \"full_classification\",\n",
    "        ],\n",
    "        resolution=(-25, 25),\n",
    "        **query\n",
    "    )\n",
    "except Exception as e:\n",
    "    raise RuntimeError(f\"Error loading data from the datacube: {e}\")\n",
    "\n",
    "# Check if the dataset is loaded correctly\n",
    "if lc is None or lc.geobox is None:\n",
    "    raise ValueError(\"Failed to load the dataset. Please check the query parameters and ensure data is available for the specified region and time range.\")\n",
    "\n",
    "# Print geobox information\n",
    "geobox = lc.geobox\n",
    "\n",
    "geobox_info = f\"\"\"\n",
    "Geobox Information:\n",
    "-------------------\n",
    "CRS: {geobox.crs}\n",
    "Dimensions: {geobox.dimensions}\n",
    "Resolution: {geobox.resolution}\n",
    "Shape: {geobox.shape}\n",
    "Extent: {geobox.extent}\n",
    "\"\"\"\n",
    "\n",
    "print(geobox_info)\n",
    "\n",
    "# Check loaded data dimensions and variables\n",
    "print(\"Loaded data dimensions:\", lc.dims)\n",
    "print(\"Loaded data variables:\", lc.data_vars)\n"
   ]
  },
  {
   "cell_type": "markdown",
   "id": "f45e77ea-e312-40aa-b264-aef677144646",
   "metadata": {},
   "source": [
    "### View the DEA land cover maps"
   ]
  },
  {
   "cell_type": "code",
   "execution_count": 7,
   "id": "58a2a208-6eda-4f3a-90d8-85c7ac328fc0",
   "metadata": {
    "tags": []
   },
   "outputs": [
    {
     "data": {
      "application/vnd.jupyter.widget-view+json": {
       "model_id": "968a9e160f2b43968815b73f496443b9",
       "version_major": 2,
       "version_minor": 0
      },
      "text/plain": [
       "HBox(children=(Checkbox(value=False, description='Level 3'), Checkbox(value=False, description='Lifeform'), Ch…"
      ]
     },
     "metadata": {},
     "output_type": "display_data"
    },
    {
     "data": {
      "application/vnd.jupyter.widget-view+json": {
       "model_id": "8c12ea1cde4b485484b29ed1f3eddaaa",
       "version_major": 2,
       "version_minor": 0
      },
      "text/plain": [
       "Button(description='Plot Selected Datasets', style=ButtonStyle())"
      ]
     },
     "metadata": {},
     "output_type": "display_data"
    },
    {
     "data": {
      "application/vnd.jupyter.widget-view+json": {
       "model_id": "d2ebbe9f52c64be7b84ff2b63a4d6ef8",
       "version_major": 2,
       "version_minor": 0
      },
      "text/plain": [
       "Output()"
      ]
     },
     "metadata": {},
     "output_type": "display_data"
    }
   ],
   "source": [
    "# Checkbox widgets for selecting datasets\n",
    "level3_checkbox = widgets.Checkbox(description='Level 3', value=False)\n",
    "lifeform_checkbox = widgets.Checkbox(description='Lifeform', value=False)\n",
    "vegetation_cover_checkbox = widgets.Checkbox(description='Vegetation Cover', value=False)\n",
    "water_state_checkbox = widgets.Checkbox(description='Water State', value=False)\n",
    "full_classification_checkbox = widgets.Checkbox(description='Full Classification', value=False)\n",
    "\n",
    "output = widgets.Output()\n",
    "\n",
    "def plot_selected_datasets():\n",
    "    with output:\n",
    "        output.clear_output()\n",
    "        selected_datasets = []\n",
    "        if level3_checkbox.value:\n",
    "            selected_datasets.append('level3')\n",
    "        if lifeform_checkbox.value:\n",
    "            selected_datasets.append('lifeform')\n",
    "        if vegetation_cover_checkbox.value:\n",
    "            selected_datasets.append('vegetation_cover')\n",
    "        if water_state_checkbox.value:\n",
    "            selected_datasets.append('water_state')\n",
    "        if full_classification_checkbox.value:\n",
    "            selected_datasets.append('full_classification')\n",
    "\n",
    "        for dataset in selected_datasets:\n",
    "            plt.figure()\n",
    "            if dataset == 'level3':\n",
    "                plot_land_cover(lc.level3)\n",
    "            elif dataset == 'lifeform':\n",
    "                plot_land_cover(lc.lifeform)\n",
    "            elif dataset == 'vegetation_cover':\n",
    "                plot_land_cover(lc.vegetation_cover)\n",
    "            elif dataset == 'water_state':\n",
    "                plot_land_cover(lc.water_state)\n",
    "            elif dataset == 'full_classification':\n",
    "                plot_land_cover(lc.full_classification)\n",
    "            plt.show()\n",
    "\n",
    "plot_datasets_button = widgets.Button(description='Plot Selected Datasets')\n",
    "plot_datasets_button.on_click(lambda b: plot_selected_datasets())\n",
    "\n",
    "checkboxes_box = widgets.HBox([\n",
    "    level3_checkbox, \n",
    "    lifeform_checkbox, \n",
    "    vegetation_cover_checkbox, \n",
    "    water_state_checkbox, \n",
    "    full_classification_checkbox\n",
    "])\n",
    "display(checkboxes_box)\n",
    "display(plot_datasets_button)\n",
    "display(output)\n"
   ]
  },
  {
   "cell_type": "markdown",
   "id": "03acea8e-b239-4fe4-a1f2-709f813c022e",
   "metadata": {},
   "source": [
    "## Bring in the matrix of impacts and pressures\n",
    "Load up the matrix and select vegetation extent loss (bushfire)"
   ]
  },
  {
   "cell_type": "code",
   "execution_count": 8,
   "id": "52bf4e72-2300-4679-8257-ba48ee950aae",
   "metadata": {
    "tags": []
   },
   "outputs": [
    {
     "data": {
      "application/vnd.jupyter.widget-view+json": {
       "model_id": "b06474b5d9874269a675544e940357d2",
       "version_major": 2,
       "version_minor": 0
      },
      "text/plain": [
       "VBox(children=(Dropdown(description='Impact:', options=(('Accretion (1)', 'Accretion (1)'), ('Algal bloom (2)'…"
      ]
     },
     "metadata": {},
     "output_type": "display_data"
    }
   ],
   "source": [
    "import pandas as pd\n",
    "import ipywidgets as widgets\n",
    "from IPython.display import display, HTML\n",
    "\n",
    "# Load the dataset from the specified relative path\n",
    "file_path = './gct/Impacts and pressures.xlsx'\n",
    "df = pd.read_excel(file_path)\n",
    "\n",
    "# Replace NaN values in 'Impact_ID' and 'Pressure_ID' columns with zeros\n",
    "df['Impact_ID'] = df['Impact_ID'].fillna(0)\n",
    "df['Pressure_ID'] = df['Pressure_ID'].fillna(0)\n",
    "\n",
    "# Make sure that the IDs are integers to avoid the decimal point in the display\n",
    "df['Impact_ID'] = df['Impact_ID'].astype(int)\n",
    "df['Pressure_ID'] = df['Pressure_ID'].astype(int)\n",
    "\n",
    "# Map each impact with its ID to pressures with their IDs\n",
    "impact_to_pressures = {\n",
    "    f\"{row['Impacts']} ({row['Impact_ID']})\": df[\n",
    "        (df['Impacts'] == row['Impacts']) & \n",
    "        (df['Impact_ID'] == row['Impact_ID'])\n",
    "    ][['Pressures', 'Pressure_ID']].apply(\n",
    "        lambda x: f\"{x['Pressures']} ({x['Pressure_ID']})\", axis=1).unique().tolist()\n",
    "    for _, row in df.drop_duplicates(subset=['Impacts', 'Impact_ID']).iterrows()\n",
    "}\n",
    "\n",
    "# Create a dictionary to map each identifier to its associated evidence with values\n",
    "identifier_to_evidence = {}\n",
    "\n",
    "# Define evidence groups\n",
    "time_columns = ['TimeO_Ev', 'TimeL_Ev', 'TimeM_Ev', 'TimeD_Ev', 'Space_Ev']\n",
    "level3_columns = ['Level3a_Ev', 'Level3b_Ev', 'Level3c_Ev', 'Level3d_Ev', 'Level3e_Ev', 'Level3f_Ev', 'Level3g_Ev']\n",
    "lifeform_columns = ['Lifeforma_Ev', 'Lifeformb_Ev', 'Lifeformc_Ev', 'Lifeformd_Ev']\n",
    "water_columns = ['Waterpera_Ev', 'Waterperb_Ev', 'Waterperc_Ev', 'Waterperd_Ev', 'Waterpere_Ev', 'Waterperf_Ev']\n",
    "biomass_columns = ['AGB_Ev', 'AGBSD_Ev']\n",
    "individual_columns = ['Canopycoa_Ev', 'Fire presence', 'Turbidity']\n",
    "\n",
    "# Function to clean and convert values to integers\n",
    "def clean_value(value):\n",
    "    try:\n",
    "        return int(float(value))\n",
    "    except (ValueError, TypeError):\n",
    "        return None\n",
    "\n",
    "for _, row in df.iterrows():\n",
    "    identifier = row['Impact_ID'] * 1000 + row['Pressure_ID']\n",
    "    \n",
    "    evidence_with_values = {\n",
    "        'IP_UID': row['IP_UID'],\n",
    "        'ID_Colour': row['ID_Colour']\n",
    "    }\n",
    "    \n",
    "    # Collect Time Evidence\n",
    "    evidence_with_values['Time_Evidence'] = []\n",
    "    for col in time_columns:\n",
    "        value = clean_value(row[col])\n",
    "        if value is not None:\n",
    "            evidence_with_values['Time_Evidence'].append((col, value))\n",
    "    \n",
    "    # Collect Level3 Evidence\n",
    "    evidence_with_values['Level3_Evidence'] = []\n",
    "    for col in level3_columns:\n",
    "        value = clean_value(row[col])\n",
    "        if value is not None:\n",
    "            evidence_with_values['Level3_Evidence'].append((col, value))\n",
    "    \n",
    "    # Collect Lifeform Evidence\n",
    "    evidence_with_values['Lifeform_Evidence'] = []\n",
    "    for col in lifeform_columns:\n",
    "        value = clean_value(row[col])\n",
    "        if value is not None:\n",
    "            evidence_with_values['Lifeform_Evidence'].append((col, value))\n",
    "    \n",
    "    # Collect Water Evidence\n",
    "    evidence_with_values['Water_Evidence'] = []\n",
    "    for col in water_columns:\n",
    "        value = clean_value(row[col])\n",
    "        if value is not None:\n",
    "            evidence_with_values['Water_Evidence'].append((col, value))\n",
    "    \n",
    "    # Collect Biomass Evidence\n",
    "    evidence_with_values['Biomass_Evidence'] = []\n",
    "    for col in biomass_columns:\n",
    "        value = clean_value(row[col])\n",
    "        if value is not None:\n",
    "            evidence_with_values['Biomass_Evidence'].append((col, value))\n",
    "    \n",
    "    # Collect Individual Evidence\n",
    "    evidence_with_values['Individual_Evidence'] = []\n",
    "    for col in individual_columns:\n",
    "        value = clean_value(row[col])\n",
    "        if value is not None:\n",
    "            evidence_with_values['Individual_Evidence'].append((col, value))\n",
    "    \n",
    "    identifier_to_evidence[identifier] = evidence_with_values\n",
    "\n",
    "# Create the dropdown widgets for impacts and pressures with IDs\n",
    "impact_dropdown = widgets.Dropdown(\n",
    "    options=[(impact, impact) for impact in impact_to_pressures.keys()],\n",
    "    description='Impact:',\n",
    "    value=None  # Start without a selection\n",
    ")\n",
    "\n",
    "pressure_dropdown = widgets.Dropdown(\n",
    "    options=[('Please select an Impact first', '')],\n",
    "    description='Pressure:',\n",
    "    value=None  # Start without a selection\n",
    ")\n",
    "\n",
    "# Define the output widget for displaying the calculation result and evidence\n",
    "output = widgets.Output()\n",
    "\n",
    "# Define the function to update pressure dropdown based on selected impact\n",
    "def on_impact_change(change):\n",
    "    if change['new']:\n",
    "        selected_impact = change['new']\n",
    "        pressures = impact_to_pressures.get(selected_impact, [])\n",
    "        pressure_dropdown.options = [(p, p) for p in pressures]\n",
    "    else:\n",
    "        pressure_dropdown.options = [('Please select an Impact first', '')]\n",
    "\n",
    "# Define the function to display the selected impact and pressure\n",
    "def display_selection(impact, pressure):\n",
    "    with output:\n",
    "        output.clear_output()\n",
    "        if impact and pressure:\n",
    "            impact_id = int(impact.split('(')[1].split(')')[0])\n",
    "            pressure_id = int(pressure.split('(')[1].split(')')[0])\n",
    "            identifier = impact_id * 1000 + pressure_id\n",
    "\n",
    "            display(HTML(f'<strong>Selected Impact:</strong> {impact}'))\n",
    "            display(HTML(f'<strong>Selected Pressure:</strong> {pressure}'))\n",
    "            display(HTML(f'<strong>Identifier:</strong> {identifier}'))\n",
    "            \n",
    "            if identifier in identifier_to_evidence:\n",
    "                evidence = identifier_to_evidence[identifier]\n",
    "                display(HTML(f'<strong>IP_UID:</strong> {evidence[\"IP_UID\"]}'))\n",
    "                display(HTML(f'<strong>ID_Colour:</strong> {evidence[\"ID_Colour\"]}'))\n",
    "                display(HTML('<strong>Evidence:</strong>'))\n",
    "                for group, values in evidence.items():\n",
    "                    if group not in ['IP_UID', 'ID_Colour'] and values:\n",
    "                        display(HTML(f'<strong>{group.replace(\"_\", \" \")}:</strong>'))\n",
    "                        for evidence_name, value in values:\n",
    "                            display(HTML(f'- {evidence_name}: {value}'))\n",
    "        elif impact:\n",
    "            display(HTML(f'<strong>Selected Impact:</strong> {impact}'))\n",
    "            display(HTML('<strong>Please select a pressure.</strong>'))\n",
    "        else:\n",
    "            display(HTML('<strong>Please select an impact.</strong>'))\n",
    "\n",
    "# Set up observation for changes in the impact dropdown\n",
    "impact_dropdown.observe(on_impact_change, names='value')\n",
    "\n",
    "# Set up interaction to display selections\n",
    "widgets.interactive(display_selection, impact=impact_dropdown, pressure=pressure_dropdown)\n",
    "\n",
    "# Arrange the widgets and the output display\n",
    "display(widgets.VBox([impact_dropdown, pressure_dropdown, output]))\n"
   ]
  }
 ],
 "metadata": {
  "kernelspec": {
   "display_name": "Python 3 (ipykernel)",
   "language": "python",
   "name": "python3"
  },
  "language_info": {
   "codemirror_mode": {
    "name": "ipython",
    "version": 3
   },
   "file_extension": ".py",
   "mimetype": "text/x-python",
   "name": "python",
   "nbconvert_exporter": "python",
   "pygments_lexer": "ipython3",
   "version": "3.10.13"
  }
 },
 "nbformat": 4,
 "nbformat_minor": 5
}
