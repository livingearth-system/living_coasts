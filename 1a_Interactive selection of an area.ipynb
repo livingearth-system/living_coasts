{
 "cells": [
  {
   "cell_type": "markdown",
   "id": "95779782-ed74-4dda-b4d2-a3c7f68dcfa8",
   "metadata": {
    "tags": []
   },
   "source": [
    "# Living Coasts Information and Training <img align=\"right\" src=\"../Supplementary_data/dea_logo.jpg\">\n",
    "\n",
    "* [**Sign up to the DEA Sandbox**](https://docs.dea.ga.gov.au/setup/sandbox.html) to run this notebook interactively from a browser\n",
    "* **Compatibility:** Notebook currently compatible with the `DEA Sandbox` environment\n",
    "* **Products used:** \n",
    "[ga_ls_landcover_class_cyear_2](https://explorer.sandbox.dea.ga.gov.au/ga_ls_landcover_class_cyear_2)\n"
   ]
  },
  {
   "cell_type": "markdown",
   "id": "fed1bdca-3907-43cb-a46b-af2e6f502b92",
   "metadata": {},
   "source": [
    "## Selection of an area of interest using an interactive map"
   ]
  },
  {
   "cell_type": "markdown",
   "id": "208f2fc5-6592-4b77-bdfb-039a41d67ed2",
   "metadata": {},
   "source": [
    "Through Geoscience Australia's (GA) Digital Earth Australia (DEA) Land Cover, land cover maps have been generated for 34 years (1988 to 2020) from environmental descriptors retrieved or classified entirely from Landsat sensor data and according to the Food and Agriculture Organisation (FAO) Land Cover Classification System (Version 2).  The spatial resolution of the mapping is 25 m \n",
    "(see DEA Land Cover) at https://cmi.ga.gov.au/data-products/dea/607/dea-land-cover-landsat)\n",
    "\n",
    "This notebooks allows you to use an interactive map to load up an area of land cover and other environmental descriptors for a selected time-period.  "
   ]
  },
  {
   "cell_type": "markdown",
   "id": "281ca773-7ec5-4e50-b006-c7ab45c29623",
   "metadata": {
    "tags": []
   },
   "source": [
    "## Description \n",
    "\n",
    "The notebook will demonstrate how you can interrogate and interactive map to load up an area of the Digital Earth Australia (DEA) land cover map and environmental descriptors used in their construction and description.   \n",
    "\n",
    "The notebooks take you through the process of:\n",
    "\n",
    "1. Identifying an area interactively using a rectangle or polygon drawn freehand. \n",
    "2. Displaying the Level 3 land cover maps and environmental descriptors of lifeform, canopy cover, water persistence and water seasonality.  \n",
    "\n",
    "If you are new to DEA Land Cover, it is recommended you look at the introductory [DEA Land Cover notebook](../DEA_datasets/DEA_Land_Cover.ipynb) first. \n",
    "\n",
    "***"
   ]
  },
  {
   "cell_type": "code",
   "execution_count": 1,
   "id": "1faf60f3-3674-4193-96e8-8439339b9dec",
   "metadata": {
    "tags": []
   },
   "outputs": [
    {
     "name": "stdout",
     "output_type": "stream",
     "text": [
      "Requirement already satisfied: openpyxl in /env/lib/python3.10/site-packages (3.1.5)\n",
      "Requirement already satisfied: et-xmlfile in /env/lib/python3.10/site-packages (from openpyxl) (1.1.0)\n"
     ]
    }
   ],
   "source": [
    "# Initial imports and setup\n",
    "import sys\n",
    "import os, re\n",
    "import datacube\n",
    "import datetime as dt\n",
    "import geopandas as gpd\n",
    "import numpy as np\n",
    "import matplotlib.pyplot as plt\n",
    "import matplotlib.colors as colors\n",
    "import matplotlib.colors\n",
    "import matplotlib as mpl\n",
    "import cmocean # for intertidal products\n",
    "import odc.geo.xr # RML\n",
    "import pandas as pd\n",
    "import rioxarray\n",
    "import warnings\n",
    "import xarray as xr\n",
    "\n",
    "#from dea_tools.landcover import lc_colourmap, make_colorbar, plot_land_cover\n",
    "from dea_tools.plotting import display_map, rgb, xr_animation # Added xr_animation RML\n",
    "\n",
    "from datacube.testutils.io import rio_slurp_xarray\n",
    "from datacube.utils.cog import write_cog\n",
    "from datacube.utils.masking import mask_invalid_data\n",
    "from datacube.utils.geometry import Geometry\n",
    "from datetime import datetime, timedelta\n",
    "from ipyleaflet import DrawControl, FullScreenControl, LayersControl, Map, Rectangle, WidgetControl, basemaps # Added rectangle RML\n",
    "from ipywidgets import Button, Dropdown, FloatText, GridspecLayout, Layout, HBox, VBox, Output, Tab, interact, widgets\n",
    "from IPython.display import HTML, display\n",
    "from IPython.core.display import Video\n",
    "from pyproj import Proj, transform\n",
    "from shapely.geometry import Polygon\n",
    "from shapely.geometry.polygon import LinearRing\n",
    "from time import time\n",
    "warnings.filterwarnings(\"ignore\")\n",
    "\n",
    "# Setup paths and Datacube instance\n",
    "#import sys\n",
    "#sys.path.insert(1, \"/home/Tools\")\n",
    "\n",
    "dc = datacube.Datacube()\n",
    "time_range = None\n",
    "\n",
    "sys.path.append(\"../Working\")\n",
    "import display_tools\n",
    "from display_tools import display_da\n",
    "from landcover import lc_colourmap, make_colorbar, plot_land_cover\n",
    "\n",
    "# Ensure openpyxl is installed\n",
    "!pip install openpyxl\n"
   ]
  },
  {
   "cell_type": "markdown",
   "id": "914dbb03-e443-454b-9a7d-0d019386f5a1",
   "metadata": {},
   "source": [
    "## Section 2 Select your area of interest"
   ]
  },
  {
   "cell_type": "code",
   "execution_count": 2,
   "id": "c163a537-89f4-4de9-b2a4-a25ad4f2a86c",
   "metadata": {
    "tags": []
   },
   "outputs": [
    {
     "data": {
      "application/vnd.jupyter.widget-view+json": {
       "model_id": "1cd0907bec654a229e716b26c7a7ccff",
       "version_major": 2,
       "version_minor": 0
      },
      "text/plain": [
       "Map(center=[0, 0], controls=(ZoomControl(options=['position', 'zoom_in_text', 'zoom_in_title', 'zoom_out_text'…"
      ]
     },
     "metadata": {},
     "output_type": "display_data"
    }
   ],
   "source": [
    "# Initialize global variables to store the selected polygon\n",
    "selected_polygon = None\n",
    "manual_polygon_layer = None\n",
    "\n",
    "# Define lat_range and lon_range to avoid NameError in Section 5\n",
    "lat_range = None\n",
    "lon_range = None\n",
    "\n",
    "# Create the map\n",
    "m = Map(center=[0, 0], zoom=2, basemap=basemaps.Esri.WorldImagery, scroll_wheel_zoom=True, layout=Layout(height='600px'))\n",
    "m.add_control(LayersControl(position='topright'))\n",
    "m.add_control(FullScreenControl())\n",
    "\n",
    "# Output widget to display coordinates\n",
    "output = Output(layout={'border': '1px solid black', 'padding': '5px'})\n",
    "\n",
    "# Setup the draw control with both polygon and rectangle options\n",
    "draw_control = DrawControl(\n",
    "    rectangle={\"shapeOptions\": {\"color\": \"#0000FF\"}},\n",
    "    polygon={\"shapeOptions\": {\"color\": \"#00FF00\"}},\n",
    "    circlemarker={},\n",
    "    polyline={},\n",
    "    circle={}\n",
    ")\n",
    "m.add_control(draw_control)\n",
    "\n",
    "# Event handler for drawing shapes\n",
    "def handle_draw(target, action, geo_json):\n",
    "    global selected_polygon, lat_range, lon_range\n",
    "    output.clear_output()\n",
    "    coords = geo_json['geometry']['coordinates'][0]\n",
    "    selected_polygon = Polygon(coords)\n",
    "    # Ensure consistent ordering of coordinates (assuming lon-lat order)\n",
    "    lats, lons = zip(*[(coord[1], coord[0]) for coord in coords])\n",
    "    lat_range = (min(lats), max(lats))\n",
    "    lon_range = (min(lons), max(lons))\n",
    "    with output:\n",
    "        output.append_stdout(\"Coordinates:\\n\")\n",
    "        output.append_stdout(f\"{'Latitude':<20}{'Longitude'}\\n\")\n",
    "        for lat, lon in zip(lats, lons):\n",
    "            output.append_stdout(f\"{lat:.6f}\\t\\t{lon:.6f}\\n\")\n",
    "\n",
    "draw_control.on_draw(handle_draw)\n",
    "\n",
    "# Button to clear drawings and output\n",
    "clear_button_draw = Button(description='Clear All')\n",
    "clear_button_manual = Button(description='Clear All')\n",
    "\n",
    "# Event handler for the clear button\n",
    "def clear_all(b):\n",
    "    global selected_polygon, manual_polygon_layer, lat_range, lon_range\n",
    "    draw_control.clear()\n",
    "    output.clear_output()\n",
    "    if manual_polygon_layer:\n",
    "        m.remove_layer(manual_polygon_layer)\n",
    "    selected_polygon = None\n",
    "    manual_polygon_layer = None\n",
    "    lat_range = None\n",
    "    lon_range = None\n",
    "\n",
    "clear_button_draw.on_click(clear_all)\n",
    "clear_button_manual.on_click(clear_all)\n",
    "\n",
    "# Create input widgets for manual coordinate entry\n",
    "latitude = FloatText(description='Latitude:', layout=Layout(width='100%'))\n",
    "longitude = FloatText(description='Longitude:', layout=Layout(width='100%'))\n",
    "buffer = FloatText(description='Buffer (deg):', value=0.1, layout=Layout(width='100%'))\n",
    "update_button = Button(description='Update Map')\n",
    "\n",
    "# Function to update the map based on manual input values\n",
    "def update_map_manual(b):\n",
    "    global manual_polygon_layer, selected_polygon, lat_range, lon_range\n",
    "    output.clear_output()\n",
    "    lat = latitude.value\n",
    "    lon = longitude.value\n",
    "    buf = buffer.value\n",
    "    \n",
    "    if lat is not None and lon is not None and buf is not None:\n",
    "        bounds = [[lat - buf, lon - buf], [lat + buf, lon + buf]]\n",
    "        if manual_polygon_layer:\n",
    "            m.remove_layer(manual_polygon_layer)\n",
    "        manual_polygon_layer = Rectangle(bounds=bounds, color=\"blue\", fill_opacity=0.2, weight=2)\n",
    "        m.add_layer(manual_polygon_layer)\n",
    "        m.fit_bounds(bounds)\n",
    "        \n",
    "        selected_polygon = Polygon([(lon - buf, lat - buf), (lon + buf, lat - buf), (lon + buf, lat + buf), (lon - buf, lat + buf), (lon - buf, lat - buf)])\n",
    "        lat_range = (lat - buf, lat + buf)\n",
    "        lon_range = (lon - buf, lon + buf)\n",
    "        \n",
    "        with output:\n",
    "            output.append_stdout(\"Manual Coordinates:\\n\")\n",
    "            output.append_stdout(f\"{'Latitude':<20}{'Longitude'}\\n\")\n",
    "            output.append_stdout(f\"{lat - buf:.6f}\\t\\t{lon - buf:.6f}\\n\")\n",
    "            output.append_stdout(f\"{lat - buf:.6f}\\t\\t{lon + buf:.6f}\\n\")\n",
    "            output.append_stdout(f\"{lat + buf:.6f}\\t\\t{lon + buf:.6f}\\n\")\n",
    "            output.append_stdout(f\"{lat + buf:.6f}\\t\\t{lon - buf:.6f}\\n\")\n",
    "    else:\n",
    "        with output:\n",
    "            output.append_stdout(\"Please fill in all coordinate values.\\n\")\n",
    "\n",
    "# Connect the manual update button\n",
    "update_button.on_click(update_map_manual)\n",
    "\n",
    "# Tab widget for drawing and manual input\n",
    "draw_tab = VBox([clear_button_draw, output])\n",
    "manual_tab = VBox([latitude, longitude, buffer, update_button, clear_button_manual, output])\n",
    "\n",
    "tab = Tab()\n",
    "tab.children = [draw_tab, manual_tab]\n",
    "tab.set_title(0, 'Draw')\n",
    "tab.set_title(1, 'Manual Input')\n",
    "\n",
    "# Add the tab control to the map\n",
    "tab_control = WidgetControl(widget=tab, position='topright')\n",
    "m.add_control(tab_control)\n",
    "\n",
    "# Display the map\n",
    "display(m)\n",
    "\n"
   ]
  },
  {
   "cell_type": "markdown",
   "id": "dc8d041f-e503-430a-978a-d4dc1e7aef4a",
   "metadata": {},
   "source": [
    "## Section 3 Confirm the area selected"
   ]
  },
  {
   "cell_type": "code",
   "execution_count": 3,
   "id": "5d74c5b9-8c3b-4aa9-a3af-9ad62a7cdbb7",
   "metadata": {
    "tags": []
   },
   "outputs": [
    {
     "name": "stdout",
     "output_type": "stream",
     "text": [
      "The drawn shape was used for selection.\n",
      "The geopolygon of interest is the following one; \n",
      "POLYGON ((153.12742 -24.72936, 153.329294 -25.112949, 153.403451 -25.078126, 153.172739 -24.686943, 153.12742 -24.72936))\n",
      "\n",
      "Selected Polygon Coordinates:\n",
      "Latitude: -24.72936, Longitude: 153.12742\n",
      "Latitude: -25.112949, Longitude: 153.329294\n",
      "Latitude: -25.078126, Longitude: 153.403451\n",
      "Latitude: -24.686943, Longitude: 153.172739\n",
      "Latitude: -24.72936, Longitude: 153.12742\n",
      "\n",
      "UTM Coordinates:\n",
      "UTM X: 4986234.795898268, UTM Y: -16478998.320679815\n",
      "UTM X: 4943425.40090314, UTM Y: -16438121.042749507\n",
      "UTM X: 4936368.825290224, UTM Y: -16445956.98961529\n",
      "UTM X: 4982911.949522592, UTM Y: -16486561.62298945\n",
      "UTM X: 4986234.795898268, UTM Y: -16478998.320679815\n"
     ]
    },
    {
     "data": {
      "image/png": "[encoded data removed]",
      "text/plain": [
       "<Figure size 640x480 with 1 Axes>"
      ]
     },
     "metadata": {},
     "output_type": "display_data"
    }
   ],
   "source": [
    "import matplotlib.pyplot as plt\n",
    "from pyproj import Proj\n",
    "from shapely.geometry.polygon import LinearRing\n",
    "\n",
    "# Function to convert latitude and longitude to UTM coordinates\n",
    "def latlon_to_utm(lat, lon):\n",
    "    utm_proj = Proj(proj=\"utm\", zone=33, datum=\"WGS84\")  # Change zone as needed\n",
    "    utm_x, utm_y = utm_proj(lon, lat)\n",
    "    return utm_x, utm_y\n",
    "\n",
    "# Function to display the selected coordinates, UTM coordinates, and visualize the polygon\n",
    "def display_selected_coordinates(selected_polygon):\n",
    "    if selected_polygon is not None:\n",
    "        coords = selected_polygon.exterior.coords\n",
    "        utm_coords = [latlon_to_utm(lat, lon) for lon, lat in coords]\n",
    "\n",
    "        print(\"The drawn shape was used for selection.\")\n",
    "        print(\"The geopolygon of interest is the following one; \")\n",
    "        print(selected_polygon)\n",
    "\n",
    "        print(\"\\nSelected Polygon Coordinates:\")\n",
    "        for lon, lat in coords:\n",
    "            print(f\"Latitude: {lat}, Longitude: {lon}\")\n",
    "\n",
    "        print(\"\\nUTM Coordinates:\")\n",
    "        for utm_x, utm_y in utm_coords:\n",
    "            print(f\"UTM X: {utm_x}, UTM Y: {utm_y}\")\n",
    "\n",
    "        # Visualize the selected polygon\n",
    "        ring = LinearRing(coords)\n",
    "        fig, ax = plt.subplots()\n",
    "        ax.plot(*ring.xy, color=\"blue\")\n",
    "        ax.set_title(\"Selected Polygon\")\n",
    "        plt.show()\n",
    "    else:\n",
    "        print(\"No polygon selected\")\n",
    "\n",
    "# Call the function to display the coordinates and visualize the polygon\n",
    "# Assuming you have the selected polygon stored in a variable named 'selected_polygon'\n",
    "display_selected_coordinates(selected_polygon)\n"
   ]
  },
  {
   "cell_type": "markdown",
   "id": "a903ac95-332d-4535-b3d9-0d77a2b09144",
   "metadata": {},
   "source": [
    "## Section 4:  Select a time period"
   ]
  },
  {
   "cell_type": "code",
   "execution_count": 4,
   "id": "7392050f-7226-4019-aa03-8b6ac652a2bf",
   "metadata": {
    "tags": []
   },
   "outputs": [
    {
     "data": {
      "application/vnd.jupyter.widget-view+json": {
       "model_id": "c08cbc6d727b429d85f68d6959163ff5",
       "version_major": 2,
       "version_minor": 0
      },
      "text/plain": [
       "DatePicker(value=datetime.datetime(2010, 1, 1, 0, 0), description='Start Date', step=1)"
      ]
     },
     "metadata": {},
     "output_type": "display_data"
    },
    {
     "data": {
      "application/vnd.jupyter.widget-view+json": {
       "model_id": "4cedbffd9c774b70a434ab179e6d581c",
       "version_major": 2,
       "version_minor": 0
      },
      "text/plain": [
       "DatePicker(value=datetime.datetime(2020, 12, 31, 0, 0), description='End Date', step=1)"
      ]
     },
     "metadata": {},
     "output_type": "display_data"
    },
    {
     "name": "stdout",
     "output_type": "stream",
     "text": [
      "Selected time range: ('2010-01-01', '2020-12-31')\n"
     ]
    }
   ],
   "source": [
    "from datetime import datetime\n",
    "from IPython.display import display\n",
    "from ipywidgets import widgets\n",
    "\n",
    "# Input widgets for specifying the year range\n",
    "start_date_input = widgets.DatePicker(\n",
    "    description=\"Start Date\", value=datetime(2010, 1, 1)  # Default value (example)\n",
    ")\n",
    "\n",
    "end_date_input = widgets.DatePicker(\n",
    "    description=\"End Date\", value=datetime(2020, 12, 31)  # Default value (example)\n",
    ")\n",
    "\n",
    "# Display date pickers\n",
    "display(start_date_input, end_date_input)\n",
    "\n",
    "# Update the global variables with the selected time range\n",
    "def update_time_range(change):\n",
    "    global time_range\n",
    "    start_date = start_date_input.value\n",
    "    end_date = end_date_input.value\n",
    "    time_range = (start_date.strftime('%Y-%m-%d'), end_date.strftime('%Y-%m-%d'))\n",
    "    print(f\"Selected time range: {time_range}\")\n",
    "\n",
    "# Attach the update function to the date pickers\n",
    "start_date_input.observe(update_time_range, names='value')\n",
    "end_date_input.observe(update_time_range, names='value')\n",
    "\n",
    "# Initial call to set the time range\n",
    "update_time_range(None)\n"
   ]
  },
  {
   "cell_type": "markdown",
   "id": "20cb5f68-11fa-4605-9ecd-c01bc7e29f99",
   "metadata": {},
   "source": [
    "## Section 5 - Load land cover data from datacube"
   ]
  },
  {
   "cell_type": "markdown",
   "id": "d989a2e1-240a-40d3-aeab-61a97b4e4f8b",
   "metadata": {},
   "source": [
    "#### DEA Land cover"
   ]
  },
  {
   "cell_type": "code",
   "execution_count": 5,
   "id": "3e3e2d6d-47a4-45a5-8b1f-d76e2e82a108",
   "metadata": {
    "tags": []
   },
   "outputs": [
    {
     "name": "stdout",
     "output_type": "stream",
     "text": [
      "Lat Range: (-25.112949, -24.686943)\n",
      "Lon Range: (153.12742, 153.403451)\n",
      "Start Date: 2010-01-01 00:00:00\n",
      "End Date: 2020-12-31 00:00:00\n",
      "Query Parameters: {'y': (-25.112949, -24.686943), 'x': (153.12742, 153.403451), 'time': (datetime.datetime(2010, 1, 1, 0, 0), datetime.datetime(2020, 12, 31, 0, 0))}\n",
      "Data loaded successfully.\n",
      "\n",
      "Geobox Information:\n",
      "-------------------\n",
      "CRS: PROJCS[\"GDA94 / Australian Albers\",GEOGCS[\"GDA94\",DATUM[\"Geocentric_Datum_of_Australia_1994\",SPHEROID[\"GRS 1980\",6378137,298.257222101,AUTHORITY[\"EPSG\",\"7019\"]],AUTHORITY[\"EPSG\",\"6283\"]],PRIMEM[\"Greenwich\",0,AUTHORITY[\"EPSG\",\"8901\"]],UNIT[\"degree\",0.0174532925199433,AUTHORITY[\"EPSG\",\"9122\"]],AUTHORITY[\"EPSG\",\"4283\"]],PROJECTION[\"Albers_Conic_Equal_Area\"],PARAMETER[\"latitude_of_center\",0],PARAMETER[\"longitude_of_center\",132],PARAMETER[\"standard_parallel_1\",-18],PARAMETER[\"standard_parallel_2\",-36],PARAMETER[\"false_easting\",0],PARAMETER[\"false_northing\",0],UNIT[\"metre\",1,AUTHORITY[\"EPSG\",\"9001\"]],AXIS[\"Easting\",EAST],AXIS[\"Northing\",NORTH],AUTHORITY[\"EPSG\",\"3577\"]]\n",
      "Dimensions: ('y', 'x')\n",
      "Resolution: (-25.0, 25.0)\n",
      "Shape: (2067, 1405)\n",
      "Extent: Geometry({'type': 'Polygon', 'coordinates': (((2096750.0, -2841900.0), (2096750.0, -2893575.0), (2131875.0, -2893575.0), (2131875.0, -2841900.0), (2096750.0, -2841900.0)),)}, CRS('PROJCS[\"GDA94 / Australian Albers\",GEOGCS[\"GDA94\",DATUM[\"Geocentric_Datum_of_Australia_1994\",SPHEROID[\"GRS 1980\",6378137,298.257222101,AUTHORITY[\"EPSG\",\"7019\"]],AUTHORITY[\"EPSG\",\"6283\"]],PRIMEM[\"Greenwich\",0,AUTHORITY[\"EPSG\",\"8901\"]],UNIT[\"degree\",0.0174532925199433,AUTHORITY[\"EPSG\",\"9122\"]],AUTHORITY[\"EPSG\",\"4283\"]],PROJECTION[\"Albers_Conic_Equal_Area\"],PARAMETER[\"latitude_of_center\",0],PARAMETER[\"longitude_of_center\",132],PARAMETER[\"standard_parallel_1\",-18],PARAMETER[\"standard_parallel_2\",-36],PARAMETER[\"false_easting\",0],PARAMETER[\"false_northing\",0],UNIT[\"metre\",1,AUTHORITY[\"EPSG\",\"9001\"]],AXIS[\"Easting\",EAST],AXIS[\"Northing\",NORTH],AUTHORITY[\"EPSG\",\"3577\"]]'))\n",
      "\n",
      "Loaded data dimensions: FrozenMappingWarningOnValuesAccess({'time': 11, 'y': 2067, 'x': 1405})\n",
      "Loaded data variables: Data variables:\n",
      "    level3               (time, y, x) uint8 32MB 220 220 220 220 ... 220 220 220\n",
      "    lifeform             (time, y, x) uint8 32MB 0 0 0 0 0 0 0 ... 0 0 0 0 0 0 0\n",
      "    vegetation_cover     (time, y, x) uint8 32MB 0 0 0 0 0 0 0 ... 0 0 0 0 0 0 0\n",
      "    water_seasonality    (time, y, x) uint8 32MB 0 0 0 0 0 0 0 ... 0 0 0 0 0 0 0\n",
      "    water_state          (time, y, x) uint8 32MB 1 1 1 1 1 1 1 ... 1 1 1 1 1 1 1\n",
      "    intertidal           (time, y, x) uint8 32MB 0 0 0 0 0 0 0 ... 0 0 0 0 0 0 0\n",
      "    water_persistence    (time, y, x) uint8 32MB 1 1 1 1 1 1 1 ... 1 1 1 1 1 1 1\n",
      "    bare_gradation       (time, y, x) uint8 32MB 0 0 0 0 0 0 0 ... 0 0 0 0 0 0 0\n",
      "    full_classification  (time, y, x) uint8 32MB 101 101 101 101 ... 101 101 101\n"
     ]
    }
   ],
   "source": [
    "# Section 5: Load Data from Datacube\n",
    "\n",
    "# Step 1: Check if required variables are defined\n",
    "if lat_range is None or lon_range is None or start_date_input.value is None or end_date_input.value is None:\n",
    "    raise ValueError(\"Latitude, Longitude, or Time range is not defined\")\n",
    "\n",
    "print(\"Lat Range:\", lat_range)\n",
    "print(\"Lon Range:\", lon_range)\n",
    "print(\"Start Date:\", start_date_input.value)\n",
    "print(\"End Date:\", end_date_input.value)\n",
    "\n",
    "# Step 2: Construct the query\n",
    "query = {\n",
    "    \"y\": lat_range,\n",
    "    \"x\": lon_range,\n",
    "    \"time\": (start_date_input.value, end_date_input.value),\n",
    "}\n",
    "\n",
    "print(\"Query Parameters:\", query)\n",
    "\n",
    "# Step 3: Load DEA Land Cover data from the datacube\n",
    "try:\n",
    "    lc = dc.load(\n",
    "        product=\"ga_ls_landcover_class_cyear_2\",\n",
    "        output_crs=\"EPSG:3577\",\n",
    "        measurements=[\n",
    "            \"level3\",\n",
    "            \"lifeform\",\n",
    "            \"vegetation_cover\",\n",
    "            \"water_seasonality\",\n",
    "            \"water_state\",\n",
    "            \"intertidal\",\n",
    "            \"water_persistence\",\n",
    "            \"bare_gradation\",\n",
    "            \"full_classification\",\n",
    "        ],\n",
    "        resolution=(-25, 25),\n",
    "        **query\n",
    "    )\n",
    "    print(\"Data loaded successfully.\")\n",
    "except Exception as e:\n",
    "    raise RuntimeError(f\"Error loading data from the datacube: {e}\")\n",
    "\n",
    "# Step 4: Check if the dataset is loaded correctly\n",
    "if lc is None or lc.geobox is None:\n",
    "    raise ValueError(\"Failed to load the dataset. Please check the query parameters and ensure data is available for the specified region and time range.\")   \n",
    "    \n",
    "# Step 5: Print geobox information\n",
    "geobox = lc.geobox\n",
    "\n",
    "geobox_info = f\"\"\"\n",
    "Geobox Information:\n",
    "-------------------\n",
    "CRS: {geobox.crs}\n",
    "Dimensions: {geobox.dimensions}\n",
    "Resolution: {geobox.resolution}\n",
    "Shape: {geobox.shape}\n",
    "Extent: {geobox.extent}\n",
    "\"\"\"\n",
    "\n",
    "print(geobox_info)\n",
    "\n",
    "# Step 6: Check loaded data dimensions and variables\n",
    "print(\"Loaded data dimensions:\", lc.dims)\n",
    "print(\"Loaded data variables:\", lc.data_vars)\n"
   ]
  },
  {
   "cell_type": "markdown",
   "id": "0a8d3e17-65b2-401f-80b1-725a4b253a65",
   "metadata": {},
   "source": [
    "## Section 6:  View datasets"
   ]
  },
  {
   "cell_type": "code",
   "execution_count": 6,
   "id": "da2fcf33-c6ee-4098-9cd3-35ecc1998b24",
   "metadata": {
    "tags": []
   },
   "outputs": [
    {
     "data": {
      "application/vnd.jupyter.widget-view+json": {
       "model_id": "a5166538f430491f9d392ff777520a71",
       "version_major": 2,
       "version_minor": 0
      },
      "text/plain": [
       "HBox(children=(Checkbox(value=False, description='Level 3'), Checkbox(value=False, description='Lifeform'), Ch…"
      ]
     },
     "metadata": {},
     "output_type": "display_data"
    },
    {
     "data": {
      "application/vnd.jupyter.widget-view+json": {
       "model_id": "c4ef7477983c498cb71a41055818d38c",
       "version_major": 2,
       "version_minor": 0
      },
      "text/plain": [
       "Button(description='Plot Selected Data', style=ButtonStyle())"
      ]
     },
     "metadata": {},
     "output_type": "display_data"
    },
    {
     "data": {
      "application/vnd.jupyter.widget-view+json": {
       "model_id": "bf586e4fecb2449ba913a0a43f6dba64",
       "version_major": 2,
       "version_minor": 0
      },
      "text/plain": [
       "Output()"
      ]
     },
     "metadata": {},
     "output_type": "display_data"
    }
   ],
   "source": [
    "# Section 6: Checkbox widgets for selecting datasets\n",
    "level3_checkbox = widgets.Checkbox(description='Level 3', value=False)\n",
    "lifeform_checkbox = widgets.Checkbox(description='Lifeform', value=False)\n",
    "vegetation_cover_checkbox = widgets.Checkbox(description='Vegetation Cover', value=False)\n",
    "water_state_checkbox = widgets.Checkbox(description='Water State', value=False)\n",
    "water_persistence_checkbox = widgets.Checkbox(description='Water Persistence', value=False)\n",
    "full_classification_checkbox = widgets.Checkbox(description='Full Classification', value=False)\n",
    "item_checkbox = widgets.Checkbox(description='Intertidal Elevation', value=False)\n",
    "\n",
    "output = widgets.Output()\n",
    "\n",
    "def plot_selected_datasets():\n",
    "    with output:\n",
    "        output.clear_output()\n",
    "        selected_datasets = []\n",
    "        if level3_checkbox.value:\n",
    "            selected_datasets.append('level3')\n",
    "        if lifeform_checkbox.value:\n",
    "            selected_datasets.append('lifeform')\n",
    "        if vegetation_cover_checkbox.value:\n",
    "            selected_datasets.append('vegetation_cover')\n",
    "        if water_state_checkbox.value:\n",
    "            selected_datasets.append('water_state')\n",
    "        if water_persistence_checkbox.value:\n",
    "            selected_datasets.append('water_persistence')            \n",
    "        if full_classification_checkbox.value:\n",
    "            selected_datasets.append('full_classification')\n",
    "        if item_checkbox.value:\n",
    "            selected_datasets.append('item')\n",
    "\n",
    "        for dataset in selected_datasets:\n",
    "            plt.figure()\n",
    "            if dataset == 'level3':\n",
    "                plot_land_cover(lc.level3)\n",
    "            elif dataset == 'lifeform':\n",
    "                plot_land_cover(lc.lifeform)\n",
    "            elif dataset == 'vegetation_cover':\n",
    "                plot_land_cover(lc.vegetation_cover)\n",
    "            elif dataset == 'water_state':\n",
    "                plot_land_cover(lc.water_state)\n",
    "            elif dataset == 'water_persistence':\n",
    "                plot_land_cover(lc.water_persistence)\n",
    "            elif dataset == 'full_classification':\n",
    "                plot_land_cover(lc.full_classification)\n",
    "            elif dataset == 'item':\n",
    "                plot_land_cover(item.elevation[0])\n",
    "            plt.show()\n",
    "\n",
    "plot_datasets_button = widgets.Button(description='Plot Selected Data')\n",
    "plot_datasets_button.on_click(lambda b: plot_selected_datasets())\n",
    "\n",
    "checkboxes_box = widgets.HBox([\n",
    "    level3_checkbox, \n",
    "    lifeform_checkbox, \n",
    "    vegetation_cover_checkbox, \n",
    "    water_state_checkbox, \n",
    "    water_persistence_checkbox, \n",
    "    full_classification_checkbox,\n",
    "    item_checkbox\n",
    "])\n",
    "display(checkboxes_box)\n",
    "display(plot_datasets_button)\n",
    "display(output)"
   ]
  },
  {
   "cell_type": "markdown",
   "id": "f4a9c252-70ba-47b3-aa98-c242191452e1",
   "metadata": {},
   "source": [
    "## Tags\n",
    "Browse all available tags on the DEA User Guide's [Tags Index](https://docs.dea.ga.gov.au/genindex.html)"
   ]
  },
  {
   "cell_type": "markdown",
   "id": "6fe70ee6-3c4b-43dc-b446-253711d7cea4",
   "metadata": {},
   "source": [
    "**Tags**: :index:`sandbox compatible`, :index:`landsat 5`, :index:`landsat 7`, :index:`landsat 8`, \n",
    ":index:`DEA Land Cover`, :index:`time series`, :index: `LCCS`, :index:`colour maps`, :index:`data visualisation`"
   ]
  }
 ],
 "metadata": {
  "kernelspec": {
   "display_name": "Python 3 (ipykernel)",
   "language": "python",
   "name": "python3"
  },
  "language_info": {
   "codemirror_mode": {
    "name": "ipython",
    "version": 3
   },
   "file_extension": ".py",
   "mimetype": "text/x-python",
   "name": "python",
   "nbconvert_exporter": "python",
   "pygments_lexer": "ipython3",
   "version": "3.10.13"
  }
 },
 "nbformat": 4,
 "nbformat_minor": 5
}
