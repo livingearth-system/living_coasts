{
 "cells": [
  {
   "cell_type": "markdown",
   "id": "faf22dc6-a575-4490-b626-499362fd548b",
   "metadata": {},
   "source": [
    "# Section 1 - Load apps\n"
   ]
  },
  {
   "cell_type": "code",
   "execution_count": 1,
   "id": "d04c723a-da71-41af-970b-41c23838eeaf",
   "metadata": {
    "tags": []
   },
   "outputs": [
    {
     "name": "stdout",
     "output_type": "stream",
     "text": [
      "Requirement already satisfied: openpyxl in /env/lib/python3.10/site-packages (3.1.5)\n",
      "Requirement already satisfied: tqdm in /env/lib/python3.10/site-packages (4.66.2)\n",
      "Requirement already satisfied: et-xmlfile in /env/lib/python3.10/site-packages (from openpyxl) (1.1.0)\n",
      "display_tools.py not found in /home/jovyan/Living_Coasts_training/Tools.\n",
      "display_tools.py not found in /home/jovyan/Living_Coasts_training/Working.\n",
      "landcover.py not found in /home/jovyan/Living_Coasts_training/Working.\n",
      "/home/jovyan/Living_Coasts_training/Tools does not exist.\n",
      "/home/jovyan/Living_Coasts_training/Working does not exist.\n",
      "Section 1: Initial imports and setup - Completed\n",
      "added a new line here\n",
      "another line\n"
     ]
    },
    {
     "data": {
      "text/html": [
       "<div>\n",
       "    <div style=\"width: 24px; height: 24px; background-color: #e1e1e1; border: 3px solid #9D9D9D; border-radius: 5px; position: absolute;\"> </div>\n",
       "    <div style=\"margin-left: 48px;\">\n",
       "        <h3 style=\"margin-bottom: 0px;\">Client</h3>\n",
       "        <p style=\"color: #9D9D9D; margin-bottom: 0px;\">Client-94e79c15-5884-11ef-9d91-7e2d3a0fbf24</p>\n",
       "        <table style=\"width: 100%; text-align: left;\">\n",
       "\n",
       "        <tr>\n",
       "        \n",
       "            <td style=\"text-align: left;\"><strong>Connection method:</strong> Cluster object</td>\n",
       "            <td style=\"text-align: left;\"><strong>Cluster type:</strong> distributed.LocalCluster</td>\n",
       "        \n",
       "        </tr>\n",
       "\n",
       "        \n",
       "            <tr>\n",
       "                <td style=\"text-align: left;\">\n",
       "                    <strong>Dashboard: </strong> <a href=\"/user/richard.lucas@aber.ac.uk/proxy/34521/status\" target=\"_blank\">/user/richard.lucas@aber.ac.uk/proxy/34521/status</a>\n",
       "                </td>\n",
       "                <td style=\"text-align: left;\"></td>\n",
       "            </tr>\n",
       "        \n",
       "\n",
       "        </table>\n",
       "\n",
       "        \n",
       "            <button style=\"margin-bottom: 12px;\" data-commandlinker-command=\"dask:populate-and-launch-layout\" data-commandlinker-args='{\"url\": \"/user/richard.lucas@aber.ac.uk/proxy/34521/status\" }'>\n",
       "                Launch dashboard in JupyterLab\n",
       "            </button>\n",
       "        \n",
       "\n",
       "        \n",
       "            <details>\n",
       "            <summary style=\"margin-bottom: 20px;\"><h3 style=\"display: inline;\">Cluster Info</h3></summary>\n",
       "            <div class=\"jp-RenderedHTMLCommon jp-RenderedHTML jp-mod-trusted jp-OutputArea-output\">\n",
       "    <div style=\"width: 24px; height: 24px; background-color: #e1e1e1; border: 3px solid #9D9D9D; border-radius: 5px; position: absolute;\">\n",
       "    </div>\n",
       "    <div style=\"margin-left: 48px;\">\n",
       "        <h3 style=\"margin-bottom: 0px; margin-top: 0px;\">LocalCluster</h3>\n",
       "        <p style=\"color: #9D9D9D; margin-bottom: 0px;\">8db367b0</p>\n",
       "        <table style=\"width: 100%; text-align: left;\">\n",
       "            <tr>\n",
       "                <td style=\"text-align: left;\">\n",
       "                    <strong>Dashboard:</strong> <a href=\"/user/richard.lucas@aber.ac.uk/proxy/34521/status\" target=\"_blank\">/user/richard.lucas@aber.ac.uk/proxy/34521/status</a>\n",
       "                </td>\n",
       "                <td style=\"text-align: left;\">\n",
       "                    <strong>Workers:</strong> 1\n",
       "                </td>\n",
       "            </tr>\n",
       "            <tr>\n",
       "                <td style=\"text-align: left;\">\n",
       "                    <strong>Total threads:</strong> 2\n",
       "                </td>\n",
       "                <td style=\"text-align: left;\">\n",
       "                    <strong>Total memory:</strong> 12.21 GiB\n",
       "                </td>\n",
       "            </tr>\n",
       "            \n",
       "            <tr>\n",
       "    <td style=\"text-align: left;\"><strong>Status:</strong> running</td>\n",
       "    <td style=\"text-align: left;\"><strong>Using processes:</strong> True</td>\n",
       "</tr>\n",
       "\n",
       "            \n",
       "        </table>\n",
       "\n",
       "        <details>\n",
       "            <summary style=\"margin-bottom: 20px;\">\n",
       "                <h3 style=\"display: inline;\">Scheduler Info</h3>\n",
       "            </summary>\n",
       "\n",
       "            <div style=\"\">\n",
       "    <div>\n",
       "        <div style=\"width: 24px; height: 24px; background-color: #FFF7E5; border: 3px solid #FF6132; border-radius: 5px; position: absolute;\"> </div>\n",
       "        <div style=\"margin-left: 48px;\">\n",
       "            <h3 style=\"margin-bottom: 0px;\">Scheduler</h3>\n",
       "            <p style=\"color: #9D9D9D; margin-bottom: 0px;\">Scheduler-1257e471-62ad-4921-9b01-db464bfe79bb</p>\n",
       "            <table style=\"width: 100%; text-align: left;\">\n",
       "                <tr>\n",
       "                    <td style=\"text-align: left;\">\n",
       "                        <strong>Comm:</strong> tcp://127.0.0.1:37065\n",
       "                    </td>\n",
       "                    <td style=\"text-align: left;\">\n",
       "                        <strong>Workers:</strong> 1\n",
       "                    </td>\n",
       "                </tr>\n",
       "                <tr>\n",
       "                    <td style=\"text-align: left;\">\n",
       "                        <strong>Dashboard:</strong> <a href=\"/user/richard.lucas@aber.ac.uk/proxy/34521/status\" target=\"_blank\">/user/richard.lucas@aber.ac.uk/proxy/34521/status</a>\n",
       "                    </td>\n",
       "                    <td style=\"text-align: left;\">\n",
       "                        <strong>Total threads:</strong> 2\n",
       "                    </td>\n",
       "                </tr>\n",
       "                <tr>\n",
       "                    <td style=\"text-align: left;\">\n",
       "                        <strong>Started:</strong> Just now\n",
       "                    </td>\n",
       "                    <td style=\"text-align: left;\">\n",
       "                        <strong>Total memory:</strong> 12.21 GiB\n",
       "                    </td>\n",
       "                </tr>\n",
       "            </table>\n",
       "        </div>\n",
       "    </div>\n",
       "\n",
       "    <details style=\"margin-left: 48px;\">\n",
       "        <summary style=\"margin-bottom: 20px;\">\n",
       "            <h3 style=\"display: inline;\">Workers</h3>\n",
       "        </summary>\n",
       "\n",
       "        \n",
       "        <div style=\"margin-bottom: 20px;\">\n",
       "            <div style=\"width: 24px; height: 24px; background-color: #DBF5FF; border: 3px solid #4CC9FF; border-radius: 5px; position: absolute;\"> </div>\n",
       "            <div style=\"margin-left: 48px;\">\n",
       "            <details>\n",
       "                <summary>\n",
       "                    <h4 style=\"margin-bottom: 0px; display: inline;\">Worker: 0</h4>\n",
       "                </summary>\n",
       "                <table style=\"width: 100%; text-align: left;\">\n",
       "                    <tr>\n",
       "                        <td style=\"text-align: left;\">\n",
       "                            <strong>Comm: </strong> tcp://127.0.0.1:36403\n",
       "                        </td>\n",
       "                        <td style=\"text-align: left;\">\n",
       "                            <strong>Total threads: </strong> 2\n",
       "                        </td>\n",
       "                    </tr>\n",
       "                    <tr>\n",
       "                        <td style=\"text-align: left;\">\n",
       "                            <strong>Dashboard: </strong> <a href=\"/user/richard.lucas@aber.ac.uk/proxy/40073/status\" target=\"_blank\">/user/richard.lucas@aber.ac.uk/proxy/40073/status</a>\n",
       "                        </td>\n",
       "                        <td style=\"text-align: left;\">\n",
       "                            <strong>Memory: </strong> 12.21 GiB\n",
       "                        </td>\n",
       "                    </tr>\n",
       "                    <tr>\n",
       "                        <td style=\"text-align: left;\">\n",
       "                            <strong>Nanny: </strong> tcp://127.0.0.1:44745\n",
       "                        </td>\n",
       "                        <td style=\"text-align: left;\"></td>\n",
       "                    </tr>\n",
       "                    <tr>\n",
       "                        <td colspan=\"2\" style=\"text-align: left;\">\n",
       "                            <strong>Local directory: </strong> /tmp/dask-scratch-space/worker-291i88la\n",
       "                        </td>\n",
       "                    </tr>\n",
       "\n",
       "                    \n",
       "\n",
       "                    \n",
       "\n",
       "                </table>\n",
       "            </details>\n",
       "            </div>\n",
       "        </div>\n",
       "        \n",
       "\n",
       "    </details>\n",
       "</div>\n",
       "\n",
       "        </details>\n",
       "    </div>\n",
       "</div>\n",
       "            </details>\n",
       "        \n",
       "\n",
       "    </div>\n",
       "</div>"
      ],
      "text/plain": [
       "<Client: 'tcp://127.0.0.1:37065' processes=1 threads=2, memory=12.21 GiB>"
      ]
     },
     "metadata": {},
     "output_type": "display_data"
    }
   ],
   "source": [
    "# Initial imports and setup\n",
    "import datetime as dt\n",
    "import sys\n",
    "import warnings\n",
    "import os\n",
    "import numpy as np\n",
    "import pandas as pd\n",
    "import xarray as xr\n",
    "import datacube\n",
    "import matplotlib.pyplot as plt\n",
    "import matplotlib.pyplot as plt\n",
    "import matplotlib as mpl\n",
    "import geopandas as gpd\n",
    "import odc.geo.xr\n",
    "from ipyleaflet import GeoData\n",
    "from time import time as time\n",
    "import matplotlib.colors as colors\n",
    "import matplotlib.cm as cm\n",
    "from matplotlib.colors import ListedColormap\n",
    "from matplotlib import colormaps\n",
    "from matplotlib.patches import Patch\n",
    "from IPython.display import display\n",
    "from ipywidgets import widgets\n",
    "from ipywidgets import Checkbox, VBox, HBox, Button, Output, HTML\n",
    "\n",
    "warnings.filterwarnings(\"ignore\")\n",
    "\n",
    "# Setup paths and Datacube instance\n",
    "current_dir = os.getcwd()\n",
    "tools_path = os.path.join(current_dir, \"Tools\")\n",
    "working_path = os.path.join(current_dir, \"Working\")\n",
    "\n",
    "sys.path.insert(1, tools_path)\n",
    "sys.path.insert(1, working_path)\n",
    "dc = datacube.Datacube()\n",
    "\n",
    "# Ensure openpyxl and tqdm are installed\n",
    "!pip install openpyxl tqdm\n",
    "\n",
    "time_range = None\n",
    "\n",
    "# Function to import display_tools.py if exists\n",
    "def import_display_tools(path):\n",
    "    if os.path.exists(path) and \"display_tools.py\" in os.listdir(path):\n",
    "        try:\n",
    "            from display_tools import display_da\n",
    "            print(f\"display_tools module imported successfully from {path}.\")\n",
    "        except ImportError as e:\n",
    "            print(f\"Error importing display_tools from {path}: {e}\")\n",
    "    else:\n",
    "        print(f\"display_tools.py not found in {path}.\")\n",
    "\n",
    "# Function to import landcover.py if exists\n",
    "def import_landcover(path):\n",
    "    if os.path.exists(path) and \"landcover.py\" in os.listdir(path):\n",
    "        try:\n",
    "            from landcover import lc_colourmap, make_colorbar, plot_land_cover\n",
    "            print(f\"landcover module imported successfully from {path}.\")\n",
    "        except ImportError as e:\n",
    "            print(f\"Error importing landcover from {path}: {e}\")\n",
    "    else:\n",
    "        print(f\"landcover.py not found in {path}.\")\n",
    "\n",
    "# Import modules\n",
    "import_display_tools(tools_path)\n",
    "import_display_tools(working_path)\n",
    "import_landcover(working_path)\n",
    "\n",
    "# List files in Tools and Working\n",
    "def list_files(path):\n",
    "    if os.path.exists(path):\n",
    "        print(f\"Files in {path}:\")\n",
    "        print(os.listdir(path))\n",
    "    else:\n",
    "        print(f\"{path} does not exist.\")\n",
    "\n",
    "list_files(tools_path)\n",
    "list_files(working_path)\n",
    "\n",
    "print(\"Section 1: Initial imports and setup - Completed\")\n",
    "\n",
    "# Manually invoke garbage collection without printing the result\n",
    "import gc\n",
    "import contextlib\n",
    "with contextlib.redirect_stdout(None):\n",
    "    gc.collect()\n",
    "\n",
    "# Additional imports and setup\n",
    "from odc.algo import xr_reproject\n",
    "from dea_tools.plotting import rgb, display_map\n",
    "from dea_tools.datahandling import wofs_fuser\n",
    "from dea_tools.plotting import plot_wo\n",
    "from matplotlib import colors as mcolours\n",
    "from datacube.testutils.io import rio_slurp_xarray\n",
    "from datacube.utils import masking\n",
    "from datacube.utils.masking import mask_invalid_data\n",
    "from datacube.utils.cog import write_cog\n",
    "from odc.geo.geom import Geometry\n",
    "\n",
    "# For DEA burn mapping\n",
    "from datetime import datetime, timedelta\n",
    "\n",
    "from dea_tools.datahandling import load_ard\n",
    "from dea_tools.plotting import rgb, display_map\n",
    "from dea_tools.bandindices import calculate_indices\n",
    "from dea_tools.dask import create_local_dask_cluster\n",
    "import display_tools as display_tools\n",
    "\n",
    "# Create local dask cluster to improve data load time\n",
    "client = create_local_dask_cluster(return_client=True)\n",
    "\n",
    "\n",
    "\n",
    "\n",
    "\n",
    "\n",
    "\n",
    "\n",
    "from landcover import plot_land_cover, lc_colourmap, make_colorbar #added from DEA"
   ]
  },
  {
   "cell_type": "markdown",
   "id": "fc33c52a-4a7b-4615-8d5c-187bce186d6e",
   "metadata": {},
   "source": [
    "# Section 2 - Area Selection"
   ]
  },
  {
   "cell_type": "code",
   "execution_count": 2,
   "id": "398cba24-7272-4a63-b497-451aafe416cf",
   "metadata": {
    "tags": []
   },
   "outputs": [
    {
     "data": {
      "application/vnd.jupyter.widget-view+json": {
       "model_id": "cea7df86b8884f1fa0be2b02c8efbf7d",
       "version_major": 2,
       "version_minor": 0
      },
      "text/plain": [
       "Map(center=[0, 0], controls=(ZoomControl(options=['position', 'zoom_in_text', 'zoom_in_title', 'zoom_out_text'…"
      ]
     },
     "metadata": {},
     "output_type": "display_data"
    },
    {
     "name": "stdout",
     "output_type": "stream",
     "text": [
      "Section 2: Select Your Area of Interest - Completed\n"
     ]
    },
    {
     "data": {
      "text/plain": [
       "60"
      ]
     },
     "execution_count": 2,
     "metadata": {},
     "output_type": "execute_result"
    }
   ],
   "source": [
    "from ipyleaflet import Map, DrawControl, WidgetControl, basemaps, LayersControl, FullScreenControl, Rectangle\n",
    "from ipywidgets import Output, Button, VBox, Tab, FloatText, Layout\n",
    "from shapely.geometry import Polygon\n",
    "import gc\n",
    "import sys\n",
    "\n",
    "# Initialize global variables to store the selected polygon\n",
    "selected_polygon = None\n",
    "manual_polygon_layer = None\n",
    "\n",
    "# Define lat_range and lon_range to avoid NameError in Section 5\n",
    "lat_range = None\n",
    "lon_range = None\n",
    "\n",
    "# Create the map\n",
    "m = Map(center=[0, 0], zoom=2, basemap=basemaps.Esri.WorldImagery, scroll_wheel_zoom=True, layout=Layout(height='600px'))\n",
    "m.add_control(LayersControl(position='topright'))\n",
    "m.add_control(FullScreenControl())\n",
    "\n",
    "# Output widget to display coordinates\n",
    "output_draw = Output(layout={'border': '1px solid black', 'padding': '5px'})\n",
    "output_manual = Output(layout={'border': '1px solid black', 'padding': '5px'})\n",
    "\n",
    "# Setup the draw control with both polygon and rectangle options\n",
    "draw_control = DrawControl(\n",
    "    rectangle={\"shapeOptions\": {\"color\": \"#0000FF\"}},\n",
    "    polygon={\"shapeOptions\": {\"color\": \"#00FF00\"}},\n",
    "    circlemarker={},\n",
    "    polyline={},\n",
    "    circle={}\n",
    ")\n",
    "m.add_control(draw_control)\n",
    "\n",
    "# Event handler for drawing shapes\n",
    "def handle_draw(target, action, geo_json):\n",
    "    global selected_polygon, lat_range, lon_range\n",
    "    output_draw.clear_output()\n",
    "    coords = geo_json['geometry']['coordinates'][0]\n",
    "    selected_polygon = Polygon(coords)\n",
    "    lats, lons = zip(*[(coord[1], coord[0]) for coord in coords])\n",
    "    lat_range = (min(lats), max(lats))\n",
    "    lon_range = (min(lons), max(lons))\n",
    "    with output_draw:\n",
    "        output_draw.append_stdout(\"Coordinates:\\n\")\n",
    "        output_draw.append_stdout(f\"{'Latitude':<20}{'Longitude'}\\n\")\n",
    "        for lat, lon in zip(lats, lons):\n",
    "            output_draw.append_stdout(f\"{lat:.6f}\\t\\t{lon:.6f}\\n\")\n",
    "\n",
    "draw_control.on_draw(handle_draw)\n",
    "\n",
    "# Button to clear drawings and output\n",
    "clear_button_draw = Button(description='Clear All')\n",
    "clear_button_manual = Button(description='Clear All')\n",
    "\n",
    "# Event handler for the clear button\n",
    "def clear_all(b):\n",
    "    global selected_polygon, manual_polygon_layer, lat_range, lon_range\n",
    "    draw_control.clear()\n",
    "    output_draw.clear_output()\n",
    "    output_manual.clear_output()\n",
    "    if manual_polygon_layer:\n",
    "        m.remove_layer(manual_polygon_layer)\n",
    "    selected_polygon = None\n",
    "    manual_polygon_layer = None\n",
    "    lat_range = None\n",
    "    lon_range = None\n",
    "    gc.collect()\n",
    "\n",
    "clear_button_draw.on_click(clear_all)\n",
    "clear_button_manual.on_click(clear_all)\n",
    "\n",
    "# Create input widgets for manual coordinate entry\n",
    "latitude = FloatText(description='Latitude:', layout=Layout(width='100%'))\n",
    "longitude = FloatText(description='Longitude:', layout=Layout(width='100%'))\n",
    "buffer = FloatText(description='Buffer (deg):', value=0.1, layout=Layout(width='100%'))\n",
    "update_button = Button(description='Update Map')\n",
    "\n",
    "# Function to update the map based on manual input values\n",
    "def update_map_manual(b):\n",
    "    global manual_polygon_layer, selected_polygon, lat_range, lon_range\n",
    "    output_manual.clear_output()\n",
    "    lat = latitude.value\n",
    "    lon = longitude.value\n",
    "    buf = buffer.value\n",
    "    \n",
    "    if lat is not None and lon is not None and buf is not None:\n",
    "        bounds = [[lat - buf, lon - buf], [lat + buf, lon + buf]]\n",
    "        if manual_polygon_layer:\n",
    "            m.remove_layer(manual_polygon_layer)\n",
    "        manual_polygon_layer = Rectangle(bounds=bounds, color=\"blue\", fill_opacity=0.2, weight=2)\n",
    "        m.add_layer(manual_polygon_layer)\n",
    "        m.fit_bounds(bounds)\n",
    "        \n",
    "        selected_polygon = Polygon([(lon - buf, lat - buf), (lon + buf, lat - buf), (lon + buf, lat + buf), (lon - buf, lat + buf), (lon - buf, lat - buf)])\n",
    "        lat_range = (lat - buf, lat + buf)\n",
    "        lon_range = (lon - buf, lon + buf)\n",
    "        \n",
    "        with output_manual:\n",
    "            output_manual.append_stdout(\"Manual Coordinates:\\n\")\n",
    "            output_manual.append_stdout(f\"{'Latitude':<20}{'Longitude'}\\n\")\n",
    "            output_manual.append_stdout(f\"{lat - buf:.6f}\\t\\t{lon - buf:.6f}\\n\")\n",
    "            output_manual.append_stdout(f\"{lat - buf:.6f}\\t\\t{lon + buf:.6f}\\n\")\n",
    "            output_manual.append_stdout(f\"{lat + buf:.6f}\\t\\t{lon + buf:.6f}\\n\")\n",
    "            output_manual.append_stdout(f\"{lat + buf:.6f}\\t\\t{lon - buf:.6f}\\n\")\n",
    "    else:\n",
    "        with output_manual:\n",
    "            output_manual.append_stdout(\"Please fill in all coordinate values.\\n\")\n",
    "\n",
    "# Connect the manual update button\n",
    "update_button.on_click(update_map_manual)\n",
    "\n",
    "# Tab widget for drawing and manual input\n",
    "draw_tab = VBox([clear_button_draw, output_draw])\n",
    "manual_tab = VBox([latitude, longitude, buffer, update_button, clear_button_manual, output_manual])\n",
    "\n",
    "tab = Tab()\n",
    "tab.children = [draw_tab, manual_tab]\n",
    "tab.set_title(0, 'Draw')\n",
    "tab.set_title(1, 'Manual Input')\n",
    "\n",
    "# Add the tab control to the map\n",
    "tab_control = WidgetControl(widget=tab, position='topright')\n",
    "m.add_control(tab_control)\n",
    "\n",
    "# Display the map\n",
    "display(m)\n",
    "\n",
    "print(\"Section 2: Select Your Area of Interest - Completed\")\n",
    "\n",
    "# Manually invoke garbage collection\n",
    "gc.collect()\n"
   ]
  },
  {
   "cell_type": "markdown",
   "id": "906ae9d2-9789-4e57-abee-3f6776184754",
   "metadata": {},
   "source": [
    "# Section 3 - Polygon and Co-ordinates "
   ]
  },
  {
   "cell_type": "code",
   "execution_count": 3,
   "id": "737465d5-20aa-47b8-b673-0eff2ef5d85e",
   "metadata": {
    "tags": []
   },
   "outputs": [
    {
     "name": "stdout",
     "output_type": "stream",
     "text": [
      "The drawn shape was used for selection.\n",
      "The geopolygon of interest is the following one; \n",
      "POLYGON ((150.622972 -23.551845, 150.622972 -23.482273, 150.735945 -23.482273, 150.735945 -23.551845, 150.622972 -23.551845))\n",
      "\n",
      "Selected Polygon Coordinates:\n",
      "Latitude: -23.551845, Longitude: 150.622972\n",
      "Latitude: -23.482273, Longitude: 150.622972\n",
      "Latitude: -23.482273, Longitude: 150.735945\n",
      "Latitude: -23.551845, Longitude: 150.735945\n",
      "Latitude: -23.551845, Longitude: 150.622972\n",
      "\n",
      "UTM Coordinates:\n",
      "UTM X: 5350525.779585137, UTM Y: -16517920.599155473\n",
      "UTM X: 5354194.504552769, UTM Y: -16527279.725201396\n",
      "UTM X: 5340177.5313127395, UTM Y: -16532755.785554247\n",
      "UTM X: 5336526.579976488, UTM Y: -16523404.935255617\n",
      "UTM X: 5350525.779585137, UTM Y: -16517920.599155473\n"
     ]
    },
    {
     "data": {
      "image/png": "[encoded data removed]",
      "text/plain": [
       "<Figure size 640x480 with 1 Axes>"
      ]
     },
     "metadata": {},
     "output_type": "display_data"
    },
    {
     "name": "stdout",
     "output_type": "stream",
     "text": [
      "Section 3: Display Selected Coordinates - Completed\n"
     ]
    }
   ],
   "source": [
    "import matplotlib.pyplot as plt\n",
    "from pyproj import Proj\n",
    "from shapely.geometry.polygon import LinearRing\n",
    "import gc\n",
    "\n",
    "# Function to convert latitude and longitude to UTM coordinates\n",
    "def latlon_to_utm(lat, lon):\n",
    "    utm_proj = Proj(proj=\"utm\", zone=33, datum=\"WGS84\")  # Change zone as needed\n",
    "    utm_x, utm_y = utm_proj(lon, lat)\n",
    "    return utm_x, utm_y\n",
    "\n",
    "# Function to display the selected coordinates, UTM coordinates, and visualize the polygon\n",
    "def display_selected_coordinates(selected_polygon):\n",
    "    if selected_polygon is not None:\n",
    "        coords = selected_polygon.exterior.coords\n",
    "        utm_coords = [latlon_to_utm(lat, lon) for lon, lat in coords]\n",
    "\n",
    "        print(\"The drawn shape was used for selection.\")\n",
    "        print(\"The geopolygon of interest is the following one; \")\n",
    "        print(selected_polygon)\n",
    "\n",
    "        print(\"\\nSelected Polygon Coordinates:\")\n",
    "        for lon, lat in coords:\n",
    "            print(f\"Latitude: {lat}, Longitude: {lon}\")\n",
    "\n",
    "        print(\"\\nUTM Coordinates:\")\n",
    "        for utm_x, utm_y in utm_coords:\n",
    "            print(f\"UTM X: {utm_x}, UTM Y: {utm_y}\")\n",
    "\n",
    "        # Visualize the selected polygon\n",
    "        ring = LinearRing(coords)\n",
    "        fig, ax = plt.subplots()\n",
    "        ax.plot(*ring.xy, color=\"blue\")\n",
    "        ax.set_title(\"Selected Polygon\")\n",
    "        plt.show()\n",
    "        \n",
    "        # Explicitly clear variables and run garbage collection\n",
    "        del coords, utm_coords, ring, fig, ax\n",
    "        gc.collect()\n",
    "    else:\n",
    "        print(\"No polygon selected\")\n",
    "\n",
    "# Call the function to display the coordinates and visualize the polygon\n",
    "# Assuming you have the selected polygon stored in a variable named 'selected_polygon'\n",
    "display_selected_coordinates(selected_polygon)\n",
    "\n",
    "print(\"Section 3: Display Selected Coordinates - Completed\")\n"
   ]
  },
  {
   "cell_type": "markdown",
   "id": "ac58b7d6-2acc-4494-8c32-0a9418e7f045",
   "metadata": {},
   "source": [
    "# Section 4 - Date Selection"
   ]
  },
  {
   "cell_type": "code",
   "execution_count": 4,
   "id": "e837b06c-ae4d-4be2-9490-7fbf15234b3f",
   "metadata": {
    "tags": []
   },
   "outputs": [
    {
     "data": {
      "application/vnd.jupyter.widget-view+json": {
       "model_id": "c97dc6c4c6e9449eaa65a88dcad222f9",
       "version_major": 2,
       "version_minor": 0
      },
      "text/plain": [
       "DatePicker(value=datetime.datetime(2010, 1, 1, 0, 0), description='Start Date', step=1)"
      ]
     },
     "metadata": {},
     "output_type": "display_data"
    },
    {
     "data": {
      "application/vnd.jupyter.widget-view+json": {
       "model_id": "40cad321d9914f6b8b34bd8f63da22fe",
       "version_major": 2,
       "version_minor": 0
      },
      "text/plain": [
       "DatePicker(value=datetime.datetime(2020, 12, 31, 0, 0), description='End Date', step=1)"
      ]
     },
     "metadata": {},
     "output_type": "display_data"
    }
   ],
   "source": [
    "from datetime import datetime\n",
    "from IPython.display import display\n",
    "from ipywidgets import widgets\n",
    "import gc\n",
    "\n",
    "# Define a function to update and print the time range\n",
    "def update_time_range(start_date, end_date):\n",
    "    time_range = (start_date.strftime('%Y-%m-%d'), end_date.strftime('%Y-%m-%d'))\n",
    "#    print(f\"Selected time range: {time_range}\")\n",
    "    return time_range\n",
    "\n",
    "# Input widgets for specifying the year range\n",
    "start_date_input = widgets.DatePicker(\n",
    "    description=\"Start Date\", value=datetime(2010, 1, 1)  # Default value (example)\n",
    ")\n",
    "\n",
    "end_date_input = widgets.DatePicker(\n",
    "    description=\"End Date\", value=datetime(2020, 12, 31)  # Default value (example)\n",
    ")\n",
    "\n",
    "# Display date pickers\n",
    "display(start_date_input, end_date_input)\n",
    "\n",
    "# Attach the update function to the date pickers\n",
    "def on_date_change(change):\n",
    "    update_time_range(start_date_input.value, end_date_input.value)\n",
    "\n",
    "start_date_input.observe(on_date_change, names='value')\n",
    "end_date_input.observe(on_date_change, names='value')\n",
    "\n",
    "# Initial call to set the time range\n",
    "time_range = update_time_range(start_date_input.value, end_date_input.value)\n",
    "\n",
    "# Free up memory if necessary\n",
    "_ = gc.collect()  # Store the result in a variable to avoid displaying it\n"
   ]
  },
  {
   "cell_type": "code",
   "execution_count": 5,
   "id": "d83c9aed-4aa7-4690-9d24-c7922a9d6a14",
   "metadata": {
    "tags": []
   },
   "outputs": [
    {
     "name": "stdout",
     "output_type": "stream",
     "text": [
      "Selected time range: ('2010-01-01', '2020-12-31')\n"
     ]
    }
   ],
   "source": [
    "print(f\"Selected time range: {time_range}\")"
   ]
  },
  {
   "cell_type": "markdown",
   "id": "fd70d783-35a7-4687-9f71-24164597424b",
   "metadata": {},
   "source": [
    "# Section 5 - DEA Data Load"
   ]
  },
  {
   "cell_type": "code",
   "execution_count": 6,
   "id": "7978b56d-d54f-47d4-9523-e044dd2fb9d4",
   "metadata": {
    "tags": []
   },
   "outputs": [
    {
     "data": {
      "application/vnd.jupyter.widget-view+json": {
       "model_id": "",
       "version_major": 2,
       "version_minor": 0
      },
      "text/plain": [
       "VBox(children=(HTML(value='<b>.</b>'),))"
      ]
     },
     "metadata": {},
     "output_type": "display_data"
    },
    {
     "name": "stdout",
     "output_type": "stream",
     "text": [
      "Lat Range: (-23.551845, -23.482273)\n",
      "Lon Range: (150.622972, 150.735945)\n",
      "Start Date: 2010-01-01 00:00:00\n",
      "End Date: 2020-12-31 00:00:00\n",
      "Query Parameters: {'y': (-23.551845, -23.482273), 'x': (150.622972, 150.735945), 'time': (datetime.datetime(2010, 1, 1, 0, 0), datetime.datetime(2020, 12, 31, 0, 0))}\n"
     ]
    },
    {
     "data": {
      "application/vnd.jupyter.widget-view+json": {
       "model_id": "e17eabaeff9b4e11ad5215b9b4989d5e",
       "version_major": 2,
       "version_minor": 0
      },
      "text/plain": [
       "Loading DEA Land Cover data:   0%|          | 0/10 [00:00<?]"
      ]
     },
     "metadata": {},
     "output_type": "display_data"
    },
    {
     "name": "stdout",
     "output_type": "stream",
     "text": [
      "DEA Land Cover data loaded successfully.\n",
      "\n",
      "Geobox Information:\n",
      "-------------------\n",
      "CRS: PROJCS[\"GDA94 / Australian Albers\",GEOGCS[\"GDA94\",DATUM[\"Geocentric_Datum_of_Australia_1994\",SPHEROID[\"GRS 1980\",6378137,298.257222101,AUTHORITY[\"EPSG\",\"7019\"]],AUTHORITY[\"EPSG\",\"6283\"]],PRIMEM[\"Greenwich\",0,AUTHORITY[\"EPSG\",\"8901\"]],UNIT[\"degree\",0.0174532925199433,AUTHORITY[\"EPSG\",\"9122\"]],AUTHORITY[\"EPSG\",\"4283\"]],PROJECTION[\"Albers_Conic_Equal_Area\"],PARAMETER[\"latitude_of_center\",0],PARAMETER[\"longitude_of_center\",132],PARAMETER[\"standard_parallel_1\",-18],PARAMETER[\"standard_parallel_2\",-36],PARAMETER[\"false_easting\",0],PARAMETER[\"false_northing\",0],UNIT[\"metre\",1,AUTHORITY[\"EPSG\",\"9001\"]],AXIS[\"Easting\",EAST],AXIS[\"Northing\",NORTH],AUTHORITY[\"EPSG\",\"3577\"]]\n",
      "Dimensions: ('y', 'x')\n",
      "Resolution: (-25.0, 25.0)\n",
      "Shape: (375, 498)\n",
      "Extent: Geometry({'type': 'Polygon', 'coordinates': (((1875475.0, -2669650.0), (1875475.0, -2679025.0), (1887925.0, -2679025.0), (1887925.0, -2669650.0), (1875475.0, -2669650.0)),)}, CRS('PROJCS[\"GDA94 / Australian Albers\",GEOGCS[\"GDA94\",DATUM[\"Geocentric_Datum_of_Australia_1994\",SPHEROID[\"GRS 1980\",6378137,298.257222101,AUTHORITY[\"EPSG\",\"7019\"]],AUTHORITY[\"EPSG\",\"6283\"]],PRIMEM[\"Greenwich\",0,AUTHORITY[\"EPSG\",\"8901\"]],UNIT[\"degree\",0.0174532925199433,AUTHORITY[\"EPSG\",\"9122\"]],AUTHORITY[\"EPSG\",\"4283\"]],PROJECTION[\"Albers_Conic_Equal_Area\"],PARAMETER[\"latitude_of_center\",0],PARAMETER[\"longitude_of_center\",132],PARAMETER[\"standard_parallel_1\",-18],PARAMETER[\"standard_parallel_2\",-36],PARAMETER[\"false_easting\",0],PARAMETER[\"false_northing\",0],UNIT[\"metre\",1,AUTHORITY[\"EPSG\",\"9001\"]],AXIS[\"Easting\",EAST],AXIS[\"Northing\",NORTH],AUTHORITY[\"EPSG\",\"3577\"]]'))\n",
      "\n",
      "Loaded data dimensions: FrozenMappingWarningOnValuesAccess({'time': 11, 'y': 375, 'x': 498})\n",
      "Loaded data variables: Data variables:\n",
      "    level3               (time, y, x) uint8 2MB 112 112 112 112 ... 220 216 112\n",
      "    lifeform             (time, y, x) uint8 2MB 2 2 2 2 2 2 2 ... 0 0 0 0 0 0 2\n",
      "    vegetation_cover     (time, y, x) uint8 2MB 12 12 12 12 12 12 ... 0 0 0 0 15\n",
      "    water_seasonality    (time, y, x) uint8 2MB 0 0 0 0 0 0 0 ... 0 0 0 0 0 0 0\n",
      "    water_state          (time, y, x) uint8 2MB 0 0 0 0 0 0 0 ... 1 1 1 1 1 0 0\n",
      "    intertidal           (time, y, x) uint8 2MB 0 0 0 0 0 0 0 ... 0 0 0 0 0 0 0\n",
      "    water_persistence    (time, y, x) uint8 2MB 0 0 0 0 0 0 0 ... 8 7 8 8 9 0 0\n",
      "    bare_gradation       (time, y, x) uint8 2MB 0 0 0 0 0 0 0 ... 0 0 0 0 0 12 0\n",
      "    full_classification  (time, y, x) uint8 2MB 33 33 33 33 33 ... 103 104 96 35\n"
     ]
    }
   ],
   "source": [
    "import matplotlib.pyplot as plt\n",
    "from tqdm.notebook import tqdm\n",
    "from ipywidgets import HTML, VBox\n",
    "from IPython.display import display\n",
    "import time\n",
    "import logging\n",
    "import threading\n",
    "import gc\n",
    "\n",
    "# Suppress garbage collection warnings\n",
    "logging.getLogger(\"distributed.utils_perf\").setLevel(logging.ERROR)\n",
    "\n",
    "# Create a dot indicator\n",
    "spinner = HTML(\"<b>.</b>\")\n",
    "box = VBox([spinner])\n",
    "display(box)\n",
    "\n",
    "# Function to update the spinner\n",
    "def spin():\n",
    "    while not done:\n",
    "        spinner.value = spinner.value + \".\" if len(spinner.value) < 10 else \"<b>.</b>\"\n",
    "        time.sleep(0.5)\n",
    "\n",
    "# Assume total steps is the number of files/jobs being loaded\n",
    "total_steps = 10  # Replace with the actual number of steps\n",
    "\n",
    "# Ensure actual data loading for DEA Land Cover data\n",
    "done = False\n",
    "try:\n",
    "    # Start the spinner in a separate thread\n",
    "    spinner_thread = threading.Thread(target=spin)\n",
    "    spinner_thread.start()\n",
    "    \n",
    "    # Step 1: Check if required variables are defined\n",
    "    if lat_range is None or lon_range is None or start_date_input.value is None or end_date_input.value is None:\n",
    "        raise ValueError(\"Latitude, Longitude, or Time range is not defined\")\n",
    "\n",
    "    print(\"Lat Range:\", lat_range)\n",
    "    print(\"Lon Range:\", lon_range)\n",
    "    print(\"Start Date:\", start_date_input.value)\n",
    "    print(\"End Date:\", end_date_input.value)\n",
    "\n",
    "    # Step 2: Construct the query\n",
    "    query = {\n",
    "        \"y\": lat_range,\n",
    "        \"x\": lon_range,\n",
    "        \"time\": (start_date_input.value, end_date_input.value),\n",
    "    }\n",
    "\n",
    "    print(\"Query Parameters:\", query)\n",
    "\n",
    "    # Step 3: Load DEA Land Cover data from the datacube\n",
    "    with tqdm(total=total_steps, desc=\"Loading DEA Land Cover data\", bar_format='{l_bar}{bar}| {n_fmt}/{total_fmt} [{elapsed}<{remaining}]') as pbar:\n",
    "        lc = dc.load(\n",
    "            product=\"ga_ls_landcover_class_cyear_2\",\n",
    "            output_crs=\"EPSG:3577\",\n",
    "            measurements=[\n",
    "                \"level3\",\n",
    "                \"lifeform\",\n",
    "                \"vegetation_cover\",\n",
    "                \"water_seasonality\",\n",
    "                \"water_state\",\n",
    "                \"intertidal\",\n",
    "                \"water_persistence\",\n",
    "                \"bare_gradation\",\n",
    "                \"full_classification\",\n",
    "            ],\n",
    "            resolution=(-25, 25),\n",
    "#            dask_chunks={'time': 1},\n",
    "            **query\n",
    "        ).persist()\n",
    "        \n",
    "        # Update the progress bar after each step\n",
    "        pbar.update(1)  # Adjust the value if multiple steps are combined into one\n",
    "\n",
    "        # Simulate further steps if necessary\n",
    "        for _ in range(total_steps - 1):\n",
    "            time.sleep(0.1)  # Simulate a step taking time\n",
    "            pbar.update(1)\n",
    "\n",
    "    pbar.close()  # Close the progress bar to remove it from the output\n",
    "    print(\"DEA Land Cover data loaded successfully.\")\n",
    "except Exception as e:\n",
    "    print(f\"Error loading DEA Land Cover data: {e}\")\n",
    "finally:\n",
    "    # Stop the spinner\n",
    "    done = True\n",
    "    spinner_thread.join()\n",
    "\n",
    "# Remove the spinner\n",
    "box.close()\n",
    "\n",
    "# Step 4: Check if the dataset is loaded correctly\n",
    "if 'lc' not in locals() or lc is None or lc.geobox is None:\n",
    "    raise ValueError(\"Failed to load the dataset. Please check the query parameters and ensure data is available for the specified region and time range.\")   \n",
    "\n",
    "# Step 5: Print geobox information\n",
    "geobox = lc.geobox\n",
    "\n",
    "geobox_info = f\"\"\"\n",
    "Geobox Information:\n",
    "-------------------\n",
    "CRS: {geobox.crs}\n",
    "Dimensions: {geobox.dimensions}\n",
    "Resolution: {geobox.resolution}\n",
    "Shape: {geobox.shape}\n",
    "Extent: {geobox.extent}\n",
    "\"\"\"\n",
    "\n",
    "print(geobox_info)\n",
    "\n",
    "# Step 6: Check loaded data dimensions and variables\n",
    "print(\"Loaded data dimensions:\", lc.dims)\n",
    "print(\"Loaded data variables:\", lc.data_vars)\n",
    "\n",
    "# Free up memory if necessary\n",
    "_ = gc.collect()  # Suppress the output by assigning it to a variable\n"
   ]
  },
  {
   "cell_type": "markdown",
   "id": "3e96f2c2-435e-46bf-827a-a129c57d7974",
   "metadata": {},
   "source": [
    "# Section 6 - Checkbox Plots"
   ]
  },
  {
   "cell_type": "code",
   "execution_count": 7,
   "id": "9f435362-ee54-47b7-a4b3-8ed1687781b5",
   "metadata": {
    "tags": []
   },
   "outputs": [
    {
     "data": {
      "application/vnd.jupyter.widget-view+json": {
       "model_id": "fdbdc1f408ac43a287486c760df4a438",
       "version_major": 2,
       "version_minor": 0
      },
      "text/plain": [
       "HBox(children=(Checkbox(value=False, description='Level 3'), Checkbox(value=False, description='Lifeform'), Ch…"
      ]
     },
     "metadata": {},
     "output_type": "display_data"
    },
    {
     "data": {
      "application/vnd.jupyter.widget-view+json": {
       "model_id": "2fb86a764c7d424c81bb11eaca524108",
       "version_major": 2,
       "version_minor": 0
      },
      "text/plain": [
       "Button(description='Plot Selected Data', style=ButtonStyle())"
      ]
     },
     "metadata": {},
     "output_type": "display_data"
    },
    {
     "data": {
      "application/vnd.jupyter.widget-view+json": {
       "model_id": "0aba31ca9cf44f58b993bd61b6d13594",
       "version_major": 2,
       "version_minor": 0
      },
      "text/plain": [
       "Output()"
      ]
     },
     "metadata": {},
     "output_type": "display_data"
    }
   ],
   "source": [
    "# Section 6: Checkbox widgets for selecting datasets\n",
    "def create_checkbox(description, initial_value=False):\n",
    "    return Checkbox(description=description, value=initial_value)\n",
    "\n",
    "level3_checkbox = create_checkbox('Level 3')\n",
    "lifeform_checkbox = create_checkbox('Lifeform')\n",
    "vegetation_cover_checkbox = create_checkbox('Vegetation Cover')\n",
    "water_state_checkbox = create_checkbox('Water State')\n",
    "water_persistence_checkbox = create_checkbox('Water Persistence')\n",
    "full_classification_checkbox = create_checkbox('Full Classification')\n",
    "item_checkbox = create_checkbox('Intertidal Elevation')\n",
    "\n",
    "output = Output()\n",
    "\n",
    "def plot_land_cover_dataset(dataset, title):\n",
    "    plt.figure()\n",
    "    plot_land_cover(dataset)\n",
    "    plt.title(title)\n",
    "    plt.show()\n",
    "\n",
    "def plot_selected_datasets():\n",
    "    with output:\n",
    "        output.clear_output()\n",
    "        selected_datasets = {\n",
    "            'Level 3': (level3_checkbox.value, lc.level3 if 'lc' in globals() else None),\n",
    "            'Lifeform': (lifeform_checkbox.value, lc.lifeform if 'lc' in globals() else None),\n",
    "            'Vegetation Cover': (vegetation_cover_checkbox.value, lc.vegetation_cover if 'lc' in globals() else None),\n",
    "            'Water State': (water_state_checkbox.value, lc.water_state if 'lc' in globals() else None),\n",
    "            'Water Persistence': (water_persistence_checkbox.value, lc.water_persistence if 'lc' in globals() else None),\n",
    "            'Full Classification': (full_classification_checkbox.value, lc.full_classification if 'lc' in globals() else None),\n",
    "            'Intertidal Elevation': (item_checkbox.value, item.elevation[0] if 'item' in globals() else None)\n",
    "        }\n",
    "\n",
    "        for title, (is_selected, dataset) in selected_datasets.items():\n",
    "            if is_selected and dataset is not None:\n",
    "                plot_land_cover_dataset(dataset, title)\n",
    "                del dataset  # Free up memory\n",
    "\n",
    "plot_datasets_button = Button(description='Plot Selected Data')\n",
    "plot_datasets_button.on_click(lambda b: plot_selected_datasets())\n",
    "\n",
    "checkboxes_box = HBox([\n",
    "    level3_checkbox, \n",
    "    lifeform_checkbox, \n",
    "    vegetation_cover_checkbox, \n",
    "    water_state_checkbox, \n",
    "    water_persistence_checkbox, \n",
    "    full_classification_checkbox,\n",
    "    item_checkbox\n",
    "])\n",
    "display(checkboxes_box)\n",
    "display(plot_datasets_button)\n",
    "display(output)\n"
   ]
  },
  {
   "cell_type": "markdown",
   "id": "6786f9a6-3245-4606-85ab-0c5018e672e3",
   "metadata": {},
   "source": [
    "# Section 7 - Impacts and Pressure Selection"
   ]
  },
  {
   "cell_type": "code",
   "execution_count": 27,
   "id": "05b494d6-a55d-4e84-9862-96eb48cd7b8c",
   "metadata": {
    "tags": []
   },
   "outputs": [
    {
     "data": {
      "application/vnd.jupyter.widget-view+json": {
       "model_id": "9afc19d8d9814ecb9b8b1f61c4daad81",
       "version_major": 2,
       "version_minor": 0
      },
      "text/plain": [
       "VBox(children=(Dropdown(description='Impact:', options=('  (0)', 'Accretion (1)', 'Algal bloom (2)', 'Algal di…"
      ]
     },
     "metadata": {},
     "output_type": "display_data"
    }
   ],
   "source": [
    "import pandas as pd\n",
    "import ipywidgets as widgets\n",
    "from IPython.display import display, HTML\n",
    "\n",
    "# Load the dataset from the specified relative path\n",
    "#file_path = 'Working/Impacts and pressures_test_June.xlsx'\n",
    "file_path = 'gct/Impacts and pressures.xlsx'\n",
    "\n",
    "df = pd.read_excel(file_path, sheet_name='Australia')\n",
    "\n",
    "# Replace NaN values in 'Impact_ID' and 'Pressure_ID' columns with zeros\n",
    "df['Impact_ID'] = df['Impact_ID'].fillna(0).astype(int)\n",
    "df['Pressure_ID'] = df['Pressure_ID'].fillna(0).astype(int)\n",
    "\n",
    "# Create a mapping from Impact to associated Pressures\n",
    "impact_to_pressures = df.groupby(['Impacts', 'Impact_ID'])[['Pressures', 'Pressure_ID']].apply(\n",
    "    lambda x: [f\"{row['Pressures']} ({row['Pressure_ID']})\" for _, row in x.iterrows()]\n",
    ").to_dict()\n",
    "\n",
    "# Define evidence groups\n",
    "time_columns = ['TimeO_Ev', 'TimeL_Ev', 'TimeM_Ev', 'TimeD_Ev', 'Space_Ev']\n",
    "level3_columns = ['ModA', 'ModB', 'ModC', 'ModD', 'ModE', 'ModF', 'ModG', 'ModH', 'ModI', 'ConA', 'ConB', 'ConC', 'ConD', 'ConE', 'ConF', 'ConG', 'ConH', 'ConI', 'ConJ', 'ConK', 'ConL', 'ConM', 'ConN', 'ConO', 'ConP']\n",
    "lifeform_columns = ['LfA', 'LfB', 'LfC', 'LfD']\n",
    "cover_columns = ['CovA', 'CovB','CovC','CovD','CovE','CovF','CovG','CovH','CovI','CovJ','CovK','CovL','CovM','CovN','CovO','CovP','CovQ','CovR','CovS','CovT','CovU','CovV','CovX']\n",
    "waterstt_columns = ['Wstate']\n",
    "waterper_columns = ['WperA', 'WperB', 'WperC', 'WperD', 'WperE', 'WperF']\n",
    "biomass_columns = ['AGB_Ev', 'AGBSD_Ev']\n",
    "individual_columns = ['Canopycoa_Ev', 'Fire presence', 'Turbidity']\n",
    "\n",
    "# Create a dictionary to map each identifier to its associated evidence with values\n",
    "identifier_to_evidence = {}\n",
    "for _, row in df.iterrows():\n",
    "    identifier = row['Impact_ID'] * 1000 + row['Pressure_ID']\n",
    "    \n",
    "    # Function to format values\n",
    "    def format_value(value):\n",
    "        try:\n",
    "            return int(value) if pd.notnull(value) and value == int(value) else value\n",
    "        except (ValueError, TypeError):\n",
    "            return value\n",
    "\n",
    "    evidence_with_values = {\n",
    "        'IP_UID': row['IP_UID'],\n",
    "        'ID_Colour': row['ID_Colour'],\n",
    "        'Time_Evidence': [(col, format_value(row[col])) for col in time_columns if pd.notnull(row[col])],\n",
    "        'Level3_Evidence': [(col, format_value(row[col])) for col in level3_columns if pd.notnull(row[col])],\n",
    "        'Lifeform_Evidence': [(col, format_value(row[col])) for col in lifeform_columns if pd.notnull(row[col])],\n",
    "        'Cover_Evidence': [(col, format_value(row[col])) for col in cover_columns if pd.notnull(row[col])],\n",
    "        'Waterstt_Evidence': [(col, format_value(row[col])) for col in waterstt_columns if pd.notnull(row[col])],\n",
    "        'Waterper_Evidence': [(col, format_value(row[col])) for col in waterper_columns if pd.notnull(row[col])],\n",
    "        'Biomass_Evidence': [(col, format_value(row[col])) for col in biomass_columns if pd.notnull(row[col])]\n",
    "    }\n",
    "    identifier_to_evidence[identifier] = evidence_with_values\n",
    "\n",
    "# Create the dropdown widgets for impacts and pressures with IDs\n",
    "impact_dropdown = widgets.Dropdown(\n",
    "    options=[f\"{impact} ({impact_id})\" for (impact, impact_id) in impact_to_pressures.keys()],\n",
    "    description='Impact:',\n",
    "    value=None  # Start without a selection\n",
    ")\n",
    "\n",
    "pressure_dropdown = widgets.Dropdown(\n",
    "    options=['Please select an Impact first'],\n",
    "    description='Pressure:',\n",
    "    value=None  # Start without a selection\n",
    ")\n",
    "\n",
    "# Define the output widget for displaying the calculation result and evidence\n",
    "output = widgets.Output()\n",
    "\n",
    "# Define the function to update pressure dropdown based on selected impact\n",
    "def on_impact_change(change):\n",
    "    selected_impact = change['new']\n",
    "    if selected_impact:\n",
    "        impact, impact_id = selected_impact.rsplit(' (', 1)\n",
    "        impact_id = int(impact_id.rstrip(')'))\n",
    "        pressures = impact_to_pressures.get((impact, impact_id), [])\n",
    "        pressure_dropdown.options = pressures\n",
    "    else:\n",
    "        pressure_dropdown.options = ['Please select an Impact first']\n",
    "\n",
    "# Define the function to display the selected impact and pressure\n",
    "def display_selection(impact, pressure):\n",
    "    global selected_ip_uid  # Make IP_UID global to be accessible in Section 8\n",
    "\n",
    "    with output:\n",
    "        output.clear_output()\n",
    "        if impact and pressure:\n",
    "            impact_id = int(impact.rsplit(' (', 1)[1].rstrip(')'))\n",
    "            pressure_id = int(pressure.rsplit(' (', 1)[1].rstrip(')'))\n",
    "            identifier = impact_id * 1000 + pressure_id\n",
    "\n",
    "            if identifier in identifier_to_evidence:\n",
    "                evidence = identifier_to_evidence[identifier]\n",
    "                selected_ip_uid = evidence[\"IP_UID\"]  # Set the selected IP_UID\n",
    "                display(HTML(f'<strong>Selected Impact:</strong> {impact}'))\n",
    "                display(HTML(f'<strong>Selected Pressure:</strong> {pressure}'))\n",
    "                display(HTML(f'<strong>Identifier:</strong> {identifier}'))\n",
    "                display(HTML(f'<strong>IP_UID:</strong> {evidence[\"IP_UID\"]}'))\n",
    "                display(HTML(f'<strong>ID_Colour:</strong> {evidence[\"ID_Colour\"]}'))\n",
    "                display(HTML('<strong>Evidence:</strong>'))\n",
    "                for group, values in evidence.items():\n",
    "                    if group not in ['IP_UID', 'ID_Colour'] and values:\n",
    "                        display(HTML(f'<strong>{group.replace(\"_\", \" \")}:</strong>'))\n",
    "                        for evidence_name, value in values:\n",
    "                            display(HTML(f'- {evidence_name}: {value}'))\n",
    "            else:\n",
    "                display(HTML('<strong>Error:</strong> No evidence found for the selected Impact and Pressure.'))\n",
    "        else:\n",
    "            display(HTML('<strong>Please select both an impact and a pressure.</strong>'))\n",
    "\n",
    "# Set up observation for changes in the impact dropdown\n",
    "impact_dropdown.observe(on_impact_change, names='value')\n",
    "\n",
    "# Set up interaction to display selections\n",
    "interactive_selection = widgets.interactive(display_selection, impact=impact_dropdown, pressure=pressure_dropdown)\n",
    "\n",
    "# Arrange the widgets and the output display\n",
    "display(widgets.VBox([impact_dropdown, pressure_dropdown, output]))\n",
    "\n",
    "# Free up memory by removing the dataframe\n",
    "del df\n"
   ]
  },
  {
   "cell_type": "markdown",
   "id": "6bad0d8c-5221-4f6a-b817-f018eeace1b2",
   "metadata": {},
   "source": [
    "### Establish changes in Level 3 and environmental descriptors\n",
    "Changes in the Level 3 categories (conversions and modifications) are identified first. Where modifications of an existing land cover occur, changes in lifeform, canopy cover, water state and water persistence are considered."
   ]
  },
  {
   "cell_type": "code",
   "execution_count": 28,
   "id": "5db628c2-9a01-4434-80b9-abf3407b192c",
   "metadata": {
    "tags": []
   },
   "outputs": [],
   "source": [
    "# Ensure actual data loading is in place of random data\n",
    "# Load actual data for level3 and lifeform changes\n",
    "start_l3 = lc.level3[0].astype(np.int32)\n",
    "end_l3 = lc.level3[-1].astype(np.int32)\n",
    "ignore_no_change = False\n",
    "change_vals_l3 = (start_l3 * 1000) + end_l3\n",
    "if ignore_no_change:\n",
    "    change_vals_l3 = np.where(start_l3 == end_l3, 0, change_vals_l3)\n",
    "#level_3 = lc.level3[0].drop_vars(\"time\")\n",
    "\n",
    "obs_change_l3_t1_t2 = xr.DataArray(\n",
    "    data=change_vals_l3,\n",
    "    coords=level_3.coords,\n",
    "    dims=level_3.dims,\n",
    "    name=\"observed change\",\n",
    "    attrs=level_3.attrs,\n",
    "    fastpath=False,\n",
    ")\n",
    "obs_change_l3 = obs_change_l3_t1_t2.to_dataset(name=\"l3_t1_t2\")\n",
    "\n",
    "# Load actual data for lifeform changes\n",
    "start_lf = lc.lifeform[0].astype(np.int32)\n",
    "end_lf = lc.lifeform[-1].astype(np.int32)\n",
    "change_vals_lf = (start_lf * 10) + end_lf\n",
    "if ignore_no_change:\n",
    "    change_vals_lf = np.where(start_lf == end_lf, 0, change_vals_lf)\n",
    "lifeform = lc.lifeform[0].drop_vars(\"time\")\n",
    "\n",
    "obs_change_lf_t1_t2 = xr.DataArray(\n",
    "    data=change_vals_lf,\n",
    "    coords=lifeform.coords,\n",
    "    dims=lifeform.dims,\n",
    "    name=\"observed change\",\n",
    "    attrs=lifeform.attrs,\n",
    "    fastpath=False,\n",
    ")\n",
    "obs_change_lf = obs_change_lf_t1_t2.to_dataset(name=\"lf_t1_t2\")\n",
    "del obs_change_lf_t1_t2\n",
    "\n",
    "# cover\n",
    "start_cover = lc.vegetation_cover[0].astype(np.int32)\n",
    "end_cover = lc.vegetation_cover[-1].astype(np.int32)\n",
    "change_vals_cover = (start_cover * 100) + end_cover\n",
    "if ignore_no_change:\n",
    "    change_vals_cover = np.where(start_cover == end_cover, 0, change_vals_cover)\n",
    "cover = lc.vegetation_cover[0].drop_vars(\"time\")\n",
    "\n",
    "obs_change_cover_t1_t2 = xr.DataArray(\n",
    "    data=change_vals_cover,\n",
    "    coords=cover.coords,\n",
    "    dims=cover.dims,\n",
    "    name=\"vegetation cover change\",\n",
    "    attrs=cover.attrs,\n",
    "    fastpath=False,\n",
    ")\n",
    "obs_change_cover = obs_change_cover_t1_t2.to_dataset(name=\"cover_t1_t2\")\n",
    "del obs_change_cover_t1_t2\n",
    "\n",
    "# Water state\n",
    "start_waterstt = lc.water_state[0].astype(np.int32)\n",
    "end_waterstt = lc.water_state[-1].astype(np.int32)\n",
    "change_vals_waterstt = (start_waterstt * 10) + end_waterstt\n",
    "if ignore_no_change:\n",
    "    change_vals_waterstt = np.where(start_waterstt == end_waterstt, 0, change_vals_waterstt)\n",
    "waterstt = lc.water_state[0].drop_vars(\"time\")\n",
    "\n",
    "obs_change_waterstt_t1_t2 = xr.DataArray(\n",
    "    data=change_vals_waterstt,\n",
    "    coords=waterstt.coords,\n",
    "    dims=waterstt.dims,\n",
    "    name=\"water state change\",\n",
    "    attrs=waterstt.attrs,\n",
    "    fastpath=False,\n",
    ")\n",
    "obs_change_waterstt = obs_change_waterstt_t1_t2.to_dataset(name=\"waterstt_t1_t2\")\n",
    "del obs_change_waterstt_t1_t2\n",
    "\n",
    "# Water persistence\n",
    "start_waterper = lc.water_persistence[0].astype(np.int32)\n",
    "end_waterper = lc.water_persistence[-1].astype(np.int32)\n",
    "change_vals_waterper = (start_waterper * 10) + end_waterper\n",
    "if ignore_no_change:\n",
    "    change_vals_waterper = np.where(start_waterper == end_waterper, 0, change_vals_waterper)\n",
    "waterper = lc.water_persistence[0].drop_vars(\"time\")\n",
    "\n",
    "obs_change_waterper_t1_t2 = xr.DataArray(\n",
    "    data=change_vals_waterper,\n",
    "    coords=waterper.coords,\n",
    "    dims=waterper.dims,\n",
    "    name=\"water persistence change\",\n",
    "    attrs=waterper.attrs,\n",
    "    fastpath=False,\n",
    ")\n",
    "obs_change_waterper = obs_change_waterper_t1_t2.to_dataset(name=\"waterper_t1_t2\")\n",
    "del obs_change_waterper_t1_t2"
   ]
  },
  {
   "cell_type": "markdown",
   "id": "bd45fb25-f0eb-411b-9f6b-d8d5c8a07d2d",
   "metadata": {},
   "source": [
    "### Generate plots for Level 3 changes."
   ]
  },
  {
   "cell_type": "code",
   "execution_count": 66,
   "id": "1592149c-a5f1-4ced-9a6d-874e89fdcb97",
   "metadata": {
    "tags": []
   },
   "outputs": [
    {
     "name": "stdout",
     "output_type": "stream",
     "text": [
      "Selected IP_UID: 153\n",
      "name: [('ConA', 216112), ('ConB', 216124), ('ConC', 220112), ('ConD', 220124)]\n"
     ]
    }
   ],
   "source": [
    "# Function to create and display individual masks and calculate area percentages\n",
    "def level3():\n",
    "    global selected_ip_uid\n",
    "\n",
    "    # Debug: Print selected IP_UID\n",
    "    print(f\"Selected IP_UID: {selected_ip_uid}\")\n",
    "\n",
    "    # Extract the relevant evidence values based on the selected IP_UID\n",
    "    evidence = next((v for k, v in identifier_to_evidence.items() if v['IP_UID'] == selected_ip_uid), None)\n",
    "\n",
    "    selected_level3_values = [(name, value) for name, value in evidence['Level3_Evidence']]\n",
    "    print(f\"name: {selected_level3_values}\")\n",
    "    plot_titles = []  \n",
    "    \n",
    "    # List to store plot titles and their area percentages\n",
    "\n",
    "    def plot_and_calculate_area(data, title, color_map):\n",
    "        fig, ax = plt.subplots(figsize=(10, 6))\n",
    "        data.plot(ax=ax, cmap=color_map)\n",
    "        fig.suptitle(f\"IP_UID: {selected_ip_uid}\", fontsize=16, y=1.05)\n",
    "        ax.set_title(title)\n",
    "        plt.tight_layout()\n",
    "        plt.show()\n",
    "\n",
    "    level3var={}\n",
    "    if selected_level3_values:\n",
    "\n",
    "        for name, value in selected_level3_values:\n",
    "            change_l3 = np.where(\n",
    "                (obs_change_l3.l3_t1_t2 == value),\n",
    "                1,\n",
    "                0\n",
    "            )\n",
    "\n",
    "            change_xr_l3 = xr.DataArray(\n",
    "                data=change_l3,\n",
    "                coords=level_3.coords,\n",
    "                dims=level_3.dims,\n",
    "                name=\"val1\",\n",
    "                attrs=level_3.attrs,\n",
    "                fastpath=False, \n",
    "            )\n",
    "\n",
    "            level3var[name]=change_xr_l3\n",
    "\n",
    "            change_ds_l3 = change_xr_l3.to_dataset(name=\"val1\") \n",
    "#            plot_and_calculate_area(change_ds_l3.val1, f\"{name} Change Mask for Value {value}\", 'Reds')\n",
    "\n",
    "\n",
    "    return level3var           \n",
    "value = level3()\n",
    "#print(value)"
   ]
  },
  {
   "cell_type": "code",
   "execution_count": 67,
   "id": "62fe31f2-fa12-43b4-850a-977067a6456c",
   "metadata": {
    "tags": []
   },
   "outputs": [],
   "source": [
    "L3L3 = xr.Dataset(value).to_array() "
   ]
  },
  {
   "cell_type": "code",
   "execution_count": 68,
   "id": "b64f2ae7-5bfa-4089-b825-f5a6ed6621e1",
   "metadata": {
    "tags": []
   },
   "outputs": [
    {
     "data": {
      "text/html": [
       "<div><svg style=\"position: absolute; width: 0; height: 0; overflow: hidden\">\n",
       "<defs>\n",
       "<symbol id=\"icon-database\" viewBox=\"0 0 32 32\">\n",
       "<path d=\"M16 0c-8.837 0-16 2.239-16 5v4c0 2.761 7.163 5 16 5s16-2.239 16-5v-4c0-2.761-7.163-5-16-5z\"></path>\n",
       "<path d=\"M16 17c-8.837 0-16-2.239-16-5v6c0 2.761 7.163 5 16 5s16-2.239 16-5v-6c0 2.761-7.163 5-16 5z\"></path>\n",
       "<path d=\"M16 26c-8.837 0-16-2.239-16-5v6c0 2.761 7.163 5 16 5s16-2.239 16-5v-6c0 2.761-7.163 5-16 5z\"></path>\n",
       "</symbol>\n",
       "<symbol id=\"icon-file-text2\" viewBox=\"0 0 32 32\">\n",
       "<path d=\"M28.681 7.159c-0.694-0.947-1.662-2.053-2.724-3.116s-2.169-2.030-3.116-2.724c-1.612-1.182-2.393-1.319-2.841-1.319h-15.5c-1.378 0-2.5 1.121-2.5 2.5v27c0 1.378 1.122 2.5 2.5 2.5h23c1.378 0 2.5-1.122 2.5-2.5v-19.5c0-0.448-0.137-1.23-1.319-2.841zM24.543 5.457c0.959 0.959 1.712 1.825 2.268 2.543h-4.811v-4.811c0.718 0.556 1.584 1.309 2.543 2.268zM28 29.5c0 0.271-0.229 0.5-0.5 0.5h-23c-0.271 0-0.5-0.229-0.5-0.5v-27c0-0.271 0.229-0.5 0.5-0.5 0 0 15.499-0 15.5 0v7c0 0.552 0.448 1 1 1h7v19.5z\"></path>\n",
       "<path d=\"M23 26h-14c-0.552 0-1-0.448-1-1s0.448-1 1-1h14c0.552 0 1 0.448 1 1s-0.448 1-1 1z\"></path>\n",
       "<path d=\"M23 22h-14c-0.552 0-1-0.448-1-1s0.448-1 1-1h14c0.552 0 1 0.448 1 1s-0.448 1-1 1z\"></path>\n",
       "<path d=\"M23 18h-14c-0.552 0-1-0.448-1-1s0.448-1 1-1h14c0.552 0 1 0.448 1 1s-0.448 1-1 1z\"></path>\n",
       "</symbol>\n",
       "</defs>\n",
       "</svg>\n",
       "<style>/* CSS stylesheet for displaying xarray objects in jupyterlab.\n",
       " *\n",
       " */\n",
       "\n",
       ":root {\n",
       "  --xr-font-color0: var(--jp-content-font-color0, rgba(0, 0, 0, 1));\n",
       "  --xr-font-color2: var(--jp-content-font-color2, rgba(0, 0, 0, 0.54));\n",
       "  --xr-font-color3: var(--jp-content-font-color3, rgba(0, 0, 0, 0.38));\n",
       "  --xr-border-color: var(--jp-border-color2, #e0e0e0);\n",
       "  --xr-disabled-color: var(--jp-layout-color3, #bdbdbd);\n",
       "  --xr-background-color: var(--jp-layout-color0, white);\n",
       "  --xr-background-color-row-even: var(--jp-layout-color1, white);\n",
       "  --xr-background-color-row-odd: var(--jp-layout-color2, #eeeeee);\n",
       "}\n",
       "\n",
       "html[theme=dark],\n",
       "body[data-theme=dark],\n",
       "body.vscode-dark {\n",
       "  --xr-font-color0: rgba(255, 255, 255, 1);\n",
       "  --xr-font-color2: rgba(255, 255, 255, 0.54);\n",
       "  --xr-font-color3: rgba(255, 255, 255, 0.38);\n",
       "  --xr-border-color: #1F1F1F;\n",
       "  --xr-disabled-color: #515151;\n",
       "  --xr-background-color: #111111;\n",
       "  --xr-background-color-row-even: #111111;\n",
       "  --xr-background-color-row-odd: #313131;\n",
       "}\n",
       "\n",
       ".xr-wrap {\n",
       "  display: block !important;\n",
       "  min-width: 300px;\n",
       "  max-width: 700px;\n",
       "}\n",
       "\n",
       ".xr-text-repr-fallback {\n",
       "  /* fallback to plain text repr when CSS is not injected (untrusted notebook) */\n",
       "  display: none;\n",
       "}\n",
       "\n",
       ".xr-header {\n",
       "  padding-top: 6px;\n",
       "  padding-bottom: 6px;\n",
       "  margin-bottom: 4px;\n",
       "  border-bottom: solid 1px var(--xr-border-color);\n",
       "}\n",
       "\n",
       ".xr-header > div,\n",
       ".xr-header > ul {\n",
       "  display: inline;\n",
       "  margin-top: 0;\n",
       "  margin-bottom: 0;\n",
       "}\n",
       "\n",
       ".xr-obj-type,\n",
       ".xr-array-name {\n",
       "  margin-left: 2px;\n",
       "  margin-right: 10px;\n",
       "}\n",
       "\n",
       ".xr-obj-type {\n",
       "  color: var(--xr-font-color2);\n",
       "}\n",
       "\n",
       ".xr-sections {\n",
       "  padding-left: 0 !important;\n",
       "  display: grid;\n",
       "  grid-template-columns: 150px auto auto 1fr 20px 20px;\n",
       "}\n",
       "\n",
       ".xr-section-item {\n",
       "  display: contents;\n",
       "}\n",
       "\n",
       ".xr-section-item input {\n",
       "  display: none;\n",
       "}\n",
       "\n",
       ".xr-section-item input + label {\n",
       "  color: var(--xr-disabled-color);\n",
       "}\n",
       "\n",
       ".xr-section-item input:enabled + label {\n",
       "  cursor: pointer;\n",
       "  color: var(--xr-font-color2);\n",
       "}\n",
       "\n",
       ".xr-section-item input:enabled + label:hover {\n",
       "  color: var(--xr-font-color0);\n",
       "}\n",
       "\n",
       ".xr-section-summary {\n",
       "  grid-column: 1;\n",
       "  color: var(--xr-font-color2);\n",
       "  font-weight: 500;\n",
       "}\n",
       "\n",
       ".xr-section-summary > span {\n",
       "  display: inline-block;\n",
       "  padding-left: 0.5em;\n",
       "}\n",
       "\n",
       ".xr-section-summary-in:disabled + label {\n",
       "  color: var(--xr-font-color2);\n",
       "}\n",
       "\n",
       ".xr-section-summary-in + label:before {\n",
       "  display: inline-block;\n",
       "  content: '►';\n",
       "  font-size: 11px;\n",
       "  width: 15px;\n",
       "  text-align: center;\n",
       "}\n",
       "\n",
       ".xr-section-summary-in:disabled + label:before {\n",
       "  color: var(--xr-disabled-color);\n",
       "}\n",
       "\n",
       ".xr-section-summary-in:checked + label:before {\n",
       "  content: '▼';\n",
       "}\n",
       "\n",
       ".xr-section-summary-in:checked + label > span {\n",
       "  display: none;\n",
       "}\n",
       "\n",
       ".xr-section-summary,\n",
       ".xr-section-inline-details {\n",
       "  padding-top: 4px;\n",
       "  padding-bottom: 4px;\n",
       "}\n",
       "\n",
       ".xr-section-inline-details {\n",
       "  grid-column: 2 / -1;\n",
       "}\n",
       "\n",
       ".xr-section-details {\n",
       "  display: none;\n",
       "  grid-column: 1 / -1;\n",
       "  margin-bottom: 5px;\n",
       "}\n",
       "\n",
       ".xr-section-summary-in:checked ~ .xr-section-details {\n",
       "  display: contents;\n",
       "}\n",
       "\n",
       ".xr-array-wrap {\n",
       "  grid-column: 1 / -1;\n",
       "  display: grid;\n",
       "  grid-template-columns: 20px auto;\n",
       "}\n",
       "\n",
       ".xr-array-wrap > label {\n",
       "  grid-column: 1;\n",
       "  vertical-align: top;\n",
       "}\n",
       "\n",
       ".xr-preview {\n",
       "  color: var(--xr-font-color3);\n",
       "}\n",
       "\n",
       ".xr-array-preview,\n",
       ".xr-array-data {\n",
       "  padding: 0 5px !important;\n",
       "  grid-column: 2;\n",
       "}\n",
       "\n",
       ".xr-array-data,\n",
       ".xr-array-in:checked ~ .xr-array-preview {\n",
       "  display: none;\n",
       "}\n",
       "\n",
       ".xr-array-in:checked ~ .xr-array-data,\n",
       ".xr-array-preview {\n",
       "  display: inline-block;\n",
       "}\n",
       "\n",
       ".xr-dim-list {\n",
       "  display: inline-block !important;\n",
       "  list-style: none;\n",
       "  padding: 0 !important;\n",
       "  margin: 0;\n",
       "}\n",
       "\n",
       ".xr-dim-list li {\n",
       "  display: inline-block;\n",
       "  padding: 0;\n",
       "  margin: 0;\n",
       "}\n",
       "\n",
       ".xr-dim-list:before {\n",
       "  content: '(';\n",
       "}\n",
       "\n",
       ".xr-dim-list:after {\n",
       "  content: ')';\n",
       "}\n",
       "\n",
       ".xr-dim-list li:not(:last-child):after {\n",
       "  content: ',';\n",
       "  padding-right: 5px;\n",
       "}\n",
       "\n",
       ".xr-has-index {\n",
       "  font-weight: bold;\n",
       "}\n",
       "\n",
       ".xr-var-list,\n",
       ".xr-var-item {\n",
       "  display: contents;\n",
       "}\n",
       "\n",
       ".xr-var-item > div,\n",
       ".xr-var-item label,\n",
       ".xr-var-item > .xr-var-name span {\n",
       "  background-color: var(--xr-background-color-row-even);\n",
       "  margin-bottom: 0;\n",
       "}\n",
       "\n",
       ".xr-var-item > .xr-var-name:hover span {\n",
       "  padding-right: 5px;\n",
       "}\n",
       "\n",
       ".xr-var-list > li:nth-child(odd) > div,\n",
       ".xr-var-list > li:nth-child(odd) > label,\n",
       ".xr-var-list > li:nth-child(odd) > .xr-var-name span {\n",
       "  background-color: var(--xr-background-color-row-odd);\n",
       "}\n",
       "\n",
       ".xr-var-name {\n",
       "  grid-column: 1;\n",
       "}\n",
       "\n",
       ".xr-var-dims {\n",
       "  grid-column: 2;\n",
       "}\n",
       "\n",
       ".xr-var-dtype {\n",
       "  grid-column: 3;\n",
       "  text-align: right;\n",
       "  color: var(--xr-font-color2);\n",
       "}\n",
       "\n",
       ".xr-var-preview {\n",
       "  grid-column: 4;\n",
       "}\n",
       "\n",
       ".xr-index-preview {\n",
       "  grid-column: 2 / 5;\n",
       "  color: var(--xr-font-color2);\n",
       "}\n",
       "\n",
       ".xr-var-name,\n",
       ".xr-var-dims,\n",
       ".xr-var-dtype,\n",
       ".xr-preview,\n",
       ".xr-attrs dt {\n",
       "  white-space: nowrap;\n",
       "  overflow: hidden;\n",
       "  text-overflow: ellipsis;\n",
       "  padding-right: 10px;\n",
       "}\n",
       "\n",
       ".xr-var-name:hover,\n",
       ".xr-var-dims:hover,\n",
       ".xr-var-dtype:hover,\n",
       ".xr-attrs dt:hover {\n",
       "  overflow: visible;\n",
       "  width: auto;\n",
       "  z-index: 1;\n",
       "}\n",
       "\n",
       ".xr-var-attrs,\n",
       ".xr-var-data,\n",
       ".xr-index-data {\n",
       "  display: none;\n",
       "  background-color: var(--xr-background-color) !important;\n",
       "  padding-bottom: 5px !important;\n",
       "}\n",
       "\n",
       ".xr-var-attrs-in:checked ~ .xr-var-attrs,\n",
       ".xr-var-data-in:checked ~ .xr-var-data,\n",
       ".xr-index-data-in:checked ~ .xr-index-data {\n",
       "  display: block;\n",
       "}\n",
       "\n",
       ".xr-var-data > table {\n",
       "  float: right;\n",
       "}\n",
       "\n",
       ".xr-var-name span,\n",
       ".xr-var-data,\n",
       ".xr-index-name div,\n",
       ".xr-index-data,\n",
       ".xr-attrs {\n",
       "  padding-left: 25px !important;\n",
       "}\n",
       "\n",
       ".xr-attrs,\n",
       ".xr-var-attrs,\n",
       ".xr-var-data,\n",
       ".xr-index-data {\n",
       "  grid-column: 1 / -1;\n",
       "}\n",
       "\n",
       "dl.xr-attrs {\n",
       "  padding: 0;\n",
       "  margin: 0;\n",
       "  display: grid;\n",
       "  grid-template-columns: 125px auto;\n",
       "}\n",
       "\n",
       ".xr-attrs dt,\n",
       ".xr-attrs dd {\n",
       "  padding: 0;\n",
       "  margin: 0;\n",
       "  float: left;\n",
       "  padding-right: 10px;\n",
       "  width: auto;\n",
       "}\n",
       "\n",
       ".xr-attrs dt {\n",
       "  font-weight: normal;\n",
       "  grid-column: 1;\n",
       "}\n",
       "\n",
       ".xr-attrs dt:hover span {\n",
       "  display: inline-block;\n",
       "  background: var(--xr-background-color);\n",
       "  padding-right: 10px;\n",
       "}\n",
       "\n",
       ".xr-attrs dd {\n",
       "  grid-column: 2;\n",
       "  white-space: pre-wrap;\n",
       "  word-break: break-all;\n",
       "}\n",
       "\n",
       ".xr-icon-database,\n",
       ".xr-icon-file-text2,\n",
       ".xr-no-icon {\n",
       "  display: inline-block;\n",
       "  vertical-align: middle;\n",
       "  width: 1em;\n",
       "  height: 1.5em !important;\n",
       "  stroke-width: 0;\n",
       "  stroke: currentColor;\n",
       "  fill: currentColor;\n",
       "}\n",
       "</style><pre class='xr-text-repr-fallback'>&lt;xarray.DataArray (variable: 4, y: 375, x: 498)&gt; Size: 6MB\n",
       "array([[[0, 0, 0, ..., 0, 0, 0],\n",
       "        [0, 0, 0, ..., 0, 0, 0],\n",
       "        [0, 0, 0, ..., 0, 0, 0],\n",
       "        ...,\n",
       "        [0, 0, 0, ..., 0, 0, 0],\n",
       "        [0, 0, 0, ..., 0, 0, 0],\n",
       "        [0, 0, 0, ..., 0, 0, 0]],\n",
       "\n",
       "       [[0, 0, 0, ..., 0, 0, 0],\n",
       "        [0, 0, 0, ..., 0, 0, 0],\n",
       "        [0, 0, 0, ..., 0, 0, 0],\n",
       "        ...,\n",
       "        [0, 0, 0, ..., 0, 0, 0],\n",
       "        [0, 0, 0, ..., 0, 0, 0],\n",
       "        [0, 0, 0, ..., 0, 0, 0]],\n",
       "\n",
       "       [[0, 0, 0, ..., 0, 0, 0],\n",
       "        [0, 0, 0, ..., 0, 0, 0],\n",
       "        [0, 0, 0, ..., 0, 0, 0],\n",
       "        ...,\n",
       "        [0, 0, 0, ..., 0, 0, 1],\n",
       "        [0, 0, 0, ..., 0, 0, 1],\n",
       "        [0, 0, 0, ..., 0, 0, 1]],\n",
       "\n",
       "       [[0, 0, 0, ..., 0, 0, 0],\n",
       "        [0, 0, 0, ..., 0, 0, 0],\n",
       "        [0, 0, 0, ..., 0, 0, 0],\n",
       "        ...,\n",
       "        [0, 0, 0, ..., 0, 0, 0],\n",
       "        [0, 0, 0, ..., 0, 0, 0],\n",
       "        [0, 0, 0, ..., 0, 0, 0]]])\n",
       "Coordinates:\n",
       "  * y            (y) float64 3kB -2.67e+06 -2.67e+06 ... -2.679e+06 -2.679e+06\n",
       "  * x            (x) float64 4kB 1.875e+06 1.876e+06 ... 1.888e+06 1.888e+06\n",
       "    spatial_ref  int32 4B 3577\n",
       "  * variable     (variable) object 32B &#x27;ConA&#x27; &#x27;ConB&#x27; &#x27;ConC&#x27; &#x27;ConD&#x27;</pre><div class='xr-wrap' style='display:none'><div class='xr-header'><div class='xr-obj-type'>xarray.DataArray</div><div class='xr-array-name'></div><ul class='xr-dim-list'><li><span class='xr-has-index'>variable</span>: 4</li><li><span class='xr-has-index'>y</span>: 375</li><li><span class='xr-has-index'>x</span>: 498</li></ul></div><ul class='xr-sections'><li class='xr-section-item'><div class='xr-array-wrap'><input id='section-05387bc1-938a-4239-ab08-e8b8c5a1988e' class='xr-array-in' type='checkbox' checked><label for='section-05387bc1-938a-4239-ab08-e8b8c5a1988e' title='Show/hide data repr'><svg class='icon xr-icon-database'><use xlink:href='#icon-database'></use></svg></label><div class='xr-array-preview xr-preview'><span>0 0 0 0 0 0 0 0 0 0 0 0 0 0 0 0 0 ... 0 0 0 0 0 0 0 0 0 0 0 0 0 0 0 0</span></div><div class='xr-array-data'><pre>array([[[0, 0, 0, ..., 0, 0, 0],\n",
       "        [0, 0, 0, ..., 0, 0, 0],\n",
       "        [0, 0, 0, ..., 0, 0, 0],\n",
       "        ...,\n",
       "        [0, 0, 0, ..., 0, 0, 0],\n",
       "        [0, 0, 0, ..., 0, 0, 0],\n",
       "        [0, 0, 0, ..., 0, 0, 0]],\n",
       "\n",
       "       [[0, 0, 0, ..., 0, 0, 0],\n",
       "        [0, 0, 0, ..., 0, 0, 0],\n",
       "        [0, 0, 0, ..., 0, 0, 0],\n",
       "        ...,\n",
       "        [0, 0, 0, ..., 0, 0, 0],\n",
       "        [0, 0, 0, ..., 0, 0, 0],\n",
       "        [0, 0, 0, ..., 0, 0, 0]],\n",
       "\n",
       "       [[0, 0, 0, ..., 0, 0, 0],\n",
       "        [0, 0, 0, ..., 0, 0, 0],\n",
       "        [0, 0, 0, ..., 0, 0, 0],\n",
       "        ...,\n",
       "        [0, 0, 0, ..., 0, 0, 1],\n",
       "        [0, 0, 0, ..., 0, 0, 1],\n",
       "        [0, 0, 0, ..., 0, 0, 1]],\n",
       "\n",
       "       [[0, 0, 0, ..., 0, 0, 0],\n",
       "        [0, 0, 0, ..., 0, 0, 0],\n",
       "        [0, 0, 0, ..., 0, 0, 0],\n",
       "        ...,\n",
       "        [0, 0, 0, ..., 0, 0, 0],\n",
       "        [0, 0, 0, ..., 0, 0, 0],\n",
       "        [0, 0, 0, ..., 0, 0, 0]]])</pre></div></div></li><li class='xr-section-item'><input id='section-61f28279-4185-4331-842e-b809955bfe3c' class='xr-section-summary-in' type='checkbox'  checked><label for='section-61f28279-4185-4331-842e-b809955bfe3c' class='xr-section-summary' >Coordinates: <span>(4)</span></label><div class='xr-section-inline-details'></div><div class='xr-section-details'><ul class='xr-var-list'><li class='xr-var-item'><div class='xr-var-name'><span class='xr-has-index'>y</span></div><div class='xr-var-dims'>(y)</div><div class='xr-var-dtype'>float64</div><div class='xr-var-preview xr-preview'>-2.67e+06 -2.67e+06 ... -2.679e+06</div><input id='attrs-253135b5-9fa4-4f6e-8064-c61d03329160' class='xr-var-attrs-in' type='checkbox' ><label for='attrs-253135b5-9fa4-4f6e-8064-c61d03329160' title='Show/Hide attributes'><svg class='icon xr-icon-file-text2'><use xlink:href='#icon-file-text2'></use></svg></label><input id='data-99cad265-878e-45e2-87e1-d2563450c2d2' class='xr-var-data-in' type='checkbox'><label for='data-99cad265-878e-45e2-87e1-d2563450c2d2' title='Show/Hide data repr'><svg class='icon xr-icon-database'><use xlink:href='#icon-database'></use></svg></label><div class='xr-var-attrs'><dl class='xr-attrs'><dt><span>units :</span></dt><dd>metre</dd><dt><span>resolution :</span></dt><dd>-25.0</dd><dt><span>crs :</span></dt><dd>EPSG:3577</dd></dl></div><div class='xr-var-data'><pre>array([-2669662.5, -2669687.5, -2669712.5, ..., -2678962.5, -2678987.5,\n",
       "       -2679012.5])</pre></div></li><li class='xr-var-item'><div class='xr-var-name'><span class='xr-has-index'>x</span></div><div class='xr-var-dims'>(x)</div><div class='xr-var-dtype'>float64</div><div class='xr-var-preview xr-preview'>1.875e+06 1.876e+06 ... 1.888e+06</div><input id='attrs-7d6a1962-c2da-4a5f-a3ad-b73fd8ffa268' class='xr-var-attrs-in' type='checkbox' ><label for='attrs-7d6a1962-c2da-4a5f-a3ad-b73fd8ffa268' title='Show/Hide attributes'><svg class='icon xr-icon-file-text2'><use xlink:href='#icon-file-text2'></use></svg></label><input id='data-0437386c-16b4-41b5-9e9d-6d5e91a15d3b' class='xr-var-data-in' type='checkbox'><label for='data-0437386c-16b4-41b5-9e9d-6d5e91a15d3b' title='Show/Hide data repr'><svg class='icon xr-icon-database'><use xlink:href='#icon-database'></use></svg></label><div class='xr-var-attrs'><dl class='xr-attrs'><dt><span>units :</span></dt><dd>metre</dd><dt><span>resolution :</span></dt><dd>25.0</dd><dt><span>crs :</span></dt><dd>EPSG:3577</dd></dl></div><div class='xr-var-data'><pre>array([1875487.5, 1875512.5, 1875537.5, ..., 1887862.5, 1887887.5, 1887912.5])</pre></div></li><li class='xr-var-item'><div class='xr-var-name'><span>spatial_ref</span></div><div class='xr-var-dims'>()</div><div class='xr-var-dtype'>int32</div><div class='xr-var-preview xr-preview'>3577</div><input id='attrs-213d4444-79e3-4548-8cae-357ea92f08f6' class='xr-var-attrs-in' type='checkbox' ><label for='attrs-213d4444-79e3-4548-8cae-357ea92f08f6' title='Show/Hide attributes'><svg class='icon xr-icon-file-text2'><use xlink:href='#icon-file-text2'></use></svg></label><input id='data-466d56f7-f89b-45fb-9194-e221a9d838c0' class='xr-var-data-in' type='checkbox'><label for='data-466d56f7-f89b-45fb-9194-e221a9d838c0' title='Show/Hide data repr'><svg class='icon xr-icon-database'><use xlink:href='#icon-database'></use></svg></label><div class='xr-var-attrs'><dl class='xr-attrs'><dt><span>spatial_ref :</span></dt><dd>PROJCS[&quot;GDA94 / Australian Albers&quot;,GEOGCS[&quot;GDA94&quot;,DATUM[&quot;Geocentric_Datum_of_Australia_1994&quot;,SPHEROID[&quot;GRS 1980&quot;,6378137,298.257222101,AUTHORITY[&quot;EPSG&quot;,&quot;7019&quot;]],AUTHORITY[&quot;EPSG&quot;,&quot;6283&quot;]],PRIMEM[&quot;Greenwich&quot;,0,AUTHORITY[&quot;EPSG&quot;,&quot;8901&quot;]],UNIT[&quot;degree&quot;,0.0174532925199433,AUTHORITY[&quot;EPSG&quot;,&quot;9122&quot;]],AUTHORITY[&quot;EPSG&quot;,&quot;4283&quot;]],PROJECTION[&quot;Albers_Conic_Equal_Area&quot;],PARAMETER[&quot;latitude_of_center&quot;,0],PARAMETER[&quot;longitude_of_center&quot;,132],PARAMETER[&quot;standard_parallel_1&quot;,-18],PARAMETER[&quot;standard_parallel_2&quot;,-36],PARAMETER[&quot;false_easting&quot;,0],PARAMETER[&quot;false_northing&quot;,0],UNIT[&quot;metre&quot;,1,AUTHORITY[&quot;EPSG&quot;,&quot;9001&quot;]],AXIS[&quot;Easting&quot;,EAST],AXIS[&quot;Northing&quot;,NORTH],AUTHORITY[&quot;EPSG&quot;,&quot;3577&quot;]]</dd><dt><span>grid_mapping_name :</span></dt><dd>albers_conical_equal_area</dd></dl></div><div class='xr-var-data'><pre>array(3577, dtype=int32)</pre></div></li><li class='xr-var-item'><div class='xr-var-name'><span class='xr-has-index'>variable</span></div><div class='xr-var-dims'>(variable)</div><div class='xr-var-dtype'>object</div><div class='xr-var-preview xr-preview'>&#x27;ConA&#x27; &#x27;ConB&#x27; &#x27;ConC&#x27; &#x27;ConD&#x27;</div><input id='attrs-34741c8d-5ad9-4e8c-a2c7-fb4166f5184a' class='xr-var-attrs-in' type='checkbox' disabled><label for='attrs-34741c8d-5ad9-4e8c-a2c7-fb4166f5184a' title='Show/Hide attributes'><svg class='icon xr-icon-file-text2'><use xlink:href='#icon-file-text2'></use></svg></label><input id='data-0e00c3d2-7f95-4f9d-b8ce-e67c369e6224' class='xr-var-data-in' type='checkbox'><label for='data-0e00c3d2-7f95-4f9d-b8ce-e67c369e6224' title='Show/Hide data repr'><svg class='icon xr-icon-database'><use xlink:href='#icon-database'></use></svg></label><div class='xr-var-attrs'><dl class='xr-attrs'></dl></div><div class='xr-var-data'><pre>array([&#x27;ConA&#x27;, &#x27;ConB&#x27;, &#x27;ConC&#x27;, &#x27;ConD&#x27;], dtype=object)</pre></div></li></ul></div></li><li class='xr-section-item'><input id='section-7317649f-12d1-4719-b458-d38c57950733' class='xr-section-summary-in' type='checkbox'  ><label for='section-7317649f-12d1-4719-b458-d38c57950733' class='xr-section-summary' >Indexes: <span>(3)</span></label><div class='xr-section-inline-details'></div><div class='xr-section-details'><ul class='xr-var-list'><li class='xr-var-item'><div class='xr-index-name'><div>y</div></div><div class='xr-index-preview'>PandasIndex</div><div></div><input id='index-9db8a3c6-f1ca-4232-a10d-f20c382bef16' class='xr-index-data-in' type='checkbox'/><label for='index-9db8a3c6-f1ca-4232-a10d-f20c382bef16' title='Show/Hide index repr'><svg class='icon xr-icon-database'><use xlink:href='#icon-database'></use></svg></label><div class='xr-index-data'><pre>PandasIndex(Index([-2669662.5, -2669687.5, -2669712.5, -2669737.5, -2669762.5, -2669787.5,\n",
       "       -2669812.5, -2669837.5, -2669862.5, -2669887.5,\n",
       "       ...\n",
       "       -2678787.5, -2678812.5, -2678837.5, -2678862.5, -2678887.5, -2678912.5,\n",
       "       -2678937.5, -2678962.5, -2678987.5, -2679012.5],\n",
       "      dtype=&#x27;float64&#x27;, name=&#x27;y&#x27;, length=375))</pre></div></li><li class='xr-var-item'><div class='xr-index-name'><div>x</div></div><div class='xr-index-preview'>PandasIndex</div><div></div><input id='index-3932b378-ce93-472f-964f-d2e25fee288e' class='xr-index-data-in' type='checkbox'/><label for='index-3932b378-ce93-472f-964f-d2e25fee288e' title='Show/Hide index repr'><svg class='icon xr-icon-database'><use xlink:href='#icon-database'></use></svg></label><div class='xr-index-data'><pre>PandasIndex(Index([1875487.5, 1875512.5, 1875537.5, 1875562.5, 1875587.5, 1875612.5,\n",
       "       1875637.5, 1875662.5, 1875687.5, 1875712.5,\n",
       "       ...\n",
       "       1887687.5, 1887712.5, 1887737.5, 1887762.5, 1887787.5, 1887812.5,\n",
       "       1887837.5, 1887862.5, 1887887.5, 1887912.5],\n",
       "      dtype=&#x27;float64&#x27;, name=&#x27;x&#x27;, length=498))</pre></div></li><li class='xr-var-item'><div class='xr-index-name'><div>variable</div></div><div class='xr-index-preview'>PandasIndex</div><div></div><input id='index-a0fa83ee-a543-4dd9-bc6b-571a6abd73dc' class='xr-index-data-in' type='checkbox'/><label for='index-a0fa83ee-a543-4dd9-bc6b-571a6abd73dc' title='Show/Hide index repr'><svg class='icon xr-icon-database'><use xlink:href='#icon-database'></use></svg></label><div class='xr-index-data'><pre>PandasIndex(Index([&#x27;ConA&#x27;, &#x27;ConB&#x27;, &#x27;ConC&#x27;, &#x27;ConD&#x27;], dtype=&#x27;object&#x27;, name=&#x27;variable&#x27;))</pre></div></li></ul></div></li><li class='xr-section-item'><input id='section-bd26f973-44b3-44ff-ad32-0831d5d030d0' class='xr-section-summary-in' type='checkbox' disabled ><label for='section-bd26f973-44b3-44ff-ad32-0831d5d030d0' class='xr-section-summary'  title='Expand/collapse section'>Attributes: <span>(0)</span></label><div class='xr-section-inline-details'></div><div class='xr-section-details'><dl class='xr-attrs'></dl></div></li></ul></div></div>"
      ],
      "text/plain": [
       "<xarray.DataArray (variable: 4, y: 375, x: 498)> Size: 6MB\n",
       "array([[[0, 0, 0, ..., 0, 0, 0],\n",
       "        [0, 0, 0, ..., 0, 0, 0],\n",
       "        [0, 0, 0, ..., 0, 0, 0],\n",
       "        ...,\n",
       "        [0, 0, 0, ..., 0, 0, 0],\n",
       "        [0, 0, 0, ..., 0, 0, 0],\n",
       "        [0, 0, 0, ..., 0, 0, 0]],\n",
       "\n",
       "       [[0, 0, 0, ..., 0, 0, 0],\n",
       "        [0, 0, 0, ..., 0, 0, 0],\n",
       "        [0, 0, 0, ..., 0, 0, 0],\n",
       "        ...,\n",
       "        [0, 0, 0, ..., 0, 0, 0],\n",
       "        [0, 0, 0, ..., 0, 0, 0],\n",
       "        [0, 0, 0, ..., 0, 0, 0]],\n",
       "\n",
       "       [[0, 0, 0, ..., 0, 0, 0],\n",
       "        [0, 0, 0, ..., 0, 0, 0],\n",
       "        [0, 0, 0, ..., 0, 0, 0],\n",
       "        ...,\n",
       "        [0, 0, 0, ..., 0, 0, 1],\n",
       "        [0, 0, 0, ..., 0, 0, 1],\n",
       "        [0, 0, 0, ..., 0, 0, 1]],\n",
       "\n",
       "       [[0, 0, 0, ..., 0, 0, 0],\n",
       "        [0, 0, 0, ..., 0, 0, 0],\n",
       "        [0, 0, 0, ..., 0, 0, 0],\n",
       "        ...,\n",
       "        [0, 0, 0, ..., 0, 0, 0],\n",
       "        [0, 0, 0, ..., 0, 0, 0],\n",
       "        [0, 0, 0, ..., 0, 0, 0]]])\n",
       "Coordinates:\n",
       "  * y            (y) float64 3kB -2.67e+06 -2.67e+06 ... -2.679e+06 -2.679e+06\n",
       "  * x            (x) float64 4kB 1.875e+06 1.876e+06 ... 1.888e+06 1.888e+06\n",
       "    spatial_ref  int32 4B 3577\n",
       "  * variable     (variable) object 32B 'ConA' 'ConB' 'ConC' 'ConD'"
      ]
     },
     "execution_count": 68,
     "metadata": {},
     "output_type": "execute_result"
    }
   ],
   "source": [
    "L3L3"
   ]
  },
  {
   "cell_type": "code",
   "execution_count": 69,
   "id": "d06c6674-d26c-48cd-bc66-984b43c89f7f",
   "metadata": {
    "tags": []
   },
   "outputs": [],
   "source": [
    "variable_keys = value.keys()"
   ]
  },
  {
   "cell_type": "code",
   "execution_count": 70,
   "id": "99bc2959-6d8f-4f83-9ff8-fe93a0751878",
   "metadata": {
    "tags": []
   },
   "outputs": [
    {
     "name": "stdout",
     "output_type": "stream",
     "text": [
      "dict_keys(['ConA', 'ConB', 'ConC', 'ConD'])\n"
     ]
    }
   ],
   "source": [
    "print(variable_keys)"
   ]
  },
  {
   "cell_type": "code",
   "execution_count": 71,
   "id": "85372bab-6dde-4e37-9b3d-ec84bdb4b715",
   "metadata": {
    "tags": []
   },
   "outputs": [],
   "source": [
    "threshold=0"
   ]
  },
  {
   "cell_type": "code",
   "execution_count": 72,
   "id": "4e5a7180-3aa2-4558-a6ef-aeb2f9972180",
   "metadata": {
    "tags": []
   },
   "outputs": [
    {
     "ename": "KeyError",
     "evalue": "'ConA'",
     "output_type": "error",
     "traceback": [
      "\u001b[0;31m---------------------------------------------------------------------------\u001b[0m",
      "\u001b[0;31mKeyError\u001b[0m                                  Traceback (most recent call last)",
      "File \u001b[0;32m/env/lib/python3.10/site-packages/xarray/core/dataarray.py:862\u001b[0m, in \u001b[0;36mDataArray._getitem_coord\u001b[0;34m(self, key)\u001b[0m\n\u001b[1;32m    861\u001b[0m \u001b[38;5;28;01mtry\u001b[39;00m:\n\u001b[0;32m--> 862\u001b[0m     var \u001b[38;5;241m=\u001b[39m \u001b[38;5;28;43mself\u001b[39;49m\u001b[38;5;241;43m.\u001b[39;49m\u001b[43m_coords\u001b[49m\u001b[43m[\u001b[49m\u001b[43mkey\u001b[49m\u001b[43m]\u001b[49m\n\u001b[1;32m    863\u001b[0m \u001b[38;5;28;01mexcept\u001b[39;00m \u001b[38;5;167;01mKeyError\u001b[39;00m:\n",
      "\u001b[0;31mKeyError\u001b[0m: 'ConA'",
      "\nDuring handling of the above exception, another exception occurred:\n",
      "\u001b[0;31mKeyError\u001b[0m                                  Traceback (most recent call last)",
      "\u001b[0;32m/tmp/ipykernel_7569/4157719152.py\u001b[0m in \u001b[0;36m?\u001b[0;34m()\u001b[0m\n\u001b[0;32m----> 1\u001b[0;31m \u001b[0mvariables_to_drop\u001b[0m \u001b[0;34m=\u001b[0m \u001b[0;34m[\u001b[0m\u001b[0mvar\u001b[0m \u001b[0;32mfor\u001b[0m \u001b[0mvar\u001b[0m \u001b[0;32min\u001b[0m \u001b[0mvariable_keys\u001b[0m \u001b[0;32mif\u001b[0m \u001b[0mL3L3\u001b[0m\u001b[0;34m[\u001b[0m\u001b[0mvar\u001b[0m\u001b[0;34m]\u001b[0m\u001b[0;34m.\u001b[0m\u001b[0msum\u001b[0m\u001b[0;34m(\u001b[0m\u001b[0;34m)\u001b[0m \u001b[0;34m>\u001b[0m \u001b[0mthreshold\u001b[0m\u001b[0;34m]\u001b[0m\u001b[0;34m\u001b[0m\u001b[0;34m\u001b[0m\u001b[0m\n\u001b[0m",
      "\u001b[0;32m/tmp/ipykernel_7569/4157719152.py\u001b[0m in \u001b[0;36m?\u001b[0;34m(.0)\u001b[0m\n\u001b[0;32m----> 1\u001b[0;31m \u001b[0mvariables_to_drop\u001b[0m \u001b[0;34m=\u001b[0m \u001b[0;34m[\u001b[0m\u001b[0mvar\u001b[0m \u001b[0;32mfor\u001b[0m \u001b[0mvar\u001b[0m \u001b[0;32min\u001b[0m \u001b[0mvariable_keys\u001b[0m \u001b[0;32mif\u001b[0m \u001b[0mL3L3\u001b[0m\u001b[0;34m[\u001b[0m\u001b[0mvar\u001b[0m\u001b[0;34m]\u001b[0m\u001b[0;34m.\u001b[0m\u001b[0msum\u001b[0m\u001b[0;34m(\u001b[0m\u001b[0;34m)\u001b[0m \u001b[0;34m>\u001b[0m \u001b[0mthreshold\u001b[0m\u001b[0;34m]\u001b[0m\u001b[0;34m\u001b[0m\u001b[0;34m\u001b[0m\u001b[0m\n\u001b[0m",
      "\u001b[0;32m/env/lib/python3.10/site-packages/xarray/core/dataarray.py\u001b[0m in \u001b[0;36m?\u001b[0;34m(self, key)\u001b[0m\n\u001b[1;32m    869\u001b[0m     \u001b[0;32mdef\u001b[0m \u001b[0m__getitem__\u001b[0m\u001b[0;34m(\u001b[0m\u001b[0mself\u001b[0m\u001b[0;34m,\u001b[0m \u001b[0mkey\u001b[0m\u001b[0;34m:\u001b[0m \u001b[0mAny\u001b[0m\u001b[0;34m)\u001b[0m \u001b[0;34m->\u001b[0m \u001b[0mSelf\u001b[0m\u001b[0;34m:\u001b[0m\u001b[0;34m\u001b[0m\u001b[0;34m\u001b[0m\u001b[0m\n\u001b[1;32m    870\u001b[0m         \u001b[0;32mif\u001b[0m \u001b[0misinstance\u001b[0m\u001b[0;34m(\u001b[0m\u001b[0mkey\u001b[0m\u001b[0;34m,\u001b[0m \u001b[0mstr\u001b[0m\u001b[0;34m)\u001b[0m\u001b[0;34m:\u001b[0m\u001b[0;34m\u001b[0m\u001b[0;34m\u001b[0m\u001b[0m\n\u001b[0;32m--> 871\u001b[0;31m             \u001b[0;32mreturn\u001b[0m \u001b[0mself\u001b[0m\u001b[0;34m.\u001b[0m\u001b[0m_getitem_coord\u001b[0m\u001b[0;34m(\u001b[0m\u001b[0mkey\u001b[0m\u001b[0;34m)\u001b[0m\u001b[0;34m\u001b[0m\u001b[0;34m\u001b[0m\u001b[0m\n\u001b[0m\u001b[1;32m    872\u001b[0m         \u001b[0;32melse\u001b[0m\u001b[0;34m:\u001b[0m\u001b[0;34m\u001b[0m\u001b[0;34m\u001b[0m\u001b[0m\n\u001b[1;32m    873\u001b[0m             \u001b[0;31m# xarray-style array indexing\u001b[0m\u001b[0;34m\u001b[0m\u001b[0;34m\u001b[0m\u001b[0m\n\u001b[1;32m    874\u001b[0m             \u001b[0;32mreturn\u001b[0m \u001b[0mself\u001b[0m\u001b[0;34m.\u001b[0m\u001b[0misel\u001b[0m\u001b[0;34m(\u001b[0m\u001b[0mindexers\u001b[0m\u001b[0;34m=\u001b[0m\u001b[0mself\u001b[0m\u001b[0;34m.\u001b[0m\u001b[0m_item_key_to_dict\u001b[0m\u001b[0;34m(\u001b[0m\u001b[0mkey\u001b[0m\u001b[0;34m)\u001b[0m\u001b[0;34m)\u001b[0m\u001b[0;34m\u001b[0m\u001b[0;34m\u001b[0m\u001b[0m\n",
      "\u001b[0;32m/env/lib/python3.10/site-packages/xarray/core/dataarray.py\u001b[0m in \u001b[0;36m?\u001b[0;34m(self, key)\u001b[0m\n\u001b[1;32m    861\u001b[0m         \u001b[0;32mtry\u001b[0m\u001b[0;34m:\u001b[0m\u001b[0;34m\u001b[0m\u001b[0;34m\u001b[0m\u001b[0m\n\u001b[1;32m    862\u001b[0m             \u001b[0mvar\u001b[0m \u001b[0;34m=\u001b[0m \u001b[0mself\u001b[0m\u001b[0;34m.\u001b[0m\u001b[0m_coords\u001b[0m\u001b[0;34m[\u001b[0m\u001b[0mkey\u001b[0m\u001b[0;34m]\u001b[0m\u001b[0;34m\u001b[0m\u001b[0;34m\u001b[0m\u001b[0m\n\u001b[1;32m    863\u001b[0m         \u001b[0;32mexcept\u001b[0m \u001b[0mKeyError\u001b[0m\u001b[0;34m:\u001b[0m\u001b[0;34m\u001b[0m\u001b[0;34m\u001b[0m\u001b[0m\n\u001b[1;32m    864\u001b[0m             \u001b[0mdim_sizes\u001b[0m \u001b[0;34m=\u001b[0m \u001b[0mdict\u001b[0m\u001b[0;34m(\u001b[0m\u001b[0mzip\u001b[0m\u001b[0;34m(\u001b[0m\u001b[0mself\u001b[0m\u001b[0;34m.\u001b[0m\u001b[0mdims\u001b[0m\u001b[0;34m,\u001b[0m \u001b[0mself\u001b[0m\u001b[0;34m.\u001b[0m\u001b[0mshape\u001b[0m\u001b[0;34m)\u001b[0m\u001b[0;34m)\u001b[0m\u001b[0;34m\u001b[0m\u001b[0;34m\u001b[0m\u001b[0m\n\u001b[0;32m--> 865\u001b[0;31m             \u001b[0m_\u001b[0m\u001b[0;34m,\u001b[0m \u001b[0mkey\u001b[0m\u001b[0;34m,\u001b[0m \u001b[0mvar\u001b[0m \u001b[0;34m=\u001b[0m \u001b[0m_get_virtual_variable\u001b[0m\u001b[0;34m(\u001b[0m\u001b[0mself\u001b[0m\u001b[0;34m.\u001b[0m\u001b[0m_coords\u001b[0m\u001b[0;34m,\u001b[0m \u001b[0mkey\u001b[0m\u001b[0;34m,\u001b[0m \u001b[0mdim_sizes\u001b[0m\u001b[0;34m)\u001b[0m\u001b[0;34m\u001b[0m\u001b[0;34m\u001b[0m\u001b[0m\n\u001b[0m\u001b[1;32m    866\u001b[0m \u001b[0;34m\u001b[0m\u001b[0m\n\u001b[1;32m    867\u001b[0m         \u001b[0;32mreturn\u001b[0m \u001b[0mself\u001b[0m\u001b[0;34m.\u001b[0m\u001b[0m_replace_maybe_drop_dims\u001b[0m\u001b[0;34m(\u001b[0m\u001b[0mvar\u001b[0m\u001b[0;34m,\u001b[0m \u001b[0mname\u001b[0m\u001b[0;34m=\u001b[0m\u001b[0mkey\u001b[0m\u001b[0;34m)\u001b[0m\u001b[0;34m\u001b[0m\u001b[0;34m\u001b[0m\u001b[0m\n",
      "\u001b[0;32m/env/lib/python3.10/site-packages/xarray/core/dataset.py\u001b[0m in \u001b[0;36m?\u001b[0;34m(variables, key, dim_sizes)\u001b[0m\n\u001b[1;32m    203\u001b[0m         \u001b[0;32mraise\u001b[0m \u001b[0mKeyError\u001b[0m\u001b[0;34m(\u001b[0m\u001b[0mkey\u001b[0m\u001b[0;34m)\u001b[0m\u001b[0;34m\u001b[0m\u001b[0;34m\u001b[0m\u001b[0m\n\u001b[1;32m    204\u001b[0m \u001b[0;34m\u001b[0m\u001b[0m\n\u001b[1;32m    205\u001b[0m     \u001b[0msplit_key\u001b[0m \u001b[0;34m=\u001b[0m \u001b[0mkey\u001b[0m\u001b[0;34m.\u001b[0m\u001b[0msplit\u001b[0m\u001b[0;34m(\u001b[0m\u001b[0;34m\".\"\u001b[0m\u001b[0;34m,\u001b[0m \u001b[0;36m1\u001b[0m\u001b[0;34m)\u001b[0m\u001b[0;34m\u001b[0m\u001b[0;34m\u001b[0m\u001b[0m\n\u001b[1;32m    206\u001b[0m     \u001b[0;32mif\u001b[0m \u001b[0mlen\u001b[0m\u001b[0;34m(\u001b[0m\u001b[0msplit_key\u001b[0m\u001b[0;34m)\u001b[0m \u001b[0;34m!=\u001b[0m \u001b[0;36m2\u001b[0m\u001b[0;34m:\u001b[0m\u001b[0;34m\u001b[0m\u001b[0;34m\u001b[0m\u001b[0m\n\u001b[0;32m--> 207\u001b[0;31m         \u001b[0;32mraise\u001b[0m \u001b[0mKeyError\u001b[0m\u001b[0;34m(\u001b[0m\u001b[0mkey\u001b[0m\u001b[0;34m)\u001b[0m\u001b[0;34m\u001b[0m\u001b[0;34m\u001b[0m\u001b[0m\n\u001b[0m\u001b[1;32m    208\u001b[0m \u001b[0;34m\u001b[0m\u001b[0m\n\u001b[1;32m    209\u001b[0m     \u001b[0mref_name\u001b[0m\u001b[0;34m,\u001b[0m \u001b[0mvar_name\u001b[0m \u001b[0;34m=\u001b[0m \u001b[0msplit_key\u001b[0m\u001b[0;34m\u001b[0m\u001b[0;34m\u001b[0m\u001b[0m\n\u001b[1;32m    210\u001b[0m     \u001b[0mref_var\u001b[0m \u001b[0;34m=\u001b[0m \u001b[0mvariables\u001b[0m\u001b[0;34m[\u001b[0m\u001b[0mref_name\u001b[0m\u001b[0;34m]\u001b[0m\u001b[0;34m\u001b[0m\u001b[0;34m\u001b[0m\u001b[0m\n",
      "\u001b[0;31mKeyError\u001b[0m: 'ConA'"
     ]
    }
   ],
   "source": [
    "variables_to_drop = [var for var in variable_keys if L3L3[var].sum() > threshold]"
   ]
  },
  {
   "cell_type": "code",
   "execution_count": null,
   "id": "e18ece99-1f77-4cb5-be99-587dd7011ad3",
   "metadata": {
    "tags": []
   },
   "outputs": [],
   "source": [
    "L3L3fl = L3L3.drop_vars(variables_to_drop)"
   ]
  },
  {
   "cell_type": "code",
   "execution_count": null,
   "id": "0f1754de-b594-43ba-a853-3e19e39d46fe",
   "metadata": {
    "tags": []
   },
   "outputs": [],
   "source": [
    "L3L3"
   ]
  },
  {
   "cell_type": "code",
   "execution_count": 31,
   "id": "8a84511e-dbbe-40b1-98b2-3a9f90e68760",
   "metadata": {
    "tags": []
   },
   "outputs": [
    {
     "data": {
      "text/plain": [
       "<matplotlib.collections.QuadMesh at 0x7fd06c217bb0>"
      ]
     },
     "execution_count": 31,
     "metadata": {},
     "output_type": "execute_result"
    },
    {
     "data": {
      "image/png": "[encoded data removed]",
      "text/plain": [
       "<Figure size 3000x1000 with 8 Axes>"
      ]
     },
     "metadata": {},
     "output_type": "display_data"
    }
   ],
   "source": [
    "L3L3_fig, axs = plt.subplots(nrows = 2, ncols = 2, figsize=(30, 10))\n",
    "L3L3[0].plot(ax=axs[0,0], cmap='terrain', add_labels=False)\n",
    "L3L3[1].plot(ax=axs[0,1], cmap='terrain', add_labels=False)\n",
    "L3L3[2].plot(ax=axs[1,0], cmap='terrain', add_labels=False)\n",
    "L3L3[3].plot(ax=axs[1,1], cmap='terrain', add_labels=False)"
   ]
  },
  {
   "cell_type": "code",
   "execution_count": null,
   "id": "10992068-becf-4566-bd25-f52bb40ccddd",
   "metadata": {
    "tags": []
   },
   "outputs": [],
   "source": [
    "Impact = np.where(\n",
    "    (\n",
    "        ((L3L3[0] == 1) | (L3L3[1] == 1) | (L3L3[0] == 1) |  (L3L3[1] == 1))\n",
    "    ),\n",
    "    1,\n",
    "    0,\n",
    ")\n",
    "ImpactSummary = xr.DataArray(\n",
    "    data=Impact,\n",
    "    coords=level_3.coords,\n",
    "    dims=level_3.dims,\n",
    "    name=\"Impacts\",\n",
    "    attrs=None,\n",
    ")\n",
    "# Make a mask of 1 for the 'impact' class No. 44 'vegetation amount (loss)' \n",
    "ImpactSummary = ImpactSummary"
   ]
  },
  {
   "cell_type": "code",
   "execution_count": null,
   "id": "18af3306-f842-436a-8735-9646cd2af0cc",
   "metadata": {
    "tags": []
   },
   "outputs": [],
   "source": [
    "ImpactSummary.plot()"
   ]
  },
  {
   "cell_type": "markdown",
   "id": "b9b68876-99f5-427e-a120-6b938266a879",
   "metadata": {},
   "source": [
    "### Generate plots for Lifeform changes."
   ]
  },
  {
   "cell_type": "code",
   "execution_count": 32,
   "id": "87ef3976-3fff-45bd-90ed-176f391de800",
   "metadata": {
    "tags": []
   },
   "outputs": [
    {
     "name": "stdout",
     "output_type": "stream",
     "text": [
      "Selected IP_UID: 153\n",
      "name: [('LfA', 1), ('LfB', 2)]\n"
     ]
    }
   ],
   "source": [
    "# Function to create and display individual masks and calculate area percentages\n",
    "def lifeform():\n",
    "    global selected_ip_uid\n",
    "\n",
    "    # Debug: Print selected IP_UID\n",
    "    print(f\"Selected IP_UID: {selected_ip_uid}\")\n",
    "\n",
    "    # Extract the relevant evidence values based on the selected IP_UID\n",
    "    evidence = next((v for k, v in identifier_to_evidence.items() if v['IP_UID'] == selected_ip_uid), None)\n",
    "\n",
    "    selected_lifeform_values = [(name, value) for name, value in evidence['Lifeform_Evidence']]\n",
    "    print(f\"name: {selected_lifeform_values}\")\n",
    "    plot_titles = []  \n",
    "    \n",
    "    # List to store plot titles and their area percentages\n",
    "\n",
    "    def plot_and_calculate_area(data, title, color_map):\n",
    "        fig, ax = plt.subplots(figsize=(10, 6))\n",
    "        data.plot(ax=ax, cmap=color_map)\n",
    "        fig.suptitle(f\"IP_UID: {selected_ip_uid}\", fontsize=16, y=1.05)\n",
    "        ax.set_title(title)\n",
    "        plt.tight_layout()\n",
    "        plt.show()\n",
    "        \n",
    "    lfvar={}\n",
    "    if selected_lifeform_values:\n",
    "\n",
    "        for name, value in selected_lifeform_values:\n",
    "            change_lf = np.where(\n",
    "                (obs_change_lf.lf_t1_t2 == value),\n",
    "                1,\n",
    "                0\n",
    "            )\n",
    "\n",
    "            change_xr_lf = xr.DataArray(\n",
    "                data=change_lf,\n",
    "                coords=level_3.coords,\n",
    "                dims=level_3.dims,\n",
    "                name=\"val1\",\n",
    "                attrs=level_3.attrs,\n",
    "                fastpath=False,\n",
    "            )\n",
    "\n",
    "            lfvar[name]=change_xr_lf\n",
    "            \n",
    "            change_ds_l3 = change_xr_lf.to_dataset(name=\"val1\")  \n",
    "#            plot_and_calculate_area(change_ds_l3.val1, f\"{name} Change Mask for Value {value}\", 'Reds')\n",
    "\n",
    "\n",
    "    return lfvar           \n",
    "value = lifeform()\n",
    "#print(value)"
   ]
  },
  {
   "cell_type": "code",
   "execution_count": 33,
   "id": "a2b14fbc-d3b4-4040-905c-65ca4601711b",
   "metadata": {
    "tags": []
   },
   "outputs": [],
   "source": [
    "LFLF = xr.Dataset(value).to_array()"
   ]
  },
  {
   "cell_type": "code",
   "execution_count": 34,
   "id": "26eaac97-62ea-43e9-86cb-ae7e2be340cd",
   "metadata": {
    "tags": []
   },
   "outputs": [],
   "source": [
    "variable_keys = value.keys()"
   ]
  },
  {
   "cell_type": "code",
   "execution_count": 35,
   "id": "2d643855-df9b-4f70-bb5a-e31361dbe7f6",
   "metadata": {
    "tags": []
   },
   "outputs": [
    {
     "name": "stdout",
     "output_type": "stream",
     "text": [
      "dict_keys(['LfA', 'LfB'])\n"
     ]
    }
   ],
   "source": [
    "print(variable_keys)"
   ]
  },
  {
   "cell_type": "code",
   "execution_count": null,
   "id": "48bb3804-17a3-43f1-924e-9297cd65f932",
   "metadata": {
    "tags": []
   },
   "outputs": [],
   "source": [
    "variables_to_drop = [var for var in variable_keys if LFLF[var].sum() == 0]"
   ]
  },
  {
   "cell_type": "code",
   "execution_count": 36,
   "id": "2bf1c44b-0f3e-4206-aede-f8b303240b2a",
   "metadata": {
    "tags": []
   },
   "outputs": [
    {
     "data": {
      "text/plain": [
       "<matplotlib.collections.QuadMesh at 0x7fd06d402410>"
      ]
     },
     "execution_count": 36,
     "metadata": {},
     "output_type": "execute_result"
    },
    {
     "data": {
      "image/png": "[encoded data removed]",
      "text/plain": [
       "<Figure size 3000x1000 with 8 Axes>"
      ]
     },
     "metadata": {},
     "output_type": "display_data"
    }
   ],
   "source": [
    "Lifeform_Change_fig, axs = plt.subplots(nrows = 2, ncols = 2, figsize=(30, 10))\n",
    "LFLF[0].plot(ax=axs[0,0], cmap='terrain', add_labels=False)\n",
    "LFLF[1].plot(ax=axs[0,1], cmap='terrain', add_labels=False)\n",
    "LFLF[0].plot(ax=axs[1,0], cmap='terrain', add_labels=False)\n",
    "LFLF[1].plot(ax=axs[1,1], cmap='terrain', add_labels=False)"
   ]
  },
  {
   "cell_type": "markdown",
   "id": "c8504c84-f61b-4193-b813-becea33206c8",
   "metadata": {},
   "source": [
    "### Generate plots for vegetation cover changes."
   ]
  },
  {
   "cell_type": "code",
   "execution_count": 37,
   "id": "3510d788-c076-4ebb-9bd4-f0939b6268f1",
   "metadata": {
    "tags": []
   },
   "outputs": [
    {
     "name": "stdout",
     "output_type": "stream",
     "text": [
      "Selected IP_UID: 153\n",
      "name: [('CovA', 1615), ('CovB', 1613), ('CovC', 1612), ('CovD', 1610), ('CovE', 1513), ('CovF', 1512), ('CovG', 1510), ('CovH', 1312), ('CovI', 1310)]\n"
     ]
    }
   ],
   "source": [
    "# Function to create and display individual masks and calculate area percentages\n",
    "def cover():\n",
    "    global selected_ip_uid\n",
    "\n",
    "    # Debug: Print selected IP_UID\n",
    "    print(f\"Selected IP_UID: {selected_ip_uid}\")\n",
    "\n",
    "    # Extract the relevant evidence values based on the selected IP_UID\n",
    "    evidence = next((v for k, v in identifier_to_evidence.items() if v['IP_UID'] == selected_ip_uid), None)\n",
    "\n",
    "    selected_cover_values = [(name, value) for name, value in evidence['Cover_Evidence']]\n",
    "    print(f\"name: {selected_cover_values}\")\n",
    "    plot_titles = []  \n",
    "    \n",
    "    # List to store plot titles and their area percentages\n",
    "\n",
    "    def plot_and_calculate_area(data, title, color_map):\n",
    "        fig, ax = plt.subplots(figsize=(10, 6))\n",
    "        data.plot(ax=ax, cmap=color_map)\n",
    "        fig.suptitle(f\"IP_UID: {selected_ip_uid}\", fontsize=16, y=1.05)\n",
    "        ax.set_title(title)\n",
    "        plt.tight_layout()\n",
    "        plt.show()\n",
    "        \n",
    "    covervar={}\n",
    "    if selected_cover_values:\n",
    "\n",
    "        for name, value in selected_cover_values:\n",
    "            change_cover = np.where(\n",
    "                (obs_change_cover.cover_t1_t2 == value),\n",
    "                1,\n",
    "                0\n",
    "            )\n",
    "\n",
    "            change_xr_cover = xr.DataArray(\n",
    "                data=change_cover,\n",
    "                coords=level_3.coords,\n",
    "                dims=level_3.dims,\n",
    "                name=\"val1\",\n",
    "                attrs=level_3.attrs,\n",
    "                fastpath=False,\n",
    "            )\n",
    "\n",
    "            covervar[name]=change_xr_cover\n",
    "            \n",
    "            change_ds_cover = change_xr_cover.to_dataset(name=\"val1\")  \n",
    "#            plot_and_calculate_area(change_ds_cover.val1, f\"{name} Change Mask for Value {value}\", 'Reds')\n",
    "\n",
    "\n",
    "    return covervar           \n",
    "value = cover()\n",
    "#print(value)"
   ]
  },
  {
   "cell_type": "code",
   "execution_count": 38,
   "id": "dbed46b6-b362-4c57-901a-3bcda04bc070",
   "metadata": {
    "tags": []
   },
   "outputs": [],
   "source": [
    "CCCC = xr.Dataset(value).to_array()"
   ]
  },
  {
   "cell_type": "code",
   "execution_count": 39,
   "id": "b82bac37-c127-4c42-91d8-e2e44ebc10fb",
   "metadata": {},
   "outputs": [
    {
     "data": {
      "text/plain": [
       "<matplotlib.collections.QuadMesh at 0x7fd05f7a3760>"
      ]
     },
     "execution_count": 39,
     "metadata": {},
     "output_type": "execute_result"
    },
    {
     "data": {
      "image/png": "[encoded data removed]",
      "text/plain": [
       "<Figure size 3000x1000 with 30 Axes>"
      ]
     },
     "metadata": {},
     "output_type": "display_data"
    }
   ],
   "source": [
    "Cover_fig, axs = plt.subplots(nrows = 3, ncols = 5, figsize=(30, 10))\n",
    "CCCC[0].plot(ax=axs[0,0], cmap='terrain', add_labels=False)\n",
    "CCCC[1].plot(ax=axs[0,1], cmap='terrain', add_labels=False)\n",
    "CCCC[2].plot(ax=axs[0,2], cmap='terrain', add_labels=False)\n",
    "CCCC[3].plot(ax=axs[0,3], cmap='terrain', add_labels=False)\n",
    "CCCC[4].plot(ax=axs[0,4], cmap='terrain', add_labels=False)\n",
    "CCCC[5].plot(ax=axs[1,0], cmap='terrain', add_labels=False)\n",
    "CCCC[6].plot(ax=axs[1,1], cmap='terrain', add_labels=False)\n",
    "CCCC[7].plot(ax=axs[1,2], cmap='terrain', add_labels=False)\n",
    "CCCC[8].plot(ax=axs[1,3], cmap='terrain', add_labels=False)\n",
    "CCCC[1].plot(ax=axs[1,4], cmap='terrain', add_labels=False)\n",
    "CCCC[1].plot(ax=axs[2,0], cmap='terrain', add_labels=False)\n",
    "CCCC[1].plot(ax=axs[2,1], cmap='terrain', add_labels=False)\n",
    "CCCC[1].plot(ax=axs[2,2], cmap='terrain', add_labels=False)\n",
    "CCCC[1].plot(ax=axs[2,3], cmap='terrain', add_labels=False)\n",
    "CCCC[1].plot(ax=axs[2,4], cmap='terrain', add_labels=False)"
   ]
  },
  {
   "cell_type": "markdown",
   "id": "ac8d9213-e8de-4395-ad81-855b4e3fd3fd",
   "metadata": {},
   "source": [
    "### Generate plots for Water state changes."
   ]
  },
  {
   "cell_type": "code",
   "execution_count": null,
   "id": "1e2777be-60fe-4f23-911c-5425071f8ec3",
   "metadata": {
    "tags": []
   },
   "outputs": [],
   "source": [
    "def waterstt():\n",
    "    global selected_ip_uid\n",
    "\n",
    "    # Debug: Print selected IP_UID\n",
    "    print(f\"Selected IP_UID: {selected_ip_uid}\")\n",
    "\n",
    "    # Extract the relevant evidence values based on the selected IP_UID\n",
    "    evidence = next((v for k, v in identifier_to_evidence.items() if v['IP_UID'] == selected_ip_uid), None)\n",
    "    if evidence is None:\n",
    "        print(f\"No evidence found for IP_UID {selected_ip_uid}\")\n",
    "        return\n",
    "\n",
    "    selected_waterstt_values = [(name, value) for name, value in evidence['Waterstt_Evidence']]\n",
    "    print(f\"name: {selected_waterstt_values}\")\n",
    "    plot_titles = []      \n",
    "    \n",
    "    watersttvar={}\n",
    "    if selected_waterstt_values:\n",
    "        for name, waterstt_val in selected_waterstt_values:\n",
    "            change_waterstt = np.where(\n",
    "                (obs_change_waterstt.waterstt_t1_t2 == waterstt_val),\n",
    "                1,\n",
    "                0\n",
    "            )\n",
    "\n",
    "            change_xr_waterstt = xr.DataArray(\n",
    "                data=change_waterstt,\n",
    "                coords=obs_change_waterstt.coords,\n",
    "                dims=obs_change_waterstt.dims,\n",
    "                name=\"Change\",\n",
    "                attrs=None\n",
    "            )\n",
    "\n",
    "            watersttvar[name]=change_xr_waterstt           \n",
    "            \n",
    "            change_ds_waterstt = change_xr_waterstt.to_dataset(name=\"Change\")\n",
    "#            plot_and_calculate_area(change_ds_waterstt.Change, f\"{name} Change Mask for Value {waterstt_val}\", 'Blues')    \n",
    "\n",
    "    return watersttvar \n",
    "value = waterstt()\n",
    "#print(value)"
   ]
  },
  {
   "cell_type": "code",
   "execution_count": null,
   "id": "35d56907-1d8f-4ea8-86f8-f9a49c4efd28",
   "metadata": {
    "tags": []
   },
   "outputs": [],
   "source": [
    "WSWS = xr.Dataset(value).to_array()"
   ]
  },
  {
   "cell_type": "code",
   "execution_count": null,
   "id": "26727af9-2061-48c2-b225-e276ca0466c5",
   "metadata": {
    "tags": []
   },
   "outputs": [],
   "source": [
    "Water_state_change_fig, axs = plt.subplots(nrows = 2, ncols = 2, figsize=(30, 10))\n",
    "WSWS[0].plot(ax=axs[0,0], cmap='terrain', add_labels=False)\n",
    "WSWS[0].plot(ax=axs[0,1], cmap='terrain', add_labels=False)\n",
    "WSWS[0].plot(ax=axs[1,0], cmap='terrain', add_labels=False)\n",
    "WSWS[0].plot(ax=axs[1,1], cmap='terrain', add_labels=False)"
   ]
  },
  {
   "cell_type": "markdown",
   "id": "473025ac-1b6b-4dd1-b9e8-a85c645fd8bc",
   "metadata": {},
   "source": [
    "### Generate plots for water persistence changes."
   ]
  },
  {
   "cell_type": "code",
   "execution_count": null,
   "id": "500af22b-93c5-48eb-a1b7-5f2ec57ce0bc",
   "metadata": {
    "tags": []
   },
   "outputs": [],
   "source": [
    "def waterper():\n",
    "    global selected_ip_uid\n",
    "\n",
    "    # Debug: Print selected IP_UID\n",
    "    print(f\"Selected IP_UID: {selected_ip_uid}\")\n",
    "\n",
    "    # Extract the relevant evidence values based on the selected IP_UID\n",
    "    evidence = next((v for k, v in identifier_to_evidence.items() if v['IP_UID'] == selected_ip_uid), None)\n",
    "    if evidence is None:\n",
    "        print(f\"No evidence found for IP_UID {selected_ip_uid}\")\n",
    "        return\n",
    "\n",
    "    selected_waterper_values = [(name, value) for name, value in evidence['Waterper_Evidence']]\n",
    "    print(f\"name: {selected_waterper_values}\")\n",
    "    plot_titles = []      \n",
    "    \n",
    "    waterpervar={}\n",
    "    if selected_waterper_values:\n",
    "        for name, waterper_val in selected_waterper_values:\n",
    "            change_waterper = np.where(\n",
    "                (obs_change_waterper.waterper_t1_t2 == waterper_val),\n",
    "                1,\n",
    "                0\n",
    "            )\n",
    "\n",
    "            change_xr_waterper = xr.DataArray(\n",
    "                data=change_waterper,\n",
    "                coords=obs_change_waterper.coords,\n",
    "                dims=obs_change_waterper.dims,\n",
    "                name=\"Change\",\n",
    "                attrs=None\n",
    "            )\n",
    "\n",
    "            waterpervar[name]=change_xr_waterper           \n",
    "            \n",
    "            change_ds_waterper = change_xr_waterper.to_dataset(name=\"Change\")\n",
    "#            plot_and_calculate_area(change_ds_waterstt.Change, f\"{name} Change Mask for Value {waterstt_val}\", 'Blues')    \n",
    "\n",
    "    return waterpervar \n",
    "value = waterper()\n",
    "#print(value)"
   ]
  },
  {
   "cell_type": "code",
   "execution_count": null,
   "id": "0e7f0847-d80f-4ecb-9a40-f5a658bfcb52",
   "metadata": {
    "tags": []
   },
   "outputs": [],
   "source": [
    "waterper = xr.Dataset(value).to_array()"
   ]
  },
  {
   "cell_type": "code",
   "execution_count": null,
   "id": "0030598c-d9ed-40b7-891f-b2e44a2df7da",
   "metadata": {
    "tags": []
   },
   "outputs": [],
   "source": [
    "Waterper_fig, axs = plt.subplots(nrows = 2, ncols = 3, figsize=(30, 10))\n",
    "waterper[0].plot(ax=axs[0,0], cmap='terrain', add_labels=False)\n",
    "waterper[1].plot(ax=axs[0,1], cmap='terrain', add_labels=False)\n",
    "waterper[2].plot(ax=axs[0,2], cmap='terrain', add_labels=False)\n",
    "waterper[3].plot(ax=axs[1,0], cmap='terrain', add_labels=False)\n",
    "waterper[4].plot(ax=axs[1,1], cmap='terrain', add_labels=False)\n",
    "waterper[5].plot(ax=axs[1,2], cmap='terrain', add_labels=False)"
   ]
  },
  {
   "cell_type": "code",
   "execution_count": 40,
   "id": "5a1dbf45-79f2-469f-a728-a4e02162999e",
   "metadata": {
    "tags": []
   },
   "outputs": [
    {
     "name": "stdout",
     "output_type": "stream",
     "text": [
      "Selected IP_UID: 153\n",
      "name: [('ConA', 216112), ('ConB', 216124), ('ConC', 220112), ('ConD', 220124)]\n"
     ]
    }
   ],
   "source": [
    "value = level3()"
   ]
  },
  {
   "cell_type": "code",
   "execution_count": 41,
   "id": "37a9e1c3-26d1-46ed-9c85-d582a6fda07c",
   "metadata": {
    "tags": []
   },
   "outputs": [
    {
     "name": "stdout",
     "output_type": "stream",
     "text": [
      "Selected IP_UID: 153\n",
      "name: [('LfA', 1), ('LfB', 2)]\n"
     ]
    }
   ],
   "source": [
    "value = lifeform()"
   ]
  },
  {
   "cell_type": "code",
   "execution_count": 42,
   "id": "8a4f48e1-0c28-4838-bfdd-d536c6bf629b",
   "metadata": {
    "tags": []
   },
   "outputs": [
    {
     "name": "stdout",
     "output_type": "stream",
     "text": [
      "Selected IP_UID: 153\n",
      "name: [('CovA', 1615), ('CovB', 1613), ('CovC', 1612), ('CovD', 1610), ('CovE', 1513), ('CovF', 1512), ('CovG', 1510), ('CovH', 1312), ('CovI', 1310)]\n"
     ]
    }
   ],
   "source": [
    "value = cover()"
   ]
  },
  {
   "cell_type": "code",
   "execution_count": 59,
   "id": "7bacb93e-80dd-42f0-b1f7-432679fa95d4",
   "metadata": {},
   "outputs": [],
   "source": [
    "Im68 = np.where(\n",
    "    (\n",
    "        ((L3L3[0] == 1) | (L3L3[1] == 1) | (L3L3[2] == 1) |  (L3L3[3] == 1))\n",
    "#        ((LFLF[0] == 1) | (LFLF[1] == 1) | (LFLF[0] == 1))\n",
    "#        ((CCCC[0] == 1) | (CCCC[1] == 1) | (CCCC[2] == 1) | (CCCC[3] == 1) | (CCCC[4] == 1) | (CCCC[5] == 1) | (CCCC[6] == 1) | (CCCC[7] == 1) | (CCCC[8] == 1))\n",
    "    ),\n",
    "    1,\n",
    "    0,\n",
    ")\n",
    "Im68 = xr.DataArray(\n",
    "    data=Im68,\n",
    "    coords=level_3.coords,\n",
    "    dims=level_3.dims,\n",
    "    name=\"Impacts\",\n",
    "    attrs=None,\n",
    ")\n",
    "# Make a mask of 1 for the 'impact' class No. 44 'vegetation amount (loss)' \n",
    "IP179 = Im68 * 119"
   ]
  },
  {
   "cell_type": "code",
   "execution_count": 60,
   "id": "a26f8eab-2f73-476e-9aa4-c3f7f7da6ba1",
   "metadata": {
    "tags": []
   },
   "outputs": [],
   "source": [
    "cmap, norm = lc_colourmap('all_impacts_pressures_colour_scheme')"
   ]
  },
  {
   "cell_type": "code",
   "execution_count": 61,
   "id": "e4519b0b-885c-4337-b981-12339ff96213",
   "metadata": {
    "tags": []
   },
   "outputs": [],
   "source": [
    "IP179a = IP179.to_dataset(name=\"NO179\")"
   ]
  },
  {
   "cell_type": "code",
   "execution_count": 62,
   "id": "7440c739-0ec4-4c89-bd1b-ad5239bb6c96",
   "metadata": {
    "tags": []
   },
   "outputs": [
    {
     "data": {
      "text/plain": [
       "<matplotlib.collections.QuadMesh at 0x7fd05c99aaa0>"
      ]
     },
     "execution_count": 62,
     "metadata": {},
     "output_type": "execute_result"
    },
    {
     "data": {
      "image/png": "[encoded data removed]",
      "text/plain": [
       "<Figure size 640x480 with 2 Axes>"
      ]
     },
     "metadata": {},
     "output_type": "display_data"
    }
   ],
   "source": [
    "IP179a.NO179.plot(cmap=cmap, norm=norm)"
   ]
  },
  {
   "cell_type": "code",
   "execution_count": 63,
   "id": "7af56ec0-c2ac-49b5-b45b-938e2dd71f08",
   "metadata": {
    "tags": []
   },
   "outputs": [
    {
     "ename": "KeyError",
     "evalue": "'_FillValue'",
     "output_type": "error",
     "traceback": [
      "\u001b[0;31m---------------------------------------------------------------------------\u001b[0m",
      "\u001b[0;31mKeyError\u001b[0m                                  Traceback (most recent call last)",
      "Cell \u001b[0;32mIn[63], line 1\u001b[0m\n\u001b[0;32m----> 1\u001b[0m \u001b[43mdisplay_tools\u001b[49m\u001b[38;5;241;43m.\u001b[39;49m\u001b[43mdisplay_da\u001b[49m\u001b[43m(\u001b[49m\u001b[43mIP179a\u001b[49m\u001b[38;5;241;43m.\u001b[39;49m\u001b[43mNO179\u001b[49m\u001b[43m,\u001b[49m\u001b[43m \u001b[49m\u001b[43m[\u001b[49m\u001b[38;5;124;43m\"\u001b[39;49m\u001b[38;5;124;43m_FillValue\u001b[39;49m\u001b[38;5;124;43m\"\u001b[39;49m\u001b[43m]\u001b[49m\u001b[43m \u001b[49m\u001b[38;5;241;43m==\u001b[39;49m\u001b[43m \u001b[49m\u001b[38;5;241;43m1\u001b[39;49m\u001b[43m)\u001b[49m\n",
      "File \u001b[0;32m~/Living_Coasts_training/display_tools.py:291\u001b[0m, in \u001b[0;36mdisplay_da\u001b[0;34m(da, colormap)\u001b[0m\n\u001b[1;32m    288\u001b[0m \u001b[38;5;28;01mif\u001b[39;00m (\u001b[38;5;28mstr\u001b[39m(da\u001b[38;5;241m.\u001b[39mrio\u001b[38;5;241m.\u001b[39mcrs) \u001b[38;5;241m!=\u001b[39m \u001b[38;5;124m'\u001b[39m\u001b[38;5;124mEPSG:4326\u001b[39m\u001b[38;5;124m'\u001b[39m):\n\u001b[1;32m    289\u001b[0m     da \u001b[38;5;241m=\u001b[39m da\u001b[38;5;241m.\u001b[39mrio\u001b[38;5;241m.\u001b[39mreproject(\u001b[38;5;124m\"\u001b[39m\u001b[38;5;124mEPSG:4326\u001b[39m\u001b[38;5;124m\"\u001b[39m)\n\u001b[0;32m--> 291\u001b[0m \u001b[38;5;28;01mif\u001b[39;00m (\u001b[43mda\u001b[49m\u001b[38;5;241;43m.\u001b[39;49m\u001b[43mattrs\u001b[49m\u001b[43m[\u001b[49m\u001b[38;5;124;43m'\u001b[39;49m\u001b[38;5;124;43m_FillValue\u001b[39;49m\u001b[38;5;124;43m'\u001b[39;49m\u001b[43m]\u001b[49m \u001b[38;5;241m>\u001b[39m \u001b[38;5;241m0\u001b[39m):\n\u001b[1;32m    292\u001b[0m     da \u001b[38;5;241m=\u001b[39m da\u001b[38;5;241m.\u001b[39mwhere(da \u001b[38;5;241m<\u001b[39m da\u001b[38;5;241m.\u001b[39mattrs[\u001b[38;5;124m'\u001b[39m\u001b[38;5;124m_FillValue\u001b[39m\u001b[38;5;124m'\u001b[39m])\n\u001b[1;32m    293\u001b[0m \u001b[38;5;28;01melse\u001b[39;00m:\n",
      "\u001b[0;31mKeyError\u001b[0m: '_FillValue'"
     ]
    }
   ],
   "source": [
    "display_tools.display_da(IP179a.NO179, [\"_FillValue\"] == 1)"
   ]
  },
  {
   "cell_type": "code",
   "execution_count": null,
   "id": "e11f6eb3-688e-44db-8952-f1b333ea0c3e",
   "metadata": {},
   "outputs": [],
   "source": []
  },
  {
   "cell_type": "code",
   "execution_count": null,
   "id": "ebc686eb-80bd-4e35-a168-235070268388",
   "metadata": {},
   "outputs": [],
   "source": []
  },
  {
   "cell_type": "code",
   "execution_count": null,
   "id": "23e489f0-2541-4cc5-8995-28089789ff14",
   "metadata": {},
   "outputs": [],
   "source": []
  }
 ],
 "metadata": {
  "kernelspec": {
   "display_name": "Python 3 (ipykernel)",
   "language": "python",
   "name": "python3"
  },
  "language_info": {
   "codemirror_mode": {
    "name": "ipython",
    "version": 3
   },
   "file_extension": ".py",
   "mimetype": "text/x-python",
   "name": "python",
   "nbconvert_exporter": "python",
   "pygments_lexer": "ipython3",
   "version": "3.10.13"
  }
 },
 "nbformat": 4,
 "nbformat_minor": 5
}
