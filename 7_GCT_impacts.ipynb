{
 "cells": [
  {
   "cell_type": "markdown",
   "id": "faf22dc6-a575-4490-b626-499362fd548b",
   "metadata": {},
   "source": [
    "# Section 1 - Load apps\n"
   ]
  },
  {
   "cell_type": "code",
   "execution_count": 49,
   "id": "d04c723a-da71-41af-970b-41c23838eeaf",
   "metadata": {
    "tags": []
   },
   "outputs": [
    {
     "name": "stdout",
     "output_type": "stream",
     "text": [
      "Requirement already satisfied: openpyxl in /env/lib/python3.10/site-packages (3.1.5)\n",
      "Requirement already satisfied: tqdm in /env/lib/python3.10/site-packages (4.66.2)\n",
      "Requirement already satisfied: et-xmlfile in /env/lib/python3.10/site-packages (from openpyxl) (1.1.0)\n",
      "display_tools.py not found in /home/jovyan/Living_Coasts_training/Tools.\n",
      "display_tools.py not found in /home/jovyan/Living_Coasts_training/Working.\n",
      "landcover.py not found in /home/jovyan/Living_Coasts_training/Working.\n",
      "/home/jovyan/Living_Coasts_training/Tools does not exist.\n",
      "/home/jovyan/Living_Coasts_training/Working does not exist.\n",
      "Section 1: Initial imports and setup - Completed\n"
     ]
    },
    {
     "data": {
      "text/html": [
       "<div>\n",
       "    <div style=\"width: 24px; height: 24px; background-color: #e1e1e1; border: 3px solid #9D9D9D; border-radius: 5px; position: absolute;\"> </div>\n",
       "    <div style=\"margin-left: 48px;\">\n",
       "        <h3 style=\"margin-bottom: 0px;\">Client</h3>\n",
       "        <p style=\"color: #9D9D9D; margin-bottom: 0px;\">Client-3cdd11e2-58da-11ef-a299-7e2d3a0fbf24</p>\n",
       "        <table style=\"width: 100%; text-align: left;\">\n",
       "\n",
       "        <tr>\n",
       "        \n",
       "            <td style=\"text-align: left;\"><strong>Connection method:</strong> Cluster object</td>\n",
       "            <td style=\"text-align: left;\"><strong>Cluster type:</strong> distributed.LocalCluster</td>\n",
       "        \n",
       "        </tr>\n",
       "\n",
       "        \n",
       "            <tr>\n",
       "                <td style=\"text-align: left;\">\n",
       "                    <strong>Dashboard: </strong> <a href=\"/user/richard.lucas@aber.ac.uk/proxy/40225/status\" target=\"_blank\">/user/richard.lucas@aber.ac.uk/proxy/40225/status</a>\n",
       "                </td>\n",
       "                <td style=\"text-align: left;\"></td>\n",
       "            </tr>\n",
       "        \n",
       "\n",
       "        </table>\n",
       "\n",
       "        \n",
       "            <button style=\"margin-bottom: 12px;\" data-commandlinker-command=\"dask:populate-and-launch-layout\" data-commandlinker-args='{\"url\": \"/user/richard.lucas@aber.ac.uk/proxy/40225/status\" }'>\n",
       "                Launch dashboard in JupyterLab\n",
       "            </button>\n",
       "        \n",
       "\n",
       "        \n",
       "            <details>\n",
       "            <summary style=\"margin-bottom: 20px;\"><h3 style=\"display: inline;\">Cluster Info</h3></summary>\n",
       "            <div class=\"jp-RenderedHTMLCommon jp-RenderedHTML jp-mod-trusted jp-OutputArea-output\">\n",
       "    <div style=\"width: 24px; height: 24px; background-color: #e1e1e1; border: 3px solid #9D9D9D; border-radius: 5px; position: absolute;\">\n",
       "    </div>\n",
       "    <div style=\"margin-left: 48px;\">\n",
       "        <h3 style=\"margin-bottom: 0px; margin-top: 0px;\">LocalCluster</h3>\n",
       "        <p style=\"color: #9D9D9D; margin-bottom: 0px;\">5ee7620f</p>\n",
       "        <table style=\"width: 100%; text-align: left;\">\n",
       "            <tr>\n",
       "                <td style=\"text-align: left;\">\n",
       "                    <strong>Dashboard:</strong> <a href=\"/user/richard.lucas@aber.ac.uk/proxy/40225/status\" target=\"_blank\">/user/richard.lucas@aber.ac.uk/proxy/40225/status</a>\n",
       "                </td>\n",
       "                <td style=\"text-align: left;\">\n",
       "                    <strong>Workers:</strong> 1\n",
       "                </td>\n",
       "            </tr>\n",
       "            <tr>\n",
       "                <td style=\"text-align: left;\">\n",
       "                    <strong>Total threads:</strong> 2\n",
       "                </td>\n",
       "                <td style=\"text-align: left;\">\n",
       "                    <strong>Total memory:</strong> 12.21 GiB\n",
       "                </td>\n",
       "            </tr>\n",
       "            \n",
       "            <tr>\n",
       "    <td style=\"text-align: left;\"><strong>Status:</strong> running</td>\n",
       "    <td style=\"text-align: left;\"><strong>Using processes:</strong> True</td>\n",
       "</tr>\n",
       "\n",
       "            \n",
       "        </table>\n",
       "\n",
       "        <details>\n",
       "            <summary style=\"margin-bottom: 20px;\">\n",
       "                <h3 style=\"display: inline;\">Scheduler Info</h3>\n",
       "            </summary>\n",
       "\n",
       "            <div style=\"\">\n",
       "    <div>\n",
       "        <div style=\"width: 24px; height: 24px; background-color: #FFF7E5; border: 3px solid #FF6132; border-radius: 5px; position: absolute;\"> </div>\n",
       "        <div style=\"margin-left: 48px;\">\n",
       "            <h3 style=\"margin-bottom: 0px;\">Scheduler</h3>\n",
       "            <p style=\"color: #9D9D9D; margin-bottom: 0px;\">Scheduler-7b51dd1e-6682-44c9-92bf-f5bab42b0c12</p>\n",
       "            <table style=\"width: 100%; text-align: left;\">\n",
       "                <tr>\n",
       "                    <td style=\"text-align: left;\">\n",
       "                        <strong>Comm:</strong> tcp://127.0.0.1:43841\n",
       "                    </td>\n",
       "                    <td style=\"text-align: left;\">\n",
       "                        <strong>Workers:</strong> 1\n",
       "                    </td>\n",
       "                </tr>\n",
       "                <tr>\n",
       "                    <td style=\"text-align: left;\">\n",
       "                        <strong>Dashboard:</strong> <a href=\"/user/richard.lucas@aber.ac.uk/proxy/40225/status\" target=\"_blank\">/user/richard.lucas@aber.ac.uk/proxy/40225/status</a>\n",
       "                    </td>\n",
       "                    <td style=\"text-align: left;\">\n",
       "                        <strong>Total threads:</strong> 2\n",
       "                    </td>\n",
       "                </tr>\n",
       "                <tr>\n",
       "                    <td style=\"text-align: left;\">\n",
       "                        <strong>Started:</strong> Just now\n",
       "                    </td>\n",
       "                    <td style=\"text-align: left;\">\n",
       "                        <strong>Total memory:</strong> 12.21 GiB\n",
       "                    </td>\n",
       "                </tr>\n",
       "            </table>\n",
       "        </div>\n",
       "    </div>\n",
       "\n",
       "    <details style=\"margin-left: 48px;\">\n",
       "        <summary style=\"margin-bottom: 20px;\">\n",
       "            <h3 style=\"display: inline;\">Workers</h3>\n",
       "        </summary>\n",
       "\n",
       "        \n",
       "        <div style=\"margin-bottom: 20px;\">\n",
       "            <div style=\"width: 24px; height: 24px; background-color: #DBF5FF; border: 3px solid #4CC9FF; border-radius: 5px; position: absolute;\"> </div>\n",
       "            <div style=\"margin-left: 48px;\">\n",
       "            <details>\n",
       "                <summary>\n",
       "                    <h4 style=\"margin-bottom: 0px; display: inline;\">Worker: 0</h4>\n",
       "                </summary>\n",
       "                <table style=\"width: 100%; text-align: left;\">\n",
       "                    <tr>\n",
       "                        <td style=\"text-align: left;\">\n",
       "                            <strong>Comm: </strong> tcp://127.0.0.1:42251\n",
       "                        </td>\n",
       "                        <td style=\"text-align: left;\">\n",
       "                            <strong>Total threads: </strong> 2\n",
       "                        </td>\n",
       "                    </tr>\n",
       "                    <tr>\n",
       "                        <td style=\"text-align: left;\">\n",
       "                            <strong>Dashboard: </strong> <a href=\"/user/richard.lucas@aber.ac.uk/proxy/35925/status\" target=\"_blank\">/user/richard.lucas@aber.ac.uk/proxy/35925/status</a>\n",
       "                        </td>\n",
       "                        <td style=\"text-align: left;\">\n",
       "                            <strong>Memory: </strong> 12.21 GiB\n",
       "                        </td>\n",
       "                    </tr>\n",
       "                    <tr>\n",
       "                        <td style=\"text-align: left;\">\n",
       "                            <strong>Nanny: </strong> tcp://127.0.0.1:40571\n",
       "                        </td>\n",
       "                        <td style=\"text-align: left;\"></td>\n",
       "                    </tr>\n",
       "                    <tr>\n",
       "                        <td colspan=\"2\" style=\"text-align: left;\">\n",
       "                            <strong>Local directory: </strong> /tmp/dask-scratch-space/worker-_8ewarbz\n",
       "                        </td>\n",
       "                    </tr>\n",
       "\n",
       "                    \n",
       "\n",
       "                    \n",
       "\n",
       "                </table>\n",
       "            </details>\n",
       "            </div>\n",
       "        </div>\n",
       "        \n",
       "\n",
       "    </details>\n",
       "</div>\n",
       "\n",
       "        </details>\n",
       "    </div>\n",
       "</div>\n",
       "            </details>\n",
       "        \n",
       "\n",
       "    </div>\n",
       "</div>"
      ],
      "text/plain": [
       "<Client: 'tcp://127.0.0.1:43841' processes=1 threads=2, memory=12.21 GiB>"
      ]
     },
     "metadata": {},
     "output_type": "display_data"
    }
   ],
   "source": [
    "# Initial imports and setup\n",
    "import datetime as dt\n",
    "import sys\n",
    "import warnings\n",
    "import os\n",
    "import numpy as np\n",
    "import pandas as pd\n",
    "import xarray as xr\n",
    "import datacube\n",
    "import matplotlib.pyplot as plt\n",
    "import matplotlib.pyplot as plt\n",
    "import matplotlib as mpl\n",
    "import geopandas as gpd\n",
    "import odc.geo.xr\n",
    "from ipyleaflet import GeoData\n",
    "from time import time as time\n",
    "import matplotlib.colors as colors\n",
    "import matplotlib.cm as cm\n",
    "from matplotlib.colors import ListedColormap, Normalize\n",
    "from matplotlib import colormaps\n",
    "from matplotlib.patches import Patch\n",
    "from IPython.display import display\n",
    "from ipywidgets import widgets\n",
    "from ipywidgets import Checkbox, VBox, HBox, Button, Output, HTML\n",
    "\n",
    "warnings.filterwarnings(\"ignore\")\n",
    "\n",
    "# Setup paths and Datacube instance\n",
    "current_dir = os.getcwd()\n",
    "tools_path = os.path.join(current_dir, \"Tools\")\n",
    "working_path = os.path.join(current_dir, \"Working\")\n",
    "\n",
    "sys.path.insert(1, tools_path)\n",
    "sys.path.insert(1, working_path)\n",
    "dc = datacube.Datacube()\n",
    "\n",
    "# Ensure openpyxl and tqdm are installed\n",
    "!pip install openpyxl tqdm\n",
    "\n",
    "time_range = None\n",
    "\n",
    "# Function to import display_tools.py if exists\n",
    "def import_display_tools(path):\n",
    "    if os.path.exists(path) and \"display_tools.py\" in os.listdir(path):\n",
    "        try:\n",
    "            from display_tools import display_da\n",
    "            print(f\"display_tools module imported successfully from {path}.\")\n",
    "        except ImportError as e:\n",
    "            print(f\"Error importing display_tools from {path}: {e}\")\n",
    "    else:\n",
    "        print(f\"display_tools.py not found in {path}.\")\n",
    "\n",
    "# Function to import landcover.py if exists\n",
    "def import_landcover(path):\n",
    "    if os.path.exists(path) and \"landcover.py\" in os.listdir(path):\n",
    "        try:\n",
    "            from landcover import lc_colourmap, make_colorbar, plot_land_cover\n",
    "            print(f\"landcover module imported successfully from {path}.\")\n",
    "        except ImportError as e:\n",
    "            print(f\"Error importing landcover from {path}: {e}\")\n",
    "    else:\n",
    "        print(f\"landcover.py not found in {path}.\")\n",
    "\n",
    "# Import modules\n",
    "import_display_tools(tools_path)\n",
    "import_display_tools(working_path)\n",
    "import_landcover(working_path)\n",
    "\n",
    "# List files in Tools and Working\n",
    "def list_files(path):\n",
    "    if os.path.exists(path):\n",
    "        print(f\"Files in {path}:\")\n",
    "        print(os.listdir(path))\n",
    "    else:\n",
    "        print(f\"{path} does not exist.\")\n",
    "\n",
    "list_files(tools_path)\n",
    "list_files(working_path)\n",
    "\n",
    "print(\"Section 1: Initial imports and setup - Completed\")\n",
    "\n",
    "# Manually invoke garbage collection without printing the result\n",
    "import gc\n",
    "import contextlib\n",
    "with contextlib.redirect_stdout(None):\n",
    "    gc.collect()\n",
    "\n",
    "# Additional imports and setup\n",
    "from odc.algo import xr_reproject\n",
    "from dea_tools.plotting import rgb, display_map\n",
    "from dea_tools.datahandling import wofs_fuser\n",
    "from dea_tools.plotting import plot_wo\n",
    "from matplotlib import colors as mcolours\n",
    "from datacube.testutils.io import rio_slurp_xarray\n",
    "from datacube.utils import masking\n",
    "from datacube.utils.masking import mask_invalid_data\n",
    "from datacube.utils.cog import write_cog\n",
    "from odc.geo.geom import Geometry\n",
    "\n",
    "# For DEA burn mapping\n",
    "from datetime import datetime, timedelta\n",
    "\n",
    "from dea_tools.datahandling import load_ard\n",
    "from dea_tools.plotting import rgb, display_map\n",
    "from dea_tools.bandindices import calculate_indices\n",
    "from dea_tools.dask import create_local_dask_cluster\n",
    "import display_tools as display_tools\n",
    "\n",
    "# Create local dask cluster to improve data load time\n",
    "client = create_local_dask_cluster(return_client=True)\n",
    "\n",
    "from landcover import plot_land_cover, lc_colourmap, make_colorbar #added from DEA"
   ]
  },
  {
   "cell_type": "markdown",
   "id": "fc33c52a-4a7b-4615-8d5c-187bce186d6e",
   "metadata": {},
   "source": [
    "# Section 2 - Area Selection"
   ]
  },
  {
   "cell_type": "code",
   "execution_count": 2,
   "id": "398cba24-7272-4a63-b497-451aafe416cf",
   "metadata": {
    "tags": []
   },
   "outputs": [
    {
     "data": {
      "application/vnd.jupyter.widget-view+json": {
       "model_id": "bf5f5845f0714ebe880044af917aa172",
       "version_major": 2,
       "version_minor": 0
      },
      "text/plain": [
       "Map(center=[0, 0], controls=(ZoomControl(options=['position', 'zoom_in_text', 'zoom_in_title', 'zoom_out_text'…"
      ]
     },
     "metadata": {},
     "output_type": "display_data"
    },
    {
     "name": "stdout",
     "output_type": "stream",
     "text": [
      "Section 2: Select Your Area of Interest - Completed\n"
     ]
    },
    {
     "data": {
      "text/plain": [
       "60"
      ]
     },
     "execution_count": 2,
     "metadata": {},
     "output_type": "execute_result"
    }
   ],
   "source": [
    "from ipyleaflet import Map, DrawControl, WidgetControl, basemaps, LayersControl, FullScreenControl, Rectangle\n",
    "from ipywidgets import Output, Button, VBox, Tab, FloatText, Layout\n",
    "from shapely.geometry import Polygon\n",
    "import gc\n",
    "import sys\n",
    "\n",
    "# Initialize global variables to store the selected polygon\n",
    "selected_polygon = None\n",
    "manual_polygon_layer = None\n",
    "\n",
    "# Define lat_range and lon_range to avoid NameError in Section 5\n",
    "lat_range = None\n",
    "lon_range = None\n",
    "\n",
    "# Create the map\n",
    "m = Map(center=[0, 0], zoom=2, basemap=basemaps.Esri.WorldImagery, scroll_wheel_zoom=True, layout=Layout(height='600px'))\n",
    "m.add_control(LayersControl(position='topright'))\n",
    "m.add_control(FullScreenControl())\n",
    "\n",
    "# Output widget to display coordinates\n",
    "output_draw = Output(layout={'border': '1px solid black', 'padding': '5px'})\n",
    "output_manual = Output(layout={'border': '1px solid black', 'padding': '5px'})\n",
    "\n",
    "# Setup the draw control with both polygon and rectangle options\n",
    "draw_control = DrawControl(\n",
    "    rectangle={\"shapeOptions\": {\"color\": \"#0000FF\"}},\n",
    "    polygon={\"shapeOptions\": {\"color\": \"#00FF00\"}},\n",
    "    circlemarker={},\n",
    "    polyline={},\n",
    "    circle={}\n",
    ")\n",
    "m.add_control(draw_control)\n",
    "\n",
    "# Event handler for drawing shapes\n",
    "def handle_draw(target, action, geo_json):\n",
    "    global selected_polygon, lat_range, lon_range\n",
    "    output_draw.clear_output()\n",
    "    coords = geo_json['geometry']['coordinates'][0]\n",
    "    selected_polygon = Polygon(coords)\n",
    "    lats, lons = zip(*[(coord[1], coord[0]) for coord in coords])\n",
    "    lat_range = (min(lats), max(lats))\n",
    "    lon_range = (min(lons), max(lons))\n",
    "    with output_draw:\n",
    "        output_draw.append_stdout(\"Coordinates:\\n\")\n",
    "        output_draw.append_stdout(f\"{'Latitude':<20}{'Longitude'}\\n\")\n",
    "        for lat, lon in zip(lats, lons):\n",
    "            output_draw.append_stdout(f\"{lat:.6f}\\t\\t{lon:.6f}\\n\")\n",
    "\n",
    "draw_control.on_draw(handle_draw)\n",
    "\n",
    "# Button to clear drawings and output\n",
    "clear_button_draw = Button(description='Clear All')\n",
    "clear_button_manual = Button(description='Clear All')\n",
    "\n",
    "# Event handler for the clear button\n",
    "def clear_all(b):\n",
    "    global selected_polygon, manual_polygon_layer, lat_range, lon_range\n",
    "    draw_control.clear()\n",
    "    output_draw.clear_output()\n",
    "    output_manual.clear_output()\n",
    "    if manual_polygon_layer:\n",
    "        m.remove_layer(manual_polygon_layer)\n",
    "    selected_polygon = None\n",
    "    manual_polygon_layer = None\n",
    "    lat_range = None\n",
    "    lon_range = None\n",
    "    gc.collect()\n",
    "\n",
    "clear_button_draw.on_click(clear_all)\n",
    "clear_button_manual.on_click(clear_all)\n",
    "\n",
    "# Create input widgets for manual coordinate entry\n",
    "latitude = FloatText(description='Latitude:', layout=Layout(width='100%'))\n",
    "longitude = FloatText(description='Longitude:', layout=Layout(width='100%'))\n",
    "buffer = FloatText(description='Buffer (deg):', value=0.1, layout=Layout(width='100%'))\n",
    "update_button = Button(description='Update Map')\n",
    "\n",
    "# Function to update the map based on manual input values\n",
    "def update_map_manual(b):\n",
    "    global manual_polygon_layer, selected_polygon, lat_range, lon_range\n",
    "    output_manual.clear_output()\n",
    "    lat = latitude.value\n",
    "    lon = longitude.value\n",
    "    buf = buffer.value\n",
    "    \n",
    "    if lat is not None and lon is not None and buf is not None:\n",
    "        bounds = [[lat - buf, lon - buf], [lat + buf, lon + buf]]\n",
    "        if manual_polygon_layer:\n",
    "            m.remove_layer(manual_polygon_layer)\n",
    "        manual_polygon_layer = Rectangle(bounds=bounds, color=\"blue\", fill_opacity=0.2, weight=2)\n",
    "        m.add_layer(manual_polygon_layer)\n",
    "        m.fit_bounds(bounds)\n",
    "        \n",
    "        selected_polygon = Polygon([(lon - buf, lat - buf), (lon + buf, lat - buf), (lon + buf, lat + buf), (lon - buf, lat + buf), (lon - buf, lat - buf)])\n",
    "        lat_range = (lat - buf, lat + buf)\n",
    "        lon_range = (lon - buf, lon + buf)\n",
    "        \n",
    "        with output_manual:\n",
    "            output_manual.append_stdout(\"Manual Coordinates:\\n\")\n",
    "            output_manual.append_stdout(f\"{'Latitude':<20}{'Longitude'}\\n\")\n",
    "            output_manual.append_stdout(f\"{lat - buf:.6f}\\t\\t{lon - buf:.6f}\\n\")\n",
    "            output_manual.append_stdout(f\"{lat - buf:.6f}\\t\\t{lon + buf:.6f}\\n\")\n",
    "            output_manual.append_stdout(f\"{lat + buf:.6f}\\t\\t{lon + buf:.6f}\\n\")\n",
    "            output_manual.append_stdout(f\"{lat + buf:.6f}\\t\\t{lon - buf:.6f}\\n\")\n",
    "    else:\n",
    "        with output_manual:\n",
    "            output_manual.append_stdout(\"Please fill in all coordinate values.\\n\")\n",
    "\n",
    "# Connect the manual update button\n",
    "update_button.on_click(update_map_manual)\n",
    "\n",
    "# Tab widget for drawing and manual input\n",
    "draw_tab = VBox([clear_button_draw, output_draw])\n",
    "manual_tab = VBox([latitude, longitude, buffer, update_button, clear_button_manual, output_manual])\n",
    "\n",
    "tab = Tab()\n",
    "tab.children = [draw_tab, manual_tab]\n",
    "tab.set_title(0, 'Draw')\n",
    "tab.set_title(1, 'Manual Input')\n",
    "\n",
    "# Add the tab control to the map\n",
    "tab_control = WidgetControl(widget=tab, position='topright')\n",
    "m.add_control(tab_control)\n",
    "\n",
    "# Display the map\n",
    "display(m)\n",
    "\n",
    "print(\"Section 2: Select Your Area of Interest - Completed\")\n",
    "\n",
    "# Manually invoke garbage collection\n",
    "gc.collect()\n"
   ]
  },
  {
   "cell_type": "markdown",
   "id": "906ae9d2-9789-4e57-abee-3f6776184754",
   "metadata": {},
   "source": [
    "# Section 3 - Polygon and Co-ordinates "
   ]
  },
  {
   "cell_type": "code",
   "execution_count": 3,
   "id": "737465d5-20aa-47b8-b673-0eff2ef5d85e",
   "metadata": {
    "tags": []
   },
   "outputs": [
    {
     "name": "stdout",
     "output_type": "stream",
     "text": [
      "The drawn shape was used for selection.\n",
      "The geopolygon of interest is the following one; \n",
      "POLYGON ((150.604113 -23.541878, 150.604113 -23.461908, 150.748339 -23.461908, 150.748339 -23.541878, 150.604113 -23.541878))\n",
      "\n",
      "Selected Polygon Coordinates:\n",
      "Latitude: -23.541878, Longitude: 150.604113\n",
      "Latitude: -23.461908, Longitude: 150.604113\n",
      "Latitude: -23.461908, Longitude: 150.748339\n",
      "Latitude: -23.541878, Longitude: 150.748339\n",
      "Latitude: -23.541878, Longitude: 150.604113\n",
      "\n",
      "UTM Coordinates:\n",
      "UTM X: 5353390.394402368, UTM Y: -16518343.061154852\n",
      "UTM X: 5357608.976327284, UTM Y: -16529104.290778102\n",
      "UTM X: 5339707.235537009, UTM Y: -16536093.12636641\n",
      "UTM X: 5335514.733561995, UTM Y: -16525344.058644969\n",
      "UTM X: 5353390.394402368, UTM Y: -16518343.061154852\n"
     ]
    },
    {
     "data": {
      "image/png": "[encoded data removed]",
      "text/plain": [
       "<Figure size 640x480 with 1 Axes>"
      ]
     },
     "metadata": {},
     "output_type": "display_data"
    },
    {
     "name": "stdout",
     "output_type": "stream",
     "text": [
      "Section 3: Display Selected Coordinates - Completed\n"
     ]
    }
   ],
   "source": [
    "import matplotlib.pyplot as plt\n",
    "from pyproj import Proj\n",
    "from shapely.geometry.polygon import LinearRing\n",
    "import gc\n",
    "\n",
    "# Function to convert latitude and longitude to UTM coordinates\n",
    "def latlon_to_utm(lat, lon):\n",
    "    utm_proj = Proj(proj=\"utm\", zone=33, datum=\"WGS84\")  # Change zone as needed\n",
    "    utm_x, utm_y = utm_proj(lon, lat)\n",
    "    return utm_x, utm_y\n",
    "\n",
    "# Function to display the selected coordinates, UTM coordinates, and visualize the polygon\n",
    "def display_selected_coordinates(selected_polygon):\n",
    "    if selected_polygon is not None:\n",
    "        coords = selected_polygon.exterior.coords\n",
    "        utm_coords = [latlon_to_utm(lat, lon) for lon, lat in coords]\n",
    "\n",
    "        print(\"The drawn shape was used for selection.\")\n",
    "        print(\"The geopolygon of interest is the following one; \")\n",
    "        print(selected_polygon)\n",
    "\n",
    "        print(\"\\nSelected Polygon Coordinates:\")\n",
    "        for lon, lat in coords:\n",
    "            print(f\"Latitude: {lat}, Longitude: {lon}\")\n",
    "\n",
    "        print(\"\\nUTM Coordinates:\")\n",
    "        for utm_x, utm_y in utm_coords:\n",
    "            print(f\"UTM X: {utm_x}, UTM Y: {utm_y}\")\n",
    "\n",
    "        # Visualize the selected polygon\n",
    "        ring = LinearRing(coords)\n",
    "        fig, ax = plt.subplots()\n",
    "        ax.plot(*ring.xy, color=\"blue\")\n",
    "        ax.set_title(\"Selected Polygon\")\n",
    "        plt.show()\n",
    "        \n",
    "        # Explicitly clear variables and run garbage collection\n",
    "        del coords, utm_coords, ring, fig, ax\n",
    "        gc.collect()\n",
    "    else:\n",
    "        print(\"No polygon selected\")\n",
    "\n",
    "# Call the function to display the coordinates and visualize the polygon\n",
    "# Assuming you have the selected polygon stored in a variable named 'selected_polygon'\n",
    "display_selected_coordinates(selected_polygon)\n",
    "\n",
    "print(\"Section 3: Display Selected Coordinates - Completed\")\n"
   ]
  },
  {
   "cell_type": "markdown",
   "id": "ac58b7d6-2acc-4494-8c32-0a9418e7f045",
   "metadata": {},
   "source": [
    "# Section 4 - Date Selection"
   ]
  },
  {
   "cell_type": "code",
   "execution_count": 4,
   "id": "e837b06c-ae4d-4be2-9490-7fbf15234b3f",
   "metadata": {
    "tags": []
   },
   "outputs": [
    {
     "data": {
      "application/vnd.jupyter.widget-view+json": {
       "model_id": "de6d1abbd38f41d0a882b70fdc6b9cdb",
       "version_major": 2,
       "version_minor": 0
      },
      "text/plain": [
       "DatePicker(value=datetime.datetime(2010, 1, 1, 0, 0), description='Start Date', step=1)"
      ]
     },
     "metadata": {},
     "output_type": "display_data"
    },
    {
     "data": {
      "application/vnd.jupyter.widget-view+json": {
       "model_id": "e91b12bba0a8453eb244ce551be5c19d",
       "version_major": 2,
       "version_minor": 0
      },
      "text/plain": [
       "DatePicker(value=datetime.datetime(2020, 12, 31, 0, 0), description='End Date', step=1)"
      ]
     },
     "metadata": {},
     "output_type": "display_data"
    }
   ],
   "source": [
    "from datetime import datetime\n",
    "from IPython.display import display\n",
    "from ipywidgets import widgets\n",
    "import gc\n",
    "\n",
    "# Define a function to update and print the time range\n",
    "def update_time_range(start_date, end_date):\n",
    "    time_range = (start_date.strftime('%Y-%m-%d'), end_date.strftime('%Y-%m-%d'))\n",
    "#    print(f\"Selected time range: {time_range}\")\n",
    "    return time_range\n",
    "\n",
    "# Input widgets for specifying the year range\n",
    "start_date_input = widgets.DatePicker(\n",
    "    description=\"Start Date\", value=datetime(2010, 1, 1)  # Default value (example)\n",
    ")\n",
    "\n",
    "end_date_input = widgets.DatePicker(\n",
    "    description=\"End Date\", value=datetime(2020, 12, 31)  # Default value (example)\n",
    ")\n",
    "\n",
    "# Display date pickers\n",
    "display(start_date_input, end_date_input)\n",
    "\n",
    "# Attach the update function to the date pickers\n",
    "def on_date_change(change):\n",
    "    update_time_range(start_date_input.value, end_date_input.value)\n",
    "\n",
    "start_date_input.observe(on_date_change, names='value')\n",
    "end_date_input.observe(on_date_change, names='value')\n",
    "\n",
    "# Initial call to set the time range\n",
    "time_range = update_time_range(start_date_input.value, end_date_input.value)\n",
    "\n",
    "# Free up memory if necessary\n",
    "_ = gc.collect()  # Store the result in a variable to avoid displaying it\n"
   ]
  },
  {
   "cell_type": "code",
   "execution_count": 5,
   "id": "d83c9aed-4aa7-4690-9d24-c7922a9d6a14",
   "metadata": {
    "tags": []
   },
   "outputs": [
    {
     "name": "stdout",
     "output_type": "stream",
     "text": [
      "Selected time range: ('2010-01-01', '2020-12-31')\n"
     ]
    }
   ],
   "source": [
    "print(f\"Selected time range: {time_range}\")"
   ]
  },
  {
   "cell_type": "markdown",
   "id": "fd70d783-35a7-4687-9f71-24164597424b",
   "metadata": {},
   "source": [
    "# Section 5 - DEA Data Load"
   ]
  },
  {
   "cell_type": "code",
   "execution_count": 6,
   "id": "7978b56d-d54f-47d4-9523-e044dd2fb9d4",
   "metadata": {
    "tags": []
   },
   "outputs": [
    {
     "data": {
      "application/vnd.jupyter.widget-view+json": {
       "model_id": "",
       "version_major": 2,
       "version_minor": 0
      },
      "text/plain": [
       "VBox(children=(HTML(value='<b>.</b>'),))"
      ]
     },
     "metadata": {},
     "output_type": "display_data"
    },
    {
     "name": "stdout",
     "output_type": "stream",
     "text": [
      "Lat Range: (-23.541878, -23.461908)\n",
      "Lon Range: (150.604113, 150.748339)\n",
      "Start Date: 2010-01-01 00:00:00\n",
      "End Date: 2020-12-31 00:00:00\n",
      "Query Parameters: {'y': (-23.541878, -23.461908), 'x': (150.604113, 150.748339), 'time': (datetime.datetime(2010, 1, 1, 0, 0), datetime.datetime(2020, 12, 31, 0, 0))}\n"
     ]
    },
    {
     "data": {
      "application/vnd.jupyter.widget-view+json": {
       "model_id": "a6c07f8133e44f4eb6a9a07169c9035c",
       "version_major": 2,
       "version_minor": 0
      },
      "text/plain": [
       "Loading DEA Land Cover data:   0%|          | 0/10 [00:00<?]"
      ]
     },
     "metadata": {},
     "output_type": "display_data"
    },
    {
     "name": "stdout",
     "output_type": "stream",
     "text": [
      "DEA Land Cover data loaded successfully.\n",
      "\n",
      "Geobox Information:\n",
      "-------------------\n",
      "CRS: PROJCS[\"GDA94 / Australian Albers\",GEOGCS[\"GDA94\",DATUM[\"Geocentric_Datum_of_Australia_1994\",SPHEROID[\"GRS 1980\",6378137,298.257222101,AUTHORITY[\"EPSG\",\"7019\"]],AUTHORITY[\"EPSG\",\"6283\"]],PRIMEM[\"Greenwich\",0,AUTHORITY[\"EPSG\",\"8901\"]],UNIT[\"degree\",0.0174532925199433,AUTHORITY[\"EPSG\",\"9122\"]],AUTHORITY[\"EPSG\",\"4283\"]],PROJECTION[\"Albers_Conic_Equal_Area\"],PARAMETER[\"latitude_of_center\",0],PARAMETER[\"longitude_of_center\",132],PARAMETER[\"standard_parallel_1\",-18],PARAMETER[\"standard_parallel_2\",-36],PARAMETER[\"false_easting\",0],PARAMETER[\"false_northing\",0],UNIT[\"metre\",1,AUTHORITY[\"EPSG\",\"9001\"]],AXIS[\"Easting\",EAST],AXIS[\"Northing\",NORTH],AUTHORITY[\"EPSG\",\"3577\"]]\n",
      "Dimensions: ('y', 'x')\n",
      "Resolution: (-25.0, 25.0)\n",
      "Shape: (440, 630)\n",
      "Extent: Geometry({'type': 'Polygon', 'coordinates': (((1873750.0, -2667100.0), (1873750.0, -2678100.0), (1889500.0, -2678100.0), (1889500.0, -2667100.0), (1873750.0, -2667100.0)),)}, CRS('PROJCS[\"GDA94 / Australian Albers\",GEOGCS[\"GDA94\",DATUM[\"Geocentric_Datum_of_Australia_1994\",SPHEROID[\"GRS 1980\",6378137,298.257222101,AUTHORITY[\"EPSG\",\"7019\"]],AUTHORITY[\"EPSG\",\"6283\"]],PRIMEM[\"Greenwich\",0,AUTHORITY[\"EPSG\",\"8901\"]],UNIT[\"degree\",0.0174532925199433,AUTHORITY[\"EPSG\",\"9122\"]],AUTHORITY[\"EPSG\",\"4283\"]],PROJECTION[\"Albers_Conic_Equal_Area\"],PARAMETER[\"latitude_of_center\",0],PARAMETER[\"longitude_of_center\",132],PARAMETER[\"standard_parallel_1\",-18],PARAMETER[\"standard_parallel_2\",-36],PARAMETER[\"false_easting\",0],PARAMETER[\"false_northing\",0],UNIT[\"metre\",1,AUTHORITY[\"EPSG\",\"9001\"]],AXIS[\"Easting\",EAST],AXIS[\"Northing\",NORTH],AUTHORITY[\"EPSG\",\"3577\"]]'))\n",
      "\n",
      "Loaded data dimensions: FrozenMappingWarningOnValuesAccess({'time': 11, 'y': 440, 'x': 630})\n",
      "Loaded data variables: Data variables:\n",
      "    level3               (time, y, x) uint8 3MB 220 111 112 112 ... 112 112 112\n",
      "    lifeform             (time, y, x) uint8 3MB 0 2 2 2 2 2 2 ... 2 2 2 2 2 2 2\n",
      "    vegetation_cover     (time, y, x) uint8 3MB 0 12 12 13 13 ... 13 13 13 13 13\n",
      "    water_seasonality    (time, y, x) uint8 3MB 0 0 0 0 0 0 0 ... 0 0 0 0 0 0 0\n",
      "    water_state          (time, y, x) uint8 3MB 1 0 0 0 0 0 0 ... 0 0 0 0 0 0 0\n",
      "    intertidal           (time, y, x) uint8 3MB 0 0 0 0 0 0 0 ... 0 0 0 0 0 0 0\n",
      "    water_persistence    (time, y, x) uint8 3MB 9 0 0 0 0 0 0 ... 0 0 0 0 0 0 0\n",
      "    bare_gradation       (time, y, x) uint8 3MB 0 0 0 0 0 0 0 ... 0 0 0 0 0 0 0\n",
      "    full_classification  (time, y, x) uint8 3MB 104 15 33 34 34 ... 34 34 34 34\n"
     ]
    }
   ],
   "source": [
    "import matplotlib.pyplot as plt\n",
    "from tqdm.notebook import tqdm\n",
    "from ipywidgets import HTML, VBox\n",
    "from IPython.display import display\n",
    "import time\n",
    "import logging\n",
    "import threading\n",
    "import gc\n",
    "\n",
    "# Suppress garbage collection warnings\n",
    "logging.getLogger(\"distributed.utils_perf\").setLevel(logging.ERROR)\n",
    "\n",
    "# Create a dot indicator\n",
    "spinner = HTML(\"<b>.</b>\")\n",
    "box = VBox([spinner])\n",
    "display(box)\n",
    "\n",
    "# Function to update the spinner\n",
    "def spin():\n",
    "    while not done:\n",
    "        spinner.value = spinner.value + \".\" if len(spinner.value) < 10 else \"<b>.</b>\"\n",
    "        time.sleep(0.5)\n",
    "\n",
    "# Assume total steps is the number of files/jobs being loaded\n",
    "total_steps = 10  # Replace with the actual number of steps\n",
    "\n",
    "# Ensure actual data loading for DEA Land Cover data\n",
    "done = False\n",
    "try:\n",
    "    # Start the spinner in a separate thread\n",
    "    spinner_thread = threading.Thread(target=spin)\n",
    "    spinner_thread.start()\n",
    "    \n",
    "    # Step 1: Check if required variables are defined\n",
    "    if lat_range is None or lon_range is None or start_date_input.value is None or end_date_input.value is None:\n",
    "        raise ValueError(\"Latitude, Longitude, or Time range is not defined\")\n",
    "\n",
    "    print(\"Lat Range:\", lat_range)\n",
    "    print(\"Lon Range:\", lon_range)\n",
    "    print(\"Start Date:\", start_date_input.value)\n",
    "    print(\"End Date:\", end_date_input.value)\n",
    "\n",
    "    # Step 2: Construct the query\n",
    "    query = {\n",
    "        \"y\": lat_range,\n",
    "        \"x\": lon_range,\n",
    "        \"time\": (start_date_input.value, end_date_input.value),\n",
    "    }\n",
    "\n",
    "    print(\"Query Parameters:\", query)\n",
    "\n",
    "    # Step 3: Load DEA Land Cover data from the datacube\n",
    "    with tqdm(total=total_steps, desc=\"Loading DEA Land Cover data\", bar_format='{l_bar}{bar}| {n_fmt}/{total_fmt} [{elapsed}<{remaining}]') as pbar:\n",
    "        lc = dc.load(\n",
    "            product=\"ga_ls_landcover_class_cyear_2\",\n",
    "            output_crs=\"EPSG:3577\",\n",
    "            measurements=[\n",
    "                \"level3\",\n",
    "                \"lifeform\",\n",
    "                \"vegetation_cover\",\n",
    "                \"water_seasonality\",\n",
    "                \"water_state\",\n",
    "                \"intertidal\",\n",
    "                \"water_persistence\",\n",
    "                \"bare_gradation\",\n",
    "                \"full_classification\",\n",
    "            ],\n",
    "            resolution=(-25, 25),\n",
    "#            dask_chunks={'time': 1},\n",
    "            **query\n",
    "        ).persist()\n",
    "        \n",
    "        # Update the progress bar after each step\n",
    "        pbar.update(1)  # Adjust the value if multiple steps are combined into one\n",
    "\n",
    "        # Simulate further steps if necessary\n",
    "        for _ in range(total_steps - 1):\n",
    "            time.sleep(0.1)  # Simulate a step taking time\n",
    "            pbar.update(1)\n",
    "\n",
    "    pbar.close()  # Close the progress bar to remove it from the output\n",
    "    print(\"DEA Land Cover data loaded successfully.\")\n",
    "except Exception as e:\n",
    "    print(f\"Error loading DEA Land Cover data: {e}\")\n",
    "finally:\n",
    "    # Stop the spinner\n",
    "    done = True\n",
    "    spinner_thread.join()\n",
    "\n",
    "# Remove the spinner\n",
    "box.close()\n",
    "\n",
    "# Step 4: Check if the dataset is loaded correctly\n",
    "if 'lc' not in locals() or lc is None or lc.geobox is None:\n",
    "    raise ValueError(\"Failed to load the dataset. Please check the query parameters and ensure data is available for the specified region and time range.\")   \n",
    "\n",
    "# Step 5: Print geobox information\n",
    "geobox = lc.geobox\n",
    "\n",
    "geobox_info = f\"\"\"\n",
    "Geobox Information:\n",
    "-------------------\n",
    "CRS: {geobox.crs}\n",
    "Dimensions: {geobox.dimensions}\n",
    "Resolution: {geobox.resolution}\n",
    "Shape: {geobox.shape}\n",
    "Extent: {geobox.extent}\n",
    "\"\"\"\n",
    "\n",
    "print(geobox_info)\n",
    "\n",
    "# Step 6: Check loaded data dimensions and variables\n",
    "print(\"Loaded data dimensions:\", lc.dims)\n",
    "print(\"Loaded data variables:\", lc.data_vars)\n",
    "\n",
    "# Free up memory if necessary\n",
    "_ = gc.collect()  # Suppress the output by assigning it to a variable\n"
   ]
  },
  {
   "cell_type": "markdown",
   "id": "3e96f2c2-435e-46bf-827a-a129c57d7974",
   "metadata": {},
   "source": [
    "# Section 6 - Checkbox Plots"
   ]
  },
  {
   "cell_type": "code",
   "execution_count": 7,
   "id": "9f435362-ee54-47b7-a4b3-8ed1687781b5",
   "metadata": {
    "tags": []
   },
   "outputs": [
    {
     "data": {
      "application/vnd.jupyter.widget-view+json": {
       "model_id": "b27aa1d4cf474326b79ff0b67dfd7d60",
       "version_major": 2,
       "version_minor": 0
      },
      "text/plain": [
       "HBox(children=(Checkbox(value=False, description='Level 3'), Checkbox(value=False, description='Lifeform'), Ch…"
      ]
     },
     "metadata": {},
     "output_type": "display_data"
    },
    {
     "data": {
      "application/vnd.jupyter.widget-view+json": {
       "model_id": "67690f26d63345d8b9659cc71cd6b5e9",
       "version_major": 2,
       "version_minor": 0
      },
      "text/plain": [
       "Button(description='Plot Selected Data', style=ButtonStyle())"
      ]
     },
     "metadata": {},
     "output_type": "display_data"
    },
    {
     "data": {
      "application/vnd.jupyter.widget-view+json": {
       "model_id": "e8d4b3f8ca8c463d94de686cbf944ba1",
       "version_major": 2,
       "version_minor": 0
      },
      "text/plain": [
       "Output()"
      ]
     },
     "metadata": {},
     "output_type": "display_data"
    }
   ],
   "source": [
    "# Section 6: Checkbox widgets for selecting datasets\n",
    "def create_checkbox(description, initial_value=False):\n",
    "    return Checkbox(description=description, value=initial_value)\n",
    "\n",
    "level3_checkbox = create_checkbox('Level 3')\n",
    "lifeform_checkbox = create_checkbox('Lifeform')\n",
    "vegetation_cover_checkbox = create_checkbox('Vegetation Cover')\n",
    "water_state_checkbox = create_checkbox('Water State')\n",
    "water_persistence_checkbox = create_checkbox('Water Persistence')\n",
    "full_classification_checkbox = create_checkbox('Full Classification')\n",
    "item_checkbox = create_checkbox('Intertidal Elevation')\n",
    "\n",
    "output = Output()\n",
    "\n",
    "def plot_land_cover_dataset(dataset, title):\n",
    "    plt.figure()\n",
    "    plot_land_cover(dataset)\n",
    "    plt.title(title)\n",
    "    plt.show()\n",
    "\n",
    "def plot_selected_datasets():\n",
    "    with output:\n",
    "        output.clear_output()\n",
    "        selected_datasets = {\n",
    "            'Level 3': (level3_checkbox.value, lc.level3 if 'lc' in globals() else None),\n",
    "            'Lifeform': (lifeform_checkbox.value, lc.lifeform if 'lc' in globals() else None),\n",
    "            'Vegetation Cover': (vegetation_cover_checkbox.value, lc.vegetation_cover if 'lc' in globals() else None),\n",
    "            'Water State': (water_state_checkbox.value, lc.water_state if 'lc' in globals() else None),\n",
    "            'Water Persistence': (water_persistence_checkbox.value, lc.water_persistence if 'lc' in globals() else None),\n",
    "            'Full Classification': (full_classification_checkbox.value, lc.full_classification if 'lc' in globals() else None),\n",
    "            'Intertidal Elevation': (item_checkbox.value, item.elevation[0] if 'item' in globals() else None)\n",
    "        }\n",
    "\n",
    "        for title, (is_selected, dataset) in selected_datasets.items():\n",
    "            if is_selected and dataset is not None:\n",
    "                plot_land_cover_dataset(dataset, title)\n",
    "                del dataset  # Free up memory\n",
    "\n",
    "plot_datasets_button = Button(description='Plot Selected Data')\n",
    "plot_datasets_button.on_click(lambda b: plot_selected_datasets())\n",
    "\n",
    "checkboxes_box = HBox([\n",
    "    level3_checkbox, \n",
    "    lifeform_checkbox, \n",
    "    vegetation_cover_checkbox, \n",
    "    water_state_checkbox, \n",
    "    water_persistence_checkbox, \n",
    "    full_classification_checkbox,\n",
    "    item_checkbox\n",
    "])\n",
    "display(checkboxes_box)\n",
    "display(plot_datasets_button)\n",
    "display(output)\n"
   ]
  },
  {
   "cell_type": "markdown",
   "id": "6786f9a6-3245-4606-85ab-0c5018e672e3",
   "metadata": {},
   "source": [
    "# Section 7 - Impacts and Pressure Selection"
   ]
  },
  {
   "cell_type": "code",
   "execution_count": 8,
   "id": "05b494d6-a55d-4e84-9862-96eb48cd7b8c",
   "metadata": {
    "tags": []
   },
   "outputs": [
    {
     "data": {
      "application/vnd.jupyter.widget-view+json": {
       "model_id": "2845daad1edc4c2d9b3242880ee32643",
       "version_major": 2,
       "version_minor": 0
      },
      "text/plain": [
       "VBox(children=(Dropdown(description='Impact:', options=('  (0)', 'Accretion (1)', 'Algal bloom (2)', 'Algal di…"
      ]
     },
     "metadata": {},
     "output_type": "display_data"
    }
   ],
   "source": [
    "import pandas as pd\n",
    "import ipywidgets as widgets\n",
    "from IPython.display import display, HTML\n",
    "\n",
    "# Load the dataset from the specified relative path\n",
    "#file_path = 'Working/Impacts and pressures_test_June.xlsx'\n",
    "file_path = 'gct/Impacts and pressures.xlsx'\n",
    "\n",
    "# https://prifysgolaber.sharepoint.com/:x:/r/sites/collaborate/living-earth/Shared%20Documents/Living%20Coasts/Data/Impacts%20and%20pressures.xlsx?d=w4b1066c36a284fafae02e9dcb8202cbb&csf=1&web=1&e=INfra2\n",
    "\n",
    "df = pd.read_excel(file_path, sheet_name='Australia')\n",
    "\n",
    "# Replace NaN values in 'Impact_ID' and 'Pressure_ID' columns with zeros\n",
    "df['Impact_ID'] = df['Impact_ID'].fillna(0).astype(int)\n",
    "df['Pressure_ID'] = df['Pressure_ID'].fillna(0).astype(int)\n",
    "\n",
    "# Create a mapping from Impact to associated Pressures\n",
    "impact_to_pressures = df.groupby(['Impacts', 'Impact_ID'])[['Pressures', 'Pressure_ID']].apply(\n",
    "    lambda x: [f\"{row['Pressures']} ({row['Pressure_ID']})\" for _, row in x.iterrows()]\n",
    ").to_dict()\n",
    "\n",
    "# Define evidence groups\n",
    "time_columns = ['TimeO_Ev', 'TimeL_Ev', 'TimeM_Ev', 'TimeD_Ev', 'Space_Ev']\n",
    "level3_columns = ['ModA', 'ModB', 'ModC', 'ModD', 'ModE', 'ModF', 'ModG', 'ModH', 'ModI', 'ConA', 'ConB', 'ConC', 'ConD', 'ConE', 'ConF', 'ConG', 'ConH', 'ConI', 'ConJ', 'ConK', 'ConL', 'ConM', 'ConN', 'ConO', 'ConP']\n",
    "lifeform_columns = ['LfA', 'LfB', 'LfC', 'LfD']\n",
    "cover_columns = ['CovA', 'CovB','CovC','CovD','CovE','CovF','CovG','CovH','CovI','CovJ','CovK','CovL','CovM','CovN','CovO','CovP','CovQ','CovR','CovS','CovT','CovU','CovV','CovX']\n",
    "waterstt_columns = ['Wstate']\n",
    "waterper_columns = ['WperA', 'WperB', 'WperC', 'WperD', 'WperE', 'WperF']\n",
    "biomass_columns = ['AGB_Ev', 'AGBSD_Ev']\n",
    "pressure_columns = ['ActiveFire', 'Burnscar', 'Smoke', 'Turbidity', 'Flooding', 'Hydrograph', 'SnowExtent', 'Sediment', 'OceanAcidity', 'SeaSurfTemp', 'LandSurfTemp', 'AtmosTemp', 'AtmosPress', 'Precipitation', 'Windspeed', 'LightningStrikesData', 'SeaSurfaceHeight']\n",
    "\n",
    "# Create a dictionary to map each identifier to its associated evidence with values\n",
    "identifier_to_evidence = {}\n",
    "for _, row in df.iterrows():\n",
    "    identifier = row['Impact_ID'] * 1000 + row['Pressure_ID']\n",
    "    \n",
    "    # Function to format values\n",
    "    def format_value(value):\n",
    "        try:\n",
    "            return int(value) if pd.notnull(value) and value == int(value) else value\n",
    "        except (ValueError, TypeError):\n",
    "            return value\n",
    "\n",
    "    evidence_with_values = {\n",
    "        'IP_UID': row['IP_UID'],\n",
    "        'ID_Colour': row['ID_Colour'],\n",
    "        'Time_Evidence': [(col, format_value(row[col])) for col in time_columns if pd.notnull(row[col])],\n",
    "        'Level3_Evidence': [(col, format_value(row[col])) for col in level3_columns if pd.notnull(row[col])],\n",
    "        'Lifeform_Evidence': [(col, format_value(row[col])) for col in lifeform_columns if pd.notnull(row[col])],\n",
    "        'Cover_Evidence': [(col, format_value(row[col])) for col in cover_columns if pd.notnull(row[col])],\n",
    "        'Waterstt_Evidence': [(col, format_value(row[col])) for col in waterstt_columns if pd.notnull(row[col])],\n",
    "        'Waterper_Evidence': [(col, format_value(row[col])) for col in waterper_columns if pd.notnull(row[col])],\n",
    "        'Biomass_Evidence': [(col, format_value(row[col])) for col in biomass_columns if pd.notnull(row[col])],\n",
    "        'Pressure_Evidence': [(col, format_value(row[col])) for col in pressure_columns if pd.notnull(row[col])]    }\n",
    "    identifier_to_evidence[identifier] = evidence_with_values\n",
    "\n",
    "# Create the dropdown widgets for impacts and pressures with IDs\n",
    "impact_dropdown = widgets.Dropdown(\n",
    "    options=[f\"{impact} ({impact_id})\" for (impact, impact_id) in impact_to_pressures.keys()],\n",
    "    description='Impact:',\n",
    "    value=None  # Start without a selection\n",
    ")\n",
    "\n",
    "pressure_dropdown = widgets.Dropdown(\n",
    "    options=['Please select an Impact first'],\n",
    "    description='Pressure:',\n",
    "    value=None  # Start without a selection\n",
    ")\n",
    "\n",
    "# Define the output widget for displaying the calculation result and evidence\n",
    "output = widgets.Output()\n",
    "\n",
    "# Define the function to update pressure dropdown based on selected impact\n",
    "def on_impact_change(change):\n",
    "    selected_impact = change['new']\n",
    "    if selected_impact:\n",
    "        impact, impact_id = selected_impact.rsplit(' (', 1)\n",
    "        impact_id = int(impact_id.rstrip(')'))\n",
    "        pressures = impact_to_pressures.get((impact, impact_id), [])\n",
    "        pressure_dropdown.options = pressures\n",
    "    else:\n",
    "        pressure_dropdown.options = ['Please select an Impact first']\n",
    "\n",
    "# Define the function to display the selected impact and pressure\n",
    "def display_selection(impact, pressure):\n",
    "    global selected_ip_uid  # Make IP_UID global to be accessible in Section 8\n",
    "\n",
    "    with output:\n",
    "        output.clear_output()\n",
    "        if impact and pressure:\n",
    "            impact_id = int(impact.rsplit(' (', 1)[1].rstrip(')'))\n",
    "            pressure_id = int(pressure.rsplit(' (', 1)[1].rstrip(')'))\n",
    "            identifier = impact_id * 1000 + pressure_id\n",
    "\n",
    "            if identifier in identifier_to_evidence:\n",
    "                evidence = identifier_to_evidence[identifier]\n",
    "                selected_ip_uid = evidence[\"IP_UID\"]  # Set the selected IP_UID\n",
    "                display(HTML(f'<strong>Selected Impact:</strong> {impact}'))\n",
    "                display(HTML(f'<strong>Selected Pressure:</strong> {pressure}'))\n",
    "                display(HTML(f'<strong>Identifier:</strong> {identifier}'))\n",
    "                display(HTML(f'<strong>IP_UID:</strong> {evidence[\"IP_UID\"]}'))\n",
    "                display(HTML(f'<strong>ID_Colour:</strong> {evidence[\"ID_Colour\"]}'))\n",
    "                display(HTML('<strong>Evidence:</strong>'))\n",
    "                for group, values in evidence.items():\n",
    "                    if group not in ['IP_UID', 'ID_Colour'] and values:\n",
    "                        display(HTML(f'<strong>{group.replace(\"_\", \" \")}:</strong>'))\n",
    "                        for evidence_name, value in values:\n",
    "                            display(HTML(f'- {evidence_name}: {value}'))\n",
    "            else:\n",
    "                display(HTML('<strong>Error:</strong> No evidence found for the selected Impact and Pressure.'))\n",
    "        else:\n",
    "            display(HTML('<strong>Please select both an impact and a pressure.</strong>'))\n",
    "\n",
    "# Set up observation for changes in the impact dropdown\n",
    "impact_dropdown.observe(on_impact_change, names='value')\n",
    "\n",
    "# Set up interaction to display selections\n",
    "interactive_selection = widgets.interactive(display_selection, impact=impact_dropdown, pressure=pressure_dropdown)\n",
    "\n",
    "# Arrange the widgets and the output display\n",
    "display(widgets.VBox([impact_dropdown, pressure_dropdown, output]))\n",
    "\n",
    "# Free up memory by removing the dataframe\n",
    "del df\n"
   ]
  },
  {
   "cell_type": "markdown",
   "id": "6bad0d8c-5221-4f6a-b817-f018eeace1b2",
   "metadata": {},
   "source": [
    "### Establish changes in Level 3 and environmental descriptors\n",
    "Changes in the Level 3 categories (conversions and modifications) are identified first. Where modifications of an existing land cover occur, changes in lifeform, canopy cover, water state and water persistence are considered."
   ]
  },
  {
   "cell_type": "code",
   "execution_count": 192,
   "id": "5db628c2-9a01-4434-80b9-abf3407b192c",
   "metadata": {
    "tags": []
   },
   "outputs": [],
   "source": [
    "# Ensure actual data loading is in place of random data\n",
    "# Load actual data for level3 and lifeform changes\n",
    "start_l3 = lc.level3[0].astype(np.int32)\n",
    "end_l3 = lc.level3[-1].astype(np.int32)\n",
    "ignore_no_change = False\n",
    "change_vals_l3 = (start_l3 * 1000) + end_l3\n",
    "if ignore_no_change:\n",
    "    change_vals_l3 = np.where(start_l3 == end_l3, 0, change_vals_l3)\n",
    "level_3 = lc.level3[0].drop_vars(\"time\")\n",
    "\n",
    "obs_change_l3_t1_t2 = xr.DataArray(\n",
    "    data=change_vals_l3,\n",
    "    coords=level_3.coords,\n",
    "    dims=level_3.dims,\n",
    "    name=\"observed change\",\n",
    "    attrs=level_3.attrs,\n",
    "    fastpath=False,\n",
    ")\n",
    "obs_change_l3 = obs_change_l3_t1_t2.to_dataset(name=\"l3_t1_t2\")\n",
    "\n",
    "# Load actual data for lifeform changes\n",
    "start_lf = lc.lifeform[0].astype(np.int32)\n",
    "end_lf = lc.lifeform[-1].astype(np.int32)\n",
    "change_vals_lf = (start_lf * 10) + end_lf\n",
    "if ignore_no_change:\n",
    "    change_vals_lf = np.where(start_lf == end_lf, 0, change_vals_lf)\n",
    "lifeform = lc.lifeform[0].drop_vars(\"time\")\n",
    "\n",
    "obs_change_lf_t1_t2 = xr.DataArray(\n",
    "    data=change_vals_lf,\n",
    "    coords=lifeform.coords,\n",
    "    dims=lifeform.dims,\n",
    "    name=\"observed change\",\n",
    "    attrs=lifeform.attrs,\n",
    "    fastpath=False,\n",
    ")\n",
    "obs_change_lf = obs_change_lf_t1_t2.to_dataset(name=\"lf_t1_t2\")\n",
    "del obs_change_lf_t1_t2\n",
    "\n",
    "# cover\n",
    "start_cover = lc.vegetation_cover[0].astype(np.int32)\n",
    "end_cover = lc.vegetation_cover[-1].astype(np.int32)\n",
    "change_vals_cover = (start_cover * 100) + end_cover\n",
    "if ignore_no_change:\n",
    "    change_vals_cover = np.where(start_cover == end_cover, 0, change_vals_cover)\n",
    "cover = lc.vegetation_cover[0].drop_vars(\"time\")\n",
    "\n",
    "obs_change_cover_t1_t2 = xr.DataArray(\n",
    "    data=change_vals_cover,\n",
    "    coords=cover.coords,\n",
    "    dims=cover.dims,\n",
    "    name=\"vegetation cover change\",\n",
    "    attrs=cover.attrs,\n",
    "    fastpath=False,\n",
    ")\n",
    "obs_change_cover = obs_change_cover_t1_t2.to_dataset(name=\"cover_t1_t2\")\n",
    "del obs_change_cover_t1_t2\n",
    "\n",
    "# Water state\n",
    "start_waterstt = lc.water_state[0].astype(np.int32)\n",
    "end_waterstt = lc.water_state[-1].astype(np.int32)\n",
    "change_vals_waterstt = (start_waterstt * 10) + end_waterstt\n",
    "if ignore_no_change:\n",
    "    change_vals_waterstt = np.where(start_waterstt == end_waterstt, 0, change_vals_waterstt)\n",
    "waterstt = lc.water_state[0].drop_vars(\"time\")\n",
    "\n",
    "obs_change_waterstt_t1_t2 = xr.DataArray(\n",
    "    data=change_vals_waterstt,\n",
    "    coords=waterstt.coords,\n",
    "    dims=waterstt.dims,\n",
    "    name=\"water state change\",\n",
    "    attrs=waterstt.attrs,\n",
    "    fastpath=False,\n",
    ")\n",
    "obs_change_waterstt = obs_change_waterstt_t1_t2.to_dataset(name=\"waterstt_t1_t2\")\n",
    "del obs_change_waterstt_t1_t2\n",
    "\n",
    "# Water persistence\n",
    "start_waterper = lc.water_persistence[0].astype(np.int32)\n",
    "end_waterper = lc.water_persistence[-1].astype(np.int32)\n",
    "change_vals_waterper = (start_waterper * 10) + end_waterper\n",
    "if ignore_no_change:\n",
    "    change_vals_waterper = np.where(start_waterper == end_waterper, 0, change_vals_waterper)\n",
    "waterper = lc.water_persistence[0].drop_vars(\"time\")\n",
    "\n",
    "obs_change_waterper_t1_t2 = xr.DataArray(\n",
    "    data=change_vals_waterper,\n",
    "    coords=waterper.coords,\n",
    "    dims=waterper.dims,\n",
    "    name=\"water persistence change\",\n",
    "    attrs=waterper.attrs,\n",
    "    fastpath=False,\n",
    ")\n",
    "obs_change_waterper = obs_change_waterper_t1_t2.to_dataset(name=\"waterper_t1_t2\")\n",
    "del obs_change_waterper_t1_t2"
   ]
  },
  {
   "cell_type": "markdown",
   "id": "bd45fb25-f0eb-411b-9f6b-d8d5c8a07d2d",
   "metadata": {},
   "source": [
    "### Generate plots for Level 3 changes."
   ]
  },
  {
   "cell_type": "code",
   "execution_count": 193,
   "id": "1592149c-a5f1-4ced-9a6d-874e89fdcb97",
   "metadata": {
    "tags": []
   },
   "outputs": [
    {
     "name": "stdout",
     "output_type": "stream",
     "text": [
      "Selected IP_UID: 167\n",
      "name: [('ConA', 111216), ('ConB', 112216), ('ConC', 123216), ('ConD', 124216)]\n"
     ]
    },
    {
     "data": {
      "text/plain": [
       "dict_keys(['ConA', 'ConB', 'ConC', 'ConD'])"
      ]
     },
     "execution_count": 193,
     "metadata": {},
     "output_type": "execute_result"
    }
   ],
   "source": [
    "# Function to create and display individual masks and calculate area percentages\n",
    "def level3():\n",
    "    global selected_ip_uid\n",
    "\n",
    "    # Debug: Print selected IP_UID\n",
    "    print(f\"Selected IP_UID: {selected_ip_uid}\")\n",
    "\n",
    "    # Extract the relevant evidence values based on the selected IP_UID\n",
    "    evidence = next((v for k, v in identifier_to_evidence.items() if v['IP_UID'] == selected_ip_uid), None)\n",
    "\n",
    "    selected_level3_values = [(name, value) for name, value in evidence['Level3_Evidence']]\n",
    "    print(f\"name: {selected_level3_values}\")\n",
    "    plot_titles = []  \n",
    "    \n",
    "    # List to store plot titles and their area percentages\n",
    "\n",
    "    def plot_and_calculate_area(data, title, color_map):\n",
    "        fig, ax = plt.subplots(figsize=(10, 6))\n",
    "        data.plot(ax=ax, cmap=color_map)\n",
    "        fig.suptitle(f\"IP_UID: {selected_ip_uid}\", fontsize=16, y=1.05)\n",
    "        ax.set_title(title)\n",
    "        plt.tight_layout()\n",
    "        plt.show()\n",
    "           \n",
    "    level3var={}\n",
    "    if selected_level3_values:\n",
    "\n",
    "        for name, value in selected_level3_values:\n",
    "            change_l3 = np.where(\n",
    "                (obs_change_l3.l3_t1_t2 == value),\n",
    "                1,\n",
    "                0\n",
    "            )\n",
    "\n",
    "            change_xr_l3 = xr.DataArray(\n",
    "                data=change_l3,\n",
    "                coords=level_3.coords,\n",
    "                dims=level_3.dims,\n",
    "                name=\"val1\",\n",
    "                attrs=level_3.attrs,\n",
    "                fastpath=False, \n",
    "            )\n",
    "\n",
    "            level3var[name]=change_xr_l3\n",
    "\n",
    "            change_ds_l3 = change_xr_l3.to_dataset(name=\"val1\") \n",
    "#            plot_and_calculate_area(change_ds_l3.val1, f\"{name} Change Mask for Value {value}\", 'Reds')\n",
    "\n",
    "\n",
    "    return level3var           \n",
    "value = level3()\n",
    "#print(value)\n",
    "value.keys()"
   ]
  },
  {
   "cell_type": "code",
   "execution_count": 194,
   "id": "3ccee2bb-9ad4-4541-9c2f-1cf9c0bab48b",
   "metadata": {
    "tags": []
   },
   "outputs": [],
   "source": [
    "L3L3 = xr.Dataset(value).to_array()"
   ]
  },
  {
   "cell_type": "code",
   "execution_count": 195,
   "id": "4a587cbe-9ecd-45a4-97e0-baa8ed72eb08",
   "metadata": {
    "tags": []
   },
   "outputs": [
    {
     "name": "stdout",
     "output_type": "stream",
     "text": [
      "Remaining variables: ['ConA', 'ConB', 'ConD']\n"
     ]
    }
   ],
   "source": [
    "L3Change = xr.Dataset(\n",
    "    {key: (['y', 'x'], value.data) for key, value in value.items()},  \n",
    "    coords={\n",
    "        'x': L3L3.coords['x'],\n",
    "        'y': L3L3.coords['y'],       \n",
    "    }\n",
    ")\n",
    "\n",
    "threshold = 0 \n",
    "variable_keys = list(L3Change.data_vars) \n",
    "variables_to_drop = [var for var in variable_keys if L3Change[var].sum().item() == threshold] \n",
    "L3Change = L3Change.drop_vars(variables_to_drop)\n",
    "print(\"Remaining variables:\", list(L3Change.data_vars))"
   ]
  },
  {
   "cell_type": "code",
   "execution_count": 196,
   "id": "4b8931c9-f350-4b1e-81be-c5c9403b9a80",
   "metadata": {
    "tags": []
   },
   "outputs": [],
   "source": [
    "L3Changet = xr.Dataset(L3Change).to_array()"
   ]
  },
  {
   "cell_type": "markdown",
   "id": "b9b68876-99f5-427e-a120-6b938266a879",
   "metadata": {},
   "source": [
    "### Generate plots for Lifeform changes."
   ]
  },
  {
   "cell_type": "code",
   "execution_count": 197,
   "id": "87ef3976-3fff-45bd-90ed-176f391de800",
   "metadata": {
    "tags": []
   },
   "outputs": [
    {
     "name": "stdout",
     "output_type": "stream",
     "text": [
      "Selected IP_UID: 167\n",
      "name: []\n"
     ]
    },
    {
     "data": {
      "text/plain": [
       "dict_keys([])"
      ]
     },
     "execution_count": 197,
     "metadata": {},
     "output_type": "execute_result"
    }
   ],
   "source": [
    "# Function to create and display individual masks and calculate area percentages\n",
    "def lifeform():\n",
    "    global selected_ip_uid\n",
    "\n",
    "    # Debug: Print selected IP_UID\n",
    "    print(f\"Selected IP_UID: {selected_ip_uid}\")\n",
    "\n",
    "    # Extract the relevant evidence values based on the selected IP_UID\n",
    "    evidence = next((v for k, v in identifier_to_evidence.items() if v['IP_UID'] == selected_ip_uid), None)\n",
    "\n",
    "    selected_lifeform_values = [(name, value) for name, value in evidence['Lifeform_Evidence']]\n",
    "    print(f\"name: {selected_lifeform_values}\")\n",
    "    plot_titles = []  \n",
    "    \n",
    "    # List to store plot titles and their area percentages\n",
    "\n",
    "    def plot_and_calculate_area(data, title, color_map):\n",
    "        fig, ax = plt.subplots(figsize=(10, 6))\n",
    "        data.plot(ax=ax, cmap=color_map)\n",
    "        fig.suptitle(f\"IP_UID: {selected_ip_uid}\", fontsize=16, y=1.05)\n",
    "        ax.set_title(title)\n",
    "        plt.tight_layout()\n",
    "        plt.show()\n",
    "        \n",
    "    lfvar={}\n",
    "    if selected_lifeform_values:\n",
    "\n",
    "        for name, value in selected_lifeform_values:\n",
    "            change_lf = np.where(\n",
    "                (obs_change_lf.lf_t1_t2 == value),\n",
    "                1,\n",
    "                0\n",
    "            )\n",
    "\n",
    "            change_xr_lf = xr.DataArray(\n",
    "                data=change_lf,\n",
    "                coords=level_3.coords,\n",
    "                dims=level_3.dims,\n",
    "                name=\"val1\",\n",
    "                attrs=level_3.attrs,\n",
    "                fastpath=False,\n",
    "            )\n",
    "\n",
    "            lfvar[name]=change_xr_lf\n",
    "            \n",
    "            change_ds_l3 = change_xr_lf.to_dataset(name=\"val1\")  \n",
    "#            plot_and_calculate_area(change_ds_l3.val1, f\"{name} Change Mask for Value {value}\", 'Reds')\n",
    "\n",
    "\n",
    "    return lfvar           \n",
    "value = lifeform()\n",
    "#print(value)\n",
    "value.keys()"
   ]
  },
  {
   "cell_type": "code",
   "execution_count": 198,
   "id": "b54904c1-d028-4dd3-8e1b-b4665498e31b",
   "metadata": {
    "tags": []
   },
   "outputs": [
    {
     "ename": "IndexError",
     "evalue": "list index out of range",
     "output_type": "error",
     "traceback": [
      "\u001b[0;31m---------------------------------------------------------------------------\u001b[0m",
      "\u001b[0;31mIndexError\u001b[0m                                Traceback (most recent call last)",
      "Cell \u001b[0;32mIn[198], line 1\u001b[0m\n\u001b[0;32m----> 1\u001b[0m LFLF \u001b[38;5;241m=\u001b[39m \u001b[43mxr\u001b[49m\u001b[38;5;241;43m.\u001b[39;49m\u001b[43mDataset\u001b[49m\u001b[43m(\u001b[49m\u001b[43mvalue\u001b[49m\u001b[43m)\u001b[49m\u001b[38;5;241;43m.\u001b[39;49m\u001b[43mto_array\u001b[49m\u001b[43m(\u001b[49m\u001b[43m)\u001b[49m\n",
      "File \u001b[0;32m/env/lib/python3.10/site-packages/xarray/core/dataset.py:7106\u001b[0m, in \u001b[0;36mDataset.to_array\u001b[0;34m(self, dim, name)\u001b[0m\n\u001b[1;32m   7102\u001b[0m \u001b[38;5;28;01mdef\u001b[39;00m \u001b[38;5;21mto_array\u001b[39m(\n\u001b[1;32m   7103\u001b[0m     \u001b[38;5;28mself\u001b[39m, dim: Hashable \u001b[38;5;241m=\u001b[39m \u001b[38;5;124m\"\u001b[39m\u001b[38;5;124mvariable\u001b[39m\u001b[38;5;124m\"\u001b[39m, name: Hashable \u001b[38;5;241m|\u001b[39m \u001b[38;5;28;01mNone\u001b[39;00m \u001b[38;5;241m=\u001b[39m \u001b[38;5;28;01mNone\u001b[39;00m\n\u001b[1;32m   7104\u001b[0m ) \u001b[38;5;241m-\u001b[39m\u001b[38;5;241m>\u001b[39m DataArray:\n\u001b[1;32m   7105\u001b[0m \u001b[38;5;250m    \u001b[39m\u001b[38;5;124;03m\"\"\"Deprecated version of to_dataarray\"\"\"\u001b[39;00m\n\u001b[0;32m-> 7106\u001b[0m     \u001b[38;5;28;01mreturn\u001b[39;00m \u001b[38;5;28;43mself\u001b[39;49m\u001b[38;5;241;43m.\u001b[39;49m\u001b[43mto_dataarray\u001b[49m\u001b[43m(\u001b[49m\u001b[43mdim\u001b[49m\u001b[38;5;241;43m=\u001b[39;49m\u001b[43mdim\u001b[49m\u001b[43m,\u001b[49m\u001b[43m \u001b[49m\u001b[43mname\u001b[49m\u001b[38;5;241;43m=\u001b[39;49m\u001b[43mname\u001b[49m\u001b[43m)\u001b[49m\n",
      "File \u001b[0;32m/env/lib/python3.10/site-packages/xarray/core/dataset.py:7089\u001b[0m, in \u001b[0;36mDataset.to_dataarray\u001b[0;34m(self, dim, name)\u001b[0m\n\u001b[1;32m   7087\u001b[0m data_vars \u001b[38;5;241m=\u001b[39m [\u001b[38;5;28mself\u001b[39m\u001b[38;5;241m.\u001b[39mvariables[k] \u001b[38;5;28;01mfor\u001b[39;00m k \u001b[38;5;129;01min\u001b[39;00m \u001b[38;5;28mself\u001b[39m\u001b[38;5;241m.\u001b[39mdata_vars]\n\u001b[1;32m   7088\u001b[0m broadcast_vars \u001b[38;5;241m=\u001b[39m broadcast_variables(\u001b[38;5;241m*\u001b[39mdata_vars)\n\u001b[0;32m-> 7089\u001b[0m data \u001b[38;5;241m=\u001b[39m \u001b[43mduck_array_ops\u001b[49m\u001b[38;5;241;43m.\u001b[39;49m\u001b[43mstack\u001b[49m\u001b[43m(\u001b[49m\u001b[43m[\u001b[49m\u001b[43mb\u001b[49m\u001b[38;5;241;43m.\u001b[39;49m\u001b[43mdata\u001b[49m\u001b[43m \u001b[49m\u001b[38;5;28;43;01mfor\u001b[39;49;00m\u001b[43m \u001b[49m\u001b[43mb\u001b[49m\u001b[43m \u001b[49m\u001b[38;5;129;43;01min\u001b[39;49;00m\u001b[43m \u001b[49m\u001b[43mbroadcast_vars\u001b[49m\u001b[43m]\u001b[49m\u001b[43m,\u001b[49m\u001b[43m \u001b[49m\u001b[43maxis\u001b[49m\u001b[38;5;241;43m=\u001b[39;49m\u001b[38;5;241;43m0\u001b[39;49m\u001b[43m)\u001b[49m\n\u001b[1;32m   7091\u001b[0m dims \u001b[38;5;241m=\u001b[39m (dim,) \u001b[38;5;241m+\u001b[39m broadcast_vars[\u001b[38;5;241m0\u001b[39m]\u001b[38;5;241m.\u001b[39mdims\n\u001b[1;32m   7092\u001b[0m variable \u001b[38;5;241m=\u001b[39m Variable(dims, data, \u001b[38;5;28mself\u001b[39m\u001b[38;5;241m.\u001b[39mattrs, fastpath\u001b[38;5;241m=\u001b[39m\u001b[38;5;28;01mTrue\u001b[39;00m)\n",
      "File \u001b[0;32m/env/lib/python3.10/site-packages/xarray/core/duck_array_ops.py:361\u001b[0m, in \u001b[0;36mstack\u001b[0;34m(arrays, axis)\u001b[0m\n\u001b[1;32m    359\u001b[0m \u001b[38;5;28;01mdef\u001b[39;00m \u001b[38;5;21mstack\u001b[39m(arrays, axis\u001b[38;5;241m=\u001b[39m\u001b[38;5;241m0\u001b[39m):\n\u001b[1;32m    360\u001b[0m \u001b[38;5;250m    \u001b[39m\u001b[38;5;124;03m\"\"\"stack() with better dtype promotion rules.\"\"\"\u001b[39;00m\n\u001b[0;32m--> 361\u001b[0m     xp \u001b[38;5;241m=\u001b[39m get_array_namespace(\u001b[43marrays\u001b[49m\u001b[43m[\u001b[49m\u001b[38;5;241;43m0\u001b[39;49m\u001b[43m]\u001b[49m)\n\u001b[1;32m    362\u001b[0m     \u001b[38;5;28;01mreturn\u001b[39;00m xp\u001b[38;5;241m.\u001b[39mstack(as_shared_dtype(arrays, xp\u001b[38;5;241m=\u001b[39mxp), axis\u001b[38;5;241m=\u001b[39maxis)\n",
      "\u001b[0;31mIndexError\u001b[0m: list index out of range"
     ]
    }
   ],
   "source": [
    "LFLF = xr.Dataset(value).to_array()"
   ]
  },
  {
   "cell_type": "code",
   "execution_count": null,
   "id": "5f377933-10b4-4759-8280-9cdef0ba2a8d",
   "metadata": {
    "tags": []
   },
   "outputs": [],
   "source": [
    "LFChange = xr.Dataset(\n",
    "    {key: (['y', 'x'], value.data) for key, value in value.items()},  \n",
    "    coords={\n",
    "        'x': LFLF.coords['x'],\n",
    "        'y': LFLF.coords['y'],       \n",
    "    }\n",
    ")\n",
    "\n",
    "threshold = 0 \n",
    "variable_keys = list(LFChange.data_vars) \n",
    "variables_to_drop = [var for var in variable_keys if LFChange[var].sum().item() == threshold] \n",
    "LFChange = LFChange.drop_vars(variables_to_drop)\n",
    "print(\"Remaining variables:\", list(LFChange.data_vars))"
   ]
  },
  {
   "cell_type": "code",
   "execution_count": null,
   "id": "4051bf53-08fd-4619-ae3e-86443a375e87",
   "metadata": {
    "tags": []
   },
   "outputs": [],
   "source": [
    "LFChanget = xr.Dataset(LFChange).to_array()"
   ]
  },
  {
   "cell_type": "markdown",
   "id": "c8504c84-f61b-4193-b813-becea33206c8",
   "metadata": {},
   "source": [
    "### Generate plots for vegetation cover changes."
   ]
  },
  {
   "cell_type": "code",
   "execution_count": 199,
   "id": "3510d788-c076-4ebb-9bd4-f0939b6268f1",
   "metadata": {
    "tags": []
   },
   "outputs": [
    {
     "name": "stdout",
     "output_type": "stream",
     "text": [
      "Selected IP_UID: 167\n",
      "name: []\n"
     ]
    },
    {
     "data": {
      "text/plain": [
       "dict_keys([])"
      ]
     },
     "execution_count": 199,
     "metadata": {},
     "output_type": "execute_result"
    }
   ],
   "source": [
    "# Function to create and display individual masks and calculate area percentages\n",
    "def cover():\n",
    "    global selected_ip_uid\n",
    "\n",
    "    # Debug: Print selected IP_UID\n",
    "    print(f\"Selected IP_UID: {selected_ip_uid}\")\n",
    "\n",
    "    # Extract the relevant evidence values based on the selected IP_UID\n",
    "    evidence = next((v for k, v in identifier_to_evidence.items() if v['IP_UID'] == selected_ip_uid), None)\n",
    "\n",
    "    selected_cover_values = [(name, value) for name, value in evidence['Cover_Evidence']]\n",
    "    print(f\"name: {selected_cover_values}\")\n",
    "    plot_titles = []  \n",
    "    \n",
    "    # List to store plot titles and their area percentages\n",
    "\n",
    "    def plot_and_calculate_area(data, title, color_map):\n",
    "        fig, ax = plt.subplots(figsize=(10, 6))\n",
    "        data.plot(ax=ax, cmap=color_map)\n",
    "        fig.suptitle(f\"IP_UID: {selected_ip_uid}\", fontsize=16, y=1.05)\n",
    "        ax.set_title(title)\n",
    "        plt.tight_layout()\n",
    "        plt.show()\n",
    "        \n",
    "    covervar={}\n",
    "    if selected_cover_values:\n",
    "\n",
    "        for name, value in selected_cover_values:\n",
    "            change_cover = np.where(\n",
    "                (obs_change_cover.cover_t1_t2 == value),\n",
    "                1,\n",
    "                0\n",
    "            )\n",
    "\n",
    "            change_xr_cover = xr.DataArray(\n",
    "                data=change_cover,\n",
    "                coords=level_3.coords,\n",
    "                dims=level_3.dims,\n",
    "                name=\"val1\",\n",
    "                attrs=level_3.attrs,\n",
    "                fastpath=False,\n",
    "            )\n",
    "\n",
    "            covervar[name]=change_xr_cover\n",
    "            \n",
    "            change_ds_cover = change_xr_cover.to_dataset(name=\"val1\")  \n",
    "#            plot_and_calculate_area(change_ds_cover.val1, f\"{name} Change Mask for Value {value}\", 'Reds')\n",
    "\n",
    "\n",
    "    return covervar           \n",
    "value = cover()\n",
    "#print(value)\n",
    "value.keys()"
   ]
  },
  {
   "cell_type": "code",
   "execution_count": 200,
   "id": "dbed46b6-b362-4c57-901a-3bcda04bc070",
   "metadata": {
    "tags": []
   },
   "outputs": [
    {
     "ename": "IndexError",
     "evalue": "list index out of range",
     "output_type": "error",
     "traceback": [
      "\u001b[0;31m---------------------------------------------------------------------------\u001b[0m",
      "\u001b[0;31mIndexError\u001b[0m                                Traceback (most recent call last)",
      "Cell \u001b[0;32mIn[200], line 1\u001b[0m\n\u001b[0;32m----> 1\u001b[0m CCCC \u001b[38;5;241m=\u001b[39m \u001b[43mxr\u001b[49m\u001b[38;5;241;43m.\u001b[39;49m\u001b[43mDataset\u001b[49m\u001b[43m(\u001b[49m\u001b[43mvalue\u001b[49m\u001b[43m)\u001b[49m\u001b[38;5;241;43m.\u001b[39;49m\u001b[43mto_array\u001b[49m\u001b[43m(\u001b[49m\u001b[43m)\u001b[49m\n",
      "File \u001b[0;32m/env/lib/python3.10/site-packages/xarray/core/dataset.py:7106\u001b[0m, in \u001b[0;36mDataset.to_array\u001b[0;34m(self, dim, name)\u001b[0m\n\u001b[1;32m   7102\u001b[0m \u001b[38;5;28;01mdef\u001b[39;00m \u001b[38;5;21mto_array\u001b[39m(\n\u001b[1;32m   7103\u001b[0m     \u001b[38;5;28mself\u001b[39m, dim: Hashable \u001b[38;5;241m=\u001b[39m \u001b[38;5;124m\"\u001b[39m\u001b[38;5;124mvariable\u001b[39m\u001b[38;5;124m\"\u001b[39m, name: Hashable \u001b[38;5;241m|\u001b[39m \u001b[38;5;28;01mNone\u001b[39;00m \u001b[38;5;241m=\u001b[39m \u001b[38;5;28;01mNone\u001b[39;00m\n\u001b[1;32m   7104\u001b[0m ) \u001b[38;5;241m-\u001b[39m\u001b[38;5;241m>\u001b[39m DataArray:\n\u001b[1;32m   7105\u001b[0m \u001b[38;5;250m    \u001b[39m\u001b[38;5;124;03m\"\"\"Deprecated version of to_dataarray\"\"\"\u001b[39;00m\n\u001b[0;32m-> 7106\u001b[0m     \u001b[38;5;28;01mreturn\u001b[39;00m \u001b[38;5;28;43mself\u001b[39;49m\u001b[38;5;241;43m.\u001b[39;49m\u001b[43mto_dataarray\u001b[49m\u001b[43m(\u001b[49m\u001b[43mdim\u001b[49m\u001b[38;5;241;43m=\u001b[39;49m\u001b[43mdim\u001b[49m\u001b[43m,\u001b[49m\u001b[43m \u001b[49m\u001b[43mname\u001b[49m\u001b[38;5;241;43m=\u001b[39;49m\u001b[43mname\u001b[49m\u001b[43m)\u001b[49m\n",
      "File \u001b[0;32m/env/lib/python3.10/site-packages/xarray/core/dataset.py:7089\u001b[0m, in \u001b[0;36mDataset.to_dataarray\u001b[0;34m(self, dim, name)\u001b[0m\n\u001b[1;32m   7087\u001b[0m data_vars \u001b[38;5;241m=\u001b[39m [\u001b[38;5;28mself\u001b[39m\u001b[38;5;241m.\u001b[39mvariables[k] \u001b[38;5;28;01mfor\u001b[39;00m k \u001b[38;5;129;01min\u001b[39;00m \u001b[38;5;28mself\u001b[39m\u001b[38;5;241m.\u001b[39mdata_vars]\n\u001b[1;32m   7088\u001b[0m broadcast_vars \u001b[38;5;241m=\u001b[39m broadcast_variables(\u001b[38;5;241m*\u001b[39mdata_vars)\n\u001b[0;32m-> 7089\u001b[0m data \u001b[38;5;241m=\u001b[39m \u001b[43mduck_array_ops\u001b[49m\u001b[38;5;241;43m.\u001b[39;49m\u001b[43mstack\u001b[49m\u001b[43m(\u001b[49m\u001b[43m[\u001b[49m\u001b[43mb\u001b[49m\u001b[38;5;241;43m.\u001b[39;49m\u001b[43mdata\u001b[49m\u001b[43m \u001b[49m\u001b[38;5;28;43;01mfor\u001b[39;49;00m\u001b[43m \u001b[49m\u001b[43mb\u001b[49m\u001b[43m \u001b[49m\u001b[38;5;129;43;01min\u001b[39;49;00m\u001b[43m \u001b[49m\u001b[43mbroadcast_vars\u001b[49m\u001b[43m]\u001b[49m\u001b[43m,\u001b[49m\u001b[43m \u001b[49m\u001b[43maxis\u001b[49m\u001b[38;5;241;43m=\u001b[39;49m\u001b[38;5;241;43m0\u001b[39;49m\u001b[43m)\u001b[49m\n\u001b[1;32m   7091\u001b[0m dims \u001b[38;5;241m=\u001b[39m (dim,) \u001b[38;5;241m+\u001b[39m broadcast_vars[\u001b[38;5;241m0\u001b[39m]\u001b[38;5;241m.\u001b[39mdims\n\u001b[1;32m   7092\u001b[0m variable \u001b[38;5;241m=\u001b[39m Variable(dims, data, \u001b[38;5;28mself\u001b[39m\u001b[38;5;241m.\u001b[39mattrs, fastpath\u001b[38;5;241m=\u001b[39m\u001b[38;5;28;01mTrue\u001b[39;00m)\n",
      "File \u001b[0;32m/env/lib/python3.10/site-packages/xarray/core/duck_array_ops.py:361\u001b[0m, in \u001b[0;36mstack\u001b[0;34m(arrays, axis)\u001b[0m\n\u001b[1;32m    359\u001b[0m \u001b[38;5;28;01mdef\u001b[39;00m \u001b[38;5;21mstack\u001b[39m(arrays, axis\u001b[38;5;241m=\u001b[39m\u001b[38;5;241m0\u001b[39m):\n\u001b[1;32m    360\u001b[0m \u001b[38;5;250m    \u001b[39m\u001b[38;5;124;03m\"\"\"stack() with better dtype promotion rules.\"\"\"\u001b[39;00m\n\u001b[0;32m--> 361\u001b[0m     xp \u001b[38;5;241m=\u001b[39m get_array_namespace(\u001b[43marrays\u001b[49m\u001b[43m[\u001b[49m\u001b[38;5;241;43m0\u001b[39;49m\u001b[43m]\u001b[49m)\n\u001b[1;32m    362\u001b[0m     \u001b[38;5;28;01mreturn\u001b[39;00m xp\u001b[38;5;241m.\u001b[39mstack(as_shared_dtype(arrays, xp\u001b[38;5;241m=\u001b[39mxp), axis\u001b[38;5;241m=\u001b[39maxis)\n",
      "\u001b[0;31mIndexError\u001b[0m: list index out of range"
     ]
    }
   ],
   "source": [
    "CCCC = xr.Dataset(value).to_array()"
   ]
  },
  {
   "cell_type": "code",
   "execution_count": null,
   "id": "5df8f114-3c20-467c-8f67-013b9b558a12",
   "metadata": {
    "tags": []
   },
   "outputs": [],
   "source": [
    "CCChange = xr.Dataset(\n",
    "    {key: (['y', 'x'], value.data) for key, value in value.items()},  \n",
    "    coords={\n",
    "        'x': CCCC.coords['x'],\n",
    "        'y': CCCC.coords['y'],       \n",
    "    }\n",
    ")\n",
    "\n",
    "threshold = 0 \n",
    "variable_keys = list(CCChange.data_vars) \n",
    "variables_to_drop = [var for var in variable_keys if CCChange[var].sum().item() == threshold] \n",
    "CCChange = CCChange.drop_vars(variables_to_drop)\n",
    "print(\"Remaining variables:\", list(CCChange.data_vars))"
   ]
  },
  {
   "cell_type": "code",
   "execution_count": null,
   "id": "c963d7d1-40ff-4ff3-854a-5c23a5073963",
   "metadata": {
    "tags": []
   },
   "outputs": [],
   "source": [
    "CCChanget = xr.Dataset(CCChange).to_array()"
   ]
  },
  {
   "cell_type": "markdown",
   "id": "ac8d9213-e8de-4395-ad81-855b4e3fd3fd",
   "metadata": {},
   "source": [
    "### Generate plots for Water state changes."
   ]
  },
  {
   "cell_type": "code",
   "execution_count": null,
   "id": "1e2777be-60fe-4f23-911c-5425071f8ec3",
   "metadata": {
    "tags": []
   },
   "outputs": [],
   "source": [
    "def waterstt():\n",
    "    global selected_ip_uid\n",
    "\n",
    "    # Debug: Print selected IP_UID\n",
    "    print(f\"Selected IP_UID: {selected_ip_uid}\")\n",
    "\n",
    "    # Extract the relevant evidence values based on the selected IP_UID\n",
    "    evidence = next((v for k, v in identifier_to_evidence.items() if v['IP_UID'] == selected_ip_uid), None)\n",
    "    if evidence is None:\n",
    "        print(f\"No evidence found for IP_UID {selected_ip_uid}\")\n",
    "        return\n",
    "\n",
    "    selected_waterstt_values = [(name, value) for name, value in evidence['Waterstt_Evidence']]\n",
    "    print(f\"name: {selected_waterstt_values}\")\n",
    "    plot_titles = []      \n",
    "    \n",
    "    watersttvar={}\n",
    "    if selected_waterstt_values:\n",
    "        for name, waterstt_val in selected_waterstt_values:\n",
    "            change_waterstt = np.where(\n",
    "                (obs_change_waterstt.waterstt_t1_t2 == waterstt_val),\n",
    "                1,\n",
    "                0\n",
    "            )\n",
    "\n",
    "            change_xr_waterstt = xr.DataArray(\n",
    "                data=change_waterstt,\n",
    "                coords=obs_change_waterstt.coords,\n",
    "                dims=obs_change_waterstt.dims,\n",
    "                name=\"Change\",\n",
    "                attrs=None\n",
    "            )\n",
    "\n",
    "            watersttvar[name]=change_xr_waterstt           \n",
    "            \n",
    "            change_ds_waterstt = change_xr_waterstt.to_dataset(name=\"Change\")\n",
    "#            plot_and_calculate_area(change_ds_waterstt.Change, f\"{name} Change Mask for Value {waterstt_val}\", 'Blues')    \n",
    "\n",
    "    return watersttvar \n",
    "value = waterstt()\n",
    "#print(value)\n",
    "value.keys()"
   ]
  },
  {
   "cell_type": "code",
   "execution_count": 201,
   "id": "35d56907-1d8f-4ea8-86f8-f9a49c4efd28",
   "metadata": {
    "tags": []
   },
   "outputs": [],
   "source": [
    "#WSWS = xr.Dataset(WSChange).to_array()"
   ]
  },
  {
   "cell_type": "code",
   "execution_count": 202,
   "id": "117e8f90-1e38-457e-8d65-0b827f7958e8",
   "metadata": {
    "tags": []
   },
   "outputs": [
    {
     "name": "stdout",
     "output_type": "stream",
     "text": [
      "Remaining variables: []\n"
     ]
    }
   ],
   "source": [
    "WSChange = xr.Dataset(\n",
    "    {key: (['y', 'x'], value.data) for key, value in value.items()},  \n",
    "    coords={\n",
    "        'x': CCCC.coords['x'],\n",
    "        'y': CCCC.coords['y'],       \n",
    "    }\n",
    ")\n",
    "\n",
    "threshold = 0 \n",
    "variable_keys = list(WSChange.data_vars) \n",
    "variables_to_drop = [var for var in variable_keys if WSChange[var].sum().item() == threshold] \n",
    "CCChange = WSChange.drop_vars(variables_to_drop)\n",
    "print(\"Remaining variables:\", list(WSChange.data_vars))"
   ]
  },
  {
   "cell_type": "code",
   "execution_count": 203,
   "id": "f89d95b7-d861-4386-a51f-5b5a5eb19eee",
   "metadata": {
    "tags": []
   },
   "outputs": [],
   "source": [
    "#WSChanget = xr.Dataset(WSChange).to_array()"
   ]
  },
  {
   "cell_type": "markdown",
   "id": "473025ac-1b6b-4dd1-b9e8-a85c645fd8bc",
   "metadata": {},
   "source": [
    "### Generate plots for water persistence changes."
   ]
  },
  {
   "cell_type": "code",
   "execution_count": 204,
   "id": "500af22b-93c5-48eb-a1b7-5f2ec57ce0bc",
   "metadata": {
    "tags": []
   },
   "outputs": [
    {
     "name": "stdout",
     "output_type": "stream",
     "text": [
      "Selected IP_UID: 167\n",
      "name: []\n"
     ]
    },
    {
     "data": {
      "text/plain": [
       "dict_keys([])"
      ]
     },
     "execution_count": 204,
     "metadata": {},
     "output_type": "execute_result"
    }
   ],
   "source": [
    "def waterper():\n",
    "    global selected_ip_uid\n",
    "\n",
    "    # Debug: Print selected IP_UID\n",
    "    print(f\"Selected IP_UID: {selected_ip_uid}\")\n",
    "\n",
    "    # Extract the relevant evidence values based on the selected IP_UID\n",
    "    evidence = next((v for k, v in identifier_to_evidence.items() if v['IP_UID'] == selected_ip_uid), None)\n",
    "    if evidence is None:\n",
    "        print(f\"No evidence found for IP_UID {selected_ip_uid}\")\n",
    "        return\n",
    "\n",
    "    selected_waterper_values = [(name, value) for name, value in evidence['Waterper_Evidence']]\n",
    "    print(f\"name: {selected_waterper_values}\")\n",
    "    plot_titles = []      \n",
    "    \n",
    "    waterpervar={}\n",
    "    if selected_waterper_values:\n",
    "        for name, waterper_val in selected_waterper_values:\n",
    "            change_waterper = np.where(\n",
    "                (obs_change_waterper.waterper_t1_t2 == waterper_val),\n",
    "                1,\n",
    "                0\n",
    "            )\n",
    "\n",
    "            change_xr_waterper = xr.DataArray(\n",
    "                data=change_waterper,\n",
    "                coords=obs_change_waterper.coords,\n",
    "                dims=obs_change_waterper.dims,\n",
    "                name=\"Change\",\n",
    "                attrs=None\n",
    "            )\n",
    "\n",
    "            waterpervar[name]=change_xr_waterper           \n",
    "            \n",
    "            change_ds_waterper = change_xr_waterper.to_dataset(name=\"Change\")\n",
    "#            plot_and_calculate_area(change_ds_waterstt.Change, f\"{name} Change Mask for Value {waterstt_val}\", 'Blues')    \n",
    "\n",
    "    return waterpervar \n",
    "value = waterper()\n",
    "#print(value)\n",
    "value.keys()"
   ]
  },
  {
   "cell_type": "code",
   "execution_count": 205,
   "id": "0e7f0847-d80f-4ecb-9a40-f5a658bfcb52",
   "metadata": {
    "tags": []
   },
   "outputs": [],
   "source": [
    "#WPWP = xr.Dataset(WPChange).to_array()"
   ]
  },
  {
   "cell_type": "code",
   "execution_count": 206,
   "id": "c99fa981-4d40-4cfe-b516-dc30b829e4c0",
   "metadata": {
    "tags": []
   },
   "outputs": [
    {
     "name": "stdout",
     "output_type": "stream",
     "text": [
      "Remaining variables: []\n"
     ]
    }
   ],
   "source": [
    "WPChange = xr.Dataset(\n",
    "    {key: (['y', 'x'], value.data) for key, value in value.items()},  \n",
    "    coords={\n",
    "        'x': CCCC.coords['x'],\n",
    "        'y': CCCC.coords['y'],       \n",
    "    }\n",
    ")\n",
    "\n",
    "threshold = 0 \n",
    "variable_keys = list(WPChange.data_vars) \n",
    "variables_to_drop = [var for var in variable_keys if WPChange[var].sum().item() == threshold] \n",
    "CCChange = WPChange.drop_vars(variables_to_drop)\n",
    "print(\"Remaining variables:\", list(WPChange.data_vars))"
   ]
  },
  {
   "cell_type": "code",
   "execution_count": 207,
   "id": "d17eccf4-9d1e-4678-afee-5457be4745fe",
   "metadata": {
    "tags": []
   },
   "outputs": [],
   "source": [
    "#WPChanget = xr.Dataset(WPChange).to_array()"
   ]
  },
  {
   "cell_type": "markdown",
   "id": "d81970f8-4bb5-4adc-9a08-2cef9a54b365",
   "metadata": {},
   "source": [
    "### Generate plots of LCCS and ED Change classes"
   ]
  },
  {
   "cell_type": "code",
   "execution_count": 208,
   "id": "5a1dbf45-79f2-469f-a728-a4e02162999e",
   "metadata": {
    "tags": []
   },
   "outputs": [
    {
     "name": "stdout",
     "output_type": "stream",
     "text": [
      "Selected IP_UID: 167\n",
      "name: [('ConA', 111216), ('ConB', 112216), ('ConC', 123216), ('ConD', 124216)]\n"
     ]
    }
   ],
   "source": [
    "value = level3()"
   ]
  },
  {
   "cell_type": "code",
   "execution_count": 209,
   "id": "c87fb7ec-b2ec-4bd4-aa27-d516995c05a7",
   "metadata": {
    "tags": []
   },
   "outputs": [
    {
     "data": {
      "text/plain": [
       "<matplotlib.collections.QuadMesh at 0x7fc02101a920>"
      ]
     },
     "execution_count": 209,
     "metadata": {},
     "output_type": "execute_result"
    },
    {
     "data": {
      "image/png": "[encoded data removed]",
      "text/plain": [
       "<Figure size 3000x1000 with 7 Axes>"
      ]
     },
     "metadata": {},
     "output_type": "display_data"
    }
   ],
   "source": [
    "dataset_fig, axs = plt.subplots(nrows = 2, ncols = 2, figsize=(30, 10))\n",
    "L3Changet[0].plot(ax=axs[0,0], cmap='terrain', add_labels=False)\n",
    "L3Changet[1].plot(ax=axs[0,1], cmap='terrain', add_labels=False)\n",
    "L3Changet[1].plot(ax=axs[1,0], cmap='terrain', add_labels=False)\n",
    "#L3L3t[1].plot(ax=axs[1,1], cmap='terrain', add_labels=False)"
   ]
  },
  {
   "cell_type": "code",
   "execution_count": 210,
   "id": "37a9e1c3-26d1-46ed-9c85-d582a6fda07c",
   "metadata": {
    "tags": []
   },
   "outputs": [
    {
     "name": "stdout",
     "output_type": "stream",
     "text": [
      "Selected IP_UID: 167\n",
      "name: []\n"
     ]
    }
   ],
   "source": [
    "value = lifeform()"
   ]
  },
  {
   "cell_type": "code",
   "execution_count": 211,
   "id": "9a4e302a-b315-43cb-967d-b8c45cf5c132",
   "metadata": {
    "tags": []
   },
   "outputs": [
    {
     "data": {
      "text/plain": [
       "<matplotlib.collections.QuadMesh at 0x7fc020d092d0>"
      ]
     },
     "execution_count": 211,
     "metadata": {},
     "output_type": "execute_result"
    },
    {
     "data": {
      "image/png": "[encoded data removed]",
      "text/plain": [
       "<Figure size 3000x1000 with 8 Axes>"
      ]
     },
     "metadata": {},
     "output_type": "display_data"
    }
   ],
   "source": [
    "Lifeform_Change_fig, axs = plt.subplots(nrows = 2, ncols = 2, figsize=(30, 10))\n",
    "LFChanget[0].plot(ax=axs[0,0], cmap='terrain', add_labels=False)\n",
    "LFChanget[1].plot(ax=axs[0,1], cmap='terrain', add_labels=False)\n",
    "LFChanget[0].plot(ax=axs[1,0], cmap='terrain', add_labels=False)\n",
    "LFChanget[1].plot(ax=axs[1,1], cmap='terrain', add_labels=False)"
   ]
  },
  {
   "cell_type": "code",
   "execution_count": 212,
   "id": "8a4f48e1-0c28-4838-bfdd-d536c6bf629b",
   "metadata": {
    "tags": []
   },
   "outputs": [
    {
     "name": "stdout",
     "output_type": "stream",
     "text": [
      "Selected IP_UID: 167\n",
      "name: []\n"
     ]
    }
   ],
   "source": [
    "value = cover()"
   ]
  },
  {
   "cell_type": "code",
   "execution_count": 213,
   "id": "9ab523ee-226d-47e7-8f69-7a65236ebf41",
   "metadata": {
    "tags": []
   },
   "outputs": [
    {
     "ename": "IndexError",
     "evalue": "index 7 is out of bounds for axis 0 with size 7",
     "output_type": "error",
     "traceback": [
      "\u001b[0;31m---------------------------------------------------------------------------\u001b[0m",
      "\u001b[0;31mIndexError\u001b[0m                                Traceback (most recent call last)",
      "Cell \u001b[0;32mIn[213], line 9\u001b[0m\n\u001b[1;32m      7\u001b[0m CCChanget[\u001b[38;5;241m5\u001b[39m]\u001b[38;5;241m.\u001b[39mplot(ax\u001b[38;5;241m=\u001b[39maxs[\u001b[38;5;241m1\u001b[39m,\u001b[38;5;241m1\u001b[39m], cmap\u001b[38;5;241m=\u001b[39m\u001b[38;5;124m'\u001b[39m\u001b[38;5;124mterrain\u001b[39m\u001b[38;5;124m'\u001b[39m, add_labels\u001b[38;5;241m=\u001b[39m\u001b[38;5;28;01mFalse\u001b[39;00m)\n\u001b[1;32m      8\u001b[0m CCChanget[\u001b[38;5;241m6\u001b[39m]\u001b[38;5;241m.\u001b[39mplot(ax\u001b[38;5;241m=\u001b[39maxs[\u001b[38;5;241m1\u001b[39m,\u001b[38;5;241m2\u001b[39m], cmap\u001b[38;5;241m=\u001b[39m\u001b[38;5;124m'\u001b[39m\u001b[38;5;124mterrain\u001b[39m\u001b[38;5;124m'\u001b[39m, add_labels\u001b[38;5;241m=\u001b[39m\u001b[38;5;28;01mFalse\u001b[39;00m)\n\u001b[0;32m----> 9\u001b[0m \u001b[43mCCChanget\u001b[49m\u001b[43m[\u001b[49m\u001b[38;5;241;43m7\u001b[39;49m\u001b[43m]\u001b[49m\u001b[38;5;241m.\u001b[39mplot(ax\u001b[38;5;241m=\u001b[39maxs[\u001b[38;5;241m1\u001b[39m,\u001b[38;5;241m3\u001b[39m], cmap\u001b[38;5;241m=\u001b[39m\u001b[38;5;124m'\u001b[39m\u001b[38;5;124mterrain\u001b[39m\u001b[38;5;124m'\u001b[39m, add_labels\u001b[38;5;241m=\u001b[39m\u001b[38;5;28;01mFalse\u001b[39;00m)\n\u001b[1;32m     10\u001b[0m CCChanget[\u001b[38;5;241m8\u001b[39m]\u001b[38;5;241m.\u001b[39mplot(ax\u001b[38;5;241m=\u001b[39maxs[\u001b[38;5;241m2\u001b[39m,\u001b[38;5;241m0\u001b[39m], cmap\u001b[38;5;241m=\u001b[39m\u001b[38;5;124m'\u001b[39m\u001b[38;5;124mterrain\u001b[39m\u001b[38;5;124m'\u001b[39m, add_labels\u001b[38;5;241m=\u001b[39m\u001b[38;5;28;01mFalse\u001b[39;00m)\n\u001b[1;32m     11\u001b[0m \u001b[38;5;66;03m#CCCC[1].plot(ax=axs[1,4], cmap='terrain', add_labels=False)\u001b[39;00m\n\u001b[1;32m     12\u001b[0m \u001b[38;5;66;03m#CCCC[1].plot(ax=axs[2,0], cmap='terrain', add_labels=False)\u001b[39;00m\n\u001b[1;32m     13\u001b[0m \u001b[38;5;66;03m#CCCC[1].plot(ax=axs[2,1], cmap='terrain', add_labels=False)\u001b[39;00m\n\u001b[1;32m     14\u001b[0m \u001b[38;5;66;03m#CCCC[1].plot(ax=axs[2,2], cmap='terrain', add_labels=False)\u001b[39;00m\n\u001b[1;32m     15\u001b[0m \u001b[38;5;66;03m#CCCC[1].plot(ax=axs[2,3], cmap='terrain', add_labels=False)\u001b[39;00m\n\u001b[1;32m     16\u001b[0m \u001b[38;5;66;03m#CCCC[1].plot(ax=axs[2,4], cmap='terrain', add_labels=False)\u001b[39;00m\n",
      "File \u001b[0;32m/env/lib/python3.10/site-packages/xarray/core/dataarray.py:874\u001b[0m, in \u001b[0;36mDataArray.__getitem__\u001b[0;34m(self, key)\u001b[0m\n\u001b[1;32m    871\u001b[0m     \u001b[38;5;28;01mreturn\u001b[39;00m \u001b[38;5;28mself\u001b[39m\u001b[38;5;241m.\u001b[39m_getitem_coord(key)\n\u001b[1;32m    872\u001b[0m \u001b[38;5;28;01melse\u001b[39;00m:\n\u001b[1;32m    873\u001b[0m     \u001b[38;5;66;03m# xarray-style array indexing\u001b[39;00m\n\u001b[0;32m--> 874\u001b[0m     \u001b[38;5;28;01mreturn\u001b[39;00m \u001b[38;5;28;43mself\u001b[39;49m\u001b[38;5;241;43m.\u001b[39;49m\u001b[43misel\u001b[49m\u001b[43m(\u001b[49m\u001b[43mindexers\u001b[49m\u001b[38;5;241;43m=\u001b[39;49m\u001b[38;5;28;43mself\u001b[39;49m\u001b[38;5;241;43m.\u001b[39;49m\u001b[43m_item_key_to_dict\u001b[49m\u001b[43m(\u001b[49m\u001b[43mkey\u001b[49m\u001b[43m)\u001b[49m\u001b[43m)\u001b[49m\n",
      "File \u001b[0;32m/env/lib/python3.10/site-packages/xarray/core/dataarray.py:1493\u001b[0m, in \u001b[0;36mDataArray.isel\u001b[0;34m(self, indexers, drop, missing_dims, **indexers_kwargs)\u001b[0m\n\u001b[1;32m   1488\u001b[0m     \u001b[38;5;28;01mreturn\u001b[39;00m \u001b[38;5;28mself\u001b[39m\u001b[38;5;241m.\u001b[39m_from_temp_dataset(ds)\n\u001b[1;32m   1490\u001b[0m \u001b[38;5;66;03m# Much faster algorithm for when all indexers are ints, slices, one-dimensional\u001b[39;00m\n\u001b[1;32m   1491\u001b[0m \u001b[38;5;66;03m# lists, or zero or one-dimensional np.ndarray's\u001b[39;00m\n\u001b[0;32m-> 1493\u001b[0m variable \u001b[38;5;241m=\u001b[39m \u001b[38;5;28;43mself\u001b[39;49m\u001b[38;5;241;43m.\u001b[39;49m\u001b[43m_variable\u001b[49m\u001b[38;5;241;43m.\u001b[39;49m\u001b[43misel\u001b[49m\u001b[43m(\u001b[49m\u001b[43mindexers\u001b[49m\u001b[43m,\u001b[49m\u001b[43m \u001b[49m\u001b[43mmissing_dims\u001b[49m\u001b[38;5;241;43m=\u001b[39;49m\u001b[43mmissing_dims\u001b[49m\u001b[43m)\u001b[49m\n\u001b[1;32m   1494\u001b[0m indexes, index_variables \u001b[38;5;241m=\u001b[39m isel_indexes(\u001b[38;5;28mself\u001b[39m\u001b[38;5;241m.\u001b[39mxindexes, indexers)\n\u001b[1;32m   1496\u001b[0m coords \u001b[38;5;241m=\u001b[39m {}\n",
      "File \u001b[0;32m/env/lib/python3.10/site-packages/xarray/core/variable.py:1018\u001b[0m, in \u001b[0;36mVariable.isel\u001b[0;34m(self, indexers, missing_dims, **indexers_kwargs)\u001b[0m\n\u001b[1;32m   1015\u001b[0m indexers \u001b[38;5;241m=\u001b[39m drop_dims_from_indexers(indexers, \u001b[38;5;28mself\u001b[39m\u001b[38;5;241m.\u001b[39mdims, missing_dims)\n\u001b[1;32m   1017\u001b[0m key \u001b[38;5;241m=\u001b[39m \u001b[38;5;28mtuple\u001b[39m(indexers\u001b[38;5;241m.\u001b[39mget(dim, \u001b[38;5;28mslice\u001b[39m(\u001b[38;5;28;01mNone\u001b[39;00m)) \u001b[38;5;28;01mfor\u001b[39;00m dim \u001b[38;5;129;01min\u001b[39;00m \u001b[38;5;28mself\u001b[39m\u001b[38;5;241m.\u001b[39mdims)\n\u001b[0;32m-> 1018\u001b[0m \u001b[38;5;28;01mreturn\u001b[39;00m \u001b[38;5;28;43mself\u001b[39;49m\u001b[43m[\u001b[49m\u001b[43mkey\u001b[49m\u001b[43m]\u001b[49m\n",
      "File \u001b[0;32m/env/lib/python3.10/site-packages/xarray/core/variable.py:785\u001b[0m, in \u001b[0;36mVariable.__getitem__\u001b[0;34m(self, key)\u001b[0m\n\u001b[1;32m    782\u001b[0m dims, indexer, new_order \u001b[38;5;241m=\u001b[39m \u001b[38;5;28mself\u001b[39m\u001b[38;5;241m.\u001b[39m_broadcast_indexes(key)\n\u001b[1;32m    783\u001b[0m indexable \u001b[38;5;241m=\u001b[39m as_indexable(\u001b[38;5;28mself\u001b[39m\u001b[38;5;241m.\u001b[39m_data)\n\u001b[0;32m--> 785\u001b[0m data \u001b[38;5;241m=\u001b[39m \u001b[43mindexing\u001b[49m\u001b[38;5;241;43m.\u001b[39;49m\u001b[43mapply_indexer\u001b[49m\u001b[43m(\u001b[49m\u001b[43mindexable\u001b[49m\u001b[43m,\u001b[49m\u001b[43m \u001b[49m\u001b[43mindexer\u001b[49m\u001b[43m)\u001b[49m\n\u001b[1;32m    787\u001b[0m \u001b[38;5;28;01mif\u001b[39;00m new_order:\n\u001b[1;32m    788\u001b[0m     data \u001b[38;5;241m=\u001b[39m np\u001b[38;5;241m.\u001b[39mmoveaxis(data, \u001b[38;5;28mrange\u001b[39m(\u001b[38;5;28mlen\u001b[39m(new_order)), new_order)\n",
      "File \u001b[0;32m/env/lib/python3.10/site-packages/xarray/core/indexing.py:1002\u001b[0m, in \u001b[0;36mapply_indexer\u001b[0;34m(indexable, indexer)\u001b[0m\n\u001b[1;32m   1000\u001b[0m     \u001b[38;5;28;01mreturn\u001b[39;00m indexable\u001b[38;5;241m.\u001b[39moindex[indexer]\n\u001b[1;32m   1001\u001b[0m \u001b[38;5;28;01melse\u001b[39;00m:\n\u001b[0;32m-> 1002\u001b[0m     \u001b[38;5;28;01mreturn\u001b[39;00m \u001b[43mindexable\u001b[49m\u001b[43m[\u001b[49m\u001b[43mindexer\u001b[49m\u001b[43m]\u001b[49m\n",
      "File \u001b[0;32m/env/lib/python3.10/site-packages/xarray/core/indexing.py:1491\u001b[0m, in \u001b[0;36mNumpyIndexingAdapter.__getitem__\u001b[0;34m(self, indexer)\u001b[0m\n\u001b[1;32m   1487\u001b[0m \u001b[38;5;66;03m# We want 0d slices rather than scalars. This is achieved by\u001b[39;00m\n\u001b[1;32m   1488\u001b[0m \u001b[38;5;66;03m# appending an ellipsis (see\u001b[39;00m\n\u001b[1;32m   1489\u001b[0m \u001b[38;5;66;03m# https://numpy.org/doc/stable/reference/arrays.indexing.html#detailed-notes).\u001b[39;00m\n\u001b[1;32m   1490\u001b[0m key \u001b[38;5;241m=\u001b[39m indexer\u001b[38;5;241m.\u001b[39mtuple \u001b[38;5;241m+\u001b[39m (\u001b[38;5;28mEllipsis\u001b[39m,)\n\u001b[0;32m-> 1491\u001b[0m \u001b[38;5;28;01mreturn\u001b[39;00m \u001b[43marray\u001b[49m\u001b[43m[\u001b[49m\u001b[43mkey\u001b[49m\u001b[43m]\u001b[49m\n",
      "\u001b[0;31mIndexError\u001b[0m: index 7 is out of bounds for axis 0 with size 7"
     ]
    },
    {
     "data": {
      "image/png": "[encoded data removed]",
      "text/plain": [
       "<Figure size 3000x1000 with 19 Axes>"
      ]
     },
     "metadata": {},
     "output_type": "display_data"
    }
   ],
   "source": [
    "Cover_fig, axs = plt.subplots(nrows = 3, ncols = 4, figsize=(30, 10))\n",
    "CCChanget[0].plot(ax=axs[0,0], cmap='terrain', add_labels=False)\n",
    "CCChanget[1].plot(ax=axs[0,1], cmap='terrain', add_labels=False)\n",
    "CCChanget[2].plot(ax=axs[0,2], cmap='terrain', add_labels=False)\n",
    "CCChanget[3].plot(ax=axs[0,3], cmap='terrain', add_labels=False)\n",
    "CCChanget[4].plot(ax=axs[1,0], cmap='terrain', add_labels=False)\n",
    "CCChanget[5].plot(ax=axs[1,1], cmap='terrain', add_labels=False)\n",
    "CCChanget[6].plot(ax=axs[1,2], cmap='terrain', add_labels=False)\n",
    "CCChanget[7].plot(ax=axs[1,3], cmap='terrain', add_labels=False)\n",
    "CCChanget[8].plot(ax=axs[2,0], cmap='terrain', add_labels=False)\n",
    "#CCCC[1].plot(ax=axs[1,4], cmap='terrain', add_labels=False)\n",
    "#CCCC[1].plot(ax=axs[2,0], cmap='terrain', add_labels=False)\n",
    "#CCCC[1].plot(ax=axs[2,1], cmap='terrain', add_labels=False)\n",
    "#CCCC[1].plot(ax=axs[2,2], cmap='terrain', add_labels=False)\n",
    "#CCCC[1].plot(ax=axs[2,3], cmap='terrain', add_labels=False)\n",
    "#CCCC[1].plot(ax=axs[2,4], cmap='terrain', add_labels=False)"
   ]
  },
  {
   "cell_type": "code",
   "execution_count": null,
   "id": "8440c0ee-5d1c-4c91-98ff-5a865d32e940",
   "metadata": {
    "tags": []
   },
   "outputs": [],
   "source": [
    "value = waterstt()"
   ]
  },
  {
   "cell_type": "code",
   "execution_count": null,
   "id": "e3729995-04ba-4efb-8bd0-b84f3e8a0719",
   "metadata": {
    "tags": []
   },
   "outputs": [],
   "source": [
    "#Water_state_change_fig, axs = plt.subplots(nrows = 2, ncols = 2, figsize=(30, 10))\n",
    "#WSChanget[0].plot(ax=axs[0,0], cmap='terrain', add_labels=False)\n",
    "#WSChanget[0].plot(ax=axs[0,1], cmap='terrain', add_labels=False)\n",
    "#WSChanget[0].plot(ax=axs[1,0], cmap='terrain', add_labels=False)\n",
    "#WSChanget[0].plot(ax=axs[1,1], cmap='terrain', add_labels=False)"
   ]
  },
  {
   "cell_type": "code",
   "execution_count": null,
   "id": "f185eff5-f3e5-45b9-854e-3285be3c504e",
   "metadata": {
    "tags": []
   },
   "outputs": [],
   "source": [
    "value = waterper()"
   ]
  },
  {
   "cell_type": "code",
   "execution_count": null,
   "id": "54d467be-6c38-4d8f-96f6-487022284de4",
   "metadata": {
    "tags": []
   },
   "outputs": [],
   "source": [
    "#Waterper_fig, axs = plt.subplots(nrows = 2, ncols = 3, figsize=(30, 10))\n",
    "#WPChanget[0].plot(ax=axs[0,0], cmap='terrain', add_labels=False)\n",
    "#WPChanget[1].plot(ax=axs[0,1], cmap='terrain', add_labels=False)\n",
    "#WPChanget[2].plot(ax=axs[0,2], cmap='terrain', add_labels=False)\n",
    "#WPChanget[3].plot(ax=axs[1,0], cmap='terrain', add_labels=False)\n",
    "#WPChanget[4].plot(ax=axs[1,1], cmap='terrain', add_labels=False)\n",
    "#WPChanget[5].plot(ax=axs[1,2], cmap='terrain', add_labels=False)"
   ]
  },
  {
   "cell_type": "code",
   "execution_count": 222,
   "id": "7bacb93e-80dd-42f0-b1f7-432679fa95d4",
   "metadata": {},
   "outputs": [],
   "source": [
    "Im68 = np.where(\n",
    "    (\n",
    "        ((L3Changet[0] == 1) | (L3Changet[1] == 1) | (L3Changet[2] == 1)) | \n",
    "        ((LFChanget[0] == 1) | (LFChanget[1] == 1)) & \n",
    "        ((CCChanget[0] == 1) | (CCChanget[1] == 1) | (CCChanget[2] == 1) | (CCChanget[3] == 1) | (CCChanget[4] == 1) | (CCChanget[5] == 1) | (CCChanget[6] == 1))\n",
    "    ),\n",
    "    1,\n",
    "    0,\n",
    ")\n",
    "Im68 = xr.DataArray(\n",
    "    data=Im68,\n",
    "    coords=level_3.coords,\n",
    "    dims=level_3.dims,\n",
    "    name=\"Impacts\",\n",
    "    attrs=None,\n",
    ")\n",
    "# Make a mask of 1 for the 'impact' class No. 44 'vegetation amount (loss)' \n",
    "IP179 = Im68 * 153"
   ]
  },
  {
   "cell_type": "code",
   "execution_count": 223,
   "id": "a26f8eab-2f73-476e-9aa4-c3f7f7da6ba1",
   "metadata": {
    "tags": []
   },
   "outputs": [],
   "source": [
    "cmap, norm = lc_colourmap('all_impacts_pressures_colour_scheme')"
   ]
  },
  {
   "cell_type": "code",
   "execution_count": 224,
   "id": "e4519b0b-885c-4337-b981-12339ff96213",
   "metadata": {
    "tags": []
   },
   "outputs": [],
   "source": [
    "IP179a = IP179.to_dataset(name=\"NO179\")"
   ]
  },
  {
   "cell_type": "code",
   "execution_count": 225,
   "id": "7440c739-0ec4-4c89-bd1b-ad5239bb6c96",
   "metadata": {
    "tags": []
   },
   "outputs": [
    {
     "data": {
      "text/plain": [
       "<matplotlib.collections.QuadMesh at 0x7fc01b76fc40>"
      ]
     },
     "execution_count": 225,
     "metadata": {},
     "output_type": "execute_result"
    },
    {
     "data": {
      "image/png": "[encoded data removed]",
      "text/plain": [
       "<Figure size 640x480 with 2 Axes>"
      ]
     },
     "metadata": {},
     "output_type": "display_data"
    }
   ],
   "source": [
    "IP179a.NO179.plot(cmap=cmap, norm=norm)"
   ]
  },
  {
   "cell_type": "code",
   "execution_count": 217,
   "id": "d012529a-501b-42e4-ad8a-470415dec419",
   "metadata": {
    "tags": []
   },
   "outputs": [
    {
     "ename": "TypeError",
     "evalue": "cannot directly convert an xarray.Dataset into a numpy array. Instead, create an xarray.DataArray first, either with indexing on the Dataset or by invoking the `to_dataarray()` method.",
     "output_type": "error",
     "traceback": [
      "\u001b[0;31m---------------------------------------------------------------------------\u001b[0m",
      "\u001b[0;31mTypeError\u001b[0m                                 Traceback (most recent call last)",
      "\u001b[0;32m/tmp/ipykernel_8857/1028458730.py\u001b[0m in \u001b[0;36m?\u001b[0;34m()\u001b[0m\n\u001b[0;32m----> 1\u001b[0;31m IP196xr = xr.DataArray(\n\u001b[0m\u001b[1;32m      2\u001b[0m     \u001b[0mdata\u001b[0m\u001b[0;34m=\u001b[0m\u001b[0mIP179a\u001b[0m\u001b[0;34m,\u001b[0m\u001b[0;34m\u001b[0m\u001b[0;34m\u001b[0m\u001b[0m\n\u001b[1;32m      3\u001b[0m     \u001b[0mcoords\u001b[0m\u001b[0;34m=\u001b[0m\u001b[0mIP179a\u001b[0m\u001b[0;34m.\u001b[0m\u001b[0mcoords\u001b[0m\u001b[0;34m,\u001b[0m\u001b[0;34m\u001b[0m\u001b[0;34m\u001b[0m\u001b[0m\n\u001b[1;32m      4\u001b[0m     \u001b[0mdims\u001b[0m\u001b[0;34m=\u001b[0m\u001b[0mIP179a\u001b[0m\u001b[0;34m.\u001b[0m\u001b[0mdims\u001b[0m\u001b[0;34m,\u001b[0m\u001b[0;34m\u001b[0m\u001b[0;34m\u001b[0m\u001b[0m\n",
      "\u001b[0;32m/env/lib/python3.10/site-packages/xarray/core/dataarray.py\u001b[0m in \u001b[0;36m?\u001b[0;34m(self, data, coords, dims, name, attrs, indexes, fastpath)\u001b[0m\n\u001b[1;32m    449\u001b[0m             \u001b[0;32mif\u001b[0m \u001b[0mattrs\u001b[0m \u001b[0;32mis\u001b[0m \u001b[0;32mNone\u001b[0m \u001b[0;32mand\u001b[0m \u001b[0;32mnot\u001b[0m \u001b[0misinstance\u001b[0m\u001b[0;34m(\u001b[0m\u001b[0mdata\u001b[0m\u001b[0;34m,\u001b[0m \u001b[0mPANDAS_TYPES\u001b[0m\u001b[0;34m)\u001b[0m\u001b[0;34m:\u001b[0m\u001b[0;34m\u001b[0m\u001b[0;34m\u001b[0m\u001b[0m\n\u001b[1;32m    450\u001b[0m                 \u001b[0mattrs\u001b[0m \u001b[0;34m=\u001b[0m \u001b[0mgetattr\u001b[0m\u001b[0;34m(\u001b[0m\u001b[0mdata\u001b[0m\u001b[0;34m,\u001b[0m \u001b[0;34m\"attrs\"\u001b[0m\u001b[0;34m,\u001b[0m \u001b[0;32mNone\u001b[0m\u001b[0;34m)\u001b[0m\u001b[0;34m\u001b[0m\u001b[0;34m\u001b[0m\u001b[0m\n\u001b[1;32m    451\u001b[0m \u001b[0;34m\u001b[0m\u001b[0m\n\u001b[1;32m    452\u001b[0m             \u001b[0mdata\u001b[0m \u001b[0;34m=\u001b[0m \u001b[0m_check_data_shape\u001b[0m\u001b[0;34m(\u001b[0m\u001b[0mdata\u001b[0m\u001b[0;34m,\u001b[0m \u001b[0mcoords\u001b[0m\u001b[0;34m,\u001b[0m \u001b[0mdims\u001b[0m\u001b[0;34m)\u001b[0m\u001b[0;34m\u001b[0m\u001b[0;34m\u001b[0m\u001b[0m\n\u001b[0;32m--> 453\u001b[0;31m             \u001b[0mdata\u001b[0m \u001b[0;34m=\u001b[0m \u001b[0mas_compatible_data\u001b[0m\u001b[0;34m(\u001b[0m\u001b[0mdata\u001b[0m\u001b[0;34m)\u001b[0m\u001b[0;34m\u001b[0m\u001b[0;34m\u001b[0m\u001b[0m\n\u001b[0m\u001b[1;32m    454\u001b[0m             \u001b[0mcoords\u001b[0m\u001b[0;34m,\u001b[0m \u001b[0mdims\u001b[0m \u001b[0;34m=\u001b[0m \u001b[0m_infer_coords_and_dims\u001b[0m\u001b[0;34m(\u001b[0m\u001b[0mdata\u001b[0m\u001b[0;34m.\u001b[0m\u001b[0mshape\u001b[0m\u001b[0;34m,\u001b[0m \u001b[0mcoords\u001b[0m\u001b[0;34m,\u001b[0m \u001b[0mdims\u001b[0m\u001b[0;34m)\u001b[0m\u001b[0;34m\u001b[0m\u001b[0;34m\u001b[0m\u001b[0m\n\u001b[1;32m    455\u001b[0m             \u001b[0mvariable\u001b[0m \u001b[0;34m=\u001b[0m \u001b[0mVariable\u001b[0m\u001b[0;34m(\u001b[0m\u001b[0mdims\u001b[0m\u001b[0;34m,\u001b[0m \u001b[0mdata\u001b[0m\u001b[0;34m,\u001b[0m \u001b[0mattrs\u001b[0m\u001b[0;34m,\u001b[0m \u001b[0mfastpath\u001b[0m\u001b[0;34m=\u001b[0m\u001b[0;32mTrue\u001b[0m\u001b[0;34m)\u001b[0m\u001b[0;34m\u001b[0m\u001b[0;34m\u001b[0m\u001b[0m\n\u001b[1;32m    456\u001b[0m \u001b[0;34m\u001b[0m\u001b[0m\n",
      "\u001b[0;32m/env/lib/python3.10/site-packages/xarray/core/variable.py\u001b[0m in \u001b[0;36m?\u001b[0;34m(data, fastpath)\u001b[0m\n\u001b[1;32m    298\u001b[0m     ):\n\u001b[1;32m    299\u001b[0m         \u001b[0;32mreturn\u001b[0m \u001b[0mcast\u001b[0m\u001b[0;34m(\u001b[0m\u001b[0;34m\"T_DuckArray\"\u001b[0m\u001b[0;34m,\u001b[0m \u001b[0mdata\u001b[0m\u001b[0;34m)\u001b[0m\u001b[0;34m\u001b[0m\u001b[0;34m\u001b[0m\u001b[0m\n\u001b[1;32m    300\u001b[0m \u001b[0;34m\u001b[0m\u001b[0m\n\u001b[1;32m    301\u001b[0m     \u001b[0;31m# validate whether the data is valid data types.\u001b[0m\u001b[0;34m\u001b[0m\u001b[0;34m\u001b[0m\u001b[0m\n\u001b[0;32m--> 302\u001b[0;31m     \u001b[0mdata\u001b[0m \u001b[0;34m=\u001b[0m \u001b[0mnp\u001b[0m\u001b[0;34m.\u001b[0m\u001b[0masarray\u001b[0m\u001b[0;34m(\u001b[0m\u001b[0mdata\u001b[0m\u001b[0;34m)\u001b[0m\u001b[0;34m\u001b[0m\u001b[0;34m\u001b[0m\u001b[0m\n\u001b[0m\u001b[1;32m    303\u001b[0m \u001b[0;34m\u001b[0m\u001b[0m\n\u001b[1;32m    304\u001b[0m     \u001b[0;32mif\u001b[0m \u001b[0misinstance\u001b[0m\u001b[0;34m(\u001b[0m\u001b[0mdata\u001b[0m\u001b[0;34m,\u001b[0m \u001b[0mnp\u001b[0m\u001b[0;34m.\u001b[0m\u001b[0mndarray\u001b[0m\u001b[0;34m)\u001b[0m \u001b[0;32mand\u001b[0m \u001b[0mdata\u001b[0m\u001b[0;34m.\u001b[0m\u001b[0mdtype\u001b[0m\u001b[0;34m.\u001b[0m\u001b[0mkind\u001b[0m \u001b[0;32min\u001b[0m \u001b[0;34m\"OMm\"\u001b[0m\u001b[0;34m:\u001b[0m\u001b[0;34m\u001b[0m\u001b[0;34m\u001b[0m\u001b[0m\n\u001b[1;32m    305\u001b[0m         \u001b[0mdata\u001b[0m \u001b[0;34m=\u001b[0m \u001b[0m_possibly_convert_objects\u001b[0m\u001b[0;34m(\u001b[0m\u001b[0mdata\u001b[0m\u001b[0;34m)\u001b[0m\u001b[0;34m\u001b[0m\u001b[0;34m\u001b[0m\u001b[0m\n",
      "\u001b[0;32m/env/lib/python3.10/site-packages/xarray/core/dataset.py\u001b[0m in \u001b[0;36m?\u001b[0;34m(self, dtype)\u001b[0m\n\u001b[1;32m   1499\u001b[0m         \u001b[0;32mdef\u001b[0m \u001b[0m__array__\u001b[0m\u001b[0;34m(\u001b[0m\u001b[0mself\u001b[0m\u001b[0;34m,\u001b[0m \u001b[0mdtype\u001b[0m\u001b[0;34m=\u001b[0m\u001b[0;32mNone\u001b[0m\u001b[0;34m)\u001b[0m\u001b[0;34m:\u001b[0m\u001b[0;34m\u001b[0m\u001b[0;34m\u001b[0m\u001b[0m\n\u001b[0;32m-> 1500\u001b[0;31m             raise TypeError(\n\u001b[0m\u001b[1;32m   1501\u001b[0m                 \u001b[0;34m\"cannot directly convert an xarray.Dataset into a \"\u001b[0m\u001b[0;34m\u001b[0m\u001b[0;34m\u001b[0m\u001b[0m\n\u001b[1;32m   1502\u001b[0m                 \u001b[0;34m\"numpy array. Instead, create an xarray.DataArray \"\u001b[0m\u001b[0;34m\u001b[0m\u001b[0;34m\u001b[0m\u001b[0m\n\u001b[1;32m   1503\u001b[0m                 \u001b[0;34m\"first, either with indexing on the Dataset or by \"\u001b[0m\u001b[0;34m\u001b[0m\u001b[0;34m\u001b[0m\u001b[0m\n",
      "\u001b[0;31mTypeError\u001b[0m: cannot directly convert an xarray.Dataset into a numpy array. Instead, create an xarray.DataArray first, either with indexing on the Dataset or by invoking the `to_dataarray()` method."
     ]
    }
   ],
   "source": [
    "            IP196xr = xr.DataArray(\n",
    "                data=IP179a,\n",
    "                coords=IP179a.coords,\n",
    "                dims=IP179a.dims,\n",
    "                name=\"Change\",\n",
    "                attrs=None\n",
    "            )"
   ]
  },
  {
   "cell_type": "code",
   "execution_count": 169,
   "id": "7af56ec0-c2ac-49b5-b45b-938e2dd71f08",
   "metadata": {
    "tags": []
   },
   "outputs": [
    {
     "ename": "AssertionError",
     "evalue": "da must be an xarray.DataArray",
     "output_type": "error",
     "traceback": [
      "\u001b[0;31m---------------------------------------------------------------------------\u001b[0m",
      "\u001b[0;31mAssertionError\u001b[0m                            Traceback (most recent call last)",
      "Cell \u001b[0;32mIn[169], line 3\u001b[0m\n\u001b[1;32m      1\u001b[0m fill_value \u001b[38;5;241m=\u001b[39m \u001b[38;5;241m1\u001b[39m\n\u001b[1;32m      2\u001b[0m IP179a\u001b[38;5;241m.\u001b[39mattrs[\u001b[38;5;124m\"\u001b[39m\u001b[38;5;124m_FillValue\u001b[39m\u001b[38;5;124m\"\u001b[39m] \u001b[38;5;241m=\u001b[39m fill_value\n\u001b[0;32m----> 3\u001b[0m \u001b[43mdisplay_tools\u001b[49m\u001b[38;5;241;43m.\u001b[39;49m\u001b[43mdisplay_da\u001b[49m\u001b[43m(\u001b[49m\u001b[43mIP179a\u001b[49m\u001b[43m,\u001b[49m\u001b[43m \u001b[49m\u001b[43mcolormap\u001b[49m\u001b[38;5;241;43m=\u001b[39;49m\u001b[38;5;124;43m'\u001b[39;49m\u001b[38;5;124;43mmagma_r\u001b[39;49m\u001b[38;5;124;43m'\u001b[39;49m\u001b[43m)\u001b[49m\n",
      "File \u001b[0;32m~/Living_Coasts_training/display_tools.py:287\u001b[0m, in \u001b[0;36mdisplay_da\u001b[0;34m(da, colormap)\u001b[0m\n\u001b[1;32m    275\u001b[0m \u001b[38;5;250m\u001b[39m\u001b[38;5;124;03m\"\"\"\u001b[39;00m\n\u001b[1;32m    276\u001b[0m \u001b[38;5;124;03mDescription:\u001b[39;00m\n\u001b[1;32m    277\u001b[0m \u001b[38;5;124;03m  Display a colored xarray.DataArray on a map service backgroup\u001b[39;00m\n\u001b[0;32m   (...)\u001b[0m\n\u001b[1;32m    283\u001b[0m \u001b[38;5;124;03m  m: map to interact with\u001b[39;00m\n\u001b[1;32m    284\u001b[0m \u001b[38;5;124;03m\"\"\"\u001b[39;00m\n\u001b[1;32m    286\u001b[0m \u001b[38;5;66;03m# Check inputs\u001b[39;00m\n\u001b[0;32m--> 287\u001b[0m \u001b[38;5;28;01massert\u001b[39;00m \u001b[38;5;124m'\u001b[39m\u001b[38;5;124mdataarray.DataArray\u001b[39m\u001b[38;5;124m'\u001b[39m \u001b[38;5;129;01min\u001b[39;00m \u001b[38;5;28mstr\u001b[39m(\u001b[38;5;28mtype\u001b[39m(da)), \u001b[38;5;124m\"\u001b[39m\u001b[38;5;124mda must be an xarray.DataArray\u001b[39m\u001b[38;5;124m\"\u001b[39m\n\u001b[1;32m    288\u001b[0m \u001b[38;5;28;01mif\u001b[39;00m (\u001b[38;5;28mstr\u001b[39m(da\u001b[38;5;241m.\u001b[39mrio\u001b[38;5;241m.\u001b[39mcrs) \u001b[38;5;241m!=\u001b[39m \u001b[38;5;124m'\u001b[39m\u001b[38;5;124mEPSG:4326\u001b[39m\u001b[38;5;124m'\u001b[39m):\n\u001b[1;32m    289\u001b[0m     da \u001b[38;5;241m=\u001b[39m da\u001b[38;5;241m.\u001b[39mrio\u001b[38;5;241m.\u001b[39mreproject(\u001b[38;5;124m\"\u001b[39m\u001b[38;5;124mEPSG:4326\u001b[39m\u001b[38;5;124m\"\u001b[39m)\n",
      "\u001b[0;31mAssertionError\u001b[0m: da must be an xarray.DataArray"
     ]
    }
   ],
   "source": [
    "fill_value = 1\n",
    "IP179a.attrs[\"_FillValue\"] = fill_value\n",
    "display_tools.display_da(IP179a, colormap='magma_r')"
   ]
  },
  {
   "cell_type": "code",
   "execution_count": null,
   "id": "a04e6be8-5760-42bc-ab73-4170d18ad046",
   "metadata": {},
   "outputs": [],
   "source": []
  },
  {
   "cell_type": "code",
   "execution_count": null,
   "id": "e11f6eb3-688e-44db-8952-f1b333ea0c3e",
   "metadata": {},
   "outputs": [],
   "source": []
  },
  {
   "cell_type": "code",
   "execution_count": null,
   "id": "ebc686eb-80bd-4e35-a168-235070268388",
   "metadata": {},
   "outputs": [],
   "source": []
  },
  {
   "cell_type": "code",
   "execution_count": null,
   "id": "23e489f0-2541-4cc5-8995-28089789ff14",
   "metadata": {},
   "outputs": [],
   "source": []
  }
 ],
 "metadata": {
  "kernelspec": {
   "display_name": "Python 3 (ipykernel)",
   "language": "python",
   "name": "python3"
  },
  "language_info": {
   "codemirror_mode": {
    "name": "ipython",
    "version": 3
   },
   "file_extension": ".py",
   "mimetype": "text/x-python",
   "name": "python",
   "nbconvert_exporter": "python",
   "pygments_lexer": "ipython3",
   "version": "3.10.13"
  }
 },
 "nbformat": 4,
 "nbformat_minor": 5
}
