{
 "cells": [
  {
   "cell_type": "markdown",
   "id": "a9624e24-3e88-468a-93f3-27e12fea8ef1",
   "metadata": {
    "tags": []
   },
   "source": [
    "# Impacts/pressures\n",
    "## Case study demonstrator:  Burdekin catchment and influenced coastal areas.\n",
    "Welcome to the **Living Coasts project**. Here you can find a notebook to search and anlyse the changes (impacts/pressures) occurring within the Burkedin catchment and open coastal environment\n",
    "\n",
    "#### **Impact**: Water quality change\n",
    "Change in the physical, chemical and biological characteristics of water and the measure of its condition relative to the requirements for one or more biotic species and/or to any human need or purpose.\n",
    "\n",
    "#### **Pressure**: Sediment transport (No. 112)\n",
    "111\tSediment transport - The movement of solid particles (sediment) caused by movement of the water volume.!\n",
    "(LISTED AS SEDMIMENT TRANSPORT)\n",
    "\n",
    "#### **Impact (Pressure)**: Increased sediment load (sediment transport)\n",
    "\n",
    "\n",
    "#### **Evidence for impact** (i.e., water quality change)\n",
    "\n",
    "Increased turbidity compared to 'normal' conditions.\n",
    "https://github.com/livingearth-system/Globalchangeframework/blob/main/Evidence-Base-for-Change.md (refers also to increased sediment loads)\n",
    "\n",
    "#### **Evidence for pressure ** (i.e., sediment transport)\n",
    "a) Increased average flow velocity (over a month) \n",
    "b) Increased amount of water (increase in extent of water within river channel).\n",
    "c) Increased turbidity\n",
    "(Seems a bit odd as represents both impact and pressure but reckon this is OK on this occassion).\n",
    "\n",
    "Other factors might include evidence or erosion or (as below) increased rainfall\n",
    "\n",
    "Time factors\n",
    "See: https://github.com/livingearth-system/Globalchangeframework/blob/main/Timefactor.md\n",
    "\n",
    "\n",
    "### Notes\n",
    "- Current extent is the Burkedin catchment and the Burkedin River/Upstart Bay/Whitsunday Reefs secondary compartment\n",
    "- Event is the Dec 2020/Jan 2021 above average rainfall event which led to changes in water quality on the coast\n",
    "- Data is being pull from eReefs, BOM and DEA\n",
    "- Time period of impact/pressure is monthly for this demonstration\n",
    "\n",
    "### Datasets\n",
    "#### DEA\n",
    "- Fractional Cover: looking at any increase in the catchment of bare surface\n",
    "- Land Cover: current issue, only avaliable to 2020\n",
    "- WoFS: changes in water extent due to any associated flooding\n",
    "- Turbidity index (need to calc from sentinel-2)\n",
    "\n",
    "#### eReefs data (only avaliable for open coastal environment)\n",
    "### Nitrogen\n",
    "Nitrogen is a key limiting nutrient in the growth of plants and algae. Coral reefs are generally nutrient poor environments with much of the nutrients being locally recycled. Increased nutrient levels promote the growth of phytoplankton, turf algae and macroalgae, inhibiting the rate of recovery of coral reefs.The BGC model tracks the transformation of nitrogen through the nitrogen cycle, from fixing of nitrogen gas into ammonia by tricodesmium, to its uptake by plants, propagation through the food chain to zooplantkon, to release due to mortality and finally denitrification back into nitrogen gas.\n",
    " The BGC model contains two forms of dissolved inorganic nitrogen (DIN), dissolved ammonia (NH4) and dissolved nitrate (NO3): DIN = [NH4] + [NO3].\n",
    "\n",
    "- COD\n",
    "\n",
    "- BOD\n",
    "\n",
    "#### BoM\n",
    "- rainfall\n",
    "- soil moisture\n",
    "- river/tidal gauge flow data (not a spatial dataset)\n",
    "\n",
    "\n",
    "\n",
    "\n"
   ]
  },
  {
   "cell_type": "code",
   "execution_count": 1,
   "id": "5f09b597-6cbe-496e-93e7-540deb6eabdc",
   "metadata": {
    "tags": []
   },
   "outputs": [],
   "source": [
    "# import packages\n",
    "import sys\n",
    "import xarray as xr\n",
    "import pandas as pd\n",
    "import geopandas as gpd\n",
    "import numpy as np\n",
    "\n",
    "import matplotlib.pyplot as plt\n",
    "\n",
    "sys.path.insert(1, \"/home/jovyan/Tools\")\n",
    "import datacube\n",
    "from dea_tools.spatial import xr_rasterize\n",
    "from datacube.utils.geometry import Geometry\n",
    "from dea_tools.datahandling import load_ard\n",
    "from dea_tools.bandindices import calculate_indices\n",
    "from dea_tools.plotting import rgb\n",
    "dc = datacube.Datacube()"
   ]
  },
  {
   "cell_type": "code",
   "execution_count": 2,
   "id": "676135eb-c43f-48b5-863d-de4f4dd2e26f",
   "metadata": {
    "tags": []
   },
   "outputs": [],
   "source": [
    "class color:\n",
    "   PURPLE = '\\033[95m'\n",
    "   CYAN = '\\033[96m'\n",
    "   DARKCYAN = '\\033[36m'\n",
    "   BLUE = '\\033[94m'\n",
    "   GREEN = '\\033[92m'\n",
    "   YELLOW = '\\033[93m'\n",
    "   RED = '\\033[91m'\n",
    "   BOLD = '\\033[1m'\n",
    "   UNDERLINE = '\\033[4m'\n",
    "   END = '\\033[0m'\n"
   ]
  },
  {
   "cell_type": "code",
   "execution_count": 3,
   "id": "7c998531-d315-4292-9697-2d0a027038b3",
   "metadata": {
    "tags": []
   },
   "outputs": [
    {
     "ename": "DriverError",
     "evalue": "../data/vector_data/drainage_basins/data.gpkg: No such file or directory",
     "output_type": "error",
     "traceback": [
      "\u001b[0;31m---------------------------------------------------------------------------\u001b[0m",
      "\u001b[0;31mCPLE_OpenFailedError\u001b[0m                      Traceback (most recent call last)",
      "File \u001b[0;32mfiona/ogrext.pyx:136\u001b[0m, in \u001b[0;36mfiona.ogrext.gdal_open_vector\u001b[0;34m()\u001b[0m\n",
      "File \u001b[0;32mfiona/_err.pyx:291\u001b[0m, in \u001b[0;36mfiona._err.exc_wrap_pointer\u001b[0;34m()\u001b[0m\n",
      "\u001b[0;31mCPLE_OpenFailedError\u001b[0m: ../data/vector_data/drainage_basins/data.gpkg: No such file or directory",
      "\nDuring handling of the above exception, another exception occurred:\n",
      "\u001b[0;31mDriverError\u001b[0m                               Traceback (most recent call last)",
      "Cell \u001b[0;32mIn[3], line 6\u001b[0m\n\u001b[1;32m      3\u001b[0m vector_file \u001b[38;5;241m=\u001b[39m \u001b[38;5;124m'\u001b[39m\u001b[38;5;124m../data/vector_data/drainage_basins/data.gpkg\u001b[39m\u001b[38;5;124m'\u001b[39m\n\u001b[1;32m      4\u001b[0m attribute_col \u001b[38;5;241m=\u001b[39m \u001b[38;5;124m'\u001b[39m\u001b[38;5;124mgeometry\u001b[39m\u001b[38;5;124m'\u001b[39m\n\u001b[0;32m----> 6\u001b[0m gdf \u001b[38;5;241m=\u001b[39m \u001b[43mgpd\u001b[49m\u001b[38;5;241;43m.\u001b[39;49m\u001b[43mread_file\u001b[49m\u001b[43m(\u001b[49m\u001b[43mvector_file\u001b[49m\u001b[43m)\u001b[49m\n\u001b[1;32m      7\u001b[0m catchment \u001b[38;5;241m=\u001b[39m gdf[gdf[\u001b[38;5;124m'\u001b[39m\u001b[38;5;124mBASIN_NAME\u001b[39m\u001b[38;5;124m'\u001b[39m] \u001b[38;5;241m==\u001b[39m \u001b[38;5;124m'\u001b[39m\u001b[38;5;124mBurdekin\u001b[39m\u001b[38;5;124m'\u001b[39m]\n\u001b[1;32m      8\u001b[0m catchment \u001b[38;5;241m=\u001b[39m catchment\u001b[38;5;241m.\u001b[39mto_crs(\u001b[38;5;124m\"\u001b[39m\u001b[38;5;124mEPSG:3577\u001b[39m\u001b[38;5;124m\"\u001b[39m)\n",
      "File \u001b[0;32m/env/lib/python3.10/site-packages/geopandas/io/file.py:297\u001b[0m, in \u001b[0;36m_read_file\u001b[0;34m(filename, bbox, mask, rows, engine, **kwargs)\u001b[0m\n\u001b[1;32m    294\u001b[0m     \u001b[38;5;28;01melse\u001b[39;00m:\n\u001b[1;32m    295\u001b[0m         path_or_bytes \u001b[38;5;241m=\u001b[39m filename\n\u001b[0;32m--> 297\u001b[0m     \u001b[38;5;28;01mreturn\u001b[39;00m \u001b[43m_read_file_fiona\u001b[49m\u001b[43m(\u001b[49m\n\u001b[1;32m    298\u001b[0m \u001b[43m        \u001b[49m\u001b[43mpath_or_bytes\u001b[49m\u001b[43m,\u001b[49m\u001b[43m \u001b[49m\u001b[43mfrom_bytes\u001b[49m\u001b[43m,\u001b[49m\u001b[43m \u001b[49m\u001b[43mbbox\u001b[49m\u001b[38;5;241;43m=\u001b[39;49m\u001b[43mbbox\u001b[49m\u001b[43m,\u001b[49m\u001b[43m \u001b[49m\u001b[43mmask\u001b[49m\u001b[38;5;241;43m=\u001b[39;49m\u001b[43mmask\u001b[49m\u001b[43m,\u001b[49m\u001b[43m \u001b[49m\u001b[43mrows\u001b[49m\u001b[38;5;241;43m=\u001b[39;49m\u001b[43mrows\u001b[49m\u001b[43m,\u001b[49m\u001b[43m \u001b[49m\u001b[38;5;241;43m*\u001b[39;49m\u001b[38;5;241;43m*\u001b[39;49m\u001b[43mkwargs\u001b[49m\n\u001b[1;32m    299\u001b[0m \u001b[43m    \u001b[49m\u001b[43m)\u001b[49m\n\u001b[1;32m    301\u001b[0m \u001b[38;5;28;01melse\u001b[39;00m:\n\u001b[1;32m    302\u001b[0m     \u001b[38;5;28;01mraise\u001b[39;00m \u001b[38;5;167;01mValueError\u001b[39;00m(\u001b[38;5;124mf\u001b[39m\u001b[38;5;124m\"\u001b[39m\u001b[38;5;124munknown engine \u001b[39m\u001b[38;5;124m'\u001b[39m\u001b[38;5;132;01m{\u001b[39;00mengine\u001b[38;5;132;01m}\u001b[39;00m\u001b[38;5;124m'\u001b[39m\u001b[38;5;124m\"\u001b[39m)\n",
      "File \u001b[0;32m/env/lib/python3.10/site-packages/geopandas/io/file.py:338\u001b[0m, in \u001b[0;36m_read_file_fiona\u001b[0;34m(path_or_bytes, from_bytes, bbox, mask, rows, where, **kwargs)\u001b[0m\n\u001b[1;32m    335\u001b[0m     reader \u001b[38;5;241m=\u001b[39m fiona\u001b[38;5;241m.\u001b[39mopen\n\u001b[1;32m    337\u001b[0m \u001b[38;5;28;01mwith\u001b[39;00m fiona_env():\n\u001b[0;32m--> 338\u001b[0m     \u001b[38;5;28;01mwith\u001b[39;00m \u001b[43mreader\u001b[49m\u001b[43m(\u001b[49m\u001b[43mpath_or_bytes\u001b[49m\u001b[43m,\u001b[49m\u001b[43m \u001b[49m\u001b[38;5;241;43m*\u001b[39;49m\u001b[38;5;241;43m*\u001b[39;49m\u001b[43mkwargs\u001b[49m\u001b[43m)\u001b[49m \u001b[38;5;28;01mas\u001b[39;00m features:\n\u001b[1;32m    339\u001b[0m         crs \u001b[38;5;241m=\u001b[39m features\u001b[38;5;241m.\u001b[39mcrs_wkt\n\u001b[1;32m    340\u001b[0m         \u001b[38;5;66;03m# attempt to get EPSG code\u001b[39;00m\n",
      "File \u001b[0;32m/env/lib/python3.10/site-packages/fiona/env.py:457\u001b[0m, in \u001b[0;36mensure_env_with_credentials.<locals>.wrapper\u001b[0;34m(*args, **kwds)\u001b[0m\n\u001b[1;32m    454\u001b[0m     session \u001b[38;5;241m=\u001b[39m DummySession()\n\u001b[1;32m    456\u001b[0m \u001b[38;5;28;01mwith\u001b[39;00m env_ctor(session\u001b[38;5;241m=\u001b[39msession):\n\u001b[0;32m--> 457\u001b[0m     \u001b[38;5;28;01mreturn\u001b[39;00m \u001b[43mf\u001b[49m\u001b[43m(\u001b[49m\u001b[38;5;241;43m*\u001b[39;49m\u001b[43margs\u001b[49m\u001b[43m,\u001b[49m\u001b[43m \u001b[49m\u001b[38;5;241;43m*\u001b[39;49m\u001b[38;5;241;43m*\u001b[39;49m\u001b[43mkwds\u001b[49m\u001b[43m)\u001b[49m\n",
      "File \u001b[0;32m/env/lib/python3.10/site-packages/fiona/__init__.py:292\u001b[0m, in \u001b[0;36mopen\u001b[0;34m(fp, mode, driver, schema, crs, encoding, layer, vfs, enabled_drivers, crs_wkt, allow_unsupported_drivers, **kwargs)\u001b[0m\n\u001b[1;32m    289\u001b[0m     path \u001b[38;5;241m=\u001b[39m parse_path(fp)\n\u001b[1;32m    291\u001b[0m \u001b[38;5;28;01mif\u001b[39;00m mode \u001b[38;5;129;01min\u001b[39;00m (\u001b[38;5;124m\"\u001b[39m\u001b[38;5;124ma\u001b[39m\u001b[38;5;124m\"\u001b[39m, \u001b[38;5;124m\"\u001b[39m\u001b[38;5;124mr\u001b[39m\u001b[38;5;124m\"\u001b[39m):\n\u001b[0;32m--> 292\u001b[0m     colxn \u001b[38;5;241m=\u001b[39m \u001b[43mCollection\u001b[49m\u001b[43m(\u001b[49m\n\u001b[1;32m    293\u001b[0m \u001b[43m        \u001b[49m\u001b[43mpath\u001b[49m\u001b[43m,\u001b[49m\n\u001b[1;32m    294\u001b[0m \u001b[43m        \u001b[49m\u001b[43mmode\u001b[49m\u001b[43m,\u001b[49m\n\u001b[1;32m    295\u001b[0m \u001b[43m        \u001b[49m\u001b[43mdriver\u001b[49m\u001b[38;5;241;43m=\u001b[39;49m\u001b[43mdriver\u001b[49m\u001b[43m,\u001b[49m\n\u001b[1;32m    296\u001b[0m \u001b[43m        \u001b[49m\u001b[43mencoding\u001b[49m\u001b[38;5;241;43m=\u001b[39;49m\u001b[43mencoding\u001b[49m\u001b[43m,\u001b[49m\n\u001b[1;32m    297\u001b[0m \u001b[43m        \u001b[49m\u001b[43mlayer\u001b[49m\u001b[38;5;241;43m=\u001b[39;49m\u001b[43mlayer\u001b[49m\u001b[43m,\u001b[49m\n\u001b[1;32m    298\u001b[0m \u001b[43m        \u001b[49m\u001b[43menabled_drivers\u001b[49m\u001b[38;5;241;43m=\u001b[39;49m\u001b[43menabled_drivers\u001b[49m\u001b[43m,\u001b[49m\n\u001b[1;32m    299\u001b[0m \u001b[43m        \u001b[49m\u001b[43mallow_unsupported_drivers\u001b[49m\u001b[38;5;241;43m=\u001b[39;49m\u001b[43mallow_unsupported_drivers\u001b[49m\u001b[43m,\u001b[49m\n\u001b[1;32m    300\u001b[0m \u001b[43m        \u001b[49m\u001b[38;5;241;43m*\u001b[39;49m\u001b[38;5;241;43m*\u001b[39;49m\u001b[43mkwargs\u001b[49m\n\u001b[1;32m    301\u001b[0m \u001b[43m    \u001b[49m\u001b[43m)\u001b[49m\n\u001b[1;32m    302\u001b[0m \u001b[38;5;28;01melif\u001b[39;00m mode \u001b[38;5;241m==\u001b[39m \u001b[38;5;124m\"\u001b[39m\u001b[38;5;124mw\u001b[39m\u001b[38;5;124m\"\u001b[39m:\n\u001b[1;32m    303\u001b[0m     colxn \u001b[38;5;241m=\u001b[39m Collection(\n\u001b[1;32m    304\u001b[0m         path,\n\u001b[1;32m    305\u001b[0m         mode,\n\u001b[0;32m   (...)\u001b[0m\n\u001b[1;32m    314\u001b[0m         \u001b[38;5;241m*\u001b[39m\u001b[38;5;241m*\u001b[39mkwargs\n\u001b[1;32m    315\u001b[0m     )\n",
      "File \u001b[0;32m/env/lib/python3.10/site-packages/fiona/collection.py:243\u001b[0m, in \u001b[0;36mCollection.__init__\u001b[0;34m(self, path, mode, driver, schema, crs, encoding, layer, vsi, archive, enabled_drivers, crs_wkt, ignore_fields, ignore_geometry, include_fields, wkt_version, allow_unsupported_drivers, **kwargs)\u001b[0m\n\u001b[1;32m    241\u001b[0m \u001b[38;5;28;01mif\u001b[39;00m \u001b[38;5;28mself\u001b[39m\u001b[38;5;241m.\u001b[39mmode \u001b[38;5;241m==\u001b[39m \u001b[38;5;124m\"\u001b[39m\u001b[38;5;124mr\u001b[39m\u001b[38;5;124m\"\u001b[39m:\n\u001b[1;32m    242\u001b[0m     \u001b[38;5;28mself\u001b[39m\u001b[38;5;241m.\u001b[39msession \u001b[38;5;241m=\u001b[39m Session()\n\u001b[0;32m--> 243\u001b[0m     \u001b[38;5;28;43mself\u001b[39;49m\u001b[38;5;241;43m.\u001b[39;49m\u001b[43msession\u001b[49m\u001b[38;5;241;43m.\u001b[39;49m\u001b[43mstart\u001b[49m\u001b[43m(\u001b[49m\u001b[38;5;28;43mself\u001b[39;49m\u001b[43m,\u001b[49m\u001b[43m \u001b[49m\u001b[38;5;241;43m*\u001b[39;49m\u001b[38;5;241;43m*\u001b[39;49m\u001b[43mkwargs\u001b[49m\u001b[43m)\u001b[49m\n\u001b[1;32m    244\u001b[0m \u001b[38;5;28;01melif\u001b[39;00m \u001b[38;5;28mself\u001b[39m\u001b[38;5;241m.\u001b[39mmode \u001b[38;5;129;01min\u001b[39;00m (\u001b[38;5;124m\"\u001b[39m\u001b[38;5;124ma\u001b[39m\u001b[38;5;124m\"\u001b[39m, \u001b[38;5;124m\"\u001b[39m\u001b[38;5;124mw\u001b[39m\u001b[38;5;124m\"\u001b[39m):\n\u001b[1;32m    245\u001b[0m     \u001b[38;5;28mself\u001b[39m\u001b[38;5;241m.\u001b[39msession \u001b[38;5;241m=\u001b[39m WritingSession()\n",
      "File \u001b[0;32mfiona/ogrext.pyx:588\u001b[0m, in \u001b[0;36mfiona.ogrext.Session.start\u001b[0;34m()\u001b[0m\n",
      "File \u001b[0;32mfiona/ogrext.pyx:143\u001b[0m, in \u001b[0;36mfiona.ogrext.gdal_open_vector\u001b[0;34m()\u001b[0m\n",
      "\u001b[0;31mDriverError\u001b[0m: ../data/vector_data/drainage_basins/data.gpkg: No such file or directory"
     ]
    }
   ],
   "source": [
    "# load in vectors\n",
    "# catchment\n",
    "vector_file = '../data/vector_data/drainage_basins/data.gpkg'\n",
    "attribute_col = 'geometry'\n",
    "\n",
    "gdf = gpd.read_file(vector_file)\n",
    "catchment = gdf[gdf['BASIN_NAME'] == 'Burdekin']\n",
    "catchment = catchment.to_crs(\"EPSG:3577\")\n",
    "\n",
    "# coastal compartment\n",
    "vector_file = '../data/vector_data/coastal_compartments/Secondary_compartments.shp'\n",
    "attribute_col = 'geometry'\n",
    "\n",
    "gdf = gpd.read_file(vector_file)\n",
    "compartment = gdf[gdf['Name'] == 'Burdekin River/Upstart Bay/Whitsunday Reefs']\n",
    "compartment = compartment.to_crs(\"EPSG:3577\")\n",
    "\n",
    "# intersection of vectors\n",
    "intersection_gdf = gpd.overlay(catchment, compartment, how='intersection')\n",
    "\n",
    "# create 'river + nearshore' AOI\n",
    "riverine_gdf = intersection_gdf.copy()  # Make a copy to keep the original unchanged\n",
    "riverine_gdf['geometry'] = riverine_gdf['geometry'].buffer(5000)  # Buffer by 5000 meters"
   ]
  },
  {
   "cell_type": "code",
   "execution_count": null,
   "id": "d58dbd13-aa96-4073-a837-d7f832a7941d",
   "metadata": {
    "tags": []
   },
   "outputs": [],
   "source": [
    "riverine_gdf.explore()"
   ]
  },
  {
   "cell_type": "code",
   "execution_count": null,
   "id": "b0a1145d-c318-4a39-b4ee-3631860843a4",
   "metadata": {
    "tags": []
   },
   "outputs": [],
   "source": [
    "# Extract the feature's geometry as a datacube geometry object\n",
    "geom = Geometry(geom=riverine_gdf.geometry[0], crs=riverine_gdf.crs)"
   ]
  },
  {
   "cell_type": "code",
   "execution_count": null,
   "id": "08cc8635-32ba-44f4-ba3a-23e866f027c6",
   "metadata": {
    "tags": []
   },
   "outputs": [],
   "source": [
    "# Create a query object containing parameters used to search for and load our Sentinel-2 data\n",
    "query = {\n",
    "    'geopolygon': geom,\n",
    "    \"time\": (\"2020-11-01\", \"2021-03-01\"),\n",
    "    \"output_crs\": \"EPSG:3577\",\n",
    "    \"resolution\": (-100, 100), # change to 10m when happy with outputs\n",
    "    \"group_by\": \"solar_day\",\n",
    "}\n",
    "\n",
    "bands = [\"nbart_blue\", \"nbart_green\", \"nbart_red\", \"oa_s2cloudless_mask\", \"oa_s2cloudless_prob\"]\n",
    "\n",
    "ds = load_ard(dc=dc,\n",
    "                  products=[\"ga_s2am_ard_3\", \"ga_s2bm_ard_3\"],\n",
    "                  measurements=bands,              \n",
    "                  # dask_chunks={'x': 2000, 'y': 2000},\n",
    "                  # dtype='native',\n",
    "                  cloud_mask=\"s2cloudless\",\n",
    "                  mask_pixel_quality=True,\n",
    "                  min_gooddata=0.30,\n",
    "                  **query)\n",
    "\n",
    "\n",
    "# create band index for turbidity ('NDTI2' (Normalised Difference Turbidity Index, Lacaux et al., 2007))\n",
    "ds_NDTI = calculate_indices(ds, index='NDTI2', collection='ga_s2_3', drop=True)"
   ]
  },
  {
   "cell_type": "code",
   "execution_count": null,
   "id": "ae7a62ce-30bc-4399-a006-489dcd0af37d",
   "metadata": {
    "tags": []
   },
   "outputs": [],
   "source": [
    "# Generate a polygon mask to keep only data within the polygon\n",
    "mask = xr_rasterize(riverine_gdf, ds)\n",
    "\n",
    "# # Mask dataset to set pixels outside the polygon to `NaN`\n",
    "ds_mask = ds.where(mask)"
   ]
  },
  {
   "cell_type": "code",
   "execution_count": null,
   "id": "cf5bf355-2eaa-4dfa-b95e-a8bfccb52230",
   "metadata": {
    "tags": []
   },
   "outputs": [],
   "source": [
    "rgb(ds_mask, col='time', vmin=0, vmax=2000)"
   ]
  },
  {
   "cell_type": "code",
   "execution_count": null,
   "id": "b26149f1-e972-4703-a33b-86dd67cb9914",
   "metadata": {
    "tags": []
   },
   "outputs": [],
   "source": [
    "# Generate a polygon mask to keep only data within the polygon\n",
    "mask = xr_rasterize(riverine_gdf, ds_NDTI)\n",
    "\n",
    "# # Mask dataset to set pixels outside the polygon to `NaN`\n",
    "ds_NDTI_mask = ds_NDTI.where(mask)"
   ]
  },
  {
   "cell_type": "code",
   "execution_count": null,
   "id": "56799db9-e5bd-469e-9681-af51a7d18ca8",
   "metadata": {
    "tags": []
   },
   "outputs": [],
   "source": [
    "ds_NDTI_mask.NDTI2.plot(col='time', col_wrap=4, vmin=-1, vmax=0.5)"
   ]
  },
  {
   "cell_type": "code",
   "execution_count": null,
   "id": "41a681c6-1c14-4eec-bd7d-d9cf7225d6ab",
   "metadata": {
    "tags": []
   },
   "outputs": [],
   "source": [
    "del ds, ds_NDTI_mask, ds_mask"
   ]
  },
  {
   "cell_type": "markdown",
   "id": "bfdff13b-8bdd-4740-b9db-b39d15dd79ec",
   "metadata": {},
   "source": [
    "### **Monitoring Water quality using eReefs data** \n",
    "\n",
    "To showcase the monitoring system the **BOD, Turbidity, DO and pH** variables have been selected. Any eReefs data can be added using this method."
   ]
  },
  {
   "cell_type": "markdown",
   "id": "6cbc48d2-9709-4048-8b20-3eb3bfd75ffb",
   "metadata": {},
   "source": [
    "##### **Loading key variables**"
   ]
  },
  {
   "cell_type": "code",
   "execution_count": null,
   "id": "26c5ba10-5a5b-46b2-8728-113248372724",
   "metadata": {
    "tags": []
   },
   "outputs": [],
   "source": [
    "#Linking eReefs data into the notebook\n",
    "url_eReefs_GBR1_biogeochemistry_sediments = 'https://dapds00.nci.org.au/thredds/dodsC/fx3/GBR1_H2p0_B3p2_Cfur_Dnrt.ncml'\n",
    "# Opening the data as xarray\n",
    "dataset_eReefs_GBR1_BGCS = xr.open_dataset(url_eReefs_GBR1_biogeochemistry_sediments)"
   ]
  },
  {
   "cell_type": "code",
   "execution_count": null,
   "id": "3eb5ad24-50b9-4460-8d9a-71984e91ea34",
   "metadata": {
    "tags": []
   },
   "outputs": [],
   "source": [
    "# Reproject mask to fit the projection system of the eReefs data\n",
    "mask_4326 = mask.rio.reproject(\"EPSG:4326\")"
   ]
  },
  {
   "cell_type": "code",
   "execution_count": null,
   "id": "c0efd42a-4a8b-40e4-90e1-9fc976f5c3bc",
   "metadata": {
    "tags": []
   },
   "outputs": [],
   "source": [
    "# Function for loading eReefs variables\n",
    "def load_eReefs_var(variable, year, mask_4326, depth_index=40):\n",
    "    dataset = dataset_eReefs_GBR1_BGCS[variable].isel(\n",
    "                k=depth_index, j=slice(1000,1500),time=dataset_eReefs_GBR1_BGCS.time.dt.year.isin(\n",
    "                [year])).compute()\n",
    "    dataset_masked = dataset.where((\n",
    "                        dataset.longitude > np.round(mask_4326.x.min().values,2)) & (\n",
    "                        dataset.longitude < np.round(mask_4326.x.max().values,2)) & (\n",
    "                        dataset.latitude > np.round(mask_4326.y.min().values,2)) & (\n",
    "                        dataset.latitude < np.round(mask_4326.y.max().values,2)), \n",
    "                        drop=True)\n",
    "    return dataset_masked"
   ]
  },
  {
   "cell_type": "markdown",
   "id": "59018329-4f92-4368-8c5d-a76d499fede9",
   "metadata": {
    "tags": []
   },
   "source": [
    "##### Loading BOD"
   ]
  },
  {
   "cell_type": "code",
   "execution_count": null,
   "id": "84e2c1e2-36f6-416a-a04e-427e0743d421",
   "metadata": {
    "tags": []
   },
   "outputs": [],
   "source": [
    "burdekin_BOD_2021 = load_eReefs_var(\"BOD\", 2021, mask_4326)"
   ]
  },
  {
   "cell_type": "markdown",
   "id": "443ce38c-cc41-424c-965c-503b5a938f59",
   "metadata": {
    "tags": []
   },
   "source": [
    "##### Loading Turbidity"
   ]
  },
  {
   "cell_type": "code",
   "execution_count": null,
   "id": "d0aa8e4f-e8c3-4e2a-8d2b-0ba56eb4b32a",
   "metadata": {
    "tags": []
   },
   "outputs": [],
   "source": [
    "burdekin_Turbidity_2021 = load_eReefs_var(\"Turbidity\", 2021, mask_4326)"
   ]
  },
  {
   "cell_type": "markdown",
   "id": "bcc5dce9-eb87-4179-8c6b-c697421a3a75",
   "metadata": {},
   "source": [
    "##### Loading Dissolved Oxygen"
   ]
  },
  {
   "cell_type": "code",
   "execution_count": null,
   "id": "0017a855-d644-46ad-8c07-1cc5d44c8c55",
   "metadata": {
    "tags": []
   },
   "outputs": [],
   "source": [
    "burdekin_DO_2021 = load_eReefs_var(\"Oxygen\", 2021, mask_4326)"
   ]
  },
  {
   "cell_type": "markdown",
   "id": "f3a76ce8-c242-4aad-8b48-6f1e66568cb9",
   "metadata": {},
   "source": [
    "##### Loading pH"
   ]
  },
  {
   "cell_type": "code",
   "execution_count": null,
   "id": "017d84fb-a44a-4cc9-acc2-64aff456a937",
   "metadata": {},
   "outputs": [],
   "source": [
    "burdekin_pH_2021 = load_eReefs_var(\"PH\", 2021, mask_4326)"
   ]
  },
  {
   "cell_type": "markdown",
   "id": "0a831e23-7658-467e-9a83-113468a282be",
   "metadata": {},
   "source": [
    "##### **Comparing with variable standards**"
   ]
  },
  {
   "cell_type": "code",
   "execution_count": null,
   "id": "d64b896d-1a7b-4a9e-9f46-8b031bec835c",
   "metadata": {
    "tags": []
   },
   "outputs": [],
   "source": [
    "# Open look-up table containing variable standards \n",
    "standards = pd.read_csv('../data/look_up_tables/variable_standards.csv')"
   ]
  },
  {
   "cell_type": "code",
   "execution_count": null,
   "id": "9c5798f4-b6e2-42df-a998-e68e31e2258c",
   "metadata": {
    "tags": []
   },
   "outputs": [],
   "source": [
    "standards"
   ]
  },
  {
   "cell_type": "markdown",
   "id": "6828ac5f-c92f-46bd-a8e9-43878d46cb00",
   "metadata": {},
   "source": [
    "##### **Plotting**"
   ]
  },
  {
   "cell_type": "code",
   "execution_count": null,
   "id": "5e1a1fcc-4dc6-49ff-8175-48ba25bd0b26",
   "metadata": {
    "tags": []
   },
   "outputs": [],
   "source": [
    "# Create a figure and axis\n",
    "fig, ax = plt.subplots()\n",
    "\n",
    "burdekin_BOD_2021.quantile(q=0.9, dim=[\"j\", \"i\"]).plot()\n",
    "\n",
    "# Standard treshold\n",
    "ax.axhline(y=standards[standards.Variable == 'BOD'].standard_max.values[0], color='red', linestyle='--', linewidth=1.5)\n",
    "\n",
    "# Restricted for Bathing, Contact Water Sports and Commercial Fishing (prescribed by IS:2296 1974)\n",
    "ax.axhline(y=3000, color='orange', linestyle='--', linewidth=1)\n",
    "# Very poor quality treshold\n",
    "ax.axhline(y=10000, color='black', linestyle='--', linewidth=2)\n",
    "\n",
    "# Display the plot\n",
    "plt.show()"
   ]
  },
  {
   "cell_type": "code",
   "execution_count": null,
   "id": "966b284a-8191-4821-a28c-d944ecdb73eb",
   "metadata": {
    "tags": []
   },
   "outputs": [],
   "source": [
    "# Create a figure and axis\n",
    "fig, ax = plt.subplots()\n",
    "\n",
    "burdekin_Turbidity_2021.quantile(q=0.9, dim=[\"j\", \"i\"]).plot()\n",
    "\n",
    "# Standard treshold\n",
    "ax.axhline(y=standards[standards.Variable == 'Turbidity'].standard_max.values[0], color='red', linestyle='--', linewidth=1.5)\n",
    "\n",
    "# Display the plot\n",
    "plt.show()"
   ]
  },
  {
   "cell_type": "code",
   "execution_count": null,
   "id": "6636a929-8525-4315-9426-d26dddf585fb",
   "metadata": {
    "tags": []
   },
   "outputs": [],
   "source": [
    "# Create a figure and axis\n",
    "fig, ax = plt.subplots()\n",
    "\n",
    "burdekin_DO_2021.quantile(q=0.1, dim=[\"j\", \"i\"]).plot()\n",
    "\n",
    "# Standard treshold\n",
    "ax.axhline(y=standards[standards.Variable == 'DO'].standard_min.values[0], color='red', linestyle='--', linewidth=1.5)\n",
    "\n",
    "# Display the plot\n",
    "plt.show()"
   ]
  },
  {
   "cell_type": "code",
   "execution_count": null,
   "id": "dff9e88d-be74-40a4-940f-65849d437816",
   "metadata": {
    "tags": []
   },
   "outputs": [],
   "source": [
    "# Create a figure and axis\n",
    "fig, ax = plt.subplots()\n",
    "\n",
    "burdekin_pH_2021.quantile(q=0.5, dim=[\"j\", \"i\"]).plot()\n",
    "\n",
    "# Standard treshold\n",
    "ax.axhline(y=standards[standards.Variable == 'pH'].standard_max.values[0], color='red', linestyle='--', linewidth=1.5)\n",
    "\n",
    "# Standard treshold\n",
    "ax.axhline(y=standards[standards.Variable == 'pH'].standard_min.values[0], color='red', linestyle='--', linewidth=1.5)\n",
    "\n",
    "# Display the plot\n",
    "plt.show()"
   ]
  },
  {
   "cell_type": "markdown",
   "id": "aed4ccae-cc6b-471a-8e36-9bba4ec4a8eb",
   "metadata": {},
   "source": [
    "##### **Raising alert**"
   ]
  },
  {
   "cell_type": "code",
   "execution_count": null,
   "id": "4f7b51bb-9098-4b42-a231-d0ccdbee53f2",
   "metadata": {
    "tags": []
   },
   "outputs": [],
   "source": [
    "# Function that raises quality flag if values are below or above quality standards\n",
    "def quality_flag(variable, standard):\n",
    "    poor_quality_dataset = variable.where(\n",
    "                        (variable.quantile(q=0.9, dim=[\"j\", \"i\"]) > standard.standard_max.values[0]\n",
    "                        ) | (\n",
    "                         variable.quantile(q=0.1, dim=[\"j\", \"i\"]) < standard.standard_min.values[0]), \n",
    "                        drop=True)\n",
    "    return poor_quality_dataset"
   ]
  },
  {
   "cell_type": "code",
   "execution_count": null,
   "id": "e78f4b79-9d80-4c56-b367-226523d78749",
   "metadata": {
    "tags": []
   },
   "outputs": [],
   "source": [
    "poor_quality_BOD_2021 = quality_flag(burdekin_BOD_2021, standards[standards.Variable == 'BOD'])\n",
    "poor_quality_Turbidity_2021 = quality_flag(burdekin_Turbidity_2021, standards[standards.Variable == 'Turbidity'])\n",
    "poor_quality_DO_2021 = quality_flag(burdekin_DO_2021, standards[standards.Variable == 'DO'])\n",
    "poor_quality_pH_2021 = quality_flag(burdekin_pH_2021, standards[standards.Variable == 'pH'])"
   ]
  },
  {
   "cell_type": "code",
   "execution_count": null,
   "id": "b33c6a67-2705-4c91-9f97-9d1fb2fee15a",
   "metadata": {
    "tags": []
   },
   "outputs": [],
   "source": [
    "import datetime\n",
    " \n",
    "# consider the start date as 2021-jan 1st\n",
    "start_date = datetime.date(2021, 1, 1)\n",
    "# consider the end date as 2021-jan 31st\n",
    "end_date = datetime.date(2021, 1, 31)\n",
    "# delta time\n",
    "delta = datetime.timedelta(days=1)\n",
    " \n",
    "# iterate over range of dates\n",
    "while (start_date <= end_date):\n",
    "    \n",
    "    if (len(poor_quality_BOD_2021.time)):\n",
    "        if (str(start_date) in poor_quality_BOD_2021.time.dt.strftime('%Y-%m-%d')):\n",
    "            print(\"\\n\")\n",
    "            print(color.RED + color.BOLD + \"BOD quality flag raised on the \", start_date)\n",
    "    \n",
    "    if (len(poor_quality_Turbidity_2021.time)):\n",
    "        if (str(start_date) in poor_quality_Turbidity_2021.time.dt.strftime('%Y-%m-%d')):\n",
    "            print(color.RED + color.BOLD + \"TURBIDITY quality flag raised on the \", start_date)\n",
    "    \n",
    "    if (len(poor_quality_DO_2021.time)):\n",
    "        if (str(start_date) in poor_quality_DO_2021.time.dt.strftime('%Y-%m-%d')):\n",
    "            print(\"\\n\")\n",
    "            print(color.RED + color.BOLD + \"DO quality flag raised on the \", start_date)\n",
    "    \n",
    "    if (len(poor_quality_pH_2021.time)):\n",
    "        if (str(start_date) in poor_quality_pH_2021.time.dt.strftime('%Y-%m-%d')):\n",
    "            print(color.RED + color.BOLD + \"pH quality flag raised on the \", start_date)\n",
    "    \n",
    "    start_date += delta"
   ]
  },
  {
   "cell_type": "markdown",
   "id": "d1603d83-4ac5-4490-8223-e106d6ba8a4e",
   "metadata": {},
   "source": [
    " "
   ]
  },
  {
   "cell_type": "markdown",
   "id": "7f4ef5c1-8c4f-48f9-b9a4-454b1970c854",
   "metadata": {},
   "source": [
    "### **Monitoring potential Pressures using eReefs data** \n",
    "\n",
    "Quality flag was raised for BOD Turbidity, indicating that the water quality changed in the study areas. Potential pressures for water quality change include nutrification and sediment transport, which can affect the water quality within month range."
   ]
  },
  {
   "cell_type": "markdown",
   "id": "70f3fe53-5332-45c4-8795-780a6384474f",
   "metadata": {
    "tags": []
   },
   "source": [
    "##### Loading Total Nitrogen "
   ]
  },
  {
   "cell_type": "code",
   "execution_count": null,
   "id": "1fde4e75-7be8-428c-842a-94f52b33d44d",
   "metadata": {
    "tags": []
   },
   "outputs": [],
   "source": [
    "burdekin_TN_2020 = load_eReefs_var(\"TN\", 2020, mask_4326)\n",
    "burdekin_TN_2021 = load_eReefs_var(\"TN\", 2021, mask_4326)\n",
    "burdekin_TN_pressure_timeframe = xr.concat(\n",
    "          [burdekin_TN_2020.sel(time=slice('2020-12-01', '2020-12-31')), \n",
    "           burdekin_TN_2021.sel(time=slice('2021-01-01', '2021-01-11'))], \n",
    "                            dim=\"time\")\n",
    "\n",
    "del burdekin_TN_2020, burdekin_TN_2021"
   ]
  },
  {
   "cell_type": "markdown",
   "id": "80d39178-8224-4da9-857b-4795ea8f35d0",
   "metadata": {},
   "source": [
    "##### Loading Total Phosphorus "
   ]
  },
  {
   "cell_type": "code",
   "execution_count": null,
   "id": "c5498eeb-a52a-461a-95e1-ee58fc0ebd38",
   "metadata": {
    "tags": []
   },
   "outputs": [],
   "source": [
    "burdekin_TP_2020 = load_eReefs_var(\"TP\", 2020, mask_4326)\n",
    "burdekin_TP_2021 = load_eReefs_var(\"TP\", 2021, mask_4326)\n",
    "burdekin_TP_pressure_timeframe = xr.concat(\n",
    "          [burdekin_TP_2020.sel(time=slice('2020-12-01', '2020-12-31')), \n",
    "           burdekin_TP_2021.sel(time=slice('2021-01-01', '2021-01-11'))], \n",
    "                            dim=\"time\")\n",
    "\n",
    "del burdekin_TP_2020, burdekin_TP_2021"
   ]
  },
  {
   "cell_type": "markdown",
   "id": "904cc416-9463-4dbf-a726-3745743e01b3",
   "metadata": {},
   "source": [
    "##### Loading TSS"
   ]
  },
  {
   "cell_type": "code",
   "execution_count": null,
   "id": "7bee17b8-573c-4c73-8298-961d71024392",
   "metadata": {
    "tags": []
   },
   "outputs": [],
   "source": [
    "### Would be good to have TSS but not working from eReefs. Other source?"
   ]
  },
  {
   "cell_type": "markdown",
   "id": "251059e2-cce2-4984-8598-92a9614507a5",
   "metadata": {},
   "source": [
    "##### Loading Mud-mineral"
   ]
  },
  {
   "cell_type": "code",
   "execution_count": null,
   "id": "762a37dc-029e-4432-9377-41e2ff9c90b0",
   "metadata": {
    "tags": []
   },
   "outputs": [],
   "source": [
    "burdekin_Mud_2020 = load_eReefs_var(\"Mud-mineral\", 2020, mask_4326)\n",
    "burdekin_Mud_2021 = load_eReefs_var(\"Mud-mineral\", 2021, mask_4326)\n",
    "burdekin_Mud_pressure_timeframe = xr.concat(\n",
    "          [burdekin_Mud_2020.sel(time=slice('2020-12-01', '2020-12-31')), \n",
    "           burdekin_Mud_2021.sel(time=slice('2021-01-01', '2021-01-11'))], \n",
    "                            dim=\"time\")\n",
    "\n",
    "del burdekin_Mud_2020, burdekin_Mud_2021"
   ]
  },
  {
   "cell_type": "markdown",
   "id": "0a545f82-0261-4b91-9f38-149461ebf91d",
   "metadata": {},
   "source": [
    "##### Loading Sand-mineral"
   ]
  },
  {
   "cell_type": "code",
   "execution_count": null,
   "id": "9efccf6e-4511-45e3-b909-99bbfe07673d",
   "metadata": {
    "tags": []
   },
   "outputs": [],
   "source": [
    "burdekin_Sand_2020 = load_eReefs_var(\"Sand-mineral\", 2020, mask_4326)\n",
    "burdekin_Sand_2021 = load_eReefs_var(\"Sand-mineral\", 2021, mask_4326)\n",
    "burdekin_Sand_pressure_timeframe = xr.concat(\n",
    "          [burdekin_Sand_2020.sel(time=slice('2020-12-01', '2020-12-31')), \n",
    "           burdekin_Sand_2021.sel(time=slice('2021-01-01', '2021-01-11'))], \n",
    "                            dim=\"time\")\n",
    "\n",
    "del burdekin_Sand_2020, burdekin_Sand_2021"
   ]
  },
  {
   "cell_type": "markdown",
   "id": "aade7d73-ef43-476a-bbbc-e0d358612450",
   "metadata": {},
   "source": [
    "##### Loading Gravel-mineral"
   ]
  },
  {
   "cell_type": "code",
   "execution_count": null,
   "id": "cfb890be-0bb8-4032-927e-986099053b97",
   "metadata": {
    "tags": []
   },
   "outputs": [],
   "source": [
    "burdekin_Gravel_2020 = load_eReefs_var(\"Gravel-mineral\", 2020, mask_4326)\n",
    "burdekin_Gravel_2021 = load_eReefs_var(\"Gravel-mineral\", 2021, mask_4326)\n",
    "burdekin_Gravel_pressure_timeframe = xr.concat(\n",
    "          [burdekin_Gravel_2020.sel(time=slice('2020-12-01', '2020-12-31')), \n",
    "           burdekin_Gravel_2021.sel(time=slice('2021-01-01', '2021-01-11'))], \n",
    "                            dim=\"time\")\n",
    "\n",
    "del burdekin_Gravel_2020, burdekin_Gravel_2021"
   ]
  },
  {
   "cell_type": "code",
   "execution_count": null,
   "id": "40ab3ac1-845a-4334-aff2-952612a98ce4",
   "metadata": {
    "tags": []
   },
   "outputs": [],
   "source": [
    "# Create a figure and axis\n",
    "fig, ax = plt.subplots()\n",
    "\n",
    "burdekin_TN_pressure_timeframe.quantile(q=0.9, dim=[\"j\", \"i\"]).plot()\n",
    "\n",
    "# Standard treshold\n",
    "ax.axhline(y=standards[standards.Variable == 'TN'].standard_max.values[0], color='red', linestyle='--', linewidth=1.5)\n",
    "\n",
    "# Display the plot\n",
    "plt.show()"
   ]
  },
  {
   "cell_type": "code",
   "execution_count": null,
   "id": "ba0af84a-f3be-457f-9818-c4a676e54024",
   "metadata": {
    "tags": []
   },
   "outputs": [],
   "source": [
    "# Create a figure and axis\n",
    "fig, ax = plt.subplots()\n",
    "\n",
    "burdekin_TP_pressure_timeframe.quantile(q=0.9, dim=[\"j\", \"i\"]).plot()\n",
    "\n",
    "# Standard treshold\n",
    "ax.axhline(y=standards[standards.Variable == 'TP'].standard_max.values[0], color='red', linestyle='--', linewidth=1.5)\n",
    "\n",
    "# Display the plot\n",
    "plt.show()"
   ]
  },
  {
   "cell_type": "code",
   "execution_count": null,
   "id": "239a8c51-d66a-4a84-8648-46280b72888d",
   "metadata": {
    "tags": []
   },
   "outputs": [],
   "source": [
    "# Create a figure and axis\n",
    "fig, ax = plt.subplots()\n",
    "\n",
    "burdekin_Mud_pressure_timeframe.quantile(q=0.9, dim=[\"j\", \"i\"]).plot()\n",
    "\n",
    "# Standard treshold\n",
    "ax.axhline(y=0.03, color='red', linestyle='--', linewidth=1.5)\n",
    "\n",
    "# Display the plot\n",
    "plt.show()"
   ]
  },
  {
   "cell_type": "code",
   "execution_count": null,
   "id": "b5bbde0c-95f4-47ab-a45f-f69d0d12122d",
   "metadata": {
    "tags": []
   },
   "outputs": [],
   "source": [
    "# Create a figure and axis\n",
    "fig, ax = plt.subplots()\n",
    "\n",
    "burdekin_Sand_pressure_timeframe.quantile(q=0.9, dim=[\"j\", \"i\"]).plot()\n",
    "\n",
    "# Standard treshold\n",
    "ax.axhline(y=0.03, color='red', linestyle='--', linewidth=1.5)\n",
    "\n",
    "# Display the plot\n",
    "plt.show()"
   ]
  },
  {
   "cell_type": "code",
   "execution_count": null,
   "id": "390bf267-2ecb-44fc-82fa-b48b49d5fe44",
   "metadata": {
    "tags": []
   },
   "outputs": [],
   "source": [
    "# Create a figure and axis\n",
    "fig, ax = plt.subplots()\n",
    "\n",
    "burdekin_Gravel_pressure_timeframe.quantile(q=0.9, dim=[\"j\", \"i\"]).plot()\n",
    "\n",
    "# Standard treshold\n",
    "ax.axhline(y=0.03, color='red', linestyle='--', linewidth=1.5)\n",
    "\n",
    "# Display the plot\n",
    "plt.show()"
   ]
  },
  {
   "cell_type": "code",
   "execution_count": null,
   "id": "c9499b3c-94de-444a-b443-bbbcf1f60f17",
   "metadata": {
    "tags": []
   },
   "outputs": [],
   "source": [
    "# consider the start date as 2021-jan 1st\n",
    "start_date = datetime.date(2020, 12, 1)\n",
    "# consider the end date as 2021-jan 31st\n",
    "end_date = datetime.date(2021, 1, 11)\n",
    "# delta time\n",
    "delta = datetime.timedelta(days=1)\n",
    " \n",
    "# iterate over range of dates\n",
    "while (start_date <= end_date):\n",
    "    \n",
    "    if (len(burdekin_TN_pressure_timeframe.time)):\n",
    "        if (str(start_date) in burdekin_TN_pressure_timeframe.time.dt.strftime('%Y-%m-%d')):\n",
    "            print(\"\\n\")\n",
    "            print(\"Total N quality flag raised on the \", start_date)\n",
    "    \n",
    "    if (len(burdekin_TP_pressure_timeframe.time)):\n",
    "        if (str(start_date) in burdekin_TP_pressure_timeframe.time.dt.strftime('%Y-%m-%d')):\n",
    "            print(\"Total P quality flag raised on the \", start_date)\n",
    "    \n",
    "    if (len(burdekin_Mud_pressure_timeframe.time)):\n",
    "        if (str(start_date) in burdekin_Mud_pressure_timeframe.time.dt.strftime('%Y-%m-%d')):\n",
    "            print(\"DO quality flag raised on the \", start_date)\n",
    "    \n",
    "    start_date += delta"
   ]
  },
  {
   "cell_type": "markdown",
   "id": "a7c98245-9e85-410c-8fe2-44f5a20b5c3b",
   "metadata": {},
   "source": [
    "### **Monitoring potential Pressures using BOM data** "
   ]
  },
  {
   "cell_type": "code",
   "execution_count": null,
   "id": "619658f6-1e93-4dc5-98af-9ee643bff50b",
   "metadata": {
    "tags": []
   },
   "outputs": [],
   "source": [
    "# Problem of spatial lag in addition to temporal lag!!!"
   ]
  },
  {
   "cell_type": "code",
   "execution_count": null,
   "id": "626d0fba-f608-4725-930d-7a0f257da609",
   "metadata": {
    "tags": []
   },
   "outputs": [],
   "source": [
    "def load_rain_monthly(month, year, mask_4326):\n",
    "    url_NCI_rain_monthly = 'https://dapds00.nci.org.au/thredds/dodsC/gh70/ANUClimate/v2-0/stable/month/rain/'+year+'/ANUClimate_v2-0_rain_monthly_'+year+month+'.nc'\n",
    "    dataset_NCI_rain_monthly = xr.open_dataset(url_NCI_rain_monthly)\n",
    "    dataset_masked = dataset_NCI_rain_monthly.where((\n",
    "                        dataset_NCI_rain_monthly.lon > np.round(mask_4326.x.min().values,2)) & (\n",
    "                        dataset_NCI_rain_monthly.lon < np.round(mask_4326.x.max().values,2)) & (\n",
    "                        dataset_NCI_rain_monthly.lat > np.round(mask_4326.y.min().values,2)) & (\n",
    "                        dataset_NCI_rain_monthly.lat < np.round(mask_4326.y.max().values,2)), \n",
    "                        drop=True)\n",
    "\n",
    "    \n",
    "    return dataset_masked"
   ]
  },
  {
   "cell_type": "code",
   "execution_count": null,
   "id": "dc8b14c7-dc84-46e0-913b-69e71b0d1c6a",
   "metadata": {
    "tags": []
   },
   "outputs": [],
   "source": [
    "# Get BOM data for the potential pressure timeframe\n",
    "dataset_NCI_rain_202012 = load_rain_monthly('12', '2020', mask_4326)\n",
    "dataset_NCI_rain_202101 = load_rain_monthly('01', '2021', mask_4326)"
   ]
  },
  {
   "cell_type": "code",
   "execution_count": null,
   "id": "e06cb1e2-2a9d-4083-9a19-c0145764bd59",
   "metadata": {
    "tags": []
   },
   "outputs": [],
   "source": [
    "# Function that raises flag if values are below or above climatic normals\n",
    "def excess_prec_flag(variable, standard):\n",
    "    rain_med = variable.median(dim=[\"lat\", \"lon\"]).values[0] \n",
    "    if (rain_med > standard.standard_max.values[0]):\n",
    "        excess_precipitation = True\n",
    "    else: \n",
    "        excess_precipitation = False\n",
    "    return excess_precipitation"
   ]
  },
  {
   "cell_type": "code",
   "execution_count": null,
   "id": "dce99d4e-8166-4ab4-ad84-38a4f4ef8c57",
   "metadata": {
    "tags": []
   },
   "outputs": [],
   "source": [
    "# Check monthly precipitation pressure\n",
    "excess_prec_202012 = excess_prec_flag(\n",
    "                        dataset_NCI_rain_202012.rain, standards[standards.Variable == 'rain_dec'])\n",
    "excess_prec_202101 = excess_prec_flag(\n",
    "                        dataset_NCI_rain_202101.rain, standards[standards.Variable == 'rain_jan'])\n",
    "\n",
    "\n",
    "# Write warning message \n",
    "if excess_prec_202012==True:\n",
    "    print(color.RED + color.BOLD + \"Excess precipitation during December 2020\" + color.END)\n",
    "if excess_prec_202101==True:\n",
    "    print(color.RED + color.BOLD + \"Excess precipitation during January 2021\" + color.END)\n"
   ]
  },
  {
   "cell_type": "code",
   "execution_count": null,
   "id": "b09b396b-c14f-4bc2-be98-2d96edfe5ecd",
   "metadata": {},
   "outputs": [],
   "source": []
  }
 ],
 "metadata": {
  "kernelspec": {
   "display_name": "Python 3 (ipykernel)",
   "language": "python",
   "name": "python3"
  },
  "language_info": {
   "codemirror_mode": {
    "name": "ipython",
    "version": 3
   },
   "file_extension": ".py",
   "mimetype": "text/x-python",
   "name": "python",
   "nbconvert_exporter": "python",
   "pygments_lexer": "ipython3",
   "version": "3.10.13"
  }
 },
 "nbformat": 4,
 "nbformat_minor": 5
}
