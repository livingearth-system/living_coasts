{
 "cells": [
  {
   "cell_type": "markdown",
   "id": "1faf5f42-ffb4-47cb-adae-a0c03134ad33",
   "metadata": {},
   "source": [
    "# ***Living Earth*** Evidence-based change - impacts and pressures <img align=\"right\" src=\"../../Supplementary_data/dea_logo.jpg\">\n",
    "\n",
    "* [**Sign up to the DEA Sandbox**](https://docs.dea.ga.gov.au/setup/sandbox.html) to run this notebook interactively from a browser\n",
    "* **Compatibility:** Notebook currently compatible with the `DEA Sandbox` environment\n",
    "* **Products used:** \n",
    "[ga_ls_landcover_class_cyear_2](https://explorer.sandbox.dea.ga.gov.au/ga_ls_landcover_class_cyear_2)"
   ]
  },
  {
   "cell_type": "markdown",
   "id": "6965c192-6491-4655-a359-24a9d05e1d51",
   "metadata": {},
   "source": [
    "## The Evidence-Based Change Framework"
   ]
  },
  {
   "attachments": {},
   "cell_type": "markdown",
   "id": "452d7107-02b5-4236-adfe-00a12f020b2a",
   "metadata": {},
   "source": [
    "Within *Living Earth*, **land cover** maps are constructed from environmental descriptors retrieved or classified from Earth observation data according to the Food and Agriculture Organisation (FAO) Land Cover Classification System (LCCS).  The use of environmental descriptors with defined units (e.g., m, %) and categories ensures scalability in space and time. \n",
    "\n",
    "For change mapping, an Evidence-Based Change Framework has been established [Lucas et al. 2022](https://onlinelibrary.wiley.com/doi/full/10.1111/gcb.16346), which links the FAO LCCS temporally-derived land cover maps with the **Driver-Pressure-State-Impact-Response (DPSIR)** Framework.\n",
    "\n",
    "Comparisons of Overarching Environmental Descriptors (OEDs), that correspond to the eight broad land cover types of the FAO LCCS Level 3, establishes what are termed **observed changes**.  These reference the transition matrix between these classes to establish changes in land cover extent (conversions) or otherwise (i.e., areas where modifications might have occurred).\n",
    "\n",
    "Essential Environmental Descriptors (EEDs) are those used to construct the FAO LCCS in its entirety, recognising that these might not be available from remote sensing or other sources.  Time-series comparison of one or several EEDs allows modifications of land covers to be identified (or otherwise). Additional Environmental Descriptors (AEDs) are not used in the construction of the FAO LCCS but provide further quantitative or qualitative (categorical) descriptions with examples being above ground biomass (Mg ha-1) or plant species type respectively.  \n",
    "\n",
    "**Impacts** are determined by gathering evidence from the comparisons of EEDs and/or OEDs, with this based on past knowledge (e.g., scientific studies) and/or observations.   \n",
    "\n",
    "Within DPSIR, impacts are the consequence of **pressures** associated with drivers including climate, tectonics, economy or war.   \n",
    "\n",
    "The Evidence-based Change Framework identifies, defines and describes 77 impacts and 144 pressures that and combines these to generate 246 **'impact-pressure'** categories.   \n"
   ]
  },
  {
   "cell_type": "markdown",
   "id": "4331b468-fbc5-4b09-8478-78df574cb743",
   "metadata": {},
   "source": [
    "## Description \n",
    "This notebook accesses the FAO LCCS layer at Level 3 (Basic; 6 classes) but also Level 4 (over 100 classes) to gather evidence for impacts and associates these with aligned pressure categories. This is achieved by:\n",
    "\n",
    "1. Loading and displaying DEA land cover classifications (basic and detailed) and contributing environmental descriptors for an area of interest.\n",
    "2. Determing areas of land cover conversions (losses and gains) based on time-series comparison of the land cover maps between two years.\n",
    "3. Determining areas of no change in the FAO LCCS Level 3 classes where there is potential for a modification to occur. \n",
    "4. Comparing the lifeform, water persistence and canopy cover categories of the FAO LCCS Level 3 to indicate forms of modification.\n",
    "5. Allowing the pressures leading to the change to be explored through drop down menus. \n",
    "6. Combining this information as evidence to map different impacts as listed in the (Global Change Taxonomy](https://onlinelibrary.wiley.com/doi/full/10.1111/gcb.16346)\n",
    "\n",
    "This notebook requires a basic understanding of the DEA Land Cover data set.  For more information, visit [DEA Land Cover notebook](../DEA_datasets/DEA_Land_Cover.ipynb) first. \n",
    "\n",
    "***"
   ]
  },
  {
   "cell_type": "markdown",
   "id": "45a61d5c-3ec6-4e3f-a68e-bf2e1c2fccc7",
   "metadata": {},
   "source": [
    "## Getting started\n",
    "\n",
    "To run this analysis, run all the cells in the notebook starting with the 'Load packages and connect to the datacube' cell."
   ]
  },
  {
   "cell_type": "markdown",
   "id": "2f8dfa5f-85d8-4f91-93bc-f7b2c0520e3d",
   "metadata": {},
   "source": [
    "### Load packages\n",
    "Load key Python packages and supporting functions for the analysis.  Note that these have been moved to a file called Tools_and_libraries.py.  "
   ]
  },
  {
   "cell_type": "code",
   "execution_count": 1,
   "id": "e1482beb-5986-429c-8837-9d85c651c75a",
   "metadata": {},
   "outputs": [
    {
     "name": "stdout",
     "output_type": "stream",
     "text": [
      "added a new line here\n",
      "another line\n"
     ]
    },
    {
     "data": {
      "text/html": [
       "<div>\n",
       "    <div style=\"width: 24px; height: 24px; background-color: #e1e1e1; border: 3px solid #9D9D9D; border-radius: 5px; position: absolute;\"> </div>\n",
       "    <div style=\"margin-left: 48px;\">\n",
       "        <h3 style=\"margin-bottom: 0px;\">Client</h3>\n",
       "        <p style=\"color: #9D9D9D; margin-bottom: 0px;\">Client-4384cf1e-f728-11ef-8491-3a8b992716cf</p>\n",
       "        <table style=\"width: 100%; text-align: left;\">\n",
       "\n",
       "        <tr>\n",
       "        \n",
       "            <td style=\"text-align: left;\"><strong>Connection method:</strong> Cluster object</td>\n",
       "            <td style=\"text-align: left;\"><strong>Cluster type:</strong> distributed.LocalCluster</td>\n",
       "        \n",
       "        </tr>\n",
       "\n",
       "        \n",
       "            <tr>\n",
       "                <td style=\"text-align: left;\">\n",
       "                    <strong>Dashboard: </strong> <a href=\"/user/richard.lucas@aber.ac.uk/proxy/34749/status\" target=\"_blank\">/user/richard.lucas@aber.ac.uk/proxy/34749/status</a>\n",
       "                </td>\n",
       "                <td style=\"text-align: left;\"></td>\n",
       "            </tr>\n",
       "        \n",
       "\n",
       "        </table>\n",
       "\n",
       "        \n",
       "            <button style=\"margin-bottom: 12px;\" data-commandlinker-command=\"dask:populate-and-launch-layout\" data-commandlinker-args='{\"url\": \"/user/richard.lucas@aber.ac.uk/proxy/34749/status\" }'>\n",
       "                Launch dashboard in JupyterLab\n",
       "            </button>\n",
       "        \n",
       "\n",
       "        \n",
       "            <details>\n",
       "            <summary style=\"margin-bottom: 20px;\"><h3 style=\"display: inline;\">Cluster Info</h3></summary>\n",
       "            <div class=\"jp-RenderedHTMLCommon jp-RenderedHTML jp-mod-trusted jp-OutputArea-output\">\n",
       "    <div style=\"width: 24px; height: 24px; background-color: #e1e1e1; border: 3px solid #9D9D9D; border-radius: 5px; position: absolute;\">\n",
       "    </div>\n",
       "    <div style=\"margin-left: 48px;\">\n",
       "        <h3 style=\"margin-bottom: 0px; margin-top: 0px;\">LocalCluster</h3>\n",
       "        <p style=\"color: #9D9D9D; margin-bottom: 0px;\">2ac011f9</p>\n",
       "        <table style=\"width: 100%; text-align: left;\">\n",
       "            <tr>\n",
       "                <td style=\"text-align: left;\">\n",
       "                    <strong>Dashboard:</strong> <a href=\"/user/richard.lucas@aber.ac.uk/proxy/34749/status\" target=\"_blank\">/user/richard.lucas@aber.ac.uk/proxy/34749/status</a>\n",
       "                </td>\n",
       "                <td style=\"text-align: left;\">\n",
       "                    <strong>Workers:</strong> 1\n",
       "                </td>\n",
       "            </tr>\n",
       "            <tr>\n",
       "                <td style=\"text-align: left;\">\n",
       "                    <strong>Total threads:</strong> 2\n",
       "                </td>\n",
       "                <td style=\"text-align: left;\">\n",
       "                    <strong>Total memory:</strong> 12.21 GiB\n",
       "                </td>\n",
       "            </tr>\n",
       "            \n",
       "            <tr>\n",
       "    <td style=\"text-align: left;\"><strong>Status:</strong> running</td>\n",
       "    <td style=\"text-align: left;\"><strong>Using processes:</strong> True</td>\n",
       "</tr>\n",
       "\n",
       "            \n",
       "        </table>\n",
       "\n",
       "        <details>\n",
       "            <summary style=\"margin-bottom: 20px;\">\n",
       "                <h3 style=\"display: inline;\">Scheduler Info</h3>\n",
       "            </summary>\n",
       "\n",
       "            <div style=\"\">\n",
       "    <div>\n",
       "        <div style=\"width: 24px; height: 24px; background-color: #FFF7E5; border: 3px solid #FF6132; border-radius: 5px; position: absolute;\"> </div>\n",
       "        <div style=\"margin-left: 48px;\">\n",
       "            <h3 style=\"margin-bottom: 0px;\">Scheduler</h3>\n",
       "            <p style=\"color: #9D9D9D; margin-bottom: 0px;\">Scheduler-db879e64-ea93-441b-b011-bdd4626c0db0</p>\n",
       "            <table style=\"width: 100%; text-align: left;\">\n",
       "                <tr>\n",
       "                    <td style=\"text-align: left;\">\n",
       "                        <strong>Comm:</strong> tcp://127.0.0.1:34921\n",
       "                    </td>\n",
       "                    <td style=\"text-align: left;\">\n",
       "                        <strong>Workers:</strong> 1\n",
       "                    </td>\n",
       "                </tr>\n",
       "                <tr>\n",
       "                    <td style=\"text-align: left;\">\n",
       "                        <strong>Dashboard:</strong> <a href=\"/user/richard.lucas@aber.ac.uk/proxy/34749/status\" target=\"_blank\">/user/richard.lucas@aber.ac.uk/proxy/34749/status</a>\n",
       "                    </td>\n",
       "                    <td style=\"text-align: left;\">\n",
       "                        <strong>Total threads:</strong> 2\n",
       "                    </td>\n",
       "                </tr>\n",
       "                <tr>\n",
       "                    <td style=\"text-align: left;\">\n",
       "                        <strong>Started:</strong> Just now\n",
       "                    </td>\n",
       "                    <td style=\"text-align: left;\">\n",
       "                        <strong>Total memory:</strong> 12.21 GiB\n",
       "                    </td>\n",
       "                </tr>\n",
       "            </table>\n",
       "        </div>\n",
       "    </div>\n",
       "\n",
       "    <details style=\"margin-left: 48px;\">\n",
       "        <summary style=\"margin-bottom: 20px;\">\n",
       "            <h3 style=\"display: inline;\">Workers</h3>\n",
       "        </summary>\n",
       "\n",
       "        \n",
       "        <div style=\"margin-bottom: 20px;\">\n",
       "            <div style=\"width: 24px; height: 24px; background-color: #DBF5FF; border: 3px solid #4CC9FF; border-radius: 5px; position: absolute;\"> </div>\n",
       "            <div style=\"margin-left: 48px;\">\n",
       "            <details>\n",
       "                <summary>\n",
       "                    <h4 style=\"margin-bottom: 0px; display: inline;\">Worker: 0</h4>\n",
       "                </summary>\n",
       "                <table style=\"width: 100%; text-align: left;\">\n",
       "                    <tr>\n",
       "                        <td style=\"text-align: left;\">\n",
       "                            <strong>Comm: </strong> tcp://127.0.0.1:38917\n",
       "                        </td>\n",
       "                        <td style=\"text-align: left;\">\n",
       "                            <strong>Total threads: </strong> 2\n",
       "                        </td>\n",
       "                    </tr>\n",
       "                    <tr>\n",
       "                        <td style=\"text-align: left;\">\n",
       "                            <strong>Dashboard: </strong> <a href=\"/user/richard.lucas@aber.ac.uk/proxy/43653/status\" target=\"_blank\">/user/richard.lucas@aber.ac.uk/proxy/43653/status</a>\n",
       "                        </td>\n",
       "                        <td style=\"text-align: left;\">\n",
       "                            <strong>Memory: </strong> 12.21 GiB\n",
       "                        </td>\n",
       "                    </tr>\n",
       "                    <tr>\n",
       "                        <td style=\"text-align: left;\">\n",
       "                            <strong>Nanny: </strong> tcp://127.0.0.1:34379\n",
       "                        </td>\n",
       "                        <td style=\"text-align: left;\"></td>\n",
       "                    </tr>\n",
       "                    <tr>\n",
       "                        <td colspan=\"2\" style=\"text-align: left;\">\n",
       "                            <strong>Local directory: </strong> /tmp/dask-scratch-space/worker-ibhkbxqt\n",
       "                        </td>\n",
       "                    </tr>\n",
       "\n",
       "                    \n",
       "\n",
       "                    \n",
       "\n",
       "                </table>\n",
       "            </details>\n",
       "            </div>\n",
       "        </div>\n",
       "        \n",
       "\n",
       "    </details>\n",
       "</div>\n",
       "\n",
       "        </details>\n",
       "    </div>\n",
       "</div>\n",
       "            </details>\n",
       "        \n",
       "\n",
       "    </div>\n",
       "</div>"
      ],
      "text/plain": [
       "<Client: 'tcp://127.0.0.1:34921' processes=1 threads=2, memory=12.21 GiB>"
      ]
     },
     "metadata": {},
     "output_type": "display_data"
    },
    {
     "name": "stdout",
     "output_type": "stream",
     "text": [
      "Requirement already satisfied: openpyxl in /env/lib/python3.10/site-packages (3.1.5)\n",
      "Requirement already satisfied: et-xmlfile in /env/lib/python3.10/site-packages (from openpyxl) (2.0.0)\n"
     ]
    }
   ],
   "source": [
    "from Tools_and_libraries import *\n",
    "# Ensure openpyxl is installed\n",
    "!pip install openpyxl"
   ]
  },
  {
   "cell_type": "markdown",
   "id": "bc3fd3a8-d54e-4b09-ad65-4d703ad1f3a8",
   "metadata": {},
   "source": [
    "### Connect to the datacube\n",
    "Connect to the datacube to access Digital Earth Australia's (DEA) land cover data. "
   ]
  },
  {
   "cell_type": "code",
   "execution_count": 2,
   "id": "76f9806d-cce9-44a0-a6e2-c1b0698a411c",
   "metadata": {},
   "outputs": [],
   "source": [
    "dc = datacube.Datacube(app=\"Observed Change - Impacts\")"
   ]
  },
  {
   "cell_type": "markdown",
   "id": "b326f586-afc8-4927-b2fc-9affe30f24b5",
   "metadata": {},
   "source": [
    "## Select and view your area of interest\n",
    "Select your area of interest by through interactive selection, use of rectangular coordinates or through uploading of a shapefiles or geojson.  A number of example areas are provided in your uploads directory (as geojsons) but you can select an area of your choice.\n",
    "\n",
    "For the inital run, select the geojson file ***\"Ngarkat_files.geojson\"***  from the uploads directory\""
   ]
  },
  {
   "cell_type": "code",
   "execution_count": 3,
   "id": "84ddafd7-5507-489d-b1d3-bc436c0cf1b2",
   "metadata": {},
   "outputs": [
    {
     "data": {
      "application/vnd.jupyter.widget-view+json": {
       "model_id": "0480d3db57c9488aa865dd557418b958",
       "version_major": 2,
       "version_minor": 0
      },
      "text/plain": [
       "Map(center=[0, 0], controls=(ZoomControl(options=['position', 'zoom_in_text', 'zoom_in_title', 'zoom_out_text'…"
      ]
     },
     "metadata": {},
     "output_type": "display_data"
    },
    {
     "name": "stdout",
     "output_type": "stream",
     "text": [
      "Draw, Manual Input, and Load methods setup with menu toggle completed.\n"
     ]
    },
    {
     "data": {
      "text/plain": [
       "1172"
      ]
     },
     "execution_count": 3,
     "metadata": {},
     "output_type": "execute_result"
    }
   ],
   "source": [
    "from ipyleaflet import Map, DrawControl, Rectangle, WidgetControl, LayersControl, FullScreenControl, GeoJSON, basemaps\n",
    "from ipywidgets import Button, VBox, Tab, FloatText, Output, Layout, HBox, HTML, Dropdown\n",
    "from shapely.geometry import Polygon\n",
    "import gc\n",
    "import geopandas as gpd\n",
    "from ipyfilechooser import FileChooser\n",
    "import json\n",
    "\n",
    "# Initialize global variables to store the selected polygon\n",
    "selected_polygon = None\n",
    "manual_polygon_layer = None\n",
    "geojson_layer = None\n",
    "\n",
    "# Define lat_range and lon_range to avoid NameError in Section 5\n",
    "lat_range = None\n",
    "lon_range = None\n",
    "\n",
    "# Create the map\n",
    "m = Map(center=[0, 0], zoom=2, basemap=basemaps.Esri.WorldImagery, scroll_wheel_zoom=True, layout=Layout(height='600px'))\n",
    "m.add_control(LayersControl(position='topright'))\n",
    "m.add_control(FullScreenControl())\n",
    "\n",
    "# Output widgets to display coordinates\n",
    "output_draw = Output(layout={'border': '1px solid black', 'padding': '5px'})\n",
    "output_manual = Output(layout={'border': '1px solid black', 'padding': '5px'})\n",
    "output_load = Output(layout={'border': '1px solid black', 'padding': '5px'})\n",
    "\n",
    "### Draw Method ###\n",
    "# Setup the draw control with both polygon and rectangle options\n",
    "draw_control = DrawControl(\n",
    "    rectangle={\"shapeOptions\": {\"color\": \"#0000FF\"}},\n",
    "    polygon={\"shapeOptions\": {\"color\": \"#00FF00\"}},\n",
    "    circlemarker={},\n",
    "    polyline={},\n",
    "    circle={}\n",
    ")\n",
    "m.add_control(draw_control)\n",
    "\n",
    "# Event handler for drawing shapes\n",
    "def handle_draw(target, action, geo_json):\n",
    "    global selected_polygon, lat_range, lon_range\n",
    "    output_draw.clear_output()\n",
    "    coords = geo_json['geometry']['coordinates'][0]\n",
    "    selected_polygon = Polygon(coords)\n",
    "    lats, lons = zip(*[(coord[1], coord[0]) for coord in coords])\n",
    "    lat_range = (min(lats), max(lats))\n",
    "    lon_range = (min(lons), max(lons))\n",
    "    with output_draw:\n",
    "        output_draw.append_stdout(\"Coordinates:\\n\")\n",
    "        output_draw.append_stdout(f\"{'Latitude':<20}{'Longitude'}\\n\")\n",
    "        for lat, lon in zip(lats, lons):\n",
    "            output_draw.append_stdout(f\"{lat:.6f}\\t\\t{lon:.6f}\\n\")\n",
    "\n",
    "draw_control.on_draw(handle_draw)\n",
    "\n",
    "# Button to clear drawings and output\n",
    "clear_button_draw = Button(description='Clear All')\n",
    "\n",
    "# Event handler for the clear button\n",
    "def clear_all_draw(b):\n",
    "    global selected_polygon, lat_range, lon_range\n",
    "    draw_control.clear()\n",
    "    output_draw.clear_output()\n",
    "    selected_polygon = None\n",
    "    lat_range = None\n",
    "    lon_range = None\n",
    "    gc.collect()\n",
    "\n",
    "clear_button_draw.on_click(clear_all_draw)\n",
    "\n",
    "draw_tab = VBox([clear_button_draw, output_draw])\n",
    "\n",
    "### Manual Input Method ###\n",
    "# Create input widgets for manual coordinate entry\n",
    "latitude = FloatText(description='Latitude:', layout=Layout(width='100%'))\n",
    "longitude = FloatText(description='Longitude:', layout=Layout(width='100%'))\n",
    "buffer = FloatText(description='Buffer (deg):', value=0.1, layout=Layout(width='100%'))\n",
    "update_button = Button(description='Update Map')\n",
    "\n",
    "# Function to update the map based on manual input values\n",
    "def update_map_manual(b):\n",
    "    global manual_polygon_layer, selected_polygon, lat_range, lon_range\n",
    "    output_manual.clear_output()\n",
    "    lat = latitude.value\n",
    "    lon = longitude.value\n",
    "    buf = buffer.value\n",
    "    \n",
    "    if lat is not None and lon is not None and buf is not None:\n",
    "        bounds = [[lat - buf, lon - buf], [lat + buf, lon + buf]]\n",
    "        if manual_polygon_layer:\n",
    "            m.remove_layer(manual_polygon_layer)\n",
    "        manual_polygon_layer = Rectangle(bounds=bounds, color=\"blue\", fill_opacity=0.2, weight=2)\n",
    "        m.add_layer(manual_polygon_layer)\n",
    "        m.fit_bounds(bounds)\n",
    "        \n",
    "        selected_polygon = Polygon([(lon - buf, lat - buf), (lon + buf, lat - buf), (lon + buf, lat + buf), (lon - buf, lat + buf), (lon - buf, lat - buf)])\n",
    "        lat_range = (lat - buf, lat + buf)\n",
    "        lon_range = (lon - buf, lon + buf)\n",
    "        \n",
    "        with output_manual:\n",
    "            output_manual.append_stdout(\"Manual Coordinates:\\n\")\n",
    "            output_manual.append_stdout(f\"{'Latitude':<20}{'Longitude'}\\n\")\n",
    "            output_manual.append_stdout(f\"{lat - buf:.6f}\\t\\t{lon - buf:.6f}\\n\")\n",
    "            output_manual.append_stdout(f\"{lat - buf:.6f}\\t\\t{lon + buf:.6f}\\n\")\n",
    "            output_manual.append_stdout(f\"{lat + buf:.6f}\\t\\t{lon + buf:.6f}\\n\")\n",
    "            output_manual.append_stdout(f\"{lat + buf:.6f}\\t\\t{lon - buf:.6f}\\n\")\n",
    "    else:\n",
    "        with output_manual:\n",
    "            output_manual.append_stdout(\"Please fill in all coordinate values.\\n\")\n",
    "\n",
    "# Connect the manual update button\n",
    "update_button.on_click(update_map_manual)\n",
    "\n",
    "# Button to clear manual input and output\n",
    "clear_button_manual = Button(description='Clear All')\n",
    "\n",
    "# Event handler for the clear button\n",
    "def clear_all_manual(b):\n",
    "    global selected_polygon, manual_polygon_layer, lat_range, lon_range\n",
    "    output_manual.clear_output()\n",
    "    if manual_polygon_layer:\n",
    "        m.remove_layer(manual_polygon_layer)\n",
    "    selected_polygon = None\n",
    "    manual_polygon_layer = None\n",
    "    lat_range = None\n",
    "    lon_range = None\n",
    "    gc.collect()\n",
    "\n",
    "clear_button_manual.on_click(clear_all_manual)\n",
    "\n",
    "manual_tab = VBox([latitude, longitude, buffer, update_button, clear_button_manual, output_manual])\n",
    "\n",
    "### Load Method ###\n",
    "# File chooser to load shapefile or GeoJSON\n",
    "file_chooser = FileChooser(filter_pattern=['*.shp', '*.geojson'])\n",
    "load_button = Button(description='Load File')\n",
    "\n",
    "# Function to load and display shapefile or GeoJSON\n",
    "def load_file(b):\n",
    "    global geojson_layer, selected_polygon, lat_range, lon_range\n",
    "    output_load.clear_output()\n",
    "    \n",
    "    file_path = file_chooser.selected\n",
    "    \n",
    "    if file_path:\n",
    "        if file_path.endswith('.shp'):\n",
    "            gdf = gpd.read_file(file_path)\n",
    "            geo_json_data = json.loads(gdf.to_json())\n",
    "        elif file_path.endswith('.geojson'):\n",
    "            with open(file_path) as f:\n",
    "                geo_json_data = json.load(f)\n",
    "        \n",
    "        if geojson_layer:\n",
    "            m.remove_layer(geojson_layer)\n",
    "        \n",
    "        geojson_layer = GeoJSON(data=geo_json_data, style={'color': 'green', 'fillOpacity': 0.5})\n",
    "        m.add_layer(geojson_layer)\n",
    "        \n",
    "        coords = geo_json_data['features'][0]['geometry']['coordinates'][0]\n",
    "        selected_polygon = Polygon(coords)\n",
    "        lats, lons = zip(*[(coord[1], coord[0]) for coord in coords])\n",
    "        lat_range = (min(lats), max(lats))\n",
    "        lon_range = (min(lons), max(lons))\n",
    "        \n",
    "        m.fit_bounds([[min(lats), min(lons)], [max(lats), max(lons)]])\n",
    "        \n",
    "        with output_load:\n",
    "            output_load.append_stdout(f\"Loaded {file_path}\\n\")\n",
    "            output_load.append_stdout(\"Coordinates:\\n\")\n",
    "            output_load.append_stdout(f\"{'Latitude':<20}{'Longitude'}\\n\")\n",
    "            for lat, lon in zip(lats, lons):\n",
    "                output_load.append_stdout(f\"{lat:.6f}\\t\\t{lon:.6f}\\n\")\n",
    "    else:\n",
    "        with output_load:\n",
    "            output_load.append_stdout(\"Please select a file.\\n\")\n",
    "\n",
    "load_button.on_click(load_file)\n",
    "\n",
    "# Load method tab layout\n",
    "load_tab = VBox([file_chooser, load_button, output_load])\n",
    "\n",
    "### Main Method Selection Tab ###\n",
    "# Add all tabs to the main method selection tab\n",
    "method_tab = Tab()\n",
    "method_tab.children = [draw_tab, manual_tab, load_tab]\n",
    "method_tab.set_title(0, 'Draw Method')\n",
    "method_tab.set_title(1, 'Manual Input Method')\n",
    "method_tab.set_title(2, 'Load Method')\n",
    "\n",
    "# Add the method selection tab control to the map\n",
    "method_control = WidgetControl(widget=method_tab, position='topright')\n",
    "m.add_control(method_control)\n",
    "\n",
    "# Create a subtle tab for collapsing/expanding the menu using Button\n",
    "collapse_button = Button(description=\">\", layout=Layout(width='30px', height='30px'))\n",
    "\n",
    "# Event handler for the collapse/expand button\n",
    "def toggle_collapse(b):\n",
    "    if method_control in m.controls:\n",
    "        m.remove_control(method_control)\n",
    "        collapse_button.description = \"<\"\n",
    "    else:\n",
    "        m.add_control(method_control)\n",
    "        collapse_button.description = \">\"\n",
    "\n",
    "collapse_button.on_click(toggle_collapse)\n",
    "\n",
    "# Add the collapse button to the map\n",
    "collapse_control = WidgetControl(widget=collapse_button, position='topright')\n",
    "m.add_control(collapse_control)\n",
    "\n",
    "# Display the map\n",
    "display(m)\n",
    "\n",
    "print(\"Draw, Manual Input, and Load methods setup with menu toggle completed.\")\n",
    "\n",
    "# Manually invoke garbage collection\n",
    "gc.collect()"
   ]
  },
  {
   "cell_type": "markdown",
   "id": "fa3e96d2-f6f9-403b-8c12-01359c3d65c3",
   "metadata": {},
   "source": [
    "# Define dates and/or period of interest\n",
    "Select the time-period of interest, which can be for any year from 1988 to 2020.  When using the date selection, ideally select the 1st January for the start year and the 31st December for the end year."
   ]
  },
  {
   "cell_type": "code",
   "execution_count": 4,
   "id": "6140a048-d377-4382-8a15-79a50abe307f",
   "metadata": {},
   "outputs": [
    {
     "data": {
      "application/vnd.jupyter.widget-view+json": {
       "model_id": "df20a8cc0c8e4acf81369727d99b5c84",
       "version_major": 2,
       "version_minor": 0
      },
      "text/plain": [
       "VBox(children=(DatePicker(value=datetime.datetime(2010, 1, 1, 0, 0), description='Start Date', step=1), DatePi…"
      ]
     },
     "metadata": {},
     "output_type": "display_data"
    }
   ],
   "source": [
    "from ipywidgets import VBox, Button, DatePicker, Output\n",
    "from IPython.display import display\n",
    "from datetime import datetime  # Import datetime\n",
    "\n",
    "# DatePicker widgets with initial default values\n",
    "start_date_input = DatePicker(\n",
    "    description=\"Start Date\",\n",
    "    value=datetime(2010, 1, 1)  # Default start date\n",
    ")\n",
    "\n",
    "end_date_input = DatePicker(\n",
    "    description=\"End Date\",\n",
    "    value=datetime(2020, 12, 31)  # Default end date\n",
    ")\n",
    "\n",
    "# Define update button\n",
    "update_button = Button(description=\"Update Date Range\")\n",
    "\n",
    "# Output area for displaying messages\n",
    "output = Output()\n",
    "\n",
    "# Define the button click event\n",
    "def on_button_click(b):\n",
    "    with output:\n",
    "        output.clear_output()  # Clear previous output\n",
    "        start_date = start_date_input.value\n",
    "        end_date = end_date_input.value\n",
    "        \n",
    "        # Check if both dates are selected\n",
    "        if start_date is None or end_date is None:\n",
    "            print(\"Please select both start and end dates.\")\n",
    "            return\n",
    "        \n",
    "        # Check if start date is before end date\n",
    "        if start_date > end_date:\n",
    "            print(\"Start date must be before end date.\")\n",
    "            return\n",
    "        \n",
    "        # Confirmation message for valid date selection\n",
    "        print(f\"Date range selected: {start_date} to {end_date}\")\n",
    "        print(\"Date range confirmed. You may proceed with further actions.\")\n",
    "        \n",
    "        # Example placeholder for additional processing\n",
    "        # Replace this with any data loading or processing code\n",
    "        print(\"Processing data for the selected date range...\")\n",
    "\n",
    "# Attach the callback to the button\n",
    "update_button.on_click(on_button_click)\n",
    "\n",
    "# Display widgets, button, and output area\n",
    "display(VBox([start_date_input, end_date_input, update_button, output]))"
   ]
  },
  {
   "cell_type": "markdown",
   "id": "61606795-1cdf-4940-9863-4b4cc05822a4",
   "metadata": {},
   "source": [
    "**Note: ** The date range is automatically updated."
   ]
  },
  {
   "cell_type": "markdown",
   "id": "4ee58b91-f9a1-44dc-be04-ca2fe8ca5708",
   "metadata": {},
   "source": [
    "## Load and view the Environmental Descriptors (EDs)\n",
    "The following cell will load what are termed the Environmental Descriptors (EDs) used to construct the Basic (Level 3) and subsequently the Detailed (Level 4) land cover maps for the `lat_range`, `lon_range` and `time_range` defined for your area of interest."
   ]
  },
  {
   "cell_type": "code",
   "execution_count": 5,
   "id": "c4b6ea5d-fc45-4459-a7b5-06b2a42c8ca2",
   "metadata": {},
   "outputs": [
    {
     "data": {
      "application/vnd.jupyter.widget-view+json": {
       "model_id": "",
       "version_major": 2,
       "version_minor": 0
      },
      "text/plain": [
       "VBox(children=(HTML(value='<b>.</b>'),))"
      ]
     },
     "metadata": {},
     "output_type": "display_data"
    },
    {
     "name": "stdout",
     "output_type": "stream",
     "text": [
      "Lat Range: (-31.254622651062775, -30.5623497754993)\n",
      "Lon Range: (118.4085339189848, 119.49836032991209)\n",
      "Start Date: 2017-01-01\n",
      "End Date: 2019-12-31\n",
      "Query Parameters: {'y': (-31.254622651062775, -30.5623497754993), 'x': (118.4085339189848, 119.49836032991209), 'time': (datetime.date(2017, 1, 1), datetime.date(2019, 12, 31))}\n"
     ]
    },
    {
     "data": {
      "application/vnd.jupyter.widget-view+json": {
       "model_id": "3a7737182be54e64be6c706f04b880bb",
       "version_major": 2,
       "version_minor": 0
      },
      "text/plain": [
       "Loading DEA Land Cover data:   0%|          | 0/10 [00:00<?]"
      ]
     },
     "metadata": {},
     "output_type": "display_data"
    },
    {
     "name": "stdout",
     "output_type": "stream",
     "text": [
      "DEA Land Cover data loaded successfully.\n",
      "\n",
      "Geobox Information:\n",
      "-------------------\n",
      "CRS: PROJCS[\"GDA94 / Australian Albers\",GEOGCS[\"GDA94\",DATUM[\"Geocentric_Datum_of_Australia_1994\",SPHEROID[\"GRS 1980\",6378137,298.257222101,AUTHORITY[\"EPSG\",\"7019\"]],AUTHORITY[\"EPSG\",\"6283\"]],PRIMEM[\"Greenwich\",0,AUTHORITY[\"EPSG\",\"8901\"]],UNIT[\"degree\",0.0174532925199433,AUTHORITY[\"EPSG\",\"9122\"]],AUTHORITY[\"EPSG\",\"4283\"]],PROJECTION[\"Albers_Conic_Equal_Area\"],PARAMETER[\"latitude_of_center\",0],PARAMETER[\"longitude_of_center\",132],PARAMETER[\"standard_parallel_1\",-18],PARAMETER[\"standard_parallel_2\",-36],PARAMETER[\"false_easting\",0],PARAMETER[\"false_northing\",0],UNIT[\"metre\",1,AUTHORITY[\"EPSG\",\"9001\"]],AXIS[\"Easting\",EAST],AXIS[\"Northing\",NORTH],AUTHORITY[\"EPSG\",\"3577\"]]\n",
      "Dimensions: ('y', 'x')\n",
      "Resolution: (-25.0, 25.0)\n",
      "Shape: (3507, 4420)\n",
      "Extent: Geometry({'type': 'Polygon', 'coordinates': (((-1287600.0, -3384350.0), (-1287600.0, -3472025.0), (-1177100.0, -3472025.0), (-1177100.0, -3384350.0), (-1287600.0, -3384350.0)),)}, CRS('PROJCS[\"GDA94 / Australian Albers\",GEOGCS[\"GDA94\",DATUM[\"Geocentric_Datum_of_Australia_1994\",SPHEROID[\"GRS 1980\",6378137,298.257222101,AUTHORITY[\"EPSG\",\"7019\"]],AUTHORITY[\"EPSG\",\"6283\"]],PRIMEM[\"Greenwich\",0,AUTHORITY[\"EPSG\",\"8901\"]],UNIT[\"degree\",0.0174532925199433,AUTHORITY[\"EPSG\",\"9122\"]],AUTHORITY[\"EPSG\",\"4283\"]],PROJECTION[\"Albers_Conic_Equal_Area\"],PARAMETER[\"latitude_of_center\",0],PARAMETER[\"longitude_of_center\",132],PARAMETER[\"standard_parallel_1\",-18],PARAMETER[\"standard_parallel_2\",-36],PARAMETER[\"false_easting\",0],PARAMETER[\"false_northing\",0],UNIT[\"metre\",1,AUTHORITY[\"EPSG\",\"9001\"]],AXIS[\"Easting\",EAST],AXIS[\"Northing\",NORTH],AUTHORITY[\"EPSG\",\"3577\"]]'))\n",
      "\n",
      "Loaded data dimensions: FrozenMappingWarningOnValuesAccess({'time': 3, 'y': 3507, 'x': 4420})\n",
      "Loaded data variables: Data variables:\n",
      "    level3               (time, y, x) uint8 47MB 112 112 112 112 ... 112 112 112\n",
      "    lifeform             (time, y, x) uint8 47MB 2 2 2 2 1 1 2 ... 2 2 2 2 2 2 2\n",
      "    vegetation_cover     (time, y, x) uint8 47MB 13 13 13 13 13 ... 13 13 13 13\n",
      "    water_seasonality    (time, y, x) uint8 47MB 0 0 0 0 0 0 0 ... 0 0 0 0 0 0 0\n",
      "    water_state          (time, y, x) uint8 47MB 0 0 0 0 0 0 0 ... 0 0 0 0 0 0 0\n",
      "    intertidal           (time, y, x) uint8 47MB 0 0 0 0 0 0 0 ... 0 0 0 0 0 0 0\n",
      "    water_persistence    (time, y, x) uint8 47MB 0 0 0 0 0 0 0 ... 0 0 0 0 0 0 0\n",
      "    bare_gradation       (time, y, x) uint8 47MB 0 0 0 0 0 0 0 ... 0 0 0 0 0 0 0\n",
      "    full_classification  (time, y, x) uint8 47MB 34 34 34 34 29 ... 34 34 34 34\n"
     ]
    }
   ],
   "source": [
    "import matplotlib.pyplot as plt\n",
    "from tqdm.notebook import tqdm\n",
    "from ipywidgets import HTML, VBox\n",
    "from IPython.display import display\n",
    "import time\n",
    "import logging\n",
    "import threading\n",
    "import gc\n",
    "\n",
    "# Suppress garbage collection warnings\n",
    "logging.getLogger(\"distributed.utils_perf\").setLevel(logging.ERROR)\n",
    "\n",
    "# Create a dot indicator\n",
    "spinner = HTML(\"<b>.</b>\")\n",
    "box = VBox([spinner])\n",
    "display(box)\n",
    "\n",
    "# Function to update the spinner\n",
    "def spin():\n",
    "    while not done:\n",
    "        spinner.value = spinner.value + \".\" if len(spinner.value) < 10 else \"<b>.</b>\"\n",
    "        time.sleep(0.5)\n",
    "\n",
    "# Assume total steps is the number of files/jobs being loaded\n",
    "total_steps = 10  # Replace with the actual number of steps\n",
    "\n",
    "# Ensure actual data loading for DEA Land Cover data\n",
    "done = False\n",
    "try:\n",
    "    # Start the spinner in a separate thread\n",
    "    spinner_thread = threading.Thread(target=spin)\n",
    "    spinner_thread.start()\n",
    "    \n",
    "    # Step 1: Check if required variables are defined\n",
    "    if lat_range is None or lon_range is None or start_date_input.value is None or end_date_input.value is None:\n",
    "        raise ValueError(\"Latitude, Longitude, or Time range is not defined\")\n",
    "\n",
    "    print(\"Lat Range:\", lat_range)\n",
    "    print(\"Lon Range:\", lon_range)\n",
    "    print(\"Start Date:\", start_date_input.value)\n",
    "    print(\"End Date:\", end_date_input.value)\n",
    "\n",
    "    # Step 2: Construct the query\n",
    "    query = {\n",
    "        \"y\": lat_range,\n",
    "        \"x\": lon_range,\n",
    "        \"time\": (start_date_input.value, end_date_input.value),\n",
    "    }\n",
    "\n",
    "    print(\"Query Parameters:\", query)\n",
    "  \n",
    "    # Step 3: Load DEA Land Cover data from the datacube\n",
    "    with tqdm(total=total_steps, desc=\"Loading DEA Land Cover data\", bar_format='{l_bar}{bar}| {n_fmt}/{total_fmt} [{elapsed}<{remaining}]') as pbar:\n",
    "        lc = dc.load(\n",
    "            product=\"ga_ls_landcover_class_cyear_2\",\n",
    "            output_crs=\"EPSG:3577\",\n",
    "            measurements=[\n",
    "                \"level3\",\n",
    "                \"lifeform\",\n",
    "                \"vegetation_cover\",\n",
    "                \"water_seasonality\",\n",
    "                \"water_state\",\n",
    "                \"intertidal\",\n",
    "                \"water_persistence\",\n",
    "                \"bare_gradation\",\n",
    "                \"full_classification\",\n",
    "            ],\n",
    "            resolution=(-25, 25),\n",
    "#            dask_chunks={'time': 1},\n",
    "            **query\n",
    "        ).persist()\n",
    "        \n",
    "        # Update the progress bar after each step\n",
    "        pbar.update(1)  # Adjust the value if multiple steps are combined into one\n",
    "\n",
    "        # Simulate further steps if necessary\n",
    "        for _ in range(total_steps - 1):\n",
    "            time.sleep(0.1)  # Simulate a step taking time\n",
    "            pbar.update(1)\n",
    "\n",
    "    pbar.close()  # Close the progress bar to remove it from the output\n",
    "    print(\"DEA Land Cover data loaded successfully.\")\n",
    "except Exception as e:\n",
    "    print(f\"Error loading DEA Land Cover data: {e}\")\n",
    "finally:\n",
    "    # Stop the spinner\n",
    "    done = True\n",
    "    spinner_thread.join()\n",
    "\n",
    "# Remove the spinner\n",
    "box.close()\n",
    "\n",
    "# Step 4: Check if the dataset is loaded correctly\n",
    "if 'lc' not in locals() or lc is None or lc.geobox is None:\n",
    "    raise ValueError(\"Failed to load the dataset. Please check the query parameters and ensure data is available for the specified region and time range.\")   \n",
    "\n",
    "# Step 5: Print geobox information\n",
    "geobox = lc.geobox\n",
    "\n",
    "geobox_info = f\"\"\"\n",
    "Geobox Information:\n",
    "-------------------\n",
    "CRS: {geobox.crs}\n",
    "Dimensions: {geobox.dimensions}\n",
    "Resolution: {geobox.resolution}\n",
    "Shape: {geobox.shape}\n",
    "Extent: {geobox.extent}\n",
    "\"\"\"\n",
    "\n",
    "print(geobox_info)\n",
    "\n",
    "# Step 6: Check loaded data dimensions and variables\n",
    "print(\"Loaded data dimensions:\", lc.dims)\n",
    "print(\"Loaded data variables:\", lc.data_vars)\n",
    "\n",
    "# Free up memory if necessary\n",
    "_ = gc.collect()  # Suppress the output by assigning it to a variable\n"
   ]
  },
  {
   "cell_type": "code",
   "execution_count": 6,
   "id": "819e1369-ba4e-474e-a3ca-bc41bab53c2d",
   "metadata": {
    "tags": []
   },
   "outputs": [],
   "source": [
    "# Get colour map for image\n",
    "#cmap, norm = lc_colourmap('level3_change_colour_scheme')"
   ]
  },
  {
   "cell_type": "markdown",
   "id": "c50b514c-6a4e-4ee2-8342-0c86faf75078",
   "metadata": {
    "tags": []
   },
   "source": [
    "You can view each of these layers using the  `plot_land_cover()` function.\n",
    "\n",
    "** Note:  You can run one, several or all of these to view the appropriate product."
   ]
  },
  {
   "cell_type": "code",
   "execution_count": 7,
   "id": "c757671e-602e-4ccb-84f0-45ae28201d2b",
   "metadata": {
    "tags": []
   },
   "outputs": [
    {
     "data": {
      "application/vnd.jupyter.widget-view+json": {
       "model_id": "d03101347f4046de89b9b05c40b8a4b2",
       "version_major": 2,
       "version_minor": 0
      },
      "text/plain": [
       "HBox(children=(Checkbox(value=False, description='Level 3'), Checkbox(value=False, description='Lifeform'), Ch…"
      ]
     },
     "metadata": {},
     "output_type": "display_data"
    },
    {
     "data": {
      "application/vnd.jupyter.widget-view+json": {
       "model_id": "72f03b97a7cd49fda6813bae60aba643",
       "version_major": 2,
       "version_minor": 0
      },
      "text/plain": [
       "Button(description='Plot Selected Data', style=ButtonStyle())"
      ]
     },
     "metadata": {},
     "output_type": "display_data"
    },
    {
     "data": {
      "application/vnd.jupyter.widget-view+json": {
       "model_id": "8f9597aa8fca46d29cec7883594dd6a4",
       "version_major": 2,
       "version_minor": 0
      },
      "text/plain": [
       "Output()"
      ]
     },
     "metadata": {},
     "output_type": "display_data"
    }
   ],
   "source": [
    "# Section 6: Checkbox widgets for selecting datasets\n",
    "level3_checkbox = widgets.Checkbox(description='Level 3', value=False)\n",
    "lifeform_checkbox = widgets.Checkbox(description='Lifeform', value=False)\n",
    "vegetation_cover_checkbox = widgets.Checkbox(description='Vegetation Cover', value=False)\n",
    "water_state_checkbox = widgets.Checkbox(description='Water State', value=False)\n",
    "water_persistence_checkbox = widgets.Checkbox(description='Water Persistence', value=False)\n",
    "full_classification_checkbox = widgets.Checkbox(description='Full Classification', value=False)\n",
    "item_checkbox = widgets.Checkbox(description='Intertidal Elevation', value=False)\n",
    "\n",
    "output = widgets.Output()\n",
    "\n",
    "def plot_selected_datasets():\n",
    "    with output:\n",
    "        output.clear_output()\n",
    "        selected_datasets = []\n",
    "        if level3_checkbox.value:\n",
    "            selected_datasets.append('level3')\n",
    "        if lifeform_checkbox.value:\n",
    "            selected_datasets.append('lifeform')\n",
    "        if vegetation_cover_checkbox.value:\n",
    "            selected_datasets.append('vegetation_cover')\n",
    "        if water_state_checkbox.value:\n",
    "            selected_datasets.append('water_state')\n",
    "        if water_persistence_checkbox.value:\n",
    "            selected_datasets.append('water_persistence')            \n",
    "        if full_classification_checkbox.value:\n",
    "            selected_datasets.append('full_classification')\n",
    "\n",
    "        for dataset in selected_datasets:\n",
    "            plt.figure()\n",
    "            if dataset == 'level3':\n",
    "                plot_land_cover(lc.level3)\n",
    "            elif dataset == 'lifeform':\n",
    "                plot_land_cover(lc.lifeform)\n",
    "            elif dataset == 'vegetation_cover':\n",
    "                plot_land_cover(lc.vegetation_cover)\n",
    "            elif dataset == 'water_state':\n",
    "                plot_land_cover(lc.water_state)\n",
    "            elif dataset == 'water_persistence':\n",
    "                plot_land_cover(lc.water_persistence)\n",
    "            elif dataset == 'full_classification':\n",
    "                plot_land_cover(lc.full_classification)\n",
    "            plt.show()\n",
    "\n",
    "plot_datasets_button = widgets.Button(description='Plot Selected Data')\n",
    "plot_datasets_button.on_click(lambda b: plot_selected_datasets())\n",
    "\n",
    "checkboxes_box = widgets.HBox([\n",
    "    level3_checkbox, \n",
    "    lifeform_checkbox, \n",
    "    vegetation_cover_checkbox, \n",
    "    water_state_checkbox, \n",
    "    water_persistence_checkbox, \n",
    "    full_classification_checkbox,\n",
    "])\n",
    "display(checkboxes_box)\n",
    "display(plot_datasets_button)\n",
    "display(output)"
   ]
  },
  {
   "cell_type": "code",
   "execution_count": 15,
   "id": "7efdcfa6-7383-4e4e-a040-16fc212fab13",
   "metadata": {},
   "outputs": [],
   "source": [
    "HCAS31_AHC_2010_2012 = \"./uploads/HCAS/HCAS31_AHC_2010_2012_Sub.tif\""
   ]
  },
  {
   "cell_type": "code",
   "execution_count": 16,
   "id": "e66d6e55-a2ce-48d7-bd4c-9d051f1ecf75",
   "metadata": {},
   "outputs": [],
   "source": [
    "HCAS31_AHC_2011_2013 = \"./uploads/HCAS/HCAS31_AHC_2011_2013_Sub.tif\""
   ]
  },
  {
   "cell_type": "code",
   "execution_count": 17,
   "id": "8b3e616f-c734-496d-b736-ee991b5b0e0a",
   "metadata": {},
   "outputs": [],
   "source": [
    "HCAS31_AHC_2015_2017 = \"./uploads/HCAS/HCAS31_AHC_2015_2017_Sub.tif\""
   ]
  },
  {
   "cell_type": "code",
   "execution_count": 18,
   "id": "bf086a05-5eb0-4939-8c54-ea4275516cfb",
   "metadata": {},
   "outputs": [],
   "source": [
    "HCAS31_AHC_2016_2018 = \"./uploads/HCAS/HCAS31_AHC_2016_2018_Sub.tif\""
   ]
  },
  {
   "cell_type": "code",
   "execution_count": 19,
   "id": "4dc28d7e-11a8-4c9c-a9c5-da58d6862fc0",
   "metadata": {},
   "outputs": [],
   "source": [
    "HCAS31_AHC_2017_2019 = \"./uploads/HCAS/HCAS31_AHC_2017_2019_Sub.tif\""
   ]
  },
  {
   "cell_type": "code",
   "execution_count": 20,
   "id": "06f1bc24-559c-4120-bb44-4542b317fe73",
   "metadata": {},
   "outputs": [],
   "source": [
    "AusEcoPre1750 = \"./uploads/AECO/AusEco_NVIS_Pre1750_100m.tif\""
   ]
  },
  {
   "cell_type": "code",
   "execution_count": 21,
   "id": "14ddf1f2-29b1-49b3-a67c-aa36006484d0",
   "metadata": {},
   "outputs": [
    {
     "ename": "RasterioIOError",
     "evalue": "./uploads/HCAS/HCAS31_AHC_2010_2012_Sub.tif: No such file or directory",
     "output_type": "error",
     "traceback": [
      "\u001b[0;31m---------------------------------------------------------------------------\u001b[0m",
      "\u001b[0;31mCPLE_OpenFailedError\u001b[0m                      Traceback (most recent call last)",
      "File \u001b[0;32mrasterio/_base.pyx:310\u001b[0m, in \u001b[0;36mrasterio._base.DatasetBase.__init__\u001b[0;34m()\u001b[0m\n",
      "File \u001b[0;32mrasterio/_base.pyx:221\u001b[0m, in \u001b[0;36mrasterio._base.open_dataset\u001b[0;34m()\u001b[0m\n",
      "File \u001b[0;32mrasterio/_err.pyx:359\u001b[0m, in \u001b[0;36mrasterio._err.exc_wrap_pointer\u001b[0;34m()\u001b[0m\n",
      "\u001b[0;31mCPLE_OpenFailedError\u001b[0m: ./uploads/HCAS/HCAS31_AHC_2010_2012_Sub.tif: No such file or directory",
      "\nDuring handling of the above exception, another exception occurred:\n",
      "\u001b[0;31mRasterioIOError\u001b[0m                           Traceback (most recent call last)",
      "Cell \u001b[0;32mIn[21], line 1\u001b[0m\n\u001b[0;32m----> 1\u001b[0m HCAS31_AHC_2010_2012_prj \u001b[38;5;241m=\u001b[39m \u001b[43mrio_slurp_xarray\u001b[49m\u001b[43m(\u001b[49m\u001b[43mHCAS31_AHC_2010_2012\u001b[49m\u001b[43m,\u001b[49m\n\u001b[1;32m      2\u001b[0m \u001b[43m                                      \u001b[49m\u001b[43mlc\u001b[49m\u001b[38;5;241;43m.\u001b[39;49m\u001b[43mgeobox\u001b[49m\u001b[43m,\u001b[49m\n\u001b[1;32m      3\u001b[0m \u001b[43m                                      \u001b[49m\u001b[43mresampling\u001b[49m\u001b[38;5;241;43m=\u001b[39;49m\u001b[38;5;124;43m\"\u001b[39;49m\u001b[38;5;124;43mnearest\u001b[39;49m\u001b[38;5;124;43m\"\u001b[39;49m\u001b[43m)\u001b[49m\n",
      "File \u001b[0;32m/env/lib/python3.10/site-packages/datacube/testutils/io.py:388\u001b[0m, in \u001b[0;36mrio_slurp_xarray\u001b[0;34m(fname, rgb, *args, **kw)\u001b[0m\n\u001b[1;32m    386\u001b[0m \u001b[38;5;28;01melse\u001b[39;00m:\n\u001b[1;32m    387\u001b[0m     \u001b[38;5;28;01mif\u001b[39;00m \u001b[38;5;28misinstance\u001b[39m(args[\u001b[38;5;241m0\u001b[39m], GeoBox):\n\u001b[0;32m--> 388\u001b[0m         im, mm \u001b[38;5;241m=\u001b[39m \u001b[43mrio_slurp_reproject\u001b[49m\u001b[43m(\u001b[49m\u001b[43mfname\u001b[49m\u001b[43m,\u001b[49m\u001b[43m \u001b[49m\u001b[38;5;241;43m*\u001b[39;49m\u001b[43margs\u001b[49m\u001b[43m,\u001b[49m\u001b[43m \u001b[49m\u001b[38;5;241;43m*\u001b[39;49m\u001b[38;5;241;43m*\u001b[39;49m\u001b[43mkw\u001b[49m\u001b[43m)\u001b[49m\n\u001b[1;32m    389\u001b[0m     \u001b[38;5;28;01melse\u001b[39;00m:\n\u001b[1;32m    390\u001b[0m         im, mm \u001b[38;5;241m=\u001b[39m rio_slurp_read(fname, \u001b[38;5;241m*\u001b[39margs, \u001b[38;5;241m*\u001b[39m\u001b[38;5;241m*\u001b[39mkw)\n",
      "File \u001b[0;32m/env/lib/python3.10/site-packages/datacube/testutils/io.py:292\u001b[0m, in \u001b[0;36mrio_slurp_reproject\u001b[0;34m(fname, gbox, dtype, dst_nodata, **kw)\u001b[0m\n\u001b[1;32m    288\u001b[0m \u001b[38;5;28;01mfrom\u001b[39;00m \u001b[38;5;21;01mrasterio\u001b[39;00m\u001b[38;5;21;01m.\u001b[39;00m\u001b[38;5;21;01mwarp\u001b[39;00m \u001b[38;5;28;01mimport\u001b[39;00m reproject\n\u001b[1;32m    290\u001b[0m _fix_resampling(kw)\n\u001b[0;32m--> 292\u001b[0m \u001b[38;5;28;01mwith\u001b[39;00m \u001b[43mrasterio\u001b[49m\u001b[38;5;241;43m.\u001b[39;49m\u001b[43mopen\u001b[49m\u001b[43m(\u001b[49m\u001b[38;5;28;43mstr\u001b[39;49m\u001b[43m(\u001b[49m\u001b[43mfname\u001b[49m\u001b[43m)\u001b[49m\u001b[43m,\u001b[49m\u001b[43m \u001b[49m\u001b[38;5;124;43m'\u001b[39;49m\u001b[38;5;124;43mr\u001b[39;49m\u001b[38;5;124;43m'\u001b[39;49m\u001b[43m)\u001b[49m \u001b[38;5;28;01mas\u001b[39;00m src:\n\u001b[1;32m    293\u001b[0m     \u001b[38;5;28;01mif\u001b[39;00m src\u001b[38;5;241m.\u001b[39mcount \u001b[38;5;241m==\u001b[39m \u001b[38;5;241m1\u001b[39m:\n\u001b[1;32m    294\u001b[0m         shape \u001b[38;5;241m=\u001b[39m gbox\u001b[38;5;241m.\u001b[39mshape\n",
      "File \u001b[0;32m/env/lib/python3.10/site-packages/rasterio/env.py:463\u001b[0m, in \u001b[0;36mensure_env_with_credentials.<locals>.wrapper\u001b[0;34m(*args, **kwds)\u001b[0m\n\u001b[1;32m    460\u001b[0m     session \u001b[38;5;241m=\u001b[39m DummySession()\n\u001b[1;32m    462\u001b[0m \u001b[38;5;28;01mwith\u001b[39;00m env_ctor(session\u001b[38;5;241m=\u001b[39msession):\n\u001b[0;32m--> 463\u001b[0m     \u001b[38;5;28;01mreturn\u001b[39;00m \u001b[43mf\u001b[49m\u001b[43m(\u001b[49m\u001b[38;5;241;43m*\u001b[39;49m\u001b[43margs\u001b[49m\u001b[43m,\u001b[49m\u001b[43m \u001b[49m\u001b[38;5;241;43m*\u001b[39;49m\u001b[38;5;241;43m*\u001b[39;49m\u001b[43mkwds\u001b[49m\u001b[43m)\u001b[49m\n",
      "File \u001b[0;32m/env/lib/python3.10/site-packages/rasterio/__init__.py:355\u001b[0m, in \u001b[0;36mopen\u001b[0;34m(fp, mode, driver, width, height, count, crs, transform, dtype, nodata, sharing, opener, **kwargs)\u001b[0m\n\u001b[1;32m    352\u001b[0m     path \u001b[38;5;241m=\u001b[39m _parse_path(raw_dataset_path)\n\u001b[1;32m    354\u001b[0m \u001b[38;5;28;01mif\u001b[39;00m mode \u001b[38;5;241m==\u001b[39m \u001b[38;5;124m\"\u001b[39m\u001b[38;5;124mr\u001b[39m\u001b[38;5;124m\"\u001b[39m:\n\u001b[0;32m--> 355\u001b[0m     dataset \u001b[38;5;241m=\u001b[39m \u001b[43mDatasetReader\u001b[49m\u001b[43m(\u001b[49m\u001b[43mpath\u001b[49m\u001b[43m,\u001b[49m\u001b[43m \u001b[49m\u001b[43mdriver\u001b[49m\u001b[38;5;241;43m=\u001b[39;49m\u001b[43mdriver\u001b[49m\u001b[43m,\u001b[49m\u001b[43m \u001b[49m\u001b[43msharing\u001b[49m\u001b[38;5;241;43m=\u001b[39;49m\u001b[43msharing\u001b[49m\u001b[43m,\u001b[49m\u001b[43m \u001b[49m\u001b[38;5;241;43m*\u001b[39;49m\u001b[38;5;241;43m*\u001b[39;49m\u001b[43mkwargs\u001b[49m\u001b[43m)\u001b[49m\n\u001b[1;32m    356\u001b[0m \u001b[38;5;28;01melif\u001b[39;00m mode \u001b[38;5;241m==\u001b[39m \u001b[38;5;124m\"\u001b[39m\u001b[38;5;124mr+\u001b[39m\u001b[38;5;124m\"\u001b[39m:\n\u001b[1;32m    357\u001b[0m     dataset \u001b[38;5;241m=\u001b[39m get_writer_for_path(path, driver\u001b[38;5;241m=\u001b[39mdriver)(\n\u001b[1;32m    358\u001b[0m         path, mode, driver\u001b[38;5;241m=\u001b[39mdriver, sharing\u001b[38;5;241m=\u001b[39msharing, \u001b[38;5;241m*\u001b[39m\u001b[38;5;241m*\u001b[39mkwargs\n\u001b[1;32m    359\u001b[0m     )\n",
      "File \u001b[0;32mrasterio/_base.pyx:312\u001b[0m, in \u001b[0;36mrasterio._base.DatasetBase.__init__\u001b[0;34m()\u001b[0m\n",
      "\u001b[0;31mRasterioIOError\u001b[0m: ./uploads/HCAS/HCAS31_AHC_2010_2012_Sub.tif: No such file or directory"
     ]
    }
   ],
   "source": [
    "HCAS31_AHC_2010_2012_prj = rio_slurp_xarray(HCAS31_AHC_2010_2012,\n",
    "                                      lc.geobox,\n",
    "                                      resampling=\"nearest\")"
   ]
  },
  {
   "cell_type": "code",
   "execution_count": 22,
   "id": "c3963d8c-8568-472e-828a-859ce3e326b5",
   "metadata": {},
   "outputs": [
    {
     "ename": "RasterioIOError",
     "evalue": "./uploads/HCAS/HCAS31_AHC_2011_2013_Sub.tif: No such file or directory",
     "output_type": "error",
     "traceback": [
      "\u001b[0;31m---------------------------------------------------------------------------\u001b[0m",
      "\u001b[0;31mCPLE_OpenFailedError\u001b[0m                      Traceback (most recent call last)",
      "File \u001b[0;32mrasterio/_base.pyx:310\u001b[0m, in \u001b[0;36mrasterio._base.DatasetBase.__init__\u001b[0;34m()\u001b[0m\n",
      "File \u001b[0;32mrasterio/_base.pyx:221\u001b[0m, in \u001b[0;36mrasterio._base.open_dataset\u001b[0;34m()\u001b[0m\n",
      "File \u001b[0;32mrasterio/_err.pyx:359\u001b[0m, in \u001b[0;36mrasterio._err.exc_wrap_pointer\u001b[0;34m()\u001b[0m\n",
      "\u001b[0;31mCPLE_OpenFailedError\u001b[0m: ./uploads/HCAS/HCAS31_AHC_2011_2013_Sub.tif: No such file or directory",
      "\nDuring handling of the above exception, another exception occurred:\n",
      "\u001b[0;31mRasterioIOError\u001b[0m                           Traceback (most recent call last)",
      "Cell \u001b[0;32mIn[22], line 1\u001b[0m\n\u001b[0;32m----> 1\u001b[0m HCAS31_AHC_2011_2013_prj \u001b[38;5;241m=\u001b[39m \u001b[43mrio_slurp_xarray\u001b[49m\u001b[43m(\u001b[49m\u001b[43mHCAS31_AHC_2011_2013\u001b[49m\u001b[43m,\u001b[49m\n\u001b[1;32m      2\u001b[0m \u001b[43m                                      \u001b[49m\u001b[43mlc\u001b[49m\u001b[38;5;241;43m.\u001b[39;49m\u001b[43mgeobox\u001b[49m\u001b[43m,\u001b[49m\n\u001b[1;32m      3\u001b[0m \u001b[43m                                      \u001b[49m\u001b[43mresampling\u001b[49m\u001b[38;5;241;43m=\u001b[39;49m\u001b[38;5;124;43m\"\u001b[39;49m\u001b[38;5;124;43mnearest\u001b[39;49m\u001b[38;5;124;43m\"\u001b[39;49m\u001b[43m)\u001b[49m\n",
      "File \u001b[0;32m/env/lib/python3.10/site-packages/datacube/testutils/io.py:388\u001b[0m, in \u001b[0;36mrio_slurp_xarray\u001b[0;34m(fname, rgb, *args, **kw)\u001b[0m\n\u001b[1;32m    386\u001b[0m \u001b[38;5;28;01melse\u001b[39;00m:\n\u001b[1;32m    387\u001b[0m     \u001b[38;5;28;01mif\u001b[39;00m \u001b[38;5;28misinstance\u001b[39m(args[\u001b[38;5;241m0\u001b[39m], GeoBox):\n\u001b[0;32m--> 388\u001b[0m         im, mm \u001b[38;5;241m=\u001b[39m \u001b[43mrio_slurp_reproject\u001b[49m\u001b[43m(\u001b[49m\u001b[43mfname\u001b[49m\u001b[43m,\u001b[49m\u001b[43m \u001b[49m\u001b[38;5;241;43m*\u001b[39;49m\u001b[43margs\u001b[49m\u001b[43m,\u001b[49m\u001b[43m \u001b[49m\u001b[38;5;241;43m*\u001b[39;49m\u001b[38;5;241;43m*\u001b[39;49m\u001b[43mkw\u001b[49m\u001b[43m)\u001b[49m\n\u001b[1;32m    389\u001b[0m     \u001b[38;5;28;01melse\u001b[39;00m:\n\u001b[1;32m    390\u001b[0m         im, mm \u001b[38;5;241m=\u001b[39m rio_slurp_read(fname, \u001b[38;5;241m*\u001b[39margs, \u001b[38;5;241m*\u001b[39m\u001b[38;5;241m*\u001b[39mkw)\n",
      "File \u001b[0;32m/env/lib/python3.10/site-packages/datacube/testutils/io.py:292\u001b[0m, in \u001b[0;36mrio_slurp_reproject\u001b[0;34m(fname, gbox, dtype, dst_nodata, **kw)\u001b[0m\n\u001b[1;32m    288\u001b[0m \u001b[38;5;28;01mfrom\u001b[39;00m \u001b[38;5;21;01mrasterio\u001b[39;00m\u001b[38;5;21;01m.\u001b[39;00m\u001b[38;5;21;01mwarp\u001b[39;00m \u001b[38;5;28;01mimport\u001b[39;00m reproject\n\u001b[1;32m    290\u001b[0m _fix_resampling(kw)\n\u001b[0;32m--> 292\u001b[0m \u001b[38;5;28;01mwith\u001b[39;00m \u001b[43mrasterio\u001b[49m\u001b[38;5;241;43m.\u001b[39;49m\u001b[43mopen\u001b[49m\u001b[43m(\u001b[49m\u001b[38;5;28;43mstr\u001b[39;49m\u001b[43m(\u001b[49m\u001b[43mfname\u001b[49m\u001b[43m)\u001b[49m\u001b[43m,\u001b[49m\u001b[43m \u001b[49m\u001b[38;5;124;43m'\u001b[39;49m\u001b[38;5;124;43mr\u001b[39;49m\u001b[38;5;124;43m'\u001b[39;49m\u001b[43m)\u001b[49m \u001b[38;5;28;01mas\u001b[39;00m src:\n\u001b[1;32m    293\u001b[0m     \u001b[38;5;28;01mif\u001b[39;00m src\u001b[38;5;241m.\u001b[39mcount \u001b[38;5;241m==\u001b[39m \u001b[38;5;241m1\u001b[39m:\n\u001b[1;32m    294\u001b[0m         shape \u001b[38;5;241m=\u001b[39m gbox\u001b[38;5;241m.\u001b[39mshape\n",
      "File \u001b[0;32m/env/lib/python3.10/site-packages/rasterio/env.py:463\u001b[0m, in \u001b[0;36mensure_env_with_credentials.<locals>.wrapper\u001b[0;34m(*args, **kwds)\u001b[0m\n\u001b[1;32m    460\u001b[0m     session \u001b[38;5;241m=\u001b[39m DummySession()\n\u001b[1;32m    462\u001b[0m \u001b[38;5;28;01mwith\u001b[39;00m env_ctor(session\u001b[38;5;241m=\u001b[39msession):\n\u001b[0;32m--> 463\u001b[0m     \u001b[38;5;28;01mreturn\u001b[39;00m \u001b[43mf\u001b[49m\u001b[43m(\u001b[49m\u001b[38;5;241;43m*\u001b[39;49m\u001b[43margs\u001b[49m\u001b[43m,\u001b[49m\u001b[43m \u001b[49m\u001b[38;5;241;43m*\u001b[39;49m\u001b[38;5;241;43m*\u001b[39;49m\u001b[43mkwds\u001b[49m\u001b[43m)\u001b[49m\n",
      "File \u001b[0;32m/env/lib/python3.10/site-packages/rasterio/__init__.py:355\u001b[0m, in \u001b[0;36mopen\u001b[0;34m(fp, mode, driver, width, height, count, crs, transform, dtype, nodata, sharing, opener, **kwargs)\u001b[0m\n\u001b[1;32m    352\u001b[0m     path \u001b[38;5;241m=\u001b[39m _parse_path(raw_dataset_path)\n\u001b[1;32m    354\u001b[0m \u001b[38;5;28;01mif\u001b[39;00m mode \u001b[38;5;241m==\u001b[39m \u001b[38;5;124m\"\u001b[39m\u001b[38;5;124mr\u001b[39m\u001b[38;5;124m\"\u001b[39m:\n\u001b[0;32m--> 355\u001b[0m     dataset \u001b[38;5;241m=\u001b[39m \u001b[43mDatasetReader\u001b[49m\u001b[43m(\u001b[49m\u001b[43mpath\u001b[49m\u001b[43m,\u001b[49m\u001b[43m \u001b[49m\u001b[43mdriver\u001b[49m\u001b[38;5;241;43m=\u001b[39;49m\u001b[43mdriver\u001b[49m\u001b[43m,\u001b[49m\u001b[43m \u001b[49m\u001b[43msharing\u001b[49m\u001b[38;5;241;43m=\u001b[39;49m\u001b[43msharing\u001b[49m\u001b[43m,\u001b[49m\u001b[43m \u001b[49m\u001b[38;5;241;43m*\u001b[39;49m\u001b[38;5;241;43m*\u001b[39;49m\u001b[43mkwargs\u001b[49m\u001b[43m)\u001b[49m\n\u001b[1;32m    356\u001b[0m \u001b[38;5;28;01melif\u001b[39;00m mode \u001b[38;5;241m==\u001b[39m \u001b[38;5;124m\"\u001b[39m\u001b[38;5;124mr+\u001b[39m\u001b[38;5;124m\"\u001b[39m:\n\u001b[1;32m    357\u001b[0m     dataset \u001b[38;5;241m=\u001b[39m get_writer_for_path(path, driver\u001b[38;5;241m=\u001b[39mdriver)(\n\u001b[1;32m    358\u001b[0m         path, mode, driver\u001b[38;5;241m=\u001b[39mdriver, sharing\u001b[38;5;241m=\u001b[39msharing, \u001b[38;5;241m*\u001b[39m\u001b[38;5;241m*\u001b[39mkwargs\n\u001b[1;32m    359\u001b[0m     )\n",
      "File \u001b[0;32mrasterio/_base.pyx:312\u001b[0m, in \u001b[0;36mrasterio._base.DatasetBase.__init__\u001b[0;34m()\u001b[0m\n",
      "\u001b[0;31mRasterioIOError\u001b[0m: ./uploads/HCAS/HCAS31_AHC_2011_2013_Sub.tif: No such file or directory"
     ]
    }
   ],
   "source": [
    "HCAS31_AHC_2011_2013_prj = rio_slurp_xarray(HCAS31_AHC_2011_2013,\n",
    "                                      lc.geobox,\n",
    "                                      resampling=\"nearest\")"
   ]
  },
  {
   "cell_type": "code",
   "execution_count": 23,
   "id": "2d30a34e-c22c-4881-8775-b15d4a99098c",
   "metadata": {},
   "outputs": [
    {
     "ename": "RasterioIOError",
     "evalue": "./uploads/HCAS/HCAS31_AHC_2015_2017_Sub.tif: No such file or directory",
     "output_type": "error",
     "traceback": [
      "\u001b[0;31m---------------------------------------------------------------------------\u001b[0m",
      "\u001b[0;31mCPLE_OpenFailedError\u001b[0m                      Traceback (most recent call last)",
      "File \u001b[0;32mrasterio/_base.pyx:310\u001b[0m, in \u001b[0;36mrasterio._base.DatasetBase.__init__\u001b[0;34m()\u001b[0m\n",
      "File \u001b[0;32mrasterio/_base.pyx:221\u001b[0m, in \u001b[0;36mrasterio._base.open_dataset\u001b[0;34m()\u001b[0m\n",
      "File \u001b[0;32mrasterio/_err.pyx:359\u001b[0m, in \u001b[0;36mrasterio._err.exc_wrap_pointer\u001b[0;34m()\u001b[0m\n",
      "\u001b[0;31mCPLE_OpenFailedError\u001b[0m: ./uploads/HCAS/HCAS31_AHC_2015_2017_Sub.tif: No such file or directory",
      "\nDuring handling of the above exception, another exception occurred:\n",
      "\u001b[0;31mRasterioIOError\u001b[0m                           Traceback (most recent call last)",
      "Cell \u001b[0;32mIn[23], line 1\u001b[0m\n\u001b[0;32m----> 1\u001b[0m HCAS31_AHC_2015_2017_prj \u001b[38;5;241m=\u001b[39m \u001b[43mrio_slurp_xarray\u001b[49m\u001b[43m(\u001b[49m\u001b[43mHCAS31_AHC_2015_2017\u001b[49m\u001b[43m,\u001b[49m\n\u001b[1;32m      2\u001b[0m \u001b[43m                                      \u001b[49m\u001b[43mlc\u001b[49m\u001b[38;5;241;43m.\u001b[39;49m\u001b[43mgeobox\u001b[49m\u001b[43m,\u001b[49m\n\u001b[1;32m      3\u001b[0m \u001b[43m                                      \u001b[49m\u001b[43mresampling\u001b[49m\u001b[38;5;241;43m=\u001b[39;49m\u001b[38;5;124;43m\"\u001b[39;49m\u001b[38;5;124;43mnearest\u001b[39;49m\u001b[38;5;124;43m\"\u001b[39;49m\u001b[43m)\u001b[49m\n",
      "File \u001b[0;32m/env/lib/python3.10/site-packages/datacube/testutils/io.py:388\u001b[0m, in \u001b[0;36mrio_slurp_xarray\u001b[0;34m(fname, rgb, *args, **kw)\u001b[0m\n\u001b[1;32m    386\u001b[0m \u001b[38;5;28;01melse\u001b[39;00m:\n\u001b[1;32m    387\u001b[0m     \u001b[38;5;28;01mif\u001b[39;00m \u001b[38;5;28misinstance\u001b[39m(args[\u001b[38;5;241m0\u001b[39m], GeoBox):\n\u001b[0;32m--> 388\u001b[0m         im, mm \u001b[38;5;241m=\u001b[39m \u001b[43mrio_slurp_reproject\u001b[49m\u001b[43m(\u001b[49m\u001b[43mfname\u001b[49m\u001b[43m,\u001b[49m\u001b[43m \u001b[49m\u001b[38;5;241;43m*\u001b[39;49m\u001b[43margs\u001b[49m\u001b[43m,\u001b[49m\u001b[43m \u001b[49m\u001b[38;5;241;43m*\u001b[39;49m\u001b[38;5;241;43m*\u001b[39;49m\u001b[43mkw\u001b[49m\u001b[43m)\u001b[49m\n\u001b[1;32m    389\u001b[0m     \u001b[38;5;28;01melse\u001b[39;00m:\n\u001b[1;32m    390\u001b[0m         im, mm \u001b[38;5;241m=\u001b[39m rio_slurp_read(fname, \u001b[38;5;241m*\u001b[39margs, \u001b[38;5;241m*\u001b[39m\u001b[38;5;241m*\u001b[39mkw)\n",
      "File \u001b[0;32m/env/lib/python3.10/site-packages/datacube/testutils/io.py:292\u001b[0m, in \u001b[0;36mrio_slurp_reproject\u001b[0;34m(fname, gbox, dtype, dst_nodata, **kw)\u001b[0m\n\u001b[1;32m    288\u001b[0m \u001b[38;5;28;01mfrom\u001b[39;00m \u001b[38;5;21;01mrasterio\u001b[39;00m\u001b[38;5;21;01m.\u001b[39;00m\u001b[38;5;21;01mwarp\u001b[39;00m \u001b[38;5;28;01mimport\u001b[39;00m reproject\n\u001b[1;32m    290\u001b[0m _fix_resampling(kw)\n\u001b[0;32m--> 292\u001b[0m \u001b[38;5;28;01mwith\u001b[39;00m \u001b[43mrasterio\u001b[49m\u001b[38;5;241;43m.\u001b[39;49m\u001b[43mopen\u001b[49m\u001b[43m(\u001b[49m\u001b[38;5;28;43mstr\u001b[39;49m\u001b[43m(\u001b[49m\u001b[43mfname\u001b[49m\u001b[43m)\u001b[49m\u001b[43m,\u001b[49m\u001b[43m \u001b[49m\u001b[38;5;124;43m'\u001b[39;49m\u001b[38;5;124;43mr\u001b[39;49m\u001b[38;5;124;43m'\u001b[39;49m\u001b[43m)\u001b[49m \u001b[38;5;28;01mas\u001b[39;00m src:\n\u001b[1;32m    293\u001b[0m     \u001b[38;5;28;01mif\u001b[39;00m src\u001b[38;5;241m.\u001b[39mcount \u001b[38;5;241m==\u001b[39m \u001b[38;5;241m1\u001b[39m:\n\u001b[1;32m    294\u001b[0m         shape \u001b[38;5;241m=\u001b[39m gbox\u001b[38;5;241m.\u001b[39mshape\n",
      "File \u001b[0;32m/env/lib/python3.10/site-packages/rasterio/env.py:463\u001b[0m, in \u001b[0;36mensure_env_with_credentials.<locals>.wrapper\u001b[0;34m(*args, **kwds)\u001b[0m\n\u001b[1;32m    460\u001b[0m     session \u001b[38;5;241m=\u001b[39m DummySession()\n\u001b[1;32m    462\u001b[0m \u001b[38;5;28;01mwith\u001b[39;00m env_ctor(session\u001b[38;5;241m=\u001b[39msession):\n\u001b[0;32m--> 463\u001b[0m     \u001b[38;5;28;01mreturn\u001b[39;00m \u001b[43mf\u001b[49m\u001b[43m(\u001b[49m\u001b[38;5;241;43m*\u001b[39;49m\u001b[43margs\u001b[49m\u001b[43m,\u001b[49m\u001b[43m \u001b[49m\u001b[38;5;241;43m*\u001b[39;49m\u001b[38;5;241;43m*\u001b[39;49m\u001b[43mkwds\u001b[49m\u001b[43m)\u001b[49m\n",
      "File \u001b[0;32m/env/lib/python3.10/site-packages/rasterio/__init__.py:355\u001b[0m, in \u001b[0;36mopen\u001b[0;34m(fp, mode, driver, width, height, count, crs, transform, dtype, nodata, sharing, opener, **kwargs)\u001b[0m\n\u001b[1;32m    352\u001b[0m     path \u001b[38;5;241m=\u001b[39m _parse_path(raw_dataset_path)\n\u001b[1;32m    354\u001b[0m \u001b[38;5;28;01mif\u001b[39;00m mode \u001b[38;5;241m==\u001b[39m \u001b[38;5;124m\"\u001b[39m\u001b[38;5;124mr\u001b[39m\u001b[38;5;124m\"\u001b[39m:\n\u001b[0;32m--> 355\u001b[0m     dataset \u001b[38;5;241m=\u001b[39m \u001b[43mDatasetReader\u001b[49m\u001b[43m(\u001b[49m\u001b[43mpath\u001b[49m\u001b[43m,\u001b[49m\u001b[43m \u001b[49m\u001b[43mdriver\u001b[49m\u001b[38;5;241;43m=\u001b[39;49m\u001b[43mdriver\u001b[49m\u001b[43m,\u001b[49m\u001b[43m \u001b[49m\u001b[43msharing\u001b[49m\u001b[38;5;241;43m=\u001b[39;49m\u001b[43msharing\u001b[49m\u001b[43m,\u001b[49m\u001b[43m \u001b[49m\u001b[38;5;241;43m*\u001b[39;49m\u001b[38;5;241;43m*\u001b[39;49m\u001b[43mkwargs\u001b[49m\u001b[43m)\u001b[49m\n\u001b[1;32m    356\u001b[0m \u001b[38;5;28;01melif\u001b[39;00m mode \u001b[38;5;241m==\u001b[39m \u001b[38;5;124m\"\u001b[39m\u001b[38;5;124mr+\u001b[39m\u001b[38;5;124m\"\u001b[39m:\n\u001b[1;32m    357\u001b[0m     dataset \u001b[38;5;241m=\u001b[39m get_writer_for_path(path, driver\u001b[38;5;241m=\u001b[39mdriver)(\n\u001b[1;32m    358\u001b[0m         path, mode, driver\u001b[38;5;241m=\u001b[39mdriver, sharing\u001b[38;5;241m=\u001b[39msharing, \u001b[38;5;241m*\u001b[39m\u001b[38;5;241m*\u001b[39mkwargs\n\u001b[1;32m    359\u001b[0m     )\n",
      "File \u001b[0;32mrasterio/_base.pyx:312\u001b[0m, in \u001b[0;36mrasterio._base.DatasetBase.__init__\u001b[0;34m()\u001b[0m\n",
      "\u001b[0;31mRasterioIOError\u001b[0m: ./uploads/HCAS/HCAS31_AHC_2015_2017_Sub.tif: No such file or directory"
     ]
    }
   ],
   "source": [
    "HCAS31_AHC_2015_2017_prj = rio_slurp_xarray(HCAS31_AHC_2015_2017,\n",
    "                                      lc.geobox,\n",
    "                                      resampling=\"nearest\")"
   ]
  },
  {
   "cell_type": "code",
   "execution_count": 24,
   "id": "811aa993-f601-4265-8fbe-16778e42df7c",
   "metadata": {},
   "outputs": [
    {
     "ename": "RasterioIOError",
     "evalue": "./uploads/HCAS/HCAS31_AHC_2016_2018_Sub.tif: No such file or directory",
     "output_type": "error",
     "traceback": [
      "\u001b[0;31m---------------------------------------------------------------------------\u001b[0m",
      "\u001b[0;31mCPLE_OpenFailedError\u001b[0m                      Traceback (most recent call last)",
      "File \u001b[0;32mrasterio/_base.pyx:310\u001b[0m, in \u001b[0;36mrasterio._base.DatasetBase.__init__\u001b[0;34m()\u001b[0m\n",
      "File \u001b[0;32mrasterio/_base.pyx:221\u001b[0m, in \u001b[0;36mrasterio._base.open_dataset\u001b[0;34m()\u001b[0m\n",
      "File \u001b[0;32mrasterio/_err.pyx:359\u001b[0m, in \u001b[0;36mrasterio._err.exc_wrap_pointer\u001b[0;34m()\u001b[0m\n",
      "\u001b[0;31mCPLE_OpenFailedError\u001b[0m: ./uploads/HCAS/HCAS31_AHC_2016_2018_Sub.tif: No such file or directory",
      "\nDuring handling of the above exception, another exception occurred:\n",
      "\u001b[0;31mRasterioIOError\u001b[0m                           Traceback (most recent call last)",
      "Cell \u001b[0;32mIn[24], line 1\u001b[0m\n\u001b[0;32m----> 1\u001b[0m HCAS31_AHC_2016_2018_prj \u001b[38;5;241m=\u001b[39m \u001b[43mrio_slurp_xarray\u001b[49m\u001b[43m(\u001b[49m\u001b[43mHCAS31_AHC_2016_2018\u001b[49m\u001b[43m,\u001b[49m\n\u001b[1;32m      2\u001b[0m \u001b[43m                                      \u001b[49m\u001b[43mlc\u001b[49m\u001b[38;5;241;43m.\u001b[39;49m\u001b[43mgeobox\u001b[49m\u001b[43m,\u001b[49m\n\u001b[1;32m      3\u001b[0m \u001b[43m                                      \u001b[49m\u001b[43mresampling\u001b[49m\u001b[38;5;241;43m=\u001b[39;49m\u001b[38;5;124;43m\"\u001b[39;49m\u001b[38;5;124;43mnearest\u001b[39;49m\u001b[38;5;124;43m\"\u001b[39;49m\u001b[43m)\u001b[49m\n",
      "File \u001b[0;32m/env/lib/python3.10/site-packages/datacube/testutils/io.py:388\u001b[0m, in \u001b[0;36mrio_slurp_xarray\u001b[0;34m(fname, rgb, *args, **kw)\u001b[0m\n\u001b[1;32m    386\u001b[0m \u001b[38;5;28;01melse\u001b[39;00m:\n\u001b[1;32m    387\u001b[0m     \u001b[38;5;28;01mif\u001b[39;00m \u001b[38;5;28misinstance\u001b[39m(args[\u001b[38;5;241m0\u001b[39m], GeoBox):\n\u001b[0;32m--> 388\u001b[0m         im, mm \u001b[38;5;241m=\u001b[39m \u001b[43mrio_slurp_reproject\u001b[49m\u001b[43m(\u001b[49m\u001b[43mfname\u001b[49m\u001b[43m,\u001b[49m\u001b[43m \u001b[49m\u001b[38;5;241;43m*\u001b[39;49m\u001b[43margs\u001b[49m\u001b[43m,\u001b[49m\u001b[43m \u001b[49m\u001b[38;5;241;43m*\u001b[39;49m\u001b[38;5;241;43m*\u001b[39;49m\u001b[43mkw\u001b[49m\u001b[43m)\u001b[49m\n\u001b[1;32m    389\u001b[0m     \u001b[38;5;28;01melse\u001b[39;00m:\n\u001b[1;32m    390\u001b[0m         im, mm \u001b[38;5;241m=\u001b[39m rio_slurp_read(fname, \u001b[38;5;241m*\u001b[39margs, \u001b[38;5;241m*\u001b[39m\u001b[38;5;241m*\u001b[39mkw)\n",
      "File \u001b[0;32m/env/lib/python3.10/site-packages/datacube/testutils/io.py:292\u001b[0m, in \u001b[0;36mrio_slurp_reproject\u001b[0;34m(fname, gbox, dtype, dst_nodata, **kw)\u001b[0m\n\u001b[1;32m    288\u001b[0m \u001b[38;5;28;01mfrom\u001b[39;00m \u001b[38;5;21;01mrasterio\u001b[39;00m\u001b[38;5;21;01m.\u001b[39;00m\u001b[38;5;21;01mwarp\u001b[39;00m \u001b[38;5;28;01mimport\u001b[39;00m reproject\n\u001b[1;32m    290\u001b[0m _fix_resampling(kw)\n\u001b[0;32m--> 292\u001b[0m \u001b[38;5;28;01mwith\u001b[39;00m \u001b[43mrasterio\u001b[49m\u001b[38;5;241;43m.\u001b[39;49m\u001b[43mopen\u001b[49m\u001b[43m(\u001b[49m\u001b[38;5;28;43mstr\u001b[39;49m\u001b[43m(\u001b[49m\u001b[43mfname\u001b[49m\u001b[43m)\u001b[49m\u001b[43m,\u001b[49m\u001b[43m \u001b[49m\u001b[38;5;124;43m'\u001b[39;49m\u001b[38;5;124;43mr\u001b[39;49m\u001b[38;5;124;43m'\u001b[39;49m\u001b[43m)\u001b[49m \u001b[38;5;28;01mas\u001b[39;00m src:\n\u001b[1;32m    293\u001b[0m     \u001b[38;5;28;01mif\u001b[39;00m src\u001b[38;5;241m.\u001b[39mcount \u001b[38;5;241m==\u001b[39m \u001b[38;5;241m1\u001b[39m:\n\u001b[1;32m    294\u001b[0m         shape \u001b[38;5;241m=\u001b[39m gbox\u001b[38;5;241m.\u001b[39mshape\n",
      "File \u001b[0;32m/env/lib/python3.10/site-packages/rasterio/env.py:463\u001b[0m, in \u001b[0;36mensure_env_with_credentials.<locals>.wrapper\u001b[0;34m(*args, **kwds)\u001b[0m\n\u001b[1;32m    460\u001b[0m     session \u001b[38;5;241m=\u001b[39m DummySession()\n\u001b[1;32m    462\u001b[0m \u001b[38;5;28;01mwith\u001b[39;00m env_ctor(session\u001b[38;5;241m=\u001b[39msession):\n\u001b[0;32m--> 463\u001b[0m     \u001b[38;5;28;01mreturn\u001b[39;00m \u001b[43mf\u001b[49m\u001b[43m(\u001b[49m\u001b[38;5;241;43m*\u001b[39;49m\u001b[43margs\u001b[49m\u001b[43m,\u001b[49m\u001b[43m \u001b[49m\u001b[38;5;241;43m*\u001b[39;49m\u001b[38;5;241;43m*\u001b[39;49m\u001b[43mkwds\u001b[49m\u001b[43m)\u001b[49m\n",
      "File \u001b[0;32m/env/lib/python3.10/site-packages/rasterio/__init__.py:355\u001b[0m, in \u001b[0;36mopen\u001b[0;34m(fp, mode, driver, width, height, count, crs, transform, dtype, nodata, sharing, opener, **kwargs)\u001b[0m\n\u001b[1;32m    352\u001b[0m     path \u001b[38;5;241m=\u001b[39m _parse_path(raw_dataset_path)\n\u001b[1;32m    354\u001b[0m \u001b[38;5;28;01mif\u001b[39;00m mode \u001b[38;5;241m==\u001b[39m \u001b[38;5;124m\"\u001b[39m\u001b[38;5;124mr\u001b[39m\u001b[38;5;124m\"\u001b[39m:\n\u001b[0;32m--> 355\u001b[0m     dataset \u001b[38;5;241m=\u001b[39m \u001b[43mDatasetReader\u001b[49m\u001b[43m(\u001b[49m\u001b[43mpath\u001b[49m\u001b[43m,\u001b[49m\u001b[43m \u001b[49m\u001b[43mdriver\u001b[49m\u001b[38;5;241;43m=\u001b[39;49m\u001b[43mdriver\u001b[49m\u001b[43m,\u001b[49m\u001b[43m \u001b[49m\u001b[43msharing\u001b[49m\u001b[38;5;241;43m=\u001b[39;49m\u001b[43msharing\u001b[49m\u001b[43m,\u001b[49m\u001b[43m \u001b[49m\u001b[38;5;241;43m*\u001b[39;49m\u001b[38;5;241;43m*\u001b[39;49m\u001b[43mkwargs\u001b[49m\u001b[43m)\u001b[49m\n\u001b[1;32m    356\u001b[0m \u001b[38;5;28;01melif\u001b[39;00m mode \u001b[38;5;241m==\u001b[39m \u001b[38;5;124m\"\u001b[39m\u001b[38;5;124mr+\u001b[39m\u001b[38;5;124m\"\u001b[39m:\n\u001b[1;32m    357\u001b[0m     dataset \u001b[38;5;241m=\u001b[39m get_writer_for_path(path, driver\u001b[38;5;241m=\u001b[39mdriver)(\n\u001b[1;32m    358\u001b[0m         path, mode, driver\u001b[38;5;241m=\u001b[39mdriver, sharing\u001b[38;5;241m=\u001b[39msharing, \u001b[38;5;241m*\u001b[39m\u001b[38;5;241m*\u001b[39mkwargs\n\u001b[1;32m    359\u001b[0m     )\n",
      "File \u001b[0;32mrasterio/_base.pyx:312\u001b[0m, in \u001b[0;36mrasterio._base.DatasetBase.__init__\u001b[0;34m()\u001b[0m\n",
      "\u001b[0;31mRasterioIOError\u001b[0m: ./uploads/HCAS/HCAS31_AHC_2016_2018_Sub.tif: No such file or directory"
     ]
    }
   ],
   "source": [
    "HCAS31_AHC_2016_2018_prj = rio_slurp_xarray(HCAS31_AHC_2016_2018,\n",
    "                                      lc.geobox,\n",
    "                                      resampling=\"nearest\")"
   ]
  },
  {
   "cell_type": "code",
   "execution_count": null,
   "id": "0f2beba4-fb13-49fe-be2d-969d16174368",
   "metadata": {},
   "outputs": [],
   "source": [
    "HCAS31_AHC_2017_2019_prj = rio_slurp_xarray(HCAS31_AHC_2017_2019,\n",
    "                                      lc.geobox,\n",
    "                                      resampling=\"nearest\")"
   ]
  },
  {
   "cell_type": "code",
   "execution_count": null,
   "id": "a68947fb-4cef-4ad0-a408-9a054078c193",
   "metadata": {
    "jupyter": {
     "source_hidden": true
    }
   },
   "outputs": [],
   "source": [
    "AusEcoPre1750_prj = rio_slurp_xarray(AusEcoPre1750,\n",
    "                                      lc.geobox,\n",
    "                                      resampling=\"nearest\")"
   ]
  },
  {
   "cell_type": "code",
   "execution_count": null,
   "id": "ed5b1969-088a-43c9-9a14-725f8bfedfda",
   "metadata": {},
   "outputs": [],
   "source": [
    "# Eco = HCAS31_AHC_2010_2012_prj.to_dataset(name=\"HCAS31_AHC_2010_2012\")\n",
    "# Eco[\"HCAS31_AHC_2011_2013\"] = HCAS31_AHC_2011_2013_prj\n",
    "# Eco[\"HCAS31_AHC_2015_2017\"] = HCAS31_AHC_2015_2017_prj\n",
    "# Eco[\"HCAS31_AHC_2016_2018\"] = HCAS31_AHC_2016_2018_prj\n",
    "# Eco[\"HCAS31_AHC_2017_2019\"] = HCAS31_AHC_2017_2019_prj\n",
    "# Eco[\"AusEcoPre1750\"] = AusEcoPre1750_prj"
   ]
  },
  {
   "cell_type": "code",
   "execution_count": null,
   "id": "13ec417e-190c-4e44-bf54-33dc8dbe0eb0",
   "metadata": {},
   "outputs": [],
   "source": [
    "Eco = HCAS31_AHC_2015_2017_prj.to_dataset(name=\"HCAS31_AHC_2015_2017\")\n",
    "Eco[\"HCAS31_AHC_2016_2018\"] = HCAS31_AHC_2016_2018_prj\n",
    "Eco[\"HCAS31_AHC_2017_2019\"] = HCAS31_AHC_2017_2019_prj\n",
    "Eco[\"AusEcoPre1750\"] = AusEcoPre1750_prj"
   ]
  },
  {
   "cell_type": "code",
   "execution_count": null,
   "id": "439fae0e-14c0-4db2-a4a3-f196b06eec5b",
   "metadata": {},
   "outputs": [],
   "source": [
    "Eco_fig, axs = plt.subplots(figsize=(10, 2), ncols=4)\n",
    "Eco.HCAS31_AHC_2015_2017.plot(ax=axs[0])\n",
    "Eco.HCAS31_AHC_2016_2018.plot(ax=axs[1])\n",
    "Eco.HCAS31_AHC_2017_2019.plot(ax=axs[2])\n",
    "Eco.AusEcoPre1750.plot(ax=axs[3])"
   ]
  },
  {
   "cell_type": "markdown",
   "id": "9ef4b657-bc44-4638-957b-5ce317daf892",
   "metadata": {},
   "source": [
    "## Detecting and describing land cover change \n",
    "###  Observed change\n",
    "Within the Global Change Taxonomy of [Lucas et al. 2020](https://onlinelibrary.wiley.com/doi/10.1111/gcb.16346), the transition matrix between observed broad land cover classes (i.e., OEDs) is used to identify land cover conversions (off-diagonals) and modifications (on-diagonals) between two time-separated periods as well as areas of no change.   \n",
    "\n",
    "**Note:**  There are 6 classes in the case of Australia as there are limited cultivated aquatic landscapes, and artificial and natural water are merged.\n",
    "\n",
    "###  Evidence-based change\n",
    "Once conversions and modifications have been identified, further environmental descriptors are accessed to provide evidence for change.   These include the environmental descriptors of lifeform and water state (categorical) and vegetation cover and annual water hyproperiod (categorical representations of continuous environmental descriptors). These are regarded as Essential Environmental Descriptors (EEDs) as they are needed to construct the land cover categories according to the Food and Agriculture Organisation (FAO) Land Cover Classification System (LCCS) (e.g., Level 3, lifeform, vegetation cover, water state and level 4 (full classification))\n"
   ]
  },
  {
   "cell_type": "markdown",
   "id": "cb8541da-81bb-4882-a8a0-082b8f980732",
   "metadata": {},
   "source": [
    "### Load the colour scheme for change\n",
    "You will need to upload colour schemes for both the data and the legend and labels for the maps being generated."
   ]
  },
  {
   "cell_type": "code",
   "execution_count": null,
   "id": "d53a985c-c8a4-4a31-9bb9-0cd6c33ca836",
   "metadata": {},
   "outputs": [],
   "source": [
    "# Import the colour schemes for the land cover change data themselves (i.e. the digital values - e.g., 111111).\n",
    "from landcover import plot_land_cover, lc_colourmap, make_colorbar \n",
    "cmap, norm = lc_colourmap('level3_change_colour_scheme')\n",
    "\n",
    "# Load myfunctions.py and import the plotting routines for level 3 (gains, losses and non change), lifeform, canopy cover and water persistence.\n",
    "from myfunctions import plot_level3_gain, plot_level3_loss, plot_level3_no_change, plot_lifeform_changes, plot_canopy_cover_change, plot_water_persistence_change"
   ]
  },
  {
   "cell_type": "markdown",
   "id": "7bfc883d-874e-4854-9799-63db54efae5d",
   "metadata": {},
   "source": [
    "## Identifying gains in Level 3 classes (conversions)\n",
    "Changes (gains in land cover) between Time 1 [0] and Time 2 [-1 or the last number in the time-series]] can be identified through the transition matrix."
   ]
  },
  {
   "cell_type": "code",
   "execution_count": null,
   "id": "4d899712-d7eb-4fdc-9118-8699870e1a5e",
   "metadata": {
    "tags": []
   },
   "outputs": [],
   "source": [
    "# Select start and end dates for comparison (change to int32 to ensure we can hold number of 6 digits)\n",
    "start = lc.level3[0].astype(np.int32)\n",
    "end = lc.level3[-1].astype(np.int32)\n",
    "ignore_no_change = True\n",
    "change_vals = (start * 1000) + end\n",
    "if ignore_no_change:\n",
    "    change_vals = np.where(start == end, 0, change_vals)"
   ]
  },
  {
   "cell_type": "code",
   "execution_count": null,
   "id": "c3688e41-0bff-482b-b792-71e6a52d7b2d",
   "metadata": {
    "tags": []
   },
   "outputs": [],
   "source": [
    "level_3 = lc.level3[0].drop_vars(\"time\")"
   ]
  },
  {
   "cell_type": "code",
   "execution_count": null,
   "id": "ae70ea71-d240-4ecc-ab11-eafb4298045d",
   "metadata": {
    "tags": []
   },
   "outputs": [],
   "source": [
    "# Create a new Xarray.DataArray\n",
    "obs_gain_l3_conversion = xr.DataArray(\n",
    "    data=change_vals,\n",
    "    coords=level_3.coords,\n",
    "    dims=level_3.dims,\n",
    "    name=\"observed change\",\n",
    "    attrs=level_3.attrs,\n",
    "    fastpath=False,\n",
    ")"
   ]
  },
  {
   "cell_type": "code",
   "execution_count": null,
   "id": "8702c457-b2fd-4a82-8f57-b74dab704492",
   "metadata": {
    "tags": []
   },
   "outputs": [],
   "source": [
    "obs_gain_l3 = obs_gain_l3_conversion.to_dataset(name=\"conversion_gain\")\n",
    "del obs_gain_l3_conversion"
   ]
  },
  {
   "cell_type": "code",
   "execution_count": null,
   "id": "55b0f0cd-3d26-459b-bc14-a56b42d7b27d",
   "metadata": {
    "tags": []
   },
   "outputs": [],
   "source": [
    "# Load the colour map for the gains in Level 3 classes\n",
    "cmap, norm = lc_colourmap('level3_change_colour_gain')"
   ]
  },
  {
   "cell_type": "code",
   "execution_count": null,
   "id": "d498e3b4-86c1-45fe-a67b-1f4e6a2657b9",
   "metadata": {},
   "outputs": [],
   "source": [
    "plot_level3_gain(\n",
    "    data=obs_gain_l3.conversion_gain,\n",
    "    cmap=cmap,\n",
    "    norm=norm,\n",
    "    figsize=(12, 8),\n",
    "    title='Level 3 - Gains in land cover'\n",
    ")"
   ]
  },
  {
   "cell_type": "markdown",
   "id": "5523c0f1-730f-4812-a9b0-c3439713f6aa",
   "metadata": {},
   "source": [
    "#### Saving your file as a png\n",
    "Note that you might want to save the plot as a .png file and use it later. To this, save into a directory called 'illustrations'"
   ]
  },
  {
   "cell_type": "code",
   "execution_count": null,
   "id": "cbcda51a-8043-452d-9568-7368906c408f",
   "metadata": {},
   "outputs": [],
   "source": [
    "plt.gcf().savefig('./illustrations/level3_gain_plot.png', format='png', dpi=300)\n",
    "print(\"Plot saved as './illustrations/level3_gain_plot.png'\")"
   ]
  },
  {
   "cell_type": "markdown",
   "id": "dfdc202e-a966-49ab-86d9-f7fcb3f6ddd2",
   "metadata": {},
   "source": [
    "## Identifying losses in Level 3 classes\n",
    "Losses in land cover between Time 1 [0] and Time 2 [-1 or the last number in the time-series]] can also be identified through the transition matrix."
   ]
  },
  {
   "cell_type": "markdown",
   "id": "039e88a0-e8d0-4c33-9cf2-ec03d8ffa4aa",
   "metadata": {},
   "source": [
    "#### Identify change (loss) in Level 3 from Time 1 [0] to Time 2 [-1]"
   ]
  },
  {
   "cell_type": "code",
   "execution_count": null,
   "id": "2fb4d14f-02d6-4d33-8c9e-2b04251a9f39",
   "metadata": {
    "tags": []
   },
   "outputs": [],
   "source": [
    "# Select start and end dates for comparison (change to int32 to ensure we can hold number of 6 digits)\n",
    "# (Note changing to (end * 1000) + start\n",
    "start = lc.level3[0].astype(np.int32)\n",
    "end = lc.level3[-1].astype(np.int32)\n",
    "ignore_no_change = True\n",
    "change_vals = (end * 1000) + start\n",
    "if ignore_no_change:\n",
    "    change_vals = np.where(start == end, 0, change_vals)\n",
    "#level_3 = lc.level3[0].drop_vars(\"time\")"
   ]
  },
  {
   "cell_type": "code",
   "execution_count": null,
   "id": "ad9a6cab-466a-4941-8869-6b114a5631fe",
   "metadata": {
    "tags": []
   },
   "outputs": [],
   "source": [
    "# Create a new Xarray.DataArray\n",
    "obs_loss_l3_conversion= xr.DataArray(\n",
    "    data=change_vals,\n",
    "    coords=level_3.coords,\n",
    "    dims=level_3.dims,\n",
    "    name=\"observed losses\",\n",
    "    attrs=level_3.attrs,\n",
    "    fastpath=False,\n",
    ")"
   ]
  },
  {
   "cell_type": "code",
   "execution_count": null,
   "id": "2b4d66c4-0da2-490e-ac2b-be2b00699277",
   "metadata": {
    "tags": []
   },
   "outputs": [],
   "source": [
    "obs_loss_l3 = obs_loss_l3_conversion.to_dataset(name=\"conversion_loss\")\n",
    "del obs_loss_l3_conversion"
   ]
  },
  {
   "cell_type": "markdown",
   "id": "64409ac1-94d2-43a8-8ef2-7d7d8bdb8510",
   "metadata": {},
   "source": [
    "#### Plot Level 3 losses"
   ]
  },
  {
   "cell_type": "code",
   "execution_count": null,
   "id": "4a33b36c-380b-4a3e-a6f0-387d71bb7956",
   "metadata": {},
   "outputs": [],
   "source": [
    "plot_level3_loss(\n",
    "    data=obs_loss_l3.conversion_loss,\n",
    "    cmap=cmap,\n",
    "    norm=norm,\n",
    "    figsize=(12, 8),\n",
    "    title='Level 3 - Loss in land cover'\n",
    ")"
   ]
  },
  {
   "cell_type": "markdown",
   "id": "a0bc52eb-d66f-438c-a2cf-16d6dfe1263e",
   "metadata": {},
   "source": [
    "### NO CHANGE"
   ]
  },
  {
   "cell_type": "markdown",
   "id": "626915f1-8f5f-4544-b34c-6a504a6db04a",
   "metadata": {},
   "source": [
    "#### Areas of no change between Time 1 and Time 2 [-1 or 4]\n",
    "Some land covers do not change in extent between Time 1 [0] and Time 2 [-1 or the last number in the time-series]] but modifications within these land covers might occur. "
   ]
  },
  {
   "cell_type": "code",
   "execution_count": null,
   "id": "ada50093-10b3-40b5-88da-3e37cbeeab75",
   "metadata": {
    "tags": []
   },
   "outputs": [],
   "source": [
    "# Select start and end dates for comparison (change to int32 to ensure we can hold number of 6 digits)\n",
    "start = lc.level3[0].astype(np.int32)\n",
    "end = lc.level3[-1].astype(np.int32)\n",
    "\n",
    "# Mark if you want to ignore no change\n",
    "ignore_no_change = False\n",
    "\n",
    "# Combine classifications from start and end dates\n",
    "change_vals = (start * 1000) + end\n",
    "\n",
    "# Mask out values with no change by setting to 0 if this is requested\n",
    "if ignore_no_change:\n",
    "    change_vals = np.where(start == end, 0, change_vals)\n",
    "    \n",
    "level_3 = lc.level3[0].drop_vars(\"time\") \n",
    "\n",
    "# Create a new Xarray.DataArray\n",
    "obs_change_l3_modification = xr.DataArray(\n",
    "    data=change_vals,\n",
    "    coords=level_3.coords,\n",
    "    dims=level_3.dims,\n",
    "    name=\"no change\",\n",
    "    attrs=level_3.attrs,\n",
    "    fastpath=False,\n",
    ")"
   ]
  },
  {
   "cell_type": "code",
   "execution_count": null,
   "id": "4a0e170d-7a6d-4f9f-9bdd-2bd87e7ff9a4",
   "metadata": {
    "tags": []
   },
   "outputs": [],
   "source": [
    "obs_change_l3 = obs_change_l3_modification.to_dataset(name=\"modification\")\n",
    "del obs_change_l3_modification"
   ]
  },
  {
   "cell_type": "code",
   "execution_count": null,
   "id": "9c47d5ee-2437-4e81-817b-52acd67e74c4",
   "metadata": {},
   "outputs": [],
   "source": [
    "cmap, norm = lc_colourmap('level3_change_colour_scheme')"
   ]
  },
  {
   "cell_type": "code",
   "execution_count": null,
   "id": "549dfb7d-0b0a-47b0-bf4b-f489e71ec152",
   "metadata": {},
   "outputs": [],
   "source": [
    "plot_level3_no_change(\n",
    "    data=obs_change_l3.modification,\n",
    "    cmap=cmap,\n",
    "    norm=norm,\n",
    "    figsize=(12, 8),\n",
    "    title='Level 3 - No Change'\n",
    ")"
   ]
  },
  {
   "cell_type": "markdown",
   "id": "81e1f4a0-1561-4491-829b-f66829cf20c0",
   "metadata": {},
   "source": [
    "These can be evidenced by considering Essential Environmental Descriptors (EEDs) including lifeform, canopy cover and water persistence."
   ]
  },
  {
   "cell_type": "markdown",
   "id": "702f54a9-9027-4822-bd50-85768b6e7834",
   "metadata": {
    "tags": []
   },
   "source": [
    "## Lifeform change maps"
   ]
  },
  {
   "cell_type": "markdown",
   "id": "939b66f0-c90a-45f7-b5ab-bcc4bf6bd557",
   "metadata": {
    "tags": []
   },
   "source": [
    "#### Change in Lifeform between Time 1 [0] and Time 2 [-1]\n",
    "Digital Earth Australia (DEA) classifies lifeform according to two [categories](https://livingearth-lccs.readthedocs.io/en/latest/Level4_Layer_Values_AU.html).\n",
    "\n",
    "\n",
    "| Value | LCCS Code | LCCS Description         |\n",
    "|-------|-----------|--------------------------|\n",
    "| 1     | A1        | Woody   |\n",
    "| 2     | A2        | Herbaceous |\n",
    "\n",
    "\n",
    "The following generates maps of change by concatenating these values, noting that some areas can go from no vegetation to woody or herbaceous (i.e., 01 or 02), from these categories to no vegetation (i.e., 10 or 20) or remain as non-vegetated (0 to 0).  The lifeform can remain the same (i.e., 11 or 22) or change (i.e. 12 or 21).  The following generates maps of these modifications, which represent a change in type."
   ]
  },
  {
   "cell_type": "code",
   "execution_count": null,
   "id": "16b63c73-86b0-4e42-8f2a-44e51afdfddb",
   "metadata": {
    "tags": []
   },
   "outputs": [],
   "source": [
    "# Select start and end dates for comparison (change to int32 to ensure we can hold number of 6 digits)\n",
    "start = lc.lifeform[0].astype(np.int32)\n",
    "end = lc.lifeform[-1].astype(np.int32)\n",
    "ignore_no_change = False\n",
    "change_vals = (start * 10) + end\n",
    "if ignore_no_change:\n",
    "    change_vals = np.where(start == end, 0, change_vals)\n",
    "lifeform = lc.lifeform[0].drop_vars(\"time\")"
   ]
  },
  {
   "cell_type": "code",
   "execution_count": null,
   "id": "91e643ac-4763-48f1-a8bf-fb1457bb3aa3",
   "metadata": {
    "tags": []
   },
   "outputs": [],
   "source": [
    "# Create a new Xarray.DataArray\n",
    "obs_change_lf_modification = xr.DataArray(\n",
    "    data=change_vals,\n",
    "    coords=lifeform.coords,\n",
    "    dims=lifeform.dims,\n",
    "    name=\"lifeform change\",\n",
    "    attrs=lifeform.attrs,\n",
    "    fastpath=False,\n",
    ")"
   ]
  },
  {
   "cell_type": "code",
   "execution_count": null,
   "id": "792a7cc8-af0b-4f60-b9d4-b6a1cbf848ee",
   "metadata": {
    "tags": []
   },
   "outputs": [],
   "source": [
    "obs_change_lf = obs_change_lf_modification.to_dataset(name=\"lf_change\")"
   ]
  },
  {
   "cell_type": "code",
   "execution_count": null,
   "id": "4ea82c4a-cbe7-45fc-8da2-e03457e38f26",
   "metadata": {},
   "outputs": [],
   "source": [
    "cmap, norm = lc_colourmap('lfchange_colour_scheme')"
   ]
  },
  {
   "cell_type": "markdown",
   "id": "6a53a20d-1ba5-4c64-8e13-452259a731bd",
   "metadata": {},
   "source": [
    "#### Plot lifeform change"
   ]
  },
  {
   "cell_type": "code",
   "execution_count": null,
   "id": "88b555ad-e838-4da9-930a-d8217a203e6e",
   "metadata": {},
   "outputs": [],
   "source": [
    "plot_lifeform_changes(\n",
    "    data=obs_change_lf.lf_change,\n",
    "    cmap=cmap,\n",
    "    norm=norm,\n",
    "    figsize=(12, 8),\n",
    "    title='Lifeform Changes'\n",
    ")"
   ]
  },
  {
   "cell_type": "markdown",
   "id": "b1d7c14e-8c28-4dca-868a-3bf686018650",
   "metadata": {},
   "source": [
    "### Changes in annual water persistence.\n",
    "Water is mapped within DEA using through the Water Observations from Space (WOfS) algorithm developed by [Muller et al. (2018)](https://www.sciencedirect.com/science/article/pii/S0034425715301929).  The [categories](https://livingearth-lccs.readthedocs.io/en/latest/Level4_Layer_Values_AU.html for Australia are:\n",
    "\n",
    "| Value | LCCS Code | LCCS Description         |\n",
    "|-------|-----------|--------------------------|\n",
    "| 1     | B1        | Perennial (> 9 months)   |\n",
    "| 7     | B7        | Non-perennial (7 to 9 months) |\n",
    "| 8     | B8        | Non-perennial (4 to 6 months) |\n",
    "| 9     | B9        | Non-perennial (1 to 3 months) |\n",
    "| 3     |           | Tidal|\n",
    "\n",
    "Changes between categories are identified by comparing water persistence between years and concatenating the values. For example, a change from water that is perennial (present for > 9 months) to non-perennial is indicated by the value 19.  \n",
    "\n",
    "The following generates the maps of change based on this comparison."
   ]
  },
  {
   "cell_type": "code",
   "execution_count": null,
   "id": "7d5f1db0-527f-49ef-b849-3500e097f984",
   "metadata": {
    "tags": []
   },
   "outputs": [],
   "source": [
    "# Select start and end dates for comparison (change to int32 to ensure we can hold number of 6 digits)\n",
    "start = lc.water_persistence[0].astype(np.int32)\n",
    "end = lc.water_persistence[-1].astype(np.int32)\n",
    "ignore_no_change = False\n",
    "change_vals = (start * 10) + end\n",
    "if ignore_no_change:\n",
    "    change_vals = np.where(start == end, 0, change_vals)\n",
    "water_persistence = lc.water_persistence[0].drop_vars(\"time\")"
   ]
  },
  {
   "cell_type": "code",
   "execution_count": null,
   "id": "b3820127-7088-4653-bc2d-ec83e41fa1ba",
   "metadata": {
    "tags": []
   },
   "outputs": [],
   "source": [
    "# Create a new Xarray.DataArray\n",
    "obs_change_wper_modification = xr.DataArray(\n",
    "    data=change_vals,\n",
    "    coords=lifeform.coords,\n",
    "    dims=lifeform.dims,\n",
    "    name=\"water persistence change\",\n",
    "    attrs=lifeform.attrs,\n",
    "    fastpath=False,\n",
    ")"
   ]
  },
  {
   "cell_type": "code",
   "execution_count": null,
   "id": "be140ce7-7a38-4918-9ae4-f51f943a8b9f",
   "metadata": {
    "tags": []
   },
   "outputs": [],
   "source": [
    "obs_change_wper = obs_change_wper_modification.to_dataset(name=\"wper_change\")"
   ]
  },
  {
   "cell_type": "code",
   "execution_count": null,
   "id": "716abb6d-84bf-4244-9572-b2c5ec657db3",
   "metadata": {
    "tags": []
   },
   "outputs": [],
   "source": [
    "#make_colorbar(fig, axs[2], measurement='wperchange_colour_scheme')\n",
    "cmap, norm = lc_colourmap('wperchange_colour_scheme')"
   ]
  },
  {
   "cell_type": "code",
   "execution_count": null,
   "id": "d220434c-8d3f-4967-bef8-991066caf210",
   "metadata": {},
   "outputs": [],
   "source": [
    "plot_water_persistence_change(\n",
    "    data=obs_change_wper.wper_change,\n",
    "    cmap=cmap,\n",
    "    norm=norm,\n",
    "    figsize=(12, 8),\n",
    "    title='Water Persistence Changes'\n",
    ")"
   ]
  },
  {
   "cell_type": "markdown",
   "id": "b088eafa-4d17-4777-b9fb-a701c3171951",
   "metadata": {},
   "source": [
    "### Vegetation cover changes"
   ]
  },
  {
   "cell_type": "markdown",
   "id": "b2591cba-b1ac-4d3d-9118-dabc41bf1684",
   "metadata": {},
   "source": [
    "Vegetation cover changes are mapped within DEA using through the [fractional cover algorithm](https://knowledge.dea.ga.gov.au/data/product/dea-fractional-cover-landsat/) and combined both the photosynthetic and non-photosynthetic fractions (i.e., total vegetated fraction) over a year.  The [categories](https://livingearth-lccs.readthedocs.io/en/latest/Level4_Layer_Values_AU.html for Australia are:\n",
    "\n",
    "| Value | LCCS Code | LCCS Description      |\n",
    "|-------|-----------|-----------------------|\n",
    "| 10    | A10       | Closed (> 65 %)       |\n",
    "| 12    | A12       | Open (40 to 65 %)     |\n",
    "| 13    | A13       | Open (15 to 40 %)     |\n",
    "| 15    | A15       | Sparse (4 to 15 %)    |\n",
    "| 16    | A16       | Scattered (1 to 4 %)  |\n",
    "\n",
    "Changes between vegetation cover categories are identified by comparing and concatenating values between years. For example, a change from vegetation that is closed (A10) to scattered (A16) is represented by the value 1016.   \n",
    "The following generates the maps of change based on this comparison."
   ]
  },
  {
   "cell_type": "code",
   "execution_count": null,
   "id": "26fbdc91-296b-4753-8f11-eb16cb8a15a1",
   "metadata": {
    "tags": []
   },
   "outputs": [],
   "source": [
    "# Select start and end dates for comparison (change to int32 to ensure we can hold number of 6 digits)\n",
    "\n",
    "start = lc.vegetation_cover[0].astype(np.int32)\n",
    "end = lc.vegetation_cover[-1].astype(np.int32)\n",
    "ignore_no_change = False\n",
    "change_vals = (start * 100) + end\n",
    "if ignore_no_change:\n",
    "    change_vals = np.where(start == end, 0, change_vals)\n",
    "vegetation_cover = lc.vegetation_cover[0].drop_vars(\"time\")"
   ]
  },
  {
   "cell_type": "code",
   "execution_count": null,
   "id": "3fa66528-5d74-4b7c-94be-6e2f9e4afa53",
   "metadata": {
    "tags": []
   },
   "outputs": [],
   "source": [
    "# Create a new Xarray.DataArray\n",
    "obs_change_vcov_modification = xr.DataArray(\n",
    "    data=change_vals,\n",
    "    coords=lifeform.coords,\n",
    "    dims=lifeform.dims,\n",
    "    name=\"vegetation canopy cover change\",\n",
    "    attrs=lifeform.attrs,\n",
    "    fastpath=False,\n",
    ")"
   ]
  },
  {
   "cell_type": "code",
   "execution_count": null,
   "id": "38bc1155-b209-4726-b5e2-e3a635e7f964",
   "metadata": {
    "tags": []
   },
   "outputs": [],
   "source": [
    "obs_change_vcov = obs_change_vcov_modification.to_dataset(name=\"vcov_change\")"
   ]
  },
  {
   "cell_type": "code",
   "execution_count": null,
   "id": "0250c109-4766-4baa-9c53-40ee4e875efb",
   "metadata": {
    "tags": []
   },
   "outputs": [],
   "source": [
    "#make_colorbar(fig, axs[2], measurement='vcovchange_colour_scheme')\n",
    "cmap, norm = lc_colourmap('vcovchange_colour_scheme')"
   ]
  },
  {
   "cell_type": "code",
   "execution_count": null,
   "id": "494d5c10-9500-433e-a82e-a101fb72be7b",
   "metadata": {
    "tags": []
   },
   "outputs": [],
   "source": [
    "#obs_change_vcov_2010_2020.plot(cmap=cmap, norm=norm)"
   ]
  },
  {
   "cell_type": "code",
   "execution_count": null,
   "id": "62d82d81-c42f-4228-8c3f-915ab12d938e",
   "metadata": {},
   "outputs": [],
   "source": [
    "from myfunctions import plot_canopy_cover_change\n",
    "plot_canopy_cover_change(\n",
    "    data=obs_change_vcov.vcov_change,\n",
    "    cmap=cmap,\n",
    "    norm=norm,\n",
    "    figsize=(12, 8),\n",
    "    title='Canopy Cover Changes'\n",
    ")"
   ]
  },
  {
   "cell_type": "code",
   "execution_count": null,
   "id": "c5f85c18-936f-44d0-a58f-b2ad73983c6e",
   "metadata": {
    "tags": []
   },
   "outputs": [],
   "source": [
    "#This method uses the datacube.utils.cog function write_cog (where COG stands for Cloud Optimised GeoTIFF) \n",
    "#to export a simple single-band, single time-slice GeoTIFF file. A few important caveats should be noted when using this function:\n",
    "#It requires an xarray.DataArray; supplying an xarray.Dataset will return an error. \n",
    "\n",
    "# Write GeoTIFF of Level 3 gains to an output directory\n",
    "write_cog(geo_im=obs_gain_l3[\"conversion_gain\"],\n",
    "          fname='./outputs/level3_conversion_gain.tif',\n",
    "          overwrite=True)\n",
    "\n",
    "# Write GeoTIFF of Level 3 losses to an output directory.\n",
    "write_cog(geo_im=obs_loss_l3[\"conversion_loss\"],\n",
    "          fname='./outputs/level3_conversion_loss.tif',\n",
    "          overwrite=True)\n",
    "\n",
    "# Write GeoTIFF representing areas of no change at Level 3.\n",
    "write_cog(geo_im=obs_change_l3[\"modification\"],\n",
    "          fname='./outputs/level3_modification.tif',\n",
    "          overwrite=True)\n",
    "\n",
    "# Write GeoTIFF representing lifeform changes\n",
    "write_cog(geo_im=obs_change_lf[\"lf_change\"],\n",
    "          fname='./outputs/lifeform_change.tif',\n",
    "          overwrite=True)\n",
    "\n",
    "# Write GeoTIFF representing water persistence changes\n",
    "write_cog(geo_im=obs_change_wper[\"wper_change\"],\n",
    "          fname='./outputs/water_persistence_change.tif',\n",
    "          overwrite=True)\n",
    "\n",
    "# Write GeoTIFF representing canopy cover changes\n",
    "write_cog(geo_im=obs_change_vcov[\"vcov_change\"],\n",
    "          fname='./outputs/vegcover_cover_change.tif',\n",
    "          overwrite=True)"
   ]
  },
  {
   "cell_type": "markdown",
   "id": "4a27e945-40f0-4b3c-ac1e-91c8fbc013d5",
   "metadata": {
    "tags": []
   },
   "source": [
    "## The Global Change Taxonomy and Evidence-Based Change Framework\n",
    "### Evidence for impacts\n",
    "Evidence for different impacts is gathered through temporal comparison (e.g., days, decades apart) of land cover classes constructed and described from Environmental Descriptors (EDs; state indicators) with pre-defined measurement units (e.g., m, %) or categories (e.g., species type) and, more specifically, their concatenated codes (e.g., 12 indicating a change from a woody (1) to a herbaceous (2) lifeform. \n",
    "\n",
    "For the 77 impacts listed in the Global Change Taxonomy, this evidence has been reviewed and collated within the file ***Impacts and pressures.xlsx*** located within the directory ***gct***.  \n",
    "\n",
    "### Evidence for pressures\n",
    "Evidence for abiotic, biotic or human-induced pressures can come from a range of sources.    \n",
    "\n",
    "<img align=\"centre\" src=\"./illustrations/EvidencePressures.jpg\">\n",
    "\n",
    "For the 144 impacts, evidence can come from a range of sources and the file ***Impacts and pressures.xlsx*** can be modified based on what is available.  Normally, a pressure (such as a fire) is indicated by its presence (e.g. 1) or otherwise (0).\n",
    "\n",
    "The following cell allows you to select one of the 77 impacts and associates this selection with a range of pressures that may be causative. \n",
    " "
   ]
  },
  {
   "cell_type": "code",
   "execution_count": null,
   "id": "0f05b493-1093-4fe5-abd4-4f54b9ce44cf",
   "metadata": {
    "scrolled": true,
    "tags": []
   },
   "outputs": [],
   "source": [
    "import pandas as pd\n",
    "import ipywidgets as widgets\n",
    "from IPython.display import display, HTML\n",
    "\n",
    "# Load the dataset from the specified relative path\n",
    "#file_path = 'Working/Impacts and pressures_test_June.xlsx'\n",
    "file_path = './gct/Impacts and pressures.xlsx'\n",
    "\n",
    "# https://prifysgolaber.sharepoint.com/:x:/r/sites/collaborate/living-earth/Shared%20Documents/Living%20Coasts/Data/Impacts%20and%20pressures.xlsx?d=w4b1066c36a284fafae02e9dcb8202cbb&csf=1&web=1&e=INfra2\n",
    "\n",
    "df = pd.read_excel(file_path, sheet_name='Australia')\n",
    "\n",
    "# Replace NaN values in 'Impact_ID' and 'Pressure_ID' columns with zeros\n",
    "df['Impact_ID'] = df['Impact_ID'].fillna(0).astype(int)\n",
    "df['Pressure_ID'] = df['Pressure_ID'].fillna(0).astype(int)\n",
    "\n",
    "# Create a mapping from Impact to associated Pressures\n",
    "impact_to_pressures = df.groupby(['Impacts', 'Impact_ID'])[['Pressures', 'Pressure_ID']].apply(\n",
    "    lambda x: [f\"{row['Pressures']} ({row['Pressure_ID']})\" for _, row in x.iterrows()]\n",
    ").to_dict()\n",
    "\n",
    "# Define evidence groups\n",
    "time_columns = ['TimeO_Ev', 'TimeL_Ev', 'TimeM_Ev', 'TimeD_Ev', 'Space_Ev']\n",
    "level3_columns = ['ModA', 'ModB', 'ModC', 'ModD', 'ModE', 'ModF', 'ModG', 'ModH', 'ModI', 'ConA', 'ConB', 'ConC', 'ConD', 'ConE', 'ConF', 'ConG', 'ConH', 'ConI', 'ConJ', 'ConK', 'ConL', 'ConM', 'ConN', 'ConO', 'ConP']\n",
    "lifeform_columns = ['LfA', 'LfB', 'LfC', 'LfD']\n",
    "cover_columns = ['CovA', 'CovB','CovC','CovD','CovE','CovF','CovG','CovH','CovI','CovJ','CovK','CovL','CovM','CovN','CovO','CovP','CovQ','CovR','CovS','CovT','CovU','CovV','CovX']\n",
    "waterstt_columns = ['Wstate']\n",
    "waterper_columns = ['WperA', 'WperB', 'WperC', 'WperD', 'WperE', 'WperF']\n",
    "biomass_columns = ['AGB_Ev', 'AGBSD_Ev']\n",
    "pressure_columns = ['ActiveFire', 'Burnscar', 'Smoke', 'Turbidity', 'Flooding', 'Hydrograph', 'SnowExtent', 'Sediment', 'OceanAcidity', 'SeaSurfTemp', 'LandSurfTemp', 'AtmosTemp', 'AtmosPress', 'Precipitation', 'Windspeed', 'LightningStrikesData', 'SeaSurfaceHeight']\n",
    "\n",
    "# Create a dictionary to map each identifier to its associated evidence with values\n",
    "identifier_to_evidence = {}\n",
    "for _, row in df.iterrows():\n",
    "    identifier = row['Impact_ID'] * 1000 + row['Pressure_ID']\n",
    "    \n",
    "    # Function to format values\n",
    "    def format_value(value):\n",
    "        try:\n",
    "            return int(value) if pd.notnull(value) and value == int(value) else value\n",
    "        except (ValueError, TypeError):\n",
    "            return value\n",
    "\n",
    "    evidence_with_values = {\n",
    "        'IP_UID': row['IP_UID'],\n",
    "        'ID_Colour': row['ID_Colour'],\n",
    "        'Time_Evidence': [(col, format_value(row[col])) for col in time_columns if pd.notnull(row[col])],\n",
    "        'Level3_Evidence': [(col, format_value(row[col])) for col in level3_columns if pd.notnull(row[col])],\n",
    "        'Lifeform_Evidence': [(col, format_value(row[col])) for col in lifeform_columns if pd.notnull(row[col])],\n",
    "        'Cover_Evidence': [(col, format_value(row[col])) for col in cover_columns if pd.notnull(row[col])],\n",
    "        'Waterstt_Evidence': [(col, format_value(row[col])) for col in waterstt_columns if pd.notnull(row[col])],\n",
    "        'Waterper_Evidence': [(col, format_value(row[col])) for col in waterper_columns if pd.notnull(row[col])],\n",
    "        'Biomass_Evidence': [(col, format_value(row[col])) for col in biomass_columns if pd.notnull(row[col])],\n",
    "        'Pressure_Evidence': [(col, format_value(row[col])) for col in pressure_columns if pd.notnull(row[col])]    }\n",
    "    identifier_to_evidence[identifier] = evidence_with_values\n",
    "\n",
    "# Create the dropdown widgets for impacts and pressures with IDs\n",
    "impact_dropdown = widgets.Dropdown(\n",
    "    options=[f\"{impact} ({impact_id})\" for (impact, impact_id) in impact_to_pressures.keys()],\n",
    "    description='Impact:',\n",
    "    value=None  # Start without a selection\n",
    ")\n",
    "\n",
    "pressure_dropdown = widgets.Dropdown(\n",
    "    options=['Please select an Impact first'],\n",
    "    description='Pressure:',\n",
    "    value=None  # Start without a selection\n",
    ")\n",
    "\n",
    "# Define the output widget for displaying the calculation result and evidence\n",
    "output = widgets.Output()\n",
    "\n",
    "# Define the function to update pressure dropdown based on selected impact\n",
    "def on_impact_change(change):\n",
    "    selected_impact = change['new']\n",
    "    if selected_impact:\n",
    "        impact, impact_id = selected_impact.rsplit(' (', 1)\n",
    "        impact_id = int(impact_id.rstrip(')'))\n",
    "        pressures = impact_to_pressures.get((impact, impact_id), [])\n",
    "        pressure_dropdown.options = pressures\n",
    "    else:\n",
    "        pressure_dropdown.options = ['Please select an Impact first']\n",
    "\n",
    "# Define the function to display the selected impact and pressure\n",
    "def display_selection(impact, pressure):\n",
    "    global selected_ip_uid  # Make IP_UID global to be accessible in Section 8\n",
    "\n",
    "    with output:\n",
    "        output.clear_output()\n",
    "        if impact and pressure:\n",
    "            impact_id = int(impact.rsplit(' (', 1)[1].rstrip(')'))\n",
    "            pressure_id = int(pressure.rsplit(' (', 1)[1].rstrip(')'))\n",
    "            identifier = impact_id * 1000 + pressure_id\n",
    "\n",
    "            if identifier in identifier_to_evidence:\n",
    "                evidence = identifier_to_evidence[identifier]\n",
    "                selected_ip_uid = evidence[\"IP_UID\"]  # Set the selected IP_UID\n",
    "                display(HTML(f'<strong>Selected Impact:</strong> {impact}'))\n",
    "                display(HTML(f'<strong>Selected Pressure:</strong> {pressure}'))\n",
    "                display(HTML(f'<strong>Identifier:</strong> {identifier}'))\n",
    "                display(HTML(f'<strong>IP_UID:</strong> {evidence[\"IP_UID\"]}'))\n",
    "                display(HTML(f'<strong>ID_Colour:</strong> {evidence[\"ID_Colour\"]}'))\n",
    "                display(HTML('<strong>Evidence:</strong>'))\n",
    "                for group, values in evidence.items():\n",
    "                    if group not in ['IP_UID', 'ID_Colour'] and values:\n",
    "                        display(HTML(f'<strong>{group.replace(\"_\", \" \")}:</strong>'))\n",
    "                        for evidence_name, value in values:\n",
    "                            display(HTML(f'- {evidence_name}: {value}'))\n",
    "            else:\n",
    "                display(HTML('<strong>Error:</strong> No evidence found for the selected Impact and Pressure.'))\n",
    "        else:\n",
    "            display(HTML('<strong>Please select both an impact and a pressure.</strong>'))\n",
    "\n",
    "# Set up observation for changes in the impact dropdown\n",
    "impact_dropdown.observe(on_impact_change, names='value')\n",
    "\n",
    "# Set up interaction to display selections\n",
    "interactive_selection = widgets.interactive(display_selection, impact=impact_dropdown, pressure=pressure_dropdown)\n",
    "\n",
    "# Arrange the widgets and the output display\n",
    "display(widgets.VBox([impact_dropdown, pressure_dropdown, output]))\n",
    "\n",
    "# Free up memory by removing the dataframe\n",
    "del df\n"
   ]
  },
  {
   "cell_type": "markdown",
   "id": "f46d9444-8b61-4ef5-8208-daa914cb6bd6",
   "metadata": {},
   "source": [
    "## Reviewing your selected impact and pressure\n",
    "Once you have selected your impact, the drop down menu will give you a list of causative pressures and also convey the unique number assigned to each and the combination into an impact pressure category. \n",
    "\n",
    "Select the impact category of ***\"Vegetation gain-amount (63)\"*** and, from the list of pressures, select ***\"Bushfire recovery (13)***.  The impact-pressure category of ***\"Vegetation gain - amount (Bushfire recovery)\"*** is given the unique code of 63013 with this being determined by multiplying the impact ID number of 63 * 1000 and adding the pressure ID number (i.e., 13).\n",
    "\n",
    "You will also note that there are codes representing changes in lifeform, canopy cover and water persistence and an indication of changes in above ground biomass with -1 and +1 representing a decrease and increase respectively and 0 indicating no change.   \n",
    "\n",
    "View these values in the file ***\"Impacts and pressures.xlsx\"***."
   ]
  },
  {
   "cell_type": "markdown",
   "id": "7ca0d387-9f45-43bd-9b48-e04eb94c077e",
   "metadata": {},
   "source": [
    "###  Continue building the query"
   ]
  },
  {
   "cell_type": "code",
   "execution_count": null,
   "id": "e929941c-3d50-498a-ac5d-500f79dd36aa",
   "metadata": {},
   "outputs": [],
   "source": [
    "# Make a mask of 1 for the 'impact' class No. 67 'vegetation amount - gain' \n",
    "VegGainAmt = np.where(\n",
    "    (\n",
    "        ((obs_change_l3.modification == 112112) | (obs_change_l3.modification == 124124)) &\n",
    "        ((obs_change_lf.lf_change == 11) | (obs_change_lf.lf_change == 22) | (obs_change_lf.lf_change == 21)) &\n",
    "        ((obs_change_vcov.vcov_change == 1615)|\n",
    "        (obs_change_vcov.vcov_change == 1612)|\n",
    "        (obs_change_vcov.vcov_change == 1610)|\n",
    "        (obs_change_vcov.vcov_change == 1513)|\n",
    "        (obs_change_vcov.vcov_change == 1512)|\n",
    "        (obs_change_vcov.vcov_change == 1510)|\n",
    "        (obs_change_vcov.vcov_change == 1312)|\n",
    "        (obs_change_vcov.vcov_change == 1310))\n",
    "    ),\n",
    "    63,\n",
    "    0,\n",
    ")"
   ]
  },
  {
   "cell_type": "code",
   "execution_count": null,
   "id": "92bd2bf7-314c-456d-b649-1a220ac951ac",
   "metadata": {},
   "outputs": [],
   "source": [
    "VegGainAmtxa = xr.DataArray(\n",
    "    data=VegGainAmt,\n",
    "    coords=obs_change_vcov.vcov_change.coords,\n",
    "    dims=obs_change_vcov.vcov_change.dims,\n",
    "    name=\"63: Vegetation gain - amount (Bushfire Recovery)\",\n",
    "    attrs=None,\n",
    ")\n",
    "# Make a mask of 1 for the 'impact' class No. 44 'vegetation amount (loss)' \n",
    "#VegGainAmtxa = VegGainAmtxa"
   ]
  },
  {
   "cell_type": "code",
   "execution_count": null,
   "id": "afd9ca9f-86f2-4d71-b296-90ce2386f578",
   "metadata": {},
   "outputs": [],
   "source": [
    "Impact63 = VegGainAmtxa.to_dataset(name=\"VegGainAmt\")"
   ]
  },
  {
   "cell_type": "markdown",
   "id": "0c569f2d-c6ff-464d-854b-fad71d3e21d5",
   "metadata": {},
   "source": [
    "### Generating a plot with legend.\n",
    "Rather than using a default colour map (e.g., Blues), use the function **plot_impact** in myfunctions.py and select the dataset (in this case, Impact63.VegGainAmt)."
   ]
  },
  {
   "cell_type": "code",
   "execution_count": null,
   "id": "913bcf56-ed33-4ff5-a345-4f4599146b5f",
   "metadata": {
    "jupyter": {
     "source_hidden": true
    }
   },
   "outputs": [],
   "source": [
    "#make_colorbar\n",
    "cmap, norm = lc_colourmap('impacts_colour_scheme')\n",
    "\n",
    "from myfunctions import plot_impact\n",
    "plot_impact(\n",
    "    data=Impact63.VegGainAmt,\n",
    "    cmap=cmap,\n",
    "    norm=norm,\n",
    "    figsize=(12, 8),\n",
    "    title='Impacts'\n",
    ")"
   ]
  },
  {
   "cell_type": "markdown",
   "id": "fb1bdfa3-5fd4-43ac-b344-ffa6d2c2b994",
   "metadata": {},
   "source": [
    "### Setting up another query\n",
    "Run the cell below to explore another impact and pressure category"
   ]
  },
  {
   "cell_type": "markdown",
   "id": "110c2c22-b0c4-415f-85ef-b6e4982f4d73",
   "metadata": {},
   "source": [
    "In this case, select ***\"vegetation reduction amount\"*** as the impact (number 68) and the pressure of ***\"bushfire\"*** (number 12).   Note that you will see a different set of evidence for the impact, which has been translated into the cell below."
   ]
  },
  {
   "cell_type": "code",
   "execution_count": null,
   "id": "474ee2b1-daca-4296-9f5f-bd93c2c61e50",
   "metadata": {},
   "outputs": [],
   "source": [
    "# Make a mask of 1 for the 'impact' class No. 67 'vegetation amount - gain' \n",
    "VegAmtRed = np.where(\n",
    "    (\n",
    "        ((obs_change_l3.modification == 112112) | (obs_change_l3.modification == 124124)) &\n",
    "        ((obs_change_lf.lf_change == 11) | (obs_change_lf.lf_change == 22) | (obs_change_lf.lf_change == 12)) &\n",
    "        ((obs_change_vcov.vcov_change == 1012)|\n",
    "        (obs_change_vcov.vcov_change == 1013)|\n",
    "        (obs_change_vcov.vcov_change == 1015)|\n",
    "        (obs_change_vcov.vcov_change == 1016)|\n",
    "        (obs_change_vcov.vcov_change == 1213)|\n",
    "        (obs_change_vcov.vcov_change == 1215)|\n",
    "        (obs_change_vcov.vcov_change == 1216)|\n",
    "        (obs_change_vcov.vcov_change == 1315)|\n",
    "        (obs_change_vcov.vcov_change == 1316)|\n",
    "        (obs_change_vcov.vcov_change == 1516))\n",
    "    ),\n",
    "    68,\n",
    "    0,\n",
    ")"
   ]
  },
  {
   "cell_type": "code",
   "execution_count": null,
   "id": "aab7f226-4d74-4b23-afcf-9f5c36a7d5e4",
   "metadata": {},
   "outputs": [],
   "source": [
    "VegAmtRedxa = xr.DataArray(\n",
    "    data=VegAmtRed,\n",
    "    coords=obs_change_vcov.vcov_change.coords,\n",
    "    dims=obs_change_vcov.vcov_change.dims,\n",
    "    name=\"68: Vegetation reduction - amount (Bushfire)\",\n",
    "    attrs=None,\n",
    ")"
   ]
  },
  {
   "cell_type": "code",
   "execution_count": null,
   "id": "01fc9aea-2522-4554-9f09-70ea6e8a22f8",
   "metadata": {},
   "outputs": [],
   "source": [
    "Impact68 = VegAmtRedxa.to_dataset(name=\"VegAmtRed\")"
   ]
  },
  {
   "cell_type": "code",
   "execution_count": null,
   "id": "a112f76d-af57-4704-9da0-fc0354d83d5c",
   "metadata": {},
   "outputs": [],
   "source": [
    "from myfunctions import plot_impact\n",
    "plot_impact(\n",
    "    data=Impact68.VegAmtRed,\n",
    "    cmap=cmap,\n",
    "    norm=norm,\n",
    "    figsize=(12, 8),\n",
    "    title='Impacts'\n",
    ")"
   ]
  },
  {
   "cell_type": "code",
   "execution_count": null,
   "id": "38f674d5-70ee-4aa3-82f2-704e4b478d8a",
   "metadata": {},
   "outputs": [],
   "source": [
    "# Make a mask of 1 for the 'impact' class No. 67 'vegetation amount - gain' \n",
    "VegGainExt = np.where(\n",
    "        (\n",
    "        ((obs_change_l3.modification == 216112) |\n",
    "        (obs_change_l3.modification == 216124) |\n",
    "        (obs_change_l3.modification == 220112) |        \n",
    "        (obs_change_l3.modification == 220124))\n",
    "        ),\n",
    "        64,\n",
    "        0,\n",
    ")"
   ]
  },
  {
   "cell_type": "code",
   "execution_count": null,
   "id": "5ccd78fe-98ce-4f6a-98bf-34d29d69380b",
   "metadata": {},
   "outputs": [],
   "source": [
    "VegGainExtxa = xr.DataArray(\n",
    "    data=VegGainExt,\n",
    "    coords=obs_change_vcov.vcov_change.coords,\n",
    "    dims=obs_change_vcov.vcov_change.dims,\n",
    "    name=\"64: Vegetation extent gain\",\n",
    "    attrs=None,\n",
    ")"
   ]
  },
  {
   "cell_type": "code",
   "execution_count": null,
   "id": "2869f6c4-66e9-44f2-ae77-0efa4e59df1f",
   "metadata": {},
   "outputs": [],
   "source": [
    "Impact64 = VegGainExtxa.to_dataset(name=\"VegGainExt\")"
   ]
  },
  {
   "cell_type": "code",
   "execution_count": null,
   "id": "266ef62e-0f63-4840-9681-bd0c54ad6708",
   "metadata": {},
   "outputs": [],
   "source": [
    "from dea_tools.landcover import plot_land_cover, lc_colourmap, make_colorbar\n",
    "from myfunctions import plot_impact_mychanges\n",
    "plot_impact_mychanges(\n",
    "    data=Impact64.VegGainExt,\n",
    "    cmap=cmap,\n",
    "    norm=norm,\n",
    "    figsize=(12, 8),\n",
    "    title='Impacts'\n",
    ")"
   ]
  },
  {
   "cell_type": "code",
   "execution_count": null,
   "id": "76b031b9-c0f2-4951-b97d-6eb4f8efdcdc",
   "metadata": {},
   "outputs": [],
   "source": [
    "# Make a mask of 1 for the 'impact' class No. 67 'vegetation extent loss' \n",
    "VegLossExt = np.where(\n",
    "        (\n",
    "        ((obs_change_l3.modification == 112216) |\n",
    "        (obs_change_l3.modification == 124216) |\n",
    "        (obs_change_l3.modification == 112220) |        \n",
    "        (obs_change_l3.modification == 124220))\n",
    "        ),\n",
    "        67,\n",
    "        0,\n",
    ")"
   ]
  },
  {
   "cell_type": "code",
   "execution_count": null,
   "id": "1e349bcf-2c5e-4e37-aa27-23a19b7d8568",
   "metadata": {},
   "outputs": [],
   "source": [
    "VegLossExtxa = xr.DataArray(\n",
    "    data=VegLossExt,\n",
    "    coords=obs_change_vcov.vcov_change.coords,\n",
    "    dims=obs_change_vcov.vcov_change.dims,\n",
    "    name=\"Vegetation loss extent (Impact No. 67)\",\n",
    "    attrs=None,\n",
    ")"
   ]
  },
  {
   "cell_type": "code",
   "execution_count": null,
   "id": "0c341ed8-8fd8-44fa-81b5-92e8efc1f0b2",
   "metadata": {},
   "outputs": [],
   "source": [
    "Impact67 = VegLossExtxa.to_dataset(name=\"VegLossExt\")"
   ]
  },
  {
   "cell_type": "code",
   "execution_count": null,
   "id": "f2828cbe-0ccb-4fc2-962c-e00d9abe137a",
   "metadata": {
    "scrolled": true
   },
   "outputs": [],
   "source": [
    "from dea_tools.landcover import plot_land_cover, lc_colourmap, make_colorbar\n",
    "from myfunctions import plot_impact_mychanges\n",
    "plot_impact_mychanges(\n",
    "    data=Impact67.VegLossExt,\n",
    "    cmap=cmap,\n",
    "    norm=norm,\n",
    "    figsize=(12, 8),\n",
    "    title='Vegetation Extent Loss (Impact 67)'\n",
    ")"
   ]
  },
  {
   "cell_type": "markdown",
   "id": "29dc6779-985c-49ee-a05b-9f4eef30f62e",
   "metadata": {},
   "source": [
    "### Generate summary maps of impacts\n",
    "Now, combine the two layers to generate a combined map of impacts (i.e., Impacts 63 and 68)."
   ]
  },
  {
   "cell_type": "markdown",
   "id": "1e1521ae-fd2b-4373-8d5b-35cbc89ef188",
   "metadata": {},
   "source": [
    "### Generate summary maps of impacts\n",
    "Now, combine the layers to generate a combined map of listed impacts (in this case, 63, 64, 67 and 68)."
   ]
  },
  {
   "cell_type": "code",
   "execution_count": null,
   "id": "8c0623e2-57e9-48ad-96c4-dd0683e9972f",
   "metadata": {},
   "outputs": [],
   "source": [
    "Impacts = VegGainAmtxa.to_dataset(name=\"VegGainAmt\")\n",
    "Impacts [\"VegGainExt\"] = VegGainExtxa\n",
    "Impacts [\"VegLossExt\"] = VegLossExtxa\n",
    "Impacts [\"VegAmtRed\"] = VegAmtRedxa\n",
    "\n",
    "Impacts [\"Sum\"] = ((VegLossExtxa)+ (VegGainExtxa) + (VegGainAmtxa) + (VegAmtRedxa))"
   ]
  },
  {
   "cell_type": "code",
   "execution_count": null,
   "id": "6c307a64-e9aa-4fbb-a97c-4727e81df516",
   "metadata": {
    "scrolled": true
   },
   "outputs": [],
   "source": [
    "from myfunctions import plot_impact_mychanges\n",
    "plot_impact_mychanges(\n",
    "    data=Impacts.Sum,\n",
    "    cmap=cmap,\n",
    "    norm=norm,\n",
    "    figsize=(12, 8),\n",
    "    title='Impacts'\n",
    ")"
   ]
  },
  {
   "cell_type": "code",
   "execution_count": null,
   "id": "b9d1873c-36f4-4951-b7fd-4227fbd8c6d1",
   "metadata": {},
   "outputs": [],
   "source": []
  }
 ],
 "metadata": {
  "kernelspec": {
   "display_name": "Python 3 (ipykernel)",
   "language": "python",
   "name": "python3"
  },
  "language_info": {
   "codemirror_mode": {
    "name": "ipython",
    "version": 3
   },
   "file_extension": ".py",
   "mimetype": "text/x-python",
   "name": "python",
   "nbconvert_exporter": "python",
   "pygments_lexer": "ipython3",
   "version": "3.10.15"
  },
  "widgets": {
   "application/vnd.jupyter.widget-state+json": {
    "state": {},
    "version_major": 2,
    "version_minor": 0
   }
  }
 },
 "nbformat": 4,
 "nbformat_minor": 5
}
