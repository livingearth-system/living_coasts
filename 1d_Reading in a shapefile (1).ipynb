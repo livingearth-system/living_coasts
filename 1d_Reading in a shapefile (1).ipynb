{
 "cells": [
  {
   "cell_type": "markdown",
   "id": "9fa173f5-0e54-4e7a-97e9-7c8e1d09794d",
   "metadata": {},
   "source": [
    "# Extracting an area based on a shapefile"
   ]
  },
  {
   "cell_type": "markdown",
   "id": "fed1bdca-3907-43cb-a46b-af2e6f502b92",
   "metadata": {},
   "source": [
    "## Section 1 "
   ]
  },
  {
   "cell_type": "code",
   "execution_count": null,
   "id": "1faf60f3-3674-4193-96e8-8439339b9dec",
   "metadata": {
    "tags": []
   },
   "outputs": [],
   "source": [
    "# Initial imports and setup\n",
    "import sys\n",
    "import os, re\n",
    "import datacube\n",
    "import datetime as dt\n",
    "import geopandas as gpd\n",
    "import numpy as np\n",
    "import matplotlib.pyplot as plt\n",
    "import matplotlib.colors as colors\n",
    "import matplotlib.colors\n",
    "import matplotlib as mpl\n",
    "import cmocean # for intertidal products\n",
    "import odc.geo.xr # RML\n",
    "import pandas as pd\n",
    "import rioxarray\n",
    "import warnings\n",
    "import xarray as xr\n",
    "\n",
    "#from dea_tools.landcover import lc_colourmap, make_colorbar, plot_land_cover\n",
    "from dea_tools.plotting import display_map, rgb, xr_animation # Added xr_animation RML\n",
    "\n",
    "from datacube.testutils.io import rio_slurp_xarray\n",
    "from datacube.utils.cog import write_cog\n",
    "from datacube.utils.masking import mask_invalid_data\n",
    "from datacube.utils.geometry import Geometry\n",
    "from datetime import datetime, timedelta\n",
    "from ipyleaflet import DrawControl, FullScreenControl, LayersControl, Map, Rectangle, WidgetControl, basemaps # Added rectangle RML\n",
    "from ipywidgets import Button, Dropdown, FloatText, GridspecLayout, Layout, HBox, VBox, Output, Tab, interact, widgets\n",
    "from IPython.display import HTML, display\n",
    "from IPython.core.display import Video\n",
    "from pyproj import Proj, transform\n",
    "from shapely.geometry import Polygon\n",
    "from shapely.geometry.polygon import LinearRing\n",
    "from time import time\n",
    "warnings.filterwarnings(\"ignore\")\n",
    "\n",
    "# Setup paths and Datacube instance\n",
    "#import sys\n",
    "#sys.path.insert(1, \"/home/Tools\")\n",
    "\n",
    "dc = datacube.Datacube()\n",
    "time_range = None\n",
    "\n",
    "sys.path.append(\"../Working\")\n",
    "import display_tools\n",
    "from display_tools import display_da\n",
    "from landcover import lc_colourmap, make_colorbar, plot_land_cover\n",
    "\n",
    "# Ensure openpyxl is installed\n",
    "!pip install openpyxl\n"
   ]
  },
  {
   "cell_type": "code",
   "execution_count": null,
   "id": "9bc01df2-58be-4161-9044-0e710daf8bae",
   "metadata": {
    "tags": []
   },
   "outputs": [],
   "source": [
    "# Additional libraries etc.\n",
    "\n",
    "from datacube.utils.geometry import Geometry, CRS\n",
    "from ipyleaflet import GeoData\n",
    "from display_tools import map_geom, rgb\n",
    "\n",
    "sys.path.append(\"../Tools/wdc_tools\")\n",
    "from wdc_datahandling import geopolygon_masking\n",
    "\n",
    "import ipywidgets as widgets\n",
    "import glob\n",
    "import os\n",
    "import geopandas as gpd"
   ]
  },
  {
   "cell_type": "code",
   "execution_count": null,
   "id": "7edcc9f7-9470-4cb3-858a-5ec12d81e4ac",
   "metadata": {
    "tags": []
   },
   "outputs": [],
   "source": [
    "vector_types_list = glob.glob(\"uploads/*\")\n",
    "vector_types_dict = {}\n",
    "for vector_type in vector_types_list:\n",
    "    if os.path.isdir(vector_type):\n",
    "        vector_types_dict[os.path.basename(vector_type).replace(\"_\",\" \")] = vector_type"
   ]
  },
  {
   "cell_type": "code",
   "execution_count": null,
   "id": "30d88b0f-ba0d-4c8a-8c65-3d1af12991fe",
   "metadata": {
    "tags": []
   },
   "outputs": [],
   "source": [
    "vector_types_dict"
   ]
  },
  {
   "cell_type": "code",
   "execution_count": null,
   "id": "236989d1-ebf9-4346-8338-877f99384467",
   "metadata": {
    "tags": []
   },
   "outputs": [],
   "source": [
    "get_type = widgets.Dropdown(\n",
    "    options=list(vector_types_dict.keys()),\n",
    "    value=list(vector_types_dict.keys())[0],\n",
    "    description=\"Type\",\n",
    "    disabled=False,\n",
    ")"
   ]
  },
  {
   "cell_type": "markdown",
   "id": "914dbb03-e443-454b-9a7d-0d019386f5a1",
   "metadata": {
    "tags": []
   },
   "source": [
    "## Section 2 Load up a polygon for your area of interest"
   ]
  },
  {
   "cell_type": "code",
   "execution_count": null,
   "id": "970ba4cc-49ef-4fd3-a889-c34d48b3ffac",
   "metadata": {
    "tags": []
   },
   "outputs": [],
   "source": [
    "# Open and read the shapefiles\n",
    "Mungalla_path = 'uploads/Mungalla-outline.shp'\n",
    "Mungalla = gpd.read_file(Mungalla_path)"
   ]
  },
  {
   "cell_type": "code",
   "execution_count": null,
   "id": "9c2602cb-17fc-4330-be82-750565bca886",
   "metadata": {},
   "outputs": [],
   "source": [
    "Starcke_path = 'uploads/Starcke-outline1.shp'\n",
    "Starcke = gpd.read_file(Starcke_path)"
   ]
  },
  {
   "cell_type": "code",
   "execution_count": null,
   "id": "7d773618-74b2-4cb0-b245-349eb4aed807",
   "metadata": {
    "tags": []
   },
   "outputs": [],
   "source": [
    "Mungalla.head(3)"
   ]
  },
  {
   "cell_type": "code",
   "execution_count": null,
   "id": "8fb79a0f-0bad-47d2-8c22-ab744dc66b75",
   "metadata": {
    "tags": []
   },
   "outputs": [],
   "source": [
    "Starcke.head(3)"
   ]
  },
  {
   "cell_type": "code",
   "execution_count": null,
   "id": "a8b753c4-a5e4-4564-90c4-a037f2bacd2d",
   "metadata": {
    "tags": []
   },
   "outputs": [],
   "source": [
    "# Transform shapefile boundaries into geographic data (and affect a style) \n",
    "geo_data = GeoData(geo_dataframe = Mungalla.to_crs(epsg=4326),\n",
    "                   style={'color': 'black', 'fillColor': '#3366cc', 'opacity':0.05, \n",
    "                          'weight':1.9, 'dashArray':'2', 'fillOpacity':0.6},\n",
    "                   hover_style={'fillColor': 'red' , 'fillOpacity': 0.2},\n",
    "                   name = 'Boundary')\n",
    "\n",
    "# map the geographic data on dynamic map\n",
    "m = map_geom(geo_data)\n",
    "m"
   ]
  },
  {
   "cell_type": "code",
   "execution_count": null,
   "id": "69f91d9d-ccf8-4d4c-a25a-f23eb2a60e58",
   "metadata": {
    "tags": []
   },
   "outputs": [],
   "source": [
    "geom = Geometry(geom=Mungalla.iloc[0].geometry, \n",
    "                         crs=CRS(\"epsg:32755\"))\n",
    "geom"
   ]
  },
  {
   "cell_type": "code",
   "execution_count": null,
   "id": "3963d9c2-2243-491d-9a2d-315fefbb2185",
   "metadata": {
    "tags": []
   },
   "outputs": [],
   "source": [
    "# Transform shapefile boundaries into geographic data (and affect a style) \n",
    "geo_data = GeoData(geo_dataframe = Starcke.to_crs(epsg=4326),\n",
    "                   style={'color': 'black', 'fillColor': '#3366cc', 'opacity':0.05, \n",
    "                          'weight':1.9, 'dashArray':'2', 'fillOpacity':0.6},\n",
    "                   hover_style={'fillColor': 'red' , 'fillOpacity': 0.2},\n",
    "                   name = 'Boundary')\n",
    "\n",
    "# map the geographic data on dynamic map\n",
    "m = map_geom(geo_data)\n",
    "m"
   ]
  },
  {
   "cell_type": "code",
   "execution_count": null,
   "id": "d10a3dac-6580-4a8e-9c85-40afdfd8f956",
   "metadata": {
    "tags": []
   },
   "outputs": [],
   "source": [
    "# Transform shapefile boundaries into geographic data (and affect a style) \n",
    "geo_data = GeoData(geo_dataframe = Starcke.to_crs(epsg=4326),\n",
    "                   style={'color': 'black', 'fillColor': '#3366cc', 'opacity':0.05, \n",
    "                          'weight':1.9, 'dashArray':'2', 'fillOpacity':0.6},\n",
    "                   hover_style={'fillColor': 'red' , 'fillOpacity': 0.2},\n",
    "                   name = 'Boundary')\n",
    "\n",
    "# map the geographic data on dynamic map\n",
    "m = map_geom(geo_data)\n",
    "m"
   ]
  },
  {
   "cell_type": "code",
   "execution_count": null,
   "id": "262d4612-9ddc-4f64-93ef-1ee403fd5120",
   "metadata": {
    "tags": []
   },
   "outputs": [],
   "source": [
    "geom = Geometry(geom=Starcke.iloc[0].geometry, \n",
    "                         crs=CRS(\"epsg:32755\"))\n",
    "geom"
   ]
  },
  {
   "cell_type": "code",
   "execution_count": null,
   "id": "46bc4baa-69bf-44b3-b540-43d5e9eb5876",
   "metadata": {
    "tags": []
   },
   "outputs": [],
   "source": [
    "query = {'geopolygon': geom\n",
    "        }"
   ]
  },
  {
   "cell_type": "code",
   "execution_count": null,
   "id": "16ab90ed-41da-49ee-aa61-f3a8011fd9dd",
   "metadata": {
    "tags": []
   },
   "outputs": [],
   "source": [
    "# Load land cover data for our polygon and time period\n",
    "#lc_dataset = dc.load(product='lw_landcover_lw', **query)\n",
    "#lc_dataset_masked = geopolygon_masking(lc_dataset, geopolygon=geom)\n",
    "\n",
    "# Step 3: Load DEA Land Cover data from the datacube\n",
    "try:\n",
    "    lc = dc.load(\n",
    "        product=\"ga_ls_landcover_class_cyear_2\",\n",
    "        output_crs=\"EPSG:32755\",\n",
    "        measurements=[\n",
    "            \"level3\",\n",
    "            \"lifeform\",\n",
    "            \"vegetation_cover\",\n",
    "            \"water_seasonality\",\n",
    "            \"water_state\",\n",
    "            \"intertidal\",\n",
    "            \"water_persistence\",\n",
    "            \"bare_gradation\",\n",
    "            \"full_classification\",\n",
    "        ],\n",
    "        resolution=(-25, 25),\n",
    "        **query\n",
    "    )\n",
    "    print(\"Data loaded successfully.\")\n",
    "except Exception as e:\n",
    "    raise RuntimeError(f\"Error loading data from the datacube: {e}\")\n",
    "    \n",
    "lc_dataset_masked = geopolygon_masking(lc, geopolygon=geom)"
   ]
  },
  {
   "cell_type": "code",
   "execution_count": null,
   "id": "8c99637a-6f21-4eab-b024-8820208923b0",
   "metadata": {
    "tags": []
   },
   "outputs": [],
   "source": [
    "# Load land cover data for our polygon and time period\n",
    "#lc_dataset = dc.load(product='lc', **query)\n",
    "lc_masked = geopolygon_masking(lc, geopolygon=geom)"
   ]
  },
  {
   "cell_type": "code",
   "execution_count": null,
   "id": "65d50e9c-3c89-4116-9800-96b5bd7ab535",
   "metadata": {
    "tags": []
   },
   "outputs": [],
   "source": [
    "lc"
   ]
  },
  {
   "cell_type": "code",
   "execution_count": null,
   "id": "cd9921ad-a530-4eed-bf5b-755767619f7a",
   "metadata": {
    "tags": []
   },
   "outputs": [],
   "source": [
    "# Section 6: Checkbox widgets for selecting datasets\n",
    "level3_checkbox = widgets.Checkbox(description='Level 3', value=False)\n",
    "lifeform_checkbox = widgets.Checkbox(description='Lifeform', value=False)\n",
    "vegetation_cover_checkbox = widgets.Checkbox(description='Vegetation Cover', value=False)\n",
    "water_state_checkbox = widgets.Checkbox(description='Water State', value=False)\n",
    "water_persistence_checkbox = widgets.Checkbox(description='Water Persistence', value=False)\n",
    "full_classification_checkbox = widgets.Checkbox(description='Full Classification', value=False)\n",
    "item_checkbox = widgets.Checkbox(description='Intertidal Elevation', value=False)\n",
    "\n",
    "output = widgets.Output()\n",
    "\n",
    "def plot_selected_datasets():\n",
    "    with output:\n",
    "        output.clear_output()\n",
    "        selected_datasets = []\n",
    "        if level3_checkbox.value:\n",
    "            selected_datasets.append('level3')\n",
    "        if lifeform_checkbox.value:\n",
    "            selected_datasets.append('lifeform')\n",
    "        if vegetation_cover_checkbox.value:\n",
    "            selected_datasets.append('vegetation_cover')\n",
    "        if water_state_checkbox.value:\n",
    "            selected_datasets.append('water_state')\n",
    "        if water_persistence_checkbox.value:\n",
    "            selected_datasets.append('water_persistence')            \n",
    "        if full_classification_checkbox.value:\n",
    "            selected_datasets.append('full_classification')\n",
    "        if item_checkbox.value:\n",
    "            selected_datasets.append('item')\n",
    "\n",
    "        for dataset in selected_datasets:\n",
    "            plt.figure()\n",
    "            if dataset == 'level3':\n",
    "                plot_land_cover(lc.level3)\n",
    "            elif dataset == 'lifeform':\n",
    "                plot_land_cover(lc.lifeform)\n",
    "            elif dataset == 'vegetation_cover':\n",
    "                plot_land_cover(lc.vegetation_cover)\n",
    "            elif dataset == 'water_state':\n",
    "                plot_land_cover(lc.water_state)\n",
    "            elif dataset == 'water_persistence':\n",
    "                plot_land_cover(lc.water_persistence)\n",
    "            elif dataset == 'full_classification':\n",
    "                plot_land_cover(lc.full_classification)\n",
    "            elif dataset == 'item':\n",
    "                plot_land_cover(item.elevation[0])\n",
    "            plt.show()\n",
    "\n",
    "plot_datasets_button = widgets.Button(description='Plot Selected Data')\n",
    "plot_datasets_button.on_click(lambda b: plot_selected_datasets())\n",
    "\n",
    "checkboxes_box = widgets.HBox([\n",
    "    level3_checkbox, \n",
    "    lifeform_checkbox, \n",
    "    vegetation_cover_checkbox, \n",
    "    water_state_checkbox, \n",
    "    water_persistence_checkbox, \n",
    "    full_classification_checkbox,\n",
    "    item_checkbox\n",
    "])\n",
    "display(checkboxes_box)\n",
    "display(plot_datasets_button)\n",
    "display(output)"
   ]
  },
  {
   "cell_type": "code",
   "execution_count": null,
   "id": "5f490517-f605-41a2-9e9a-310a34b6da73",
   "metadata": {},
   "outputs": [],
   "source": []
  }
 ],
 "metadata": {
  "kernelspec": {
   "display_name": "Python 3 (ipykernel)",
   "language": "python",
   "name": "python3"
  },
  "language_info": {
   "codemirror_mode": {
    "name": "ipython",
    "version": 3
   },
   "file_extension": ".py",
   "mimetype": "text/x-python",
   "name": "python",
   "nbconvert_exporter": "python",
   "pygments_lexer": "ipython3",
   "version": "3.10.13"
  }
 },
 "nbformat": 4,
 "nbformat_minor": 5
}
