{
 "cells": [
  {
   "cell_type": "markdown",
   "id": "a9624e24-3e88-468a-93f3-27e12fea8ef1",
   "metadata": {
    "tags": []
   },
   "source": [
    "# Impacts/pressures for the Burdekin catchment and coastal site\n",
    "\n",
    "Welcome to the **Living Coasts project**. Here you can find a notebook to search and anlyse the changes (impacts/pressures) occurring within the Burkedin catchment and open coastal environment\n",
    "\n",
    "## **Impact**: Water quality change\n",
    "\n",
    "## **Pressure**: Sediment transport\n",
    "\n",
    "Evidence of sediment transport: Increased flow velocity and increased turbidity in Burdekin River\n",
    "\n",
    "### Notes\n",
    "- current extent is the Burkedin catchment and the Burkedin River/Upstart Bay/Whitsunday Reefs secondary compartment\n",
    "- event is the Dec 2020/Jan 2021 above average rainfall event which led to changes in water quality on the coast\n",
    "- data is being pull from eReefs, BOM and DEA\n",
    "- time period of impact/pressure is monthly for this demonstration\n",
    "\n",
    "### Datasets\n",
    "#### DEA\n",
    "- Fractional Cover: looking at any increase in the catchment of bare surface\n",
    "- Land Cover: current issue, only avaliable to 2020\n",
    "- WoFS: changes in water extent due to any associated flooding\n",
    "- Turbidity index (need to calc from sentinel-2)\n",
    "#### eReefs (data only avaliable for open coastal environment)\n",
    "- Nitrogen\n",
    "- COD\n",
    "- Mud minerals\n",
    "#### BoM\n",
    "- rainfall\n",
    "- soil moisture\n",
    "- river/tidal gauge flow data (not a spatial dataset)\n",
    "\n",
    "\n",
    "\n",
    "\n"
   ]
  },
  {
   "cell_type": "code",
   "execution_count": 1,
   "id": "5f09b597-6cbe-496e-93e7-540deb6eabdc",
   "metadata": {
    "tags": []
   },
   "outputs": [],
   "source": [
    "# import packages"
   ]
  },
  {
   "cell_type": "code",
   "execution_count": 2,
   "id": "b0a1145d-c318-4a39-b4ee-3631860843a4",
   "metadata": {
    "tags": []
   },
   "outputs": [],
   "source": [
    "# load in catchment and sediment compartment boundary\n",
    "\n",
    "# combine as mask for geobox"
   ]
  },
  {
   "cell_type": "code",
   "execution_count": null,
   "id": "08cc8635-32ba-44f4-ba3a-23e866f027c6",
   "metadata": {},
   "outputs": [],
   "source": []
  },
  {
   "cell_type": "code",
   "execution_count": null,
   "id": "c68466c9-31a3-483f-9e19-7b8fd3962eda",
   "metadata": {},
   "outputs": [],
   "source": []
  },
  {
   "cell_type": "code",
   "execution_count": null,
   "id": "d341bdcc-4ef6-4d20-8964-d3aa097398f8",
   "metadata": {},
   "outputs": [],
   "source": []
  },
  {
   "cell_type": "code",
   "execution_count": null,
   "id": "c2542e6c-7ee9-4ee0-a746-0d0da216be39",
   "metadata": {},
   "outputs": [],
   "source": []
  },
  {
   "cell_type": "code",
   "execution_count": null,
   "id": "ff0e48fc-0b70-4e32-bacd-4de486d83997",
   "metadata": {},
   "outputs": [],
   "source": []
  },
  {
   "cell_type": "code",
   "execution_count": null,
   "id": "7e89ea43-5301-404d-befb-5394ee7a6743",
   "metadata": {},
   "outputs": [],
   "source": []
  },
  {
   "cell_type": "code",
   "execution_count": null,
   "id": "4ab6a8e0-4d6d-4542-8d20-17720bf6f1ac",
   "metadata": {},
   "outputs": [],
   "source": []
  }
 ],
 "metadata": {
  "kernelspec": {
   "display_name": "Python 3 (ipykernel)",
   "language": "python",
   "name": "python3"
  },
  "language_info": {
   "codemirror_mode": {
    "name": "ipython",
    "version": 3
   },
   "file_extension": ".py",
   "mimetype": "text/x-python",
   "name": "python",
   "nbconvert_exporter": "python",
   "pygments_lexer": "ipython3",
   "version": "3.10.13"
  }
 },
 "nbformat": 4,
 "nbformat_minor": 5
}
