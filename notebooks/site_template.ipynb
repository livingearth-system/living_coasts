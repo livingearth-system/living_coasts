{
 "cells": [
  {
   "cell_type": "markdown",
   "id": "a9624e24-3e88-468a-93f3-27e12fea8ef1",
   "metadata": {
    "tags": []
   },
   "source": [
    "# Impacts/pressures for the [XXXXX] site\n",
    "\n",
    "Welcome to the **Living Coasts project**. Here you can find a notebook to search and anlyse the changes (impacts/pressures) occurring on the [XXXXX] Living Coasts study sites.\n"
   ]
  },
  {
   "cell_type": "code",
   "execution_count": null,
   "id": "dd1dba2e-9dd8-4a36-bae1-b2073893213d",
   "metadata": {},
   "outputs": [],
   "source": []
  }
 ],
 "metadata": {
  "kernelspec": {
   "display_name": "Python 3 (ipykernel)",
   "language": "python",
   "name": "python3"
  },
  "language_info": {
   "codemirror_mode": {
    "name": "ipython",
    "version": 3
   },
   "file_extension": ".py",
   "mimetype": "text/x-python",
   "name": "python",
   "nbconvert_exporter": "python",
   "pygments_lexer": "ipython3",
   "version": "3.10.13"
  }
 },
 "nbformat": 4,
 "nbformat_minor": 5
}
