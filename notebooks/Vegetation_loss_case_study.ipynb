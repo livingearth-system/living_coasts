{
 "cells": [
  {
   "cell_type": "markdown",
   "id": "a6a3d6a8-9999-4d8f-bbc3-d4ec7b0c9732",
   "metadata": {},
   "source": [
    "### Vegetation loss (extent) case study\n",
    "Hinchinbrook Island, QLD  \n",
    "Mangrove extent loss due to cyclone Yasi in 2011  \n",
    "Impact = Vegetation loss (extent)  \n",
    "Pressure = Excess rainfall, strong winds, Storm surge  \n",
    "\n",
    "\n",
    "#### Data\n",
    "Impacts observed through DEA Land Cover  \n",
    "Level 3 change assessed  \n",
    "Level 4 change assessed  \n",
    "Perhaps changes are linked to potential impacts?  \n",
    "Where impact is identified, goes to config file of potential pressures and this links to virtual products  \n"
   ]
  },
  {
   "cell_type": "code",
   "execution_count": 1,
   "id": "8c09eb86-5687-45bb-8d9e-0c83141f15d4",
   "metadata": {
    "tags": []
   },
   "outputs": [],
   "source": [
    "import sys\n",
    "import numpy as np\n",
    "import xarray as xr\n",
    "import geopandas as gpd\n",
    "import datacube\n",
    "\n",
    "import matplotlib.pyplot as plt\n",
    "\n",
    "from datacube.utils.geometry import Geometry, CRS\n",
    "from dea_tools.plotting import rgb, display_map\n",
    "\n",
    "dc = datacube.Datacube()\n",
    "\n",
    "# impacts and pressures functions\n",
    "sys.path.append('/home/jovyan/code/living_coasts/functions')\n",
    "from impacts import vegetation_loss\n",
    "\n",
    "# for virtual products\n",
    "import yaml\n",
    "import importlib\n",
    "from datacube.virtual import catalog_from_file\n",
    "from datacube.virtual import DEFAULT_RESOLVER\n",
    "catalog = catalog_from_file('../virtual_products/vegetation_loss_config.yaml')\n",
    "sys.path.append('/home/jovyan/code/living_coasts/virtual_products')"
   ]
  },
  {
   "cell_type": "markdown",
   "id": "c0babb93-e2e4-4c17-bc9a-a57f3caab260",
   "metadata": {
    "tags": []
   },
   "source": [
    "### User inputs"
   ]
  },
  {
   "cell_type": "code",
   "execution_count": 2,
   "id": "708c6b5e-5f2d-4207-8dfe-8f75fbf1a64e",
   "metadata": {
    "tags": []
   },
   "outputs": [],
   "source": [
    "# add in vector data for area of interest\n",
    "AOI = '../data/vector_data/AOIs/Hinchinbrook_Island.geojson'\n",
    "AOI = gpd.read_file(AOI)\n",
    "\n",
    "# annual years of change for identifying impact\n",
    "pre_impact_year = '2010'\n",
    "post_impact_year = '2011'"
   ]
  },
  {
   "cell_type": "code",
   "execution_count": 3,
   "id": "6ee858f2-dded-4b7e-9560-6ccfd47b77a4",
   "metadata": {
    "tags": []
   },
   "outputs": [
    {
     "data": {
      "text/html": [
       "<div style=\"width:100%;\"><div style=\"position:relative;width:100%;height:0;padding-bottom:60%;\"><span style=\"color:#565656\">Make this Notebook Trusted to load map: File -> Trust Notebook</span><iframe srcdoc=\"&lt;!DOCTYPE html&gt;\n",
       "&lt;html&gt;\n",
       "&lt;head&gt;\n",
       "    \n",
       "    &lt;meta http-equiv=&quot;content-type&quot; content=&quot;text/html; charset=UTF-8&quot; /&gt;\n",
       "    \n",
       "        &lt;script&gt;\n",
       "            L_NO_TOUCH = false;\n",
       "            L_DISABLE_3D = false;\n",
       "        &lt;/script&gt;\n",
       "    \n",
       "    &lt;style&gt;html, body {width: 100%;height: 100%;margin: 0;padding: 0;}&lt;/style&gt;\n",
       "    &lt;style&gt;#map {position:absolute;top:0;bottom:0;right:0;left:0;}&lt;/style&gt;\n",
       "    &lt;script src=&quot;https://cdn.jsdelivr.net/npm/leaflet@1.9.3/dist/leaflet.js&quot;&gt;&lt;/script&gt;\n",
       "    &lt;script src=&quot;https://code.jquery.com/jquery-3.7.1.min.js&quot;&gt;&lt;/script&gt;\n",
       "    &lt;script src=&quot;https://cdn.jsdelivr.net/npm/bootstrap@5.2.2/dist/js/bootstrap.bundle.min.js&quot;&gt;&lt;/script&gt;\n",
       "    &lt;script src=&quot;https://cdnjs.cloudflare.com/ajax/libs/Leaflet.awesome-markers/2.0.2/leaflet.awesome-markers.js&quot;&gt;&lt;/script&gt;\n",
       "    &lt;link rel=&quot;stylesheet&quot; href=&quot;https://cdn.jsdelivr.net/npm/leaflet@1.9.3/dist/leaflet.css&quot;/&gt;\n",
       "    &lt;link rel=&quot;stylesheet&quot; href=&quot;https://cdn.jsdelivr.net/npm/bootstrap@5.2.2/dist/css/bootstrap.min.css&quot;/&gt;\n",
       "    &lt;link rel=&quot;stylesheet&quot; href=&quot;https://netdna.bootstrapcdn.com/bootstrap/3.0.0/css/bootstrap.min.css&quot;/&gt;\n",
       "    &lt;link rel=&quot;stylesheet&quot; href=&quot;https://cdn.jsdelivr.net/npm/@fortawesome/fontawesome-free@6.2.0/css/all.min.css&quot;/&gt;\n",
       "    &lt;link rel=&quot;stylesheet&quot; href=&quot;https://cdnjs.cloudflare.com/ajax/libs/Leaflet.awesome-markers/2.0.2/leaflet.awesome-markers.css&quot;/&gt;\n",
       "    &lt;link rel=&quot;stylesheet&quot; href=&quot;https://cdn.jsdelivr.net/gh/python-visualization/folium/folium/templates/leaflet.awesome.rotate.min.css&quot;/&gt;\n",
       "    \n",
       "            &lt;meta name=&quot;viewport&quot; content=&quot;width=device-width,\n",
       "                initial-scale=1.0, maximum-scale=1.0, user-scalable=no&quot; /&gt;\n",
       "            &lt;style&gt;\n",
       "                #map_20568abd12dd778a34298361a46c8f47 {\n",
       "                    position: relative;\n",
       "                    width: 100.0%;\n",
       "                    height: 100.0%;\n",
       "                    left: 0.0%;\n",
       "                    top: 0.0%;\n",
       "                }\n",
       "                .leaflet-container { font-size: 1rem; }\n",
       "            &lt;/style&gt;\n",
       "        \n",
       "&lt;/head&gt;\n",
       "&lt;body&gt;\n",
       "    \n",
       "    \n",
       "            &lt;div class=&quot;folium-map&quot; id=&quot;map_20568abd12dd778a34298361a46c8f47&quot; &gt;&lt;/div&gt;\n",
       "        \n",
       "&lt;/body&gt;\n",
       "&lt;script&gt;\n",
       "    \n",
       "    \n",
       "            var map_20568abd12dd778a34298361a46c8f47 = L.map(\n",
       "                &quot;map_20568abd12dd778a34298361a46c8f47&quot;,\n",
       "                {\n",
       "                    center: [-18.344569453420874, 146.2125679664427],\n",
       "                    crs: L.CRS.EPSG3857,\n",
       "                    zoom: 11,\n",
       "                    zoomControl: true,\n",
       "                    preferCanvas: false,\n",
       "                }\n",
       "            );\n",
       "\n",
       "            \n",
       "\n",
       "        \n",
       "    \n",
       "            var tile_layer_f57b0b4506c61805a03c9206528d9685 = L.tileLayer(\n",
       "                &quot;http://mt1.google.com/vt/lyrs=y\\u0026z={z}\\u0026x={x}\\u0026y={y}&quot;,\n",
       "                {&quot;attribution&quot;: &quot;Google&quot;, &quot;detectRetina&quot;: false, &quot;maxNativeZoom&quot;: 18, &quot;maxZoom&quot;: 18, &quot;minZoom&quot;: 0, &quot;noWrap&quot;: false, &quot;opacity&quot;: 1, &quot;subdomains&quot;: &quot;abc&quot;, &quot;tms&quot;: false}\n",
       "            );\n",
       "        \n",
       "    \n",
       "            tile_layer_f57b0b4506c61805a03c9206528d9685.addTo(map_20568abd12dd778a34298361a46c8f47);\n",
       "        \n",
       "    \n",
       "            var poly_line_91571469f6c17cce83c85a9f1bcafd4f = L.polyline(\n",
       "                [[-18.5007692508201, 146.0643558055517], [-18.5007692508201, 146.36078012733367], [-18.18836965602165, 146.36078012733367], [-18.18836965602165, 146.0643558055517], [-18.5007692508201, 146.0643558055517]],\n",
       "                {&quot;bubblingMouseEvents&quot;: true, &quot;color&quot;: &quot;red&quot;, &quot;dashArray&quot;: null, &quot;dashOffset&quot;: null, &quot;fill&quot;: false, &quot;fillColor&quot;: &quot;red&quot;, &quot;fillOpacity&quot;: 0.2, &quot;fillRule&quot;: &quot;evenodd&quot;, &quot;lineCap&quot;: &quot;round&quot;, &quot;lineJoin&quot;: &quot;round&quot;, &quot;noClip&quot;: false, &quot;opacity&quot;: 0.8, &quot;smoothFactor&quot;: 1.0, &quot;stroke&quot;: true, &quot;weight&quot;: 3}\n",
       "            ).addTo(map_20568abd12dd778a34298361a46c8f47);\n",
       "        \n",
       "    \n",
       "                var lat_lng_popup_ab1337a65309f149807f865fd1167fc6 = L.popup();\n",
       "                function latLngPop(e) {\n",
       "                    lat_lng_popup_ab1337a65309f149807f865fd1167fc6\n",
       "                        .setLatLng(e.latlng)\n",
       "                        .setContent(&quot;Latitude: &quot; + e.latlng.lat.toFixed(4) +\n",
       "                                    &quot;&lt;br&gt;Longitude: &quot; + e.latlng.lng.toFixed(4))\n",
       "                        .openOn(map_20568abd12dd778a34298361a46c8f47);\n",
       "                    }\n",
       "                map_20568abd12dd778a34298361a46c8f47.on(&#x27;click&#x27;, latLngPop);\n",
       "            \n",
       "&lt;/script&gt;\n",
       "&lt;/html&gt;\" style=\"position:absolute;width:100%;height:100%;left:0;top:0;border:none !important;\" allowfullscreen webkitallowfullscreen mozallowfullscreen></iframe></div></div>"
      ],
      "text/plain": [
       "<folium.folium.Map at 0x7f3f1e5c1510>"
      ]
     },
     "execution_count": 3,
     "metadata": {},
     "output_type": "execute_result"
    }
   ],
   "source": [
    "display_map(x=(AOI.total_bounds[0], AOI.total_bounds[2]), y=(AOI.total_bounds[1], AOI.total_bounds[3]))"
   ]
  },
  {
   "cell_type": "code",
   "execution_count": 4,
   "id": "8d269e4f-9b46-42fd-90b6-06d552dd1083",
   "metadata": {
    "tags": []
   },
   "outputs": [],
   "source": [
    "# datacube query\n",
    "resolution = (-25,25) # collection 2 = 25m, collection 3 = 30m\n",
    "query_pre_impact = {\n",
    "    'time': (pre_impact_year, pre_impact_year),\n",
    "    'resolution':resolution}\n",
    "\n",
    "query_post_impact = {\n",
    "    'time': (post_impact_year, post_impact_year),\n",
    "    'resolution':resolution}\n",
    "\n",
    "# Loop through polygons in geodataframe and extract satellite data\n",
    "for index, row in AOI.iterrows(): \n",
    "    # Extract the feature's geometry as a datacube geometry object (this needs to be updated eventually for Shapely 2.0)\n",
    "    geom = Geometry(geom=row.geometry, crs=AOI.crs)\n",
    "    # Update the query to include our geopolygon\n",
    "    query_pre_impact.update({'geopolygon': geom})\n",
    "    query_post_impact.update({'geopolygon': geom})"
   ]
  },
  {
   "cell_type": "markdown",
   "id": "4c5cb8c8-6a36-4dbd-b152-6576362f634a",
   "metadata": {},
   "source": [
    "## Impact = Vegetation loss (extent)\n",
    "Observed through DEA Land Cover"
   ]
  },
  {
   "cell_type": "code",
   "execution_count": 5,
   "id": "85a038b4-5704-41ff-8074-40745d08bc8d",
   "metadata": {
    "tags": []
   },
   "outputs": [],
   "source": [
    "vegetation_loss = vegetation_loss(query_pre_impact, query_post_impact)"
   ]
  },
  {
   "cell_type": "code",
   "execution_count": 6,
   "id": "36855c9f-07e1-43dd-a8cb-0aedc501f4c9",
   "metadata": {
    "tags": []
   },
   "outputs": [
    {
     "data": {
      "text/plain": [
       "<matplotlib.collections.QuadMesh at 0x7f3ec41dd180>"
      ]
     },
     "execution_count": 6,
     "metadata": {},
     "output_type": "execute_result"
    },
    {
     "data": {
      "image/png": "[encoded data removed]",
      "text/plain": [
       "<Figure size 640x480 with 2 Axes>"
      ]
     },
     "metadata": {},
     "output_type": "display_data"
    }
   ],
   "source": [
    "vegetation_loss.plot()"
   ]
  },
  {
   "cell_type": "markdown",
   "id": "a0981edb-29b8-4193-a9ba-d660bc1325b3",
   "metadata": {},
   "source": [
    "## Potential Pressures"
   ]
  },
  {
   "cell_type": "markdown",
   "id": "4499c1f8-1707-4836-b125-e5f4ab72e421",
   "metadata": {},
   "source": [
    "### Bushfire\n",
    "- idea here is to load for each time series the NBR\n",
    "- then calc dNBR and threshold with burnt area like here (https://knowledge.dea.ga.gov.au/notebooks/Real_world_examples/Burnt_area_mapping/)\n",
    "- then mask based on pixels from impact data\n",
    "- print out % pixels affected by potential pressure"
   ]
  },
  {
   "cell_type": "code",
   "execution_count": null,
   "id": "a4a7d9b5-c3d0-4c9f-88b1-344598afa697",
   "metadata": {
    "tags": []
   },
   "outputs": [],
   "source": [
    "# Need to add any tranformations for the VP you're using\n",
    "\n",
    "# Get location of transformation\n",
    "transformation = 'bushfire'\n",
    "trans_loc = importlib.import_module(transformation)\n",
    "trans_class = transformation.split('.')[-1]\n",
    "\n",
    "DEFAULT_RESOLVER.register('transform', trans_class, getattr(trans_loc, trans_class))"
   ]
  },
  {
   "cell_type": "code",
   "execution_count": null,
   "id": "374eaa58-2428-4f03-a80c-ca1638b09815",
   "metadata": {
    "tags": []
   },
   "outputs": [],
   "source": [
    "# see what's already in the resolver \n",
    "DEFAULT_RESOLVER.lookup_table['transform']"
   ]
  },
  {
   "cell_type": "code",
   "execution_count": null,
   "id": "ad13fc55-2527-47ec-955b-93580b545951",
   "metadata": {},
   "outputs": [],
   "source": [
    "# load bushfire\n",
    "product = catalog['bushfire']\n",
    "bushfire_pre_impact = product.load(dc, **query_pre_impact)\n",
    "\n"
   ]
  },
  {
   "cell_type": "code",
   "execution_count": null,
   "id": "fec4e0ca-8ffe-4c95-a3a5-77aa044ae07c",
   "metadata": {},
   "outputs": [],
   "source": []
  }
 ],
 "metadata": {
  "kernelspec": {
   "display_name": "Python 3 (ipykernel)",
   "language": "python",
   "name": "python3"
  },
  "language_info": {
   "codemirror_mode": {
    "name": "ipython",
    "version": 3
   },
   "file_extension": ".py",
   "mimetype": "text/x-python",
   "name": "python",
   "nbconvert_exporter": "python",
   "pygments_lexer": "ipython3",
   "version": "3.10.13"
  }
 },
 "nbformat": 4,
 "nbformat_minor": 5
}
